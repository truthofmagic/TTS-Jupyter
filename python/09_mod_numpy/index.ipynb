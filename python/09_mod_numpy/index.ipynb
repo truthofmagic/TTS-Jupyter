{
 "cells": [
  {
   "cell_type": "markdown",
   "metadata": {},
   "source": [
    "Data Science Fundamentals: Python |\n",
    "[Table of Contents](../index.ipynb)\n",
    "- - - \n",
    "<!--NAVIGATION-->\n",
    "Module 9. | **[Using Poetry](./00_index.ipynb)** | [Introduction to NumPy](./01_introduction_NumPy.ipynb) | [The Basics](./02_basics_NumPy.ipynb) | [Exercises](./03_NumPy_exercises.ipynb)"
   ]
  },
  {
   "cell_type": "markdown",
   "metadata": {},
   "source": [
    "- - -\n",
    "\n",
    "## Using [Poetry](https://python-poetry.org/) for Python Package Installation\n",
    "**(Optional)**"
   ]
  },
  {
   "cell_type": "markdown",
   "metadata": {},
   "source": [
    "[Poetry](https://python-poetry.org/) is a tool for dependency management and packaging in Python. It allows you to declare the libraries your project depends on and it will manage (install/update) them for you."
   ]
  },
  {
   "cell_type": "markdown",
   "metadata": {},
   "source": [
    "### Develop\n",
    "\n",
    "Poetry comes with all the tools you might need to manage your projects in a deterministic way."
   ]
  },
  {
   "cell_type": "markdown",
   "metadata": {},
   "source": [
    "![develop](files/develop_poetry.png)"
   ]
  },
  {
   "cell_type": "markdown",
   "metadata": {},
   "source": [
    "### Build\n",
    "\n",
    "Easily build and package your projects with a single command."
   ]
  },
  {
   "cell_type": "markdown",
   "metadata": {},
   "source": [
    "![build](files/build_poetry.png)"
   ]
  },
  {
   "cell_type": "markdown",
   "metadata": {},
   "source": [
    "### Publish\n",
    "\n",
    "Make your work known by publishing it to PyPI"
   ]
  },
  {
   "cell_type": "markdown",
   "metadata": {},
   "source": [
    "![publish](files/publish_poetry.png)"
   ]
  },
  {
   "cell_type": "markdown",
   "metadata": {},
   "source": [
    "### Track"
   ]
  },
  {
   "cell_type": "markdown",
   "metadata": {},
   "source": [
    "Having an insight of your project's dependencies is just one command away."
   ]
  },
  {
   "cell_type": "markdown",
   "metadata": {},
   "source": [
    "![track](files/track_poetry.png)"
   ]
  },
  {
   "cell_type": "markdown",
   "metadata": {},
   "source": [
    "### Installation of Poetry"
   ]
  },
  {
   "cell_type": "code",
   "execution_count": 1,
   "metadata": {},
   "outputs": [
    {
     "name": "stdout",
     "output_type": "stream",
     "text": [
      "Collecting poetry\n",
      "  Downloading poetry-1.1.12-py2.py3-none-any.whl (175 kB)\n",
      "\u001b[K     |████████████████████████████████| 175 kB 1.6 MB/s eta 0:00:01\n",
      "\u001b[?25hCollecting keyring<22.0.0,>=21.2.0\n",
      "  Downloading keyring-21.8.0-py3-none-any.whl (32 kB)\n",
      "Collecting tomlkit<1.0.0,>=0.7.0\n",
      "  Downloading tomlkit-0.7.2-py2.py3-none-any.whl (32 kB)\n",
      "Collecting clikit<0.7.0,>=0.6.2\n",
      "  Using cached clikit-0.6.2-py2.py3-none-any.whl (91 kB)\n",
      "Requirement already satisfied: pkginfo<2.0,>=1.4 in /Users/gsjackson/opt/anaconda3/lib/python3.9/site-packages (from poetry) (1.7.1)\n",
      "Collecting requests-toolbelt<0.10.0,>=0.9.1\n",
      "  Using cached requests_toolbelt-0.9.1-py2.py3-none-any.whl (54 kB)\n",
      "Collecting shellingham<2.0,>=1.1\n",
      "  Using cached shellingham-1.4.0-py2.py3-none-any.whl (9.4 kB)\n",
      "Collecting packaging<21.0,>=20.4\n",
      "  Downloading packaging-20.9-py2.py3-none-any.whl (40 kB)\n",
      "\u001b[K     |████████████████████████████████| 40 kB 4.8 MB/s eta 0:00:01\n",
      "\u001b[?25hCollecting cachecontrol[filecache]<0.13.0,>=0.12.9\n",
      "  Downloading CacheControl-0.12.10-py2.py3-none-any.whl (20 kB)\n",
      "Collecting crashtest<0.4.0,>=0.3.0\n",
      "  Using cached crashtest-0.3.1-py3-none-any.whl (7.0 kB)\n",
      "Requirement already satisfied: html5lib<2.0,>=1.0 in /Users/gsjackson/opt/anaconda3/lib/python3.9/site-packages (from poetry) (1.1)\n",
      "Collecting cleo<0.9.0,>=0.8.1\n",
      "  Using cached cleo-0.8.1-py2.py3-none-any.whl (21 kB)\n",
      "Collecting cachy<0.4.0,>=0.3.0\n",
      "  Using cached cachy-0.3.0-py2.py3-none-any.whl (20 kB)\n",
      "Requirement already satisfied: pexpect<5.0.0,>=4.7.0 in /Users/gsjackson/opt/anaconda3/lib/python3.9/site-packages (from poetry) (4.8.0)\n",
      "Collecting poetry-core<1.1.0,>=1.0.7\n",
      "  Downloading poetry_core-1.0.7-py2.py3-none-any.whl (424 kB)\n",
      "\u001b[K     |████████████████████████████████| 424 kB 5.0 MB/s eta 0:00:01\n",
      "\u001b[?25hRequirement already satisfied: requests<3.0,>=2.18 in /Users/gsjackson/opt/anaconda3/lib/python3.9/site-packages (from poetry) (2.26.0)\n",
      "Collecting virtualenv<21.0.0,>=20.0.26\n",
      "  Downloading virtualenv-20.10.0-py2.py3-none-any.whl (5.6 MB)\n",
      "\u001b[K     |████████████████████████████████| 5.6 MB 2.0 MB/s eta 0:00:01\n",
      "\u001b[?25hRequirement already satisfied: msgpack>=0.5.2 in /Users/gsjackson/opt/anaconda3/lib/python3.9/site-packages (from cachecontrol[filecache]<0.13.0,>=0.12.9->poetry) (1.0.2)\n",
      "Collecting lockfile>=0.9\n",
      "  Using cached lockfile-0.12.2-py2.py3-none-any.whl (13 kB)\n",
      "Collecting pastel<0.3.0,>=0.2.0\n",
      "  Using cached pastel-0.2.1-py2.py3-none-any.whl (6.0 kB)\n",
      "Collecting pylev<2.0,>=1.3\n",
      "  Downloading pylev-1.4.0-py2.py3-none-any.whl (6.1 kB)\n",
      "Requirement already satisfied: six>=1.9 in /Users/gsjackson/opt/anaconda3/lib/python3.9/site-packages (from html5lib<2.0,>=1.0->poetry) (1.16.0)\n",
      "Requirement already satisfied: webencodings in /Users/gsjackson/opt/anaconda3/lib/python3.9/site-packages (from html5lib<2.0,>=1.0->poetry) (0.5.1)\n",
      "Requirement already satisfied: pyparsing>=2.0.2 in /Users/gsjackson/opt/anaconda3/lib/python3.9/site-packages (from packaging<21.0,>=20.4->poetry) (3.0.4)\n",
      "Requirement already satisfied: ptyprocess>=0.5 in /Users/gsjackson/opt/anaconda3/lib/python3.9/site-packages (from pexpect<5.0.0,>=4.7.0->poetry) (0.7.0)\n",
      "Requirement already satisfied: charset-normalizer~=2.0.0 in /Users/gsjackson/opt/anaconda3/lib/python3.9/site-packages (from requests<3.0,>=2.18->poetry) (2.0.4)\n",
      "Requirement already satisfied: idna<4,>=2.5 in /Users/gsjackson/opt/anaconda3/lib/python3.9/site-packages (from requests<3.0,>=2.18->poetry) (3.2)\n",
      "Requirement already satisfied: certifi>=2017.4.17 in /Users/gsjackson/opt/anaconda3/lib/python3.9/site-packages (from requests<3.0,>=2.18->poetry) (2021.10.8)\n",
      "Requirement already satisfied: urllib3<1.27,>=1.21.1 in /Users/gsjackson/opt/anaconda3/lib/python3.9/site-packages (from requests<3.0,>=2.18->poetry) (1.26.7)\n",
      "Collecting backports.entry-points-selectable>=1.0.4\n",
      "  Downloading backports.entry_points_selectable-1.1.1-py2.py3-none-any.whl (6.2 kB)\n",
      "Collecting platformdirs<3,>=2\n",
      "  Downloading platformdirs-2.4.0-py3-none-any.whl (14 kB)\n",
      "Requirement already satisfied: filelock<4,>=3.2 in /Users/gsjackson/opt/anaconda3/lib/python3.9/site-packages (from virtualenv<21.0.0,>=20.0.26->poetry) (3.3.1)\n",
      "Collecting distlib<1,>=0.3.1\n",
      "  Downloading distlib-0.3.3-py2.py3-none-any.whl (496 kB)\n",
      "\u001b[K     |████████████████████████████████| 496 kB 4.3 MB/s eta 0:00:01\n",
      "\u001b[?25hInstalling collected packages: pylev, pastel, crashtest, platformdirs, lockfile, distlib, clikit, cachecontrol, backports.entry-points-selectable, virtualenv, tomlkit, shellingham, requests-toolbelt, poetry-core, packaging, keyring, cleo, cachy, poetry\n",
      "  Attempting uninstall: packaging\n",
      "    Found existing installation: packaging 21.0\n",
      "    Uninstalling packaging-21.0:\n",
      "      Successfully uninstalled packaging-21.0\n",
      "  Attempting uninstall: keyring\n",
      "    Found existing installation: keyring 23.1.0\n",
      "    Uninstalling keyring-23.1.0:\n",
      "      Successfully uninstalled keyring-23.1.0\n",
      "\u001b[31mERROR: pip's dependency resolver does not currently take into account all the packages that are installed. This behaviour is the source of the following dependency conflicts.\n",
      "spyder 5.1.5 requires pyqt5<5.13, which is not installed.\n",
      "spyder 5.1.5 requires pyqtwebengine<5.13, which is not installed.\u001b[0m\n",
      "Successfully installed backports.entry-points-selectable-1.1.1 cachecontrol-0.12.10 cachy-0.3.0 cleo-0.8.1 clikit-0.6.2 crashtest-0.3.1 distlib-0.3.3 keyring-21.8.0 lockfile-0.12.2 packaging-20.9 pastel-0.2.1 platformdirs-2.4.0 poetry-1.1.12 poetry-core-1.0.7 pylev-1.4.0 requests-toolbelt-0.9.1 shellingham-1.4.0 tomlkit-0.7.2 virtualenv-20.10.0\n",
      "Note: you may need to restart the kernel to use updated packages.\n"
     ]
    }
   ],
   "source": [
    "pip install poetry"
   ]
  },
  {
   "cell_type": "markdown",
   "metadata": {},
   "source": [
    "**Linux / MacOS Installation**"
   ]
  },
  {
   "cell_type": "raw",
   "metadata": {},
   "source": [
    "curl -sSL https://raw.githubusercontent.com/python-poetry/poetry/master/get-poetry.py | python"
   ]
  },
  {
   "cell_type": "markdown",
   "metadata": {},
   "source": [
    "**Windows Powershell Installation**\n",
    "\n",
    "Run as Administrator"
   ]
  },
  {
   "cell_type": "raw",
   "metadata": {},
   "source": [
    "(Invoke-WebRequest -Uri https://raw.githubusercontent.com/python-poetry/poetry/master/get-poetry.py -UseBasicParsing).Content | python"
   ]
  },
  {
   "cell_type": "markdown",
   "metadata": {},
   "source": [
    "The installer installs the poetry tool to Poetry's bin directory. On Unix it is located at ```$HOME/.poetry/bin``` and on Windows at ```%USERPROFILE%\\.poetry\\bin```."
   ]
  },
  {
   "cell_type": "raw",
   "metadata": {},
   "source": [
    "poetry --version"
   ]
  },
  {
   "cell_type": "markdown",
   "metadata": {},
   "source": [
    "### Creation of a Python Package with Poetry"
   ]
  },
  {
   "cell_type": "markdown",
   "metadata": {},
   "source": [
    "Create a package with Poetry, run ```poetry new``` along with the name of the directory that will house the package:"
   ]
  },
  {
   "cell_type": "raw",
   "metadata": {},
   "source": [
    "cd datascience/python/09_mod_numpy\n",
    "\n",
    "poetry new flake8-markdown"
   ]
  },
  {
   "cell_type": "markdown",
   "metadata": {},
   "source": [
    "See directory structure below:"
   ]
  },
  {
   "cell_type": "markdown",
   "metadata": {},
   "source": [
    "![poetry directory](files/poetry_directory.png)"
   ]
  },
  {
   "cell_type": "markdown",
   "metadata": {},
   "source": [
    "### Customizing Python Package with Poetry"
   ]
  },
  {
   "cell_type": "markdown",
   "metadata": {},
   "source": [
    "Here's the initial ```pyproject.toml``` file:"
   ]
  },
  {
   "cell_type": "markdown",
   "metadata": {},
   "source": [
    "![pyproject.toml](files/poetry_pyproject_initial.png)"
   ]
  },
  {
   "cell_type": "markdown",
   "metadata": {},
   "source": [
    "Here's the finished ```pyproject.toml``` file:"
   ]
  },
  {
   "cell_type": "markdown",
   "metadata": {},
   "source": [
    "![pyproject.toml](files/poetry_pyproject_customized.png)"
   ]
  },
  {
   "cell_type": "markdown",
   "metadata": {},
   "source": [
    "### Build a Python Package with Poetry"
   ]
  },
  {
   "cell_type": "markdown",
   "metadata": {},
   "source": [
    "#### TestPyPI\n",
    "\n",
    "TestPyPI is \"a separate instance of the Python Package Index that allows you to try distribution tools and processes without affecting the real index\". Uploading packages to TestPyPI and installing from there can help package maintainers avoid shipping broken versions of their packages."
   ]
  },
  {
   "cell_type": "markdown",
   "metadata": {},
   "source": [
    "First, build the package:"
   ]
  },
  {
   "cell_type": "raw",
   "metadata": {},
   "source": [
    "poetry build"
   ]
  },
  {
   "cell_type": "markdown",
   "metadata": {},
   "source": [
    "#### Test Package Build"
   ]
  },
  {
   "cell_type": "markdown",
   "metadata": {},
   "source": [
    "Must [create a TestPyPI Registration](https://test.pypi.org/account/register/) before uploading packages to the test package index."
   ]
  },
  {
   "cell_type": "raw",
   "metadata": {},
   "source": [
    "poetry config repositories.testpypi https://test.pypi.org/legacy/"
   ]
  },
  {
   "cell_type": "markdown",
   "metadata": {},
   "source": [
    "Publish the package to Test PyPI:"
   ]
  },
  {
   "cell_type": "raw",
   "metadata": {},
   "source": [
    "$ poetry publish -r testpypi\n",
    "\n",
    "Publishing flake8-markdown (0.1.1) to testpypi\n",
    "Username:\n",
    "Password:\n",
    "\n",
    " - Uploading flake8-markdown-0.1.1.tar.gz 100%\n",
    " - Uploading flake8_markdown-0.1.1-py3-none-any.whl 100%"
   ]
  },
  {
   "cell_type": "markdown",
   "metadata": {},
   "source": [
    "Finally, verify that the package looks and works as intended by viewing it on [testpypi.pypi.org](testpypi.pypi.org) and installing the test version in a separate virtual environment:"
   ]
  },
  {
   "cell_type": "code",
   "execution_count": null,
   "metadata": {},
   "outputs": [],
   "source": [
    "pip install --index-url https://test.pypi.org/simple/ flake8-markdown"
   ]
  },
  {
   "cell_type": "markdown",
   "metadata": {},
   "source": [
    "#### Formal Package Build\n",
    "**PyPI**"
   ]
  },
  {
   "cell_type": "markdown",
   "metadata": {},
   "source": [
    "Must [create a PyPI Account](https://pypi.org/account/register/) before uploading packages to the PyPI package index."
   ]
  },
  {
   "cell_type": "markdown",
   "metadata": {},
   "source": [
    "If the package looks great on Test PyPI and works to boot, publishing to PyPI is as easy as:"
   ]
  },
  {
   "cell_type": "raw",
   "metadata": {},
   "source": [
    "poetry publish"
   ]
  },
  {
   "cell_type": "markdown",
   "metadata": {},
   "source": [
    "- - - \n",
    "<!--NAVIGATION-->\n",
    "Module 9. | **[Using Poetry](./00_index.ipynb)** | [Introduction to NumPy](./01_introduction_NumPy.ipynb) | [The Basics](./02_basics_NumPy.ipynb) | [Exercises](./03_NumPy_exercises.ipynb)\n",
    "<br>\n",
    "[Top](#)"
   ]
  },
  {
   "cell_type": "markdown",
   "metadata": {},
   "source": [
    "- - -\n",
    "\n",
    "Copyright © 2020 Qualex Consulting Services Incorporated."
   ]
  },
  {
   "cell_type": "code",
   "execution_count": null,
   "metadata": {},
   "outputs": [],
   "source": []
  }
 ],
 "metadata": {
  "anaconda-cloud": {},
  "kernelspec": {
   "display_name": "Python 3 (ipykernel)",
   "language": "python",
   "name": "python3"
  },
  "language_info": {
   "codemirror_mode": {
    "name": "ipython",
    "version": 3
   },
   "file_extension": ".py",
   "mimetype": "text/x-python",
   "name": "python",
   "nbconvert_exporter": "python",
   "pygments_lexer": "ipython3",
   "version": "3.9.7"
  }
 },
 "nbformat": 4,
 "nbformat_minor": 1
}
