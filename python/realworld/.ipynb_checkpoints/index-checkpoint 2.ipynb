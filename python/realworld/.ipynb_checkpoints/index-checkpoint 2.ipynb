{
 "cells": [
  {
   "cell_type": "markdown",
   "metadata": {},
   "source": [
    "# [Table Of Contents](../../index.ipynb)\n",
    "### Data Science Fundamentals"
   ]
  },
  {
   "cell_type": "markdown",
   "metadata": {},
   "source": [
    "## [Data Science Fundamentals: Python](../index.ipynb) \n",
    "\n",
    "Python is an interpreted, high-level, general-purpose programming language. Created by Guido van Rossum and first released in 1991, Python's design philosophy emphasizes code readability with its notable use of significant whitespace."
   ]
  },
  {
   "cell_type": "markdown",
   "metadata": {},
   "source": [
    "- - - \n",
    "\n",
    "## Real World Examples\n",
    "\n",
    "- [Web Scraping](./web_scraping/01_rw_web_scraping.ipynb) \n",
    "- [Automation](./automation/02_rw_automation.ipynb) \n",
    "- [Messaging](./messaging/03_rw_messaging.ipynb) \n",
    "- [CSV](./csv/04_rw_csv.ipynb) \n",
    "- [Games](./games/05_games.ipynb)\n",
    "- [Mobile](./mobile/06_mobile.ipynb)\n",
    "- [Computer Vision](./computer_vision/08_computer_vision.ipynb)\n",
    "- [Chatbot](./chatbot/10_chatbot.ipynb)\n",
    "- [Built-In Database](./database/11_database.ipynb)\n",
    "\n",
    "## Social Media Analytics\n",
    "\n",
    "- [YouTube](../socialmedia/youtube/index.ipynb)\n",
    "- [Twitch](../socialmedia/twitch/index.ipynb)\n",
    "- [Twitter](../socialmedia/twitter/index.ipynb)\n",
    "\n",
    "\n",
    "## Pandemic Examples\n",
    "\n",
    "- [COVID-19 Visualization](./COVID-19/COVID-19_visualizations-plotly.ipynb)\n",
    "- [Spanish Flu: 1918-1920](./spanishflu/index.ipynb)\n",
    "\n",
    "## 2020 US Presidential Election\n",
    "\n",
    "- [Data](#)\n",
    "- [Visualization](#)\n",
    "\n",
    "## Projects\n",
    "\n",
    "- [Iris Dataset](../projects/iris/index.ipynb)\n",
    "- [Music Reviews](../projects/music_reviews/index.ipynb)\n",
    "- [AI-Writer](../projects/aiwriter/index.ipynb)"
   ]
  },
  {
   "cell_type": "markdown",
   "metadata": {},
   "source": [
    "- - -\n",
    "Training Feedback\n",
    "---\n",
    "If you have any questions or comments, feel free to get in touch:\n",
    "\n",
    "Twitter: [@enterlol](https://twitter.com/techtalentsouth)\n",
    "\n",
    "Email: gary dot jackson at qualex dot com\n",
    "\n",
    "LinkedIn: [GS Jackson](https://www.linkedin.com/in/gsjackson/)"
   ]
  },
  {
   "cell_type": "code",
   "execution_count": null,
   "metadata": {},
   "outputs": [],
   "source": []
  }
 ],
 "metadata": {
  "kernelspec": {
   "display_name": "Python 3",
   "language": "python",
   "name": "python3"
  },
  "language_info": {
   "codemirror_mode": {
    "name": "ipython",
    "version": 3
   },
   "file_extension": ".py",
   "mimetype": "text/x-python",
   "name": "python",
   "nbconvert_exporter": "python",
   "pygments_lexer": "ipython3",
   "version": "3.9.0"
  }
 },
 "nbformat": 4,
 "nbformat_minor": 4
}
