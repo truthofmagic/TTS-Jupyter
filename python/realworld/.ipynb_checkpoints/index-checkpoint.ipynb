{
 "cells": [
  {
   "cell_type": "markdown",
   "metadata": {},
   "source": [
    "# [Table Of Contents](../../index.ipynb)\n",
    "### Data Science Fundamentals"
   ]
  },
  {
   "cell_type": "markdown",
   "metadata": {},
   "source": [
    "## [Data Science Fundamentals: Python](https://github.com/enterlifeonline/tts-ds-fundamentals-course) \n",
    "\n",
    "Python is an interpreted, high-level, general-purpose programming language. Created by Guido van Rossum and first released in 1991, Python's design philosophy emphasizes code readability with its notable use of significant whitespace."
   ]
  },
  {
   "cell_type": "markdown",
   "metadata": {},
   "source": [
    "- - - \n",
    "\n",
    "## Life Examples\n",
    "\n",
    "### [Stock Picker](./stock-picker/index.ipynb)\n",
    "\n",
    "### [Salary Analysis](./salary/index.ipynb)\n",
    "\n",
    "### [Bitcoin Analytics](./bitcoin/index.ipynb)\n",
    "\n",
    "### Pandemic Examples\n",
    "\n",
    "- [COVID-19 Visualization](./COVID-19/index.ipynb)\n",
    "- [Spanish Flu: 1918-1920](./spanishflu/index.ipynb)\n",
    "\n",
    "### [Police Brutality](https://maminian.github.io/brutality-map/) "
   ]
  },
  {
   "cell_type": "markdown",
   "metadata": {},
   "source": [
    "- - -\n",
    "Training Feedback\n",
    "---\n",
    "If you have any questions or comments, feel free to get in touch:\n",
    "\n",
    "Twitter: [@enterlol](https://twitter.com/techtalentsouth)\n",
    "\n",
    "Email: gary dot jackson at qualex dot com\n",
    "\n",
    "LinkedIn: [GS Jackson](https://www.linkedin.com/in/gsjackson/)"
   ]
  },
  {
   "cell_type": "code",
   "execution_count": null,
   "metadata": {},
   "outputs": [],
   "source": []
  }
 ],
 "metadata": {
  "kernelspec": {
   "display_name": "Python 3 (ipykernel)",
   "language": "python",
   "name": "python3"
  },
  "language_info": {
   "codemirror_mode": {
    "name": "ipython",
    "version": 3
   },
   "file_extension": ".py",
   "mimetype": "text/x-python",
   "name": "python",
   "nbconvert_exporter": "python",
   "pygments_lexer": "ipython3",
   "version": "3.9.7"
  }
 },
 "nbformat": 4,
 "nbformat_minor": 4
}
