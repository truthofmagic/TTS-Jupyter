{
 "cells": [
  {
   "cell_type": "markdown",
   "metadata": {},
   "source": [
    "Data Science Fundamentals: Python |\n",
    "[Table of Contents](../../index.ipynb)\n",
    "- - - \n",
    "<!--NAVIGATION-->\n",
    "Real World Examples: [Web Scraping](../web_scraping/01_rw_web_scraping.ipynb) | [Automation](./02_rw_automation.ipynb) | [Messaging](../messaging/03_rw_messaging.ipynb) | [CSV](../csv/04_rw_csv.ipynb) | [Games](../games/05_games.ipynb) | [Mobile](../mobile/06_mobile.ipynb) | [Computer Vision](../computer_vision/08_computer_vision.ipynb) | [Built-In Database](../database/11_database.ipynb)\n",
    "- - -\n",
    "Life Examples: **[COVID-19](index.ipynb)** | [Police Brutality](https://maminian.github.io/brutality-map/) | [Spanish Flu](../spanishflu/index.ipynb) |  [Salary Analysis](../salary/index.ipynb) | [Stock Picker](../stock-picker/index.ipynb) | [Bitcoin Analytics](../bitcoin/index.ipynb)"
   ]
  },
  {
   "cell_type": "markdown",
   "metadata": {},
   "source": [
    "# COVID-19 Data"
   ]
  },
  {
   "cell_type": "markdown",
   "metadata": {},
   "source": [
    "- ### [Data of deaths with no vax](covid-19-data/excess-deaths/deaths.csv)\n",
    "- ### [Data of deaths with vax](https://vaers.hhs.gov/data/datasets.html)"
   ]
  },
  {
   "cell_type": "markdown",
   "metadata": {},
   "source": [
    "# Covid-19 Analysis/visualization\n",
    "\n",
    "## Covid-tracking-project data visualization\n",
    "\n",
    "\"The COVID Tracking Project collects and publishes the most complete testing data available for US states and territories. It has been cited in and used by major media companies and agencies.\n",
    "\n",
    "![covid-tracking](https://raw.githubusercontent.com/tirthajyoti/Covid-19-analysis/master/images/Covid-tracking-project-3.PNG)\n",
    "\n",
    "### Notebook\n",
    "\n",
    "[Here is the demo Notebook with Covid-tracking project data](visualization/Covid-tracking-project.ipynb)\n",
    "\n",
    "---\n",
    "\n",
    "## NY Times dataset\n",
    "The New York Times is releasing a series of data files with cumulative counts of coronavirus cases in the United States, at the state and county level, over time. They are compiling this time series data from state and local governments and health departments in an attempt to provide a complete record of the ongoing outbreak.\n",
    "\n",
    "Here is the NY Times Github repo: **https://github.com/nytimes/covid-19-data**\n",
    "\n",
    "### Notebook\n",
    "[Here is the demo Notebook with NY Times dataset](visualization/NYTCovid-test.ipynb)\n",
    "\n",
    "### Medium article\n",
    "Here is the Medium article about it: ***[Analyze NY Times Covid-19 Dataset](https://towardsdatascience.com/analyze-ny-times-covid-19-dataset-86c802164210)***\n",
    "\n",
    "![image-1](https://raw.githubusercontent.com/tirthajyoti/Covid-19-analysis/master/images/NYT-Covid-collage.png)\n",
    "\n",
    "---\n",
    "\n",
    "## Simple SEIR (Susceptible-Exposed-Infectious-Recovered) modeling\n",
    "Even without venturing into actual predictive modeling, it is possible to demonstrate the efficacy of the only basic weapon that we all have against the COVID-19 virus - \"social distancing\" - by a simple programmatic approach.\n",
    "\n",
    "In this demo, we will show how to build such a demo in Python, following a simple yet fundamental epidemiological theory.\n",
    "\n",
    "### Notebook\n",
    "[Here is the demo notebook for the SEIR modeling](visualization/SEIR-demo.ipynb)\n",
    "\n",
    "### Medium article\n",
    "Here is the Medium article about it: ***[\"Simple modeling of “flattening the curve” and “lifting lockdown”](https://towardsdatascience.com/simple-modeling-of-flattening-the-curve-and-lifting-lockdown-1a774a248e68)***\n",
    "\n"
   ]
  },
  {
   "cell_type": "code",
   "execution_count": null,
   "metadata": {},
   "outputs": [],
   "source": []
  }
 ],
 "metadata": {
  "kernelspec": {
   "display_name": "Python 3 (ipykernel)",
   "language": "python",
   "name": "python3"
  },
  "language_info": {
   "codemirror_mode": {
    "name": "ipython",
    "version": 3
   },
   "file_extension": ".py",
   "mimetype": "text/x-python",
   "name": "python",
   "nbconvert_exporter": "python",
   "pygments_lexer": "ipython3",
   "version": "3.9.7"
  }
 },
 "nbformat": 4,
 "nbformat_minor": 4
}
