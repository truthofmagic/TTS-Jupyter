{
 "cells": [
  {
   "cell_type": "markdown",
   "metadata": {},
   "source": [
    "Data Science Fundamentals: Python |\n",
    "[Table of Contents](../index.ipynb)\n",
    "- - - \n",
    "<!--NAVIGATION-->\n",
    "Module 10. | [Intro to Pandas](./01_introduction_to_pandas.ipynb) | [Introducing Panda Objects](./02_introducing-pandas-objects.ipynb) | [Data Manipulation with Pandas](./03_data_manipulation_pandas.ipynb) |  [Getting Started with Pandas](./04_getting_started_pandas.ipynb) | **[Speeding Up Pandas](./06_pandas_speeding_up.ipynb)** | [Exercises](./05_pandas_exercises.ipynb)"
   ]
  },
  {
   "cell_type": "markdown",
   "metadata": {},
   "source": [
    "# Speeding Up Pandas"
   ]
  },
  {
   "cell_type": "markdown",
   "metadata": {},
   "source": [
    "Several ways to serialize Pandas DataFrames: [Efficiently Store Pandas DataFrames](http://matthewrocklin.com/blog/work/2015/03/16/Fast-Serialization).\n",
    "\n",
    "[Comparing I/O](https://pandas.pydata.org/pandas-docs/stable/user_guide/io.html):\n",
    "\n",
    "- [pickle](https://docs.python.org/3/library/pickle.html): original ASCII data format\n",
    "- cPickle, a C library\n",
    "- pickle-p2: uses the newer binary format\n",
    "- [json](https://www.json.org/): standardlib json library\n",
    "- json-no-index: like json, but without index\n",
    "- msgpack: binary JSON alternative\n",
    "- [CSV](https://en.wikipedia.org/wiki/Comma-separated_values)\n",
    "- [hdfstore](https://support.hdfgroup.org/HDF5/whatishdf5.html): HDF5 storage format\n",
    "\n",
    "In this experiment, serialize a DataFrame of 1,000,000 rows with the two columns tested separately: one with text data, the other with numbers. \n",
    "\n",
    "#### Disclaimer:\n",
    "\n",
    "You should not trust that what follows generalizes to your data. You should look at your own data and run benchmarks yourself\n",
    "\n",
    "The source code for the test which they refer to is available [online](https://gist.github.com/mrocklin/4f6d06a2ccc03731dd5f). Since this code did not work directly made some minor changes, which you can get here: [serialize.py](https://gist.github.com/agoldhoorn/ee3bec427dec5bfabb2c).  See the following results:"
   ]
  },
  {
   "cell_type": "markdown",
   "metadata": {},
   "source": [
    "![title](images/results.png)<br><br>"
   ]
  },
  {
   "cell_type": "markdown",
   "metadata": {},
   "source": [
    "Conversion of text data to categorical data the serialization is much faster- about 10 times as fast (also see the test code).\n",
    "\n",
    "Edit: The higher times for [pickle](https://docs.python.org/2/library/pickle.html#data-stream-format) than CSV can be explained by the data format used. By default pickle uses a printable ASCII representation, which generates larger data sets. As can be seen from the graph however, pickle using the newer binary data format (version 2, pickle-p2) has much lower load times.\n",
    "\n",
    "- - -\n",
    "### Some other references:\n",
    "\n",
    "In the question [Fastest Python library to read a CSV file](https://softwarerecs.stackexchange.com/questions/7463/fastest-python-library-to-read-a-csv-file) there is a very detailed answer which compares different libraries to read csv files with a benchmark. The result is that for reading csv files [numpy.fromfile](http://docs.scipy.org/doc/numpy/reference/generated/numpy.fromfile.html) is the fastest.\n",
    "\n",
    "Another [serialization test](https://gist.github.com/justinfx/3174062) shows [msgpack](https://pypi.org/project/msgpack), [ujson](https://pypi.python.org/pypi/ujson), and cPickle to be the quickest in serializing."
   ]
  },
  {
   "cell_type": "code",
   "execution_count": null,
   "metadata": {},
   "outputs": [],
   "source": []
  }
 ],
 "metadata": {
  "kernelspec": {
   "display_name": "Python 3",
   "language": "python",
   "name": "python3"
  },
  "language_info": {
   "codemirror_mode": {
    "name": "ipython",
    "version": 3
   },
   "file_extension": ".py",
   "mimetype": "text/x-python",
   "name": "python",
   "nbconvert_exporter": "python",
   "pygments_lexer": "ipython3",
   "version": "3.8.5"
  }
 },
 "nbformat": 4,
 "nbformat_minor": 4
}
