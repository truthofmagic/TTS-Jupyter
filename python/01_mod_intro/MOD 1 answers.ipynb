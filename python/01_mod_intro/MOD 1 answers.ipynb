{
 "cells": [
  {
   "cell_type": "markdown",
   "id": "df8ebba1",
   "metadata": {},
   "source": [
    "1. Accept the user's first and last name and print them in reverse order with a space between them?\n"
   ]
  },
  {
   "cell_type": "code",
   "execution_count": null,
   "id": "80c03bd9",
   "metadata": {},
   "outputs": [],
   "source": [
    "firstname = input(\"Input your First Name : \") #user inputs string for their first name\n",
    "lastname = input(\"Input your Last Name : \") #user inputs string for their last name\n",
    "print(\"Hello \" + lastname + \" \" + firstname) #Faline Jett\n"
   ]
  },
  {
   "cell_type": "markdown",
   "id": "b74ee18a",
   "metadata": {},
   "source": [
    "2. Accept an integer (n) input from the user and compute the value of n+nn+nnn. For example if n=4 then n + nn + nnn = 4 + 44 + 444 = 492"
   ]
  },
  {
   "cell_type": "code",
   "execution_count": null,
   "id": "737737bd",
   "metadata": {},
   "outputs": [],
   "source": [
    "a = int(input(\"Input an integer : \")) #user inputs integer into the variable a\n",
    "n1 = int( \"%s\" % a )  #n1 returns integer from the variable a\n",
    "n2 = int( \"%s%s\" % (a,a) ) \n",
    "n3 = int( \"%s%s%s\" % (a,a,a) )\n",
    "print (n1+n2+n3)  \n"
   ]
  },
  {
   "cell_type": "markdown",
   "id": "8d1d2af6",
   "metadata": {},
   "source": [
    "3. Ask the user \"What country are you from?\" then print the following statement: \"I have heard that [input] is a beautiful country!\""
   ]
  },
  {
   "cell_type": "code",
   "execution_count": null,
   "id": "1a2e239d",
   "metadata": {},
   "outputs": [],
   "source": [
    "country = input(\"What country are you from?: \")\n",
    "print (\"I have heard \" + country + \" is a beautiful country!\")\n"
   ]
  },
  {
   "cell_type": "markdown",
   "id": "7d67c22e",
   "metadata": {},
   "source": [
    "4. What is the output of the following Python code\n",
    "\n",
    "x = 10\n",
    "y = 50\n",
    "if (x ** 2 > 100 and y < 100):\n",
    "    print(x, y) "
   ]
  },
  {
   "cell_type": "code",
   "execution_count": null,
   "id": "e7a64d27",
   "metadata": {},
   "outputs": [],
   "source": [
    "x = 10\n",
    "y = 50\n",
    "if (x ** 2 > 100 and y < 100):\n",
    "    print(x, y) #The statement would return none because x2=100"
   ]
  },
  {
   "cell_type": "markdown",
   "id": "51c0a5d9",
   "metadata": {},
   "source": [
    "5. What is the output of the following addition (+) operator, and why does this code chunk execute this way?\n",
    "\n",
    "a = [10, 20]\n",
    "b = a\n",
    "b += [30, 40]\n",
    "print(a)\n",
    "print(b)"
   ]
  },
  {
   "cell_type": "code",
   "execution_count": null,
   "id": "ad0e63fd",
   "metadata": {},
   "outputs": [],
   "source": [
    "a = [10, 20]\n",
    "b = a\n",
    "b += [30, 40]\n",
    "print(a)\n",
    "print(b) #The following will print two same lists with [30,40] on both lists ammended"
   ]
  },
  {
   "cell_type": "markdown",
   "id": "f20b5369",
   "metadata": {},
   "source": [
    "6. What is the output of the following code and what arithmetic operators is being used here? print(2%6)"
   ]
  },
  {
   "cell_type": "code",
   "execution_count": null,
   "id": "340b2c84",
   "metadata": {},
   "outputs": [],
   "source": [
    "print(2%6)\n",
    "#This will print 2 since 2 is the remainder of the function when divided by 6. The modulus always "
   ]
  },
  {
   "cell_type": "markdown",
   "id": "e745f491",
   "metadata": {},
   "source": [
    "7. What is the output of the following code and what arithmetic operators are used here? print(2 * 3 ** 3 * 4)"
   ]
  },
  {
   "cell_type": "code",
   "execution_count": null,
   "id": "1b959152",
   "metadata": {},
   "outputs": [],
   "source": [
    "print(2 * 3 ** 3 * 4) # The output of the code is 216. The order of operations (PEMDAS) , the values of 3*3 gets looked at first, the calulate the remaining multiples from left to right (2274)=(544)=(216.)"
   ]
  },
  {
   "cell_type": "markdown",
   "id": "b47e7d89",
   "metadata": {},
   "source": [
    "8. What is a text editor?"
   ]
  },
  {
   "cell_type": "markdown",
   "id": "fe71c771",
   "metadata": {},
   "source": [
    "This is an non-interactive environment where a file of code is made and can be run in the command line environment or IDE"
   ]
  },
  {
   "cell_type": "markdown",
   "id": "e768e008",
   "metadata": {},
   "source": [
    "9. What is python?"
   ]
  },
  {
   "cell_type": "markdown",
   "id": "5b982bdc",
   "metadata": {},
   "source": [
    "Python is a coding languae that is used often by scientists and uses higher level math and functions. "
   ]
  },
  {
   "cell_type": "markdown",
   "id": "823131b9",
   "metadata": {},
   "source": [
    "10. What is jupyter notebook, what type of python environment is it, and what alternatives are there to jupyter notebook?"
   ]
  },
  {
   "cell_type": "markdown",
   "id": "0ff379fd",
   "metadata": {},
   "source": [
    "Jupyter notebooks  is an IDE Integrative developer enviornment in a graphical user interface. "
   ]
  }
 ],
 "metadata": {
  "kernelspec": {
   "display_name": "Python 3 (ipykernel)",
   "language": "python",
   "name": "python3"
  },
  "language_info": {
   "codemirror_mode": {
    "name": "ipython",
    "version": 3
   },
   "file_extension": ".py",
   "mimetype": "text/x-python",
   "name": "python",
   "nbconvert_exporter": "python",
   "pygments_lexer": "ipython3",
   "version": "3.9.7"
  }
 },
 "nbformat": 4,
 "nbformat_minor": 5
}
