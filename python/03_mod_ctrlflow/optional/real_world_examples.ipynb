{
 "cells": [
  {
   "cell_type": "markdown",
   "metadata": {},
   "source": [
    "Data Science Fundamentals: Python |\n",
    "[Table of Contents](../../index.ipynb)\n",
    "- - - \n",
    "<!--NAVIGATION-->\n",
    "Module 3. [Control Flow](../01_mod_control_flow.ipynb) | [Statements](../02_python_statements.ipynb) | [Functions](../03_python_functions.ipynb) | [Exercises](../04_mod_exercises.ipynb)\n",
    "<!--NAVIGATION-->\n",
    "Supplemental. [While Loops](../supplemental/01_while-loop.ipynb) | [If Elif Else](../supplemental/02_if-elif-else.ipynb) | [Break Continue](../supplemental/03_break_continue.ipynb) | [For Loops](../04_for_loop.ipynb)\n",
    "<!--NAVIGATION-->\n",
    "Optional. [Writing Assignment](./writing_assignment.ipynb) | **[Real World Examples](./real_world_examples.ipynb)**"
   ]
  },
  {
   "cell_type": "markdown",
   "metadata": {},
   "source": [
    "## OPTIONAL Real World Examples\n",
    "\n",
    "Examples of real world examples using Python:\n",
    "\n",
    "- [CSV](./csv/04_rw_csv.ipynb) \n",
    "- [Built-In Database](./database/11_database.ipynb)\n",
    "- [Web Scraping](./web_scraping/01_rw_web_scraping.ipynb) \n",
    "- [Automation](./automation/02_rw_automation.ipynb) \n",
    "- [Messaging](./messaging/03_rw_messaging.ipynb) \n",
    "- [Games](./games/05_games.ipynb)\n",
    "- [Mobile](./mobile/06_mobile.ipynb)\n",
    "- [Computer Vision](./computer_vision/08_computer_vision.ipynb)\n",
    "- [Chatbot](./chatbot/10_chatbot.ipynb)\n",
    "- [Salary Analysis](./salary/files)\n",
    "\n",
    "## Pandemic Examples\n",
    "\n",
    "- [COVID-19 Visualization](./COVID-19/COVID-19_visualizations-plotly.ipynb)\n",
    "- [Spanish Flu: 1918-1920](./spanishflu/index.ipynb)\n",
    "\n",
    "## 2020 US Presidential Election\n",
    "\n",
    "- [Data](./2020_election/data)\n",
    "- [Visualization](./2020_election/data)"
   ]
  },
  {
   "cell_type": "code",
   "execution_count": null,
   "metadata": {},
   "outputs": [],
   "source": []
  }
 ],
 "metadata": {
  "kernelspec": {
   "display_name": "Python 3",
   "language": "python",
   "name": "python3"
  },
  "language_info": {
   "codemirror_mode": {
    "name": "ipython",
    "version": 3
   },
   "file_extension": ".py",
   "mimetype": "text/x-python",
   "name": "python",
   "nbconvert_exporter": "python",
   "pygments_lexer": "ipython3",
   "version": "3.8.5"
  }
 },
 "nbformat": 4,
 "nbformat_minor": 4
}
