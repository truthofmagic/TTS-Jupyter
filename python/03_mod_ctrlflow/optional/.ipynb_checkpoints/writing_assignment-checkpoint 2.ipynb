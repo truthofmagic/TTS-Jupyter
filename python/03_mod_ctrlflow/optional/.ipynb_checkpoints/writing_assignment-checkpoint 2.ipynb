{
 "cells": [
  {
   "cell_type": "markdown",
   "metadata": {},
   "source": [
    "Data Science Fundamentals: Python |\n",
    "[Table of Contents](../index.ipynb)\n",
    "- - - \n",
    "<!--NAVIGATION-->\n",
    "Module 3. [Control Flow](../01_mod_control_flow.ipynb) | [Statements](../02_python_statements.ipynb) | [Functions](../03_python_functions.ipynb) | [Exercises](../04_mod_exercises.ipynb)\n",
    "<!--NAVIGATION-->\n",
    "Supplemental. [While Loops](../supplemental/01_while-loop.ipynb) | [If Elif Else](../supplemental/02_if-elif-else.ipynb) | [Break Continue](../supplemental/03_break_continue.ipynb) | [For Loops](../04_for_loop.ipynb)\n",
    "<!--NAVIGATION-->\n",
    "Optional. **[Writing Assignment](./writing_assignment.ipynb)**"
   ]
  },
  {
   "cell_type": "markdown",
   "metadata": {},
   "source": [
    "## OPTIONAL Writing Assignment (500 words)\n",
    "\n",
    "Show us an example of data communication and explain why you think it is great. It could be a static or interactive data visualization, a piece of data journalism, a data sonification, or a video infographic.  \n",
    "\n",
    "Why did you choose this example? How would you improve it?\n",
    "\n",
    "You can select from one of the examples below or you can feel free to select your own example to write about in your response. If you choose your own example, please upload one document that includes your essay response as well as a URL link to the data communication. Examples must be in English.\n",
    "\n",
    "- [Bias, She Wrote: The Gender Balance of The New York Times Best Seller List](https://pudding.cool/2017/06/best-sellers/) \n",
    "- [Why Are So Many Babies Born Around 8:00am?](https://blogs.scientificamerican.com/sa-visual/why-are-so-many-babies-born-around-8-00-a-m/) \n",
    "- [How Can We Hear the Stars?](https://www.npr.org/2017/01/20/510612425/how-can-we-hear-the-stars)\n",
    "- [What City is The Microbrew Capital of the U.S.?](https://pudding.cool/2017/04/beer/)"
   ]
  }
 ],
 "metadata": {
  "kernelspec": {
   "display_name": "Python 3",
   "language": "python",
   "name": "python3"
  },
  "language_info": {
   "codemirror_mode": {
    "name": "ipython",
    "version": 3
   },
   "file_extension": ".py",
   "mimetype": "text/x-python",
   "name": "python",
   "nbconvert_exporter": "python",
   "pygments_lexer": "ipython3",
   "version": "3.9.0"
  }
 },
 "nbformat": 4,
 "nbformat_minor": 4
}
