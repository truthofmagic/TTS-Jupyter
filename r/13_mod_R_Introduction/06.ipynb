{
 "cells": [
  {
   "cell_type": "markdown",
   "metadata": {},
   "source": [
    "Data Science Fundamentals: R |\n",
    "[Table of Contents](../index.ipynb)\n",
    "- - - \n",
    "<!--NAVIGATION-->\n",
    "Module 14. [Introduction](./00.ipynb) | [Basic Syntax](./01.ipynb)  | [Data Types](./02.ipynb) | [Variables](./03.ipynb) | [Operators](./04.ipynb) | [Decision Making](./05.ipynb)  | [Functions](./06.ipynb) | [Strings](./07.ipynb) | [Vectors](./08.ipynb) | [Lists](./09.ipynb) | [Matrices](./10.ipynb) | [Arrays](./11.ipynb) | [Factors](./12.ipynb) | [Data Frames](./13.ipynb) | [Data Reshaping](./14.ipynb) | [Exercises](./15.ipynb)"
   ]
  },
  {
   "cell_type": "markdown",
   "metadata": {},
   "source": [
    "Functions\n",
    "---"
   ]
  },
  {
   "cell_type": "markdown",
   "metadata": {},
   "source": [
    "A function is a set of statements organized together to perform a specific task. R has a large number of in-built functions and the user can create their own functions.\n",
    "\n",
    "In R, a function is an object so the R interpreter is able to pass control to the function, along with arguments that may be necessary for the function to accomplish the actions.\n",
    "\n",
    "The function in turn performs its task and returns control to the interpreter as well as any result which may be stored in other objects.\n",
    "\n",
    "<b>Function Definition</b>\n",
    "\n",
    "An R function is created by using the keyword function. The basic syntax of an R function definition is as follows −"
   ]
  },
  {
   "cell_type": "raw",
   "metadata": {},
   "source": [
    "function.name <- function(arg_1, arg_2, ...) {\n",
    "   Function body \n",
    "}"
   ]
  },
  {
   "cell_type": "markdown",
   "metadata": {},
   "source": [
    "<b>Function Components</b>\n",
    "\n",
    "The different parts of a function are −\n",
    "\n",
    "- Function Name − This is the actual name of the function. It is stored in R environment as an object with this name.\n",
    "\n",
    "- Arguments − An argument is a placeholder. When a function is invoked, you pass a value to the argument. Arguments are optional; that is, a function may contain no arguments. Also arguments can have default values.\n",
    "\n",
    "- Function Body − The function body contains a collection of statements that defines what the function does.\n",
    "\n",
    "- Return Value − The return value of a function is the last expression in the function body to be evaluated.\n",
    "\n",
    "R has many in-built functions which can be directly called in the program without defining them first. We can also create and use our own functions referred as user defined functions."
   ]
  },
  {
   "cell_type": "markdown",
   "metadata": {},
   "source": [
    "<b>Built-in Function</b>\n",
    "\n",
    "Simple examples of in-built functions are seq(), mean(), max(), sum(x) and paste(...) etc. They are directly called by user written programs. You can refer most widely used R functions."
   ]
  },
  {
   "cell_type": "code",
   "execution_count": 1,
   "metadata": {},
   "outputs": [
    {
     "name": "stdout",
     "output_type": "stream",
     "text": [
      " [1] 32 33 34 35 36 37 38 39 40 41 42 43 44\n"
     ]
    }
   ],
   "source": [
    "# Create a sequence of numbers from 32 to 44.\n",
    "\n",
    "print(seq(32,44))"
   ]
  },
  {
   "cell_type": "code",
   "execution_count": 2,
   "metadata": {},
   "outputs": [
    {
     "name": "stdout",
     "output_type": "stream",
     "text": [
      "[1] 53.5\n"
     ]
    }
   ],
   "source": [
    "# Find mean of numbers from 25 to 82.\n",
    "\n",
    "print(mean(25:82))"
   ]
  },
  {
   "cell_type": "code",
   "execution_count": 3,
   "metadata": {},
   "outputs": [
    {
     "name": "stdout",
     "output_type": "stream",
     "text": [
      "[1] 1526\n"
     ]
    }
   ],
   "source": [
    "# Find sum of numbers frm 41 to 68.\n",
    "\n",
    "print(sum(41:68))"
   ]
  },
  {
   "cell_type": "markdown",
   "metadata": {},
   "source": [
    "<b>User-defined Function</b>\n",
    "\n",
    "We can create user-defined functions in R. They are specific to what a user wants and once created they can be used like the built-in functions. Below is an example of how a function is created and used."
   ]
  },
  {
   "cell_type": "code",
   "execution_count": 4,
   "metadata": {},
   "outputs": [],
   "source": [
    "# Create a function to print squares of numbers in sequence.\n",
    "new.function <- function(a) {\n",
    "   for(i in 1:a) {\n",
    "      b <- i^2\n",
    "      print(b)\n",
    "   }\n",
    "}"
   ]
  },
  {
   "cell_type": "markdown",
   "metadata": {},
   "source": [
    "<b>Calling a Function</b>"
   ]
  },
  {
   "cell_type": "code",
   "execution_count": 5,
   "metadata": {},
   "outputs": [
    {
     "name": "stdout",
     "output_type": "stream",
     "text": [
      "[1] 1\n",
      "[1] 4\n",
      "[1] 9\n",
      "[1] 16\n",
      "[1] 25\n",
      "[1] 36\n",
      "[1] 49\n",
      "[1] 64\n",
      "[1] 81\n",
      "[1] 100\n",
      "[1] 121\n",
      "[1] 144\n",
      "[1] 169\n",
      "[1] 196\n",
      "[1] 225\n",
      "[1] 256\n",
      "[1] 289\n"
     ]
    }
   ],
   "source": [
    "\n",
    "# Call the function new.function supplying 6 as an argument.\n",
    "new.function(17)"
   ]
  },
  {
   "cell_type": "markdown",
   "metadata": {},
   "source": [
    "<b>Calling A Function Without An Argument</b>"
   ]
  },
  {
   "cell_type": "code",
   "execution_count": 6,
   "metadata": {},
   "outputs": [
    {
     "name": "stdout",
     "output_type": "stream",
     "text": [
      "[1] 1\n",
      "[1] 4\n",
      "[1] 9\n",
      "[1] 16\n",
      "[1] 25\n",
      "[1] 36\n",
      "[1] 49\n"
     ]
    }
   ],
   "source": [
    "# Create a function without an argument.\n",
    "new2.function <- function() {\n",
    "   for(i in 1:7) {\n",
    "      print(i^2)\n",
    "   }\n",
    "}\t\n",
    "\n",
    "# Call the function without supplying an argument.\n",
    "\n",
    "new2.function()"
   ]
  },
  {
   "cell_type": "markdown",
   "metadata": {},
   "source": [
    "<b>Calling A Function With Argument Values (By Position And By Name)</b>\n",
    "\n",
    "The arguments to a function call can be supplied in the same sequence as defined in the function or they can be supplied in a different sequence but assigned to the names of the arguments."
   ]
  },
  {
   "cell_type": "code",
   "execution_count": 7,
   "metadata": {},
   "outputs": [
    {
     "name": "stdout",
     "output_type": "stream",
     "text": [
      "[1] 26\n",
      "[1] 58\n"
     ]
    }
   ],
   "source": [
    "# Create a function with arguments.\n",
    "\n",
    "new3.function <- function(a,b,c) {\n",
    "   result <- a * b + c\n",
    "   print(result)\n",
    "\n",
    "}\n",
    "\n",
    "# Call the function by position of arguments.\n",
    "new3.function(5,3,11)\n",
    "\n",
    "# Call the function by names of the arguments.\n",
    "new3.function(a = 11, b = 5, c = 3)"
   ]
  },
  {
   "cell_type": "markdown",
   "metadata": {},
   "source": [
    "<b>Calling A Function With Default Argument</b>\n",
    "\n",
    "We can define the value of the arguments in the function definition and call the function without supplying any argument to get the default result. But we can also call such functions by supplying new values of the argument and get non default result.\n"
   ]
  },
  {
   "cell_type": "code",
   "execution_count": 8,
   "metadata": {},
   "outputs": [
    {
     "name": "stdout",
     "output_type": "stream",
     "text": [
      "[1] 18\n",
      "[1] 45\n"
     ]
    }
   ],
   "source": [
    "# Create a function with arguments.\n",
    "new4.function <- function(a = 3, b = 6) {\n",
    "   result <- a * b\n",
    "   print(result)\n",
    "}\n",
    "\n",
    "# Call the function without giving any argument.\n",
    "new4.function()\n",
    "\n",
    "# Call the function with giving new values of the argument.\n",
    "new4.function(9,5)"
   ]
  },
  {
   "cell_type": "markdown",
   "metadata": {},
   "source": [
    "<b>Lazy Evaluation of Function</b>\n",
    "\n",
    "Arguments to functions are evaluated lazily, which means so they are evaluated only when needed by the function body."
   ]
  },
  {
   "cell_type": "code",
   "execution_count": 11,
   "metadata": {},
   "outputs": [
    {
     "name": "stdout",
     "output_type": "stream",
     "text": [
      "[1] 36\n",
      "[1] 6\n",
      "[1] 4\n"
     ]
    }
   ],
   "source": [
    "# Create a function with arguments.\n",
    "new5.function <- function(a, b) {\n",
    "   print(a^2)\n",
    "   print(a)\n",
    "   print(b)\n",
    "\n",
    "}\n",
    "\n",
    "# Evaluate the function without supplying one of the arguments.\n",
    "new5.function(6,4)"
   ]
  },
  {
   "cell_type": "markdown",
   "metadata": {},
   "source": [
    "Data Science Fundamentals: R |\n",
    "[Table of Contents](../index.ipynb)\n",
    "- - - \n",
    "<!--NAVIGATION-->\n",
    "Module 14. [Introduction](./00.ipynb) | [Basic Syntax](./01.ipynb)  | [Data Types](./02.ipynb) | [Variables](./03.ipynb) | [Operators](./04.ipynb) | [Decision Making](./05.ipynb)  | [Functions](./06.ipynb) | [Strings](./07.ipynb) | [Vectors](./08.ipynb) | [Lists](./09.ipynb) | [Matrices](./10.ipynb) | [Arrays](./11.ipynb) | [Factors](./12.ipynb) | [Data Frames](./13.ipynb) | [Data Reshaping](./14.ipynb) | [Exercises](./15.ipynb)"
   ]
  },
  {
   "cell_type": "code",
   "execution_count": null,
   "metadata": {},
   "outputs": [],
   "source": []
  }
 ],
 "metadata": {
  "kernelspec": {
   "display_name": "R",
   "language": "R",
   "name": "ir"
  },
  "language_info": {
   "codemirror_mode": "r",
   "file_extension": ".r",
   "mimetype": "text/x-r-source",
   "name": "R",
   "pygments_lexer": "r",
   "version": "4.1.2"
  }
 },
 "nbformat": 4,
 "nbformat_minor": 1
}
