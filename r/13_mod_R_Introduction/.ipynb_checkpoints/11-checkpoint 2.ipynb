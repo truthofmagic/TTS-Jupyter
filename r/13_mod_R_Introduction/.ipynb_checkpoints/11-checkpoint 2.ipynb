{
 "cells": [
  {
   "cell_type": "markdown",
   "metadata": {},
   "source": [
    "Data Science Fundamentals: R |\n",
    "[Table of Contents](../index.ipynb)\n",
    "- - - \n",
    "<!--NAVIGATION-->\n",
    "Module 13. [Introduction](./00.ipynb) | [Basic Syntax](./01.ipynb)  | [Data Types](./02.ipynb) | [Variables](./03.ipynb) | [Operators](./04.ipynb) | [Decision Making](./05.ipynb)  | [Functions](./06.ipynb) | [Strings](./07.ipynb) | [Vectors](./08.ipynb) | [Lists](./09.ipynb) | [Matrices](./10.ipynb) | [Arrays](./11.ipynb) | [Factors](./12.ipynb) | [Data Frames](./13.ipynb) | [Data Reshaping](./14.ipynb) | [Exercises](./15.ipynb)"
   ]
  },
  {
   "cell_type": "markdown",
   "metadata": {},
   "source": [
    "Arrays\n",
    "---"
   ]
  },
  {
   "cell_type": "markdown",
   "metadata": {},
   "source": [
    "Arrays are the R data objects which can store data in more than two dimensions. For example − If we create an array of dimension (2, 3, 4) then it creates 4 rectangular matrices each with 2 rows and 3 columns. Arrays can store only data type.\n",
    "\n",
    "An array is created using the array() function. It takes vectors as input and uses the values in the dim parameter to create an array.\n",
    "\n",
    "Example\n",
    "\n",
    "The following example creates an array of two 3x3 matrices each with 3 rows and 3 columns."
   ]
  },
  {
   "cell_type": "code",
   "execution_count": 1,
   "metadata": {},
   "outputs": [
    {
     "name": "stdout",
     "output_type": "stream",
     "text": [
      ", , 1\n",
      "\n",
      "     [,1] [,2] [,3]\n",
      "[1,]    5   10   13\n",
      "[2,]    9   11   14\n",
      "[3,]    3   12   15\n",
      "\n",
      ", , 2\n",
      "\n",
      "     [,1] [,2] [,3]\n",
      "[1,]    5   10   13\n",
      "[2,]    9   11   14\n",
      "[3,]    3   12   15\n",
      "\n"
     ]
    }
   ],
   "source": [
    "# Create two vectors of different lengths.\n",
    "vector1 <- c(5,9,3)\n",
    "vector2 <- c(10,11,12,13,14,15)\n",
    "\n",
    "# Take these vectors as input to the array.\n",
    "result <- array(c(vector1,vector2),dim = c(3,3,2))\n",
    "print(result)"
   ]
  },
  {
   "cell_type": "markdown",
   "metadata": {},
   "source": [
    "<b>Naming Columns and Rows</b>\n",
    "\n",
    "We can give names to the rows, columns and matrices in the array by using the dimnames parameter."
   ]
  },
  {
   "cell_type": "code",
   "execution_count": 2,
   "metadata": {},
   "outputs": [
    {
     "name": "stdout",
     "output_type": "stream",
     "text": [
      ", , Matrix1\n",
      "\n",
      "     ROW1 ROW2 ROW3\n",
      "COL1    5   10   13\n",
      "COL2    9   11   14\n",
      "COL3    3   12   15\n",
      "\n",
      ", , Matrix2\n",
      "\n",
      "     ROW1 ROW2 ROW3\n",
      "COL1    5   10   13\n",
      "COL2    9   11   14\n",
      "COL3    3   12   15\n",
      "\n"
     ]
    }
   ],
   "source": [
    "# Create two vectors of different lengths.\n",
    "\n",
    "vector1 <- c(5,9,3)\n",
    "vector2 <- c(10,11,12,13,14,15)\n",
    "column.names <- c(\"COL1\",\"COL2\",\"COL3\")\n",
    "row.names <- c(\"ROW1\",\"ROW2\",\"ROW3\")\n",
    "matrix.names <- c(\"Matrix1\",\"Matrix2\")\n",
    "\n",
    "# Take these vectors as input to the array.\n",
    "\n",
    "result <- array(c(vector1,vector2),dim = c(3,3,2),dimnames = list(column.names,row.names,\n",
    "   matrix.names))\n",
    "print(result)"
   ]
  },
  {
   "cell_type": "markdown",
   "metadata": {},
   "source": [
    "<b>Accessing Array Elements</b>"
   ]
  },
  {
   "cell_type": "code",
   "execution_count": 4,
   "metadata": {},
   "outputs": [
    {
     "name": "stdout",
     "output_type": "stream",
     "text": [
      "ROW1 ROW2 ROW3 \n",
      "   3   12   15 \n",
      "[1] 13\n",
      "     ROW1 ROW2 ROW3\n",
      "COL1    5   10   13\n",
      "COL2    9   11   14\n",
      "COL3    3   12   15\n"
     ]
    }
   ],
   "source": [
    "# Create two vectors of different lengths.\n",
    "\n",
    "vector1 <- c(5,9,3)\n",
    "vector2 <- c(10,11,12,13,14,15)\n",
    "column.names <- c(\"COL1\",\"COL2\",\"COL3\")\n",
    "row.names <- c(\"ROW1\",\"ROW2\",\"ROW3\")\n",
    "matrix.names <- c(\"Matrix1\",\"Matrix2\")\n",
    "\n",
    "# Take these vectors as input to the array.\n",
    "result <- array(c(vector1,vector2),dim = c(3,3,2),dimnames = list(column.names,\n",
    "   row.names, matrix.names))\n",
    "\n",
    "# Print the third row of the second matrix of the array.\n",
    "print(result[3,,2])\n",
    "\n",
    "# Print the element in the 1st row and 3rd column of the 1st matrix.\n",
    "print(result[1,3,1])\n",
    "\n",
    "# Print the 2nd Matrix.\n",
    "print(result[,,2])"
   ]
  },
  {
   "cell_type": "markdown",
   "metadata": {},
   "source": [
    "<b>Manipulating Array Elements</b>\n",
    "\n",
    "As array is made up matrices in multiple dimensions, the operations on elements of array are carried out by accessing elements of the matrices."
   ]
  },
  {
   "cell_type": "code",
   "execution_count": 5,
   "metadata": {},
   "outputs": [
    {
     "name": "stdout",
     "output_type": "stream",
     "text": [
      "     [,1] [,2] [,3]\n",
      "[1,]   10   20   26\n",
      "[2,]   18   22   28\n",
      "[3,]    6   24   30\n"
     ]
    }
   ],
   "source": [
    "# Create two vectors of different lengths.\n",
    "vector1 <- c(5,9,3)\n",
    "vector2 <- c(10,11,12,13,14,15)\n",
    "\n",
    "# Take these vectors as input to the array.\n",
    "array1 <- array(c(vector1,vector2),dim = c(3,3,2))\n",
    "\n",
    "# Create two vectors of different lengths.\n",
    "vector3 <- c(9,1,0)\n",
    "vector4 <- c(6,0,11,3,14,1,2,6,9)\n",
    "array2 <- array(c(vector1,vector2),dim = c(3,3,2))\n",
    "\n",
    "# create matrices from these arrays.\n",
    "matrix1 <- array1[,,2]\n",
    "matrix2 <- array2[,,2]\n",
    "\n",
    "# Add the matrices.\n",
    "result <- matrix1+matrix2\n",
    "print(result)"
   ]
  },
  {
   "cell_type": "markdown",
   "metadata": {},
   "source": [
    "<b>Calculations Across Array Elements</b>\n",
    "\n",
    "We can do calculations across the elements in an array using the apply() function.\n",
    "\n",
    "SYNTAX"
   ]
  },
  {
   "cell_type": "raw",
   "metadata": {},
   "source": [
    "apply(x, margin, fun)"
   ]
  },
  {
   "cell_type": "markdown",
   "metadata": {},
   "source": [
    "Following is the description of the parameters used −\n",
    "\n",
    "- x is an array.\n",
    "\n",
    "- margin is the name of the data set used.\n",
    "\n",
    "- fun is the function to be applied across the elements of the array.\n",
    "\n",
    "Example\n",
    "We use the apply() function below to calculate the sum of the elements in the rows of an array across all the matrices."
   ]
  },
  {
   "cell_type": "code",
   "execution_count": 6,
   "metadata": {},
   "outputs": [
    {
     "name": "stdout",
     "output_type": "stream",
     "text": [
      ", , 1\n",
      "\n",
      "     [,1] [,2] [,3]\n",
      "[1,]    5   10   13\n",
      "[2,]    9   11   14\n",
      "[3,]    3   12   15\n",
      "\n",
      ", , 2\n",
      "\n",
      "     [,1] [,2] [,3]\n",
      "[1,]    5   10   13\n",
      "[2,]    9   11   14\n",
      "[3,]    3   12   15\n",
      "\n",
      "[1] 56 68 60\n"
     ]
    }
   ],
   "source": [
    "# Create two vectors of different lengths.\n",
    "vector1 <- c(5,9,3)\n",
    "vector2 <- c(10,11,12,13,14,15)\n",
    "\n",
    "# Take these vectors as input to the array.\n",
    "new.array <- array(c(vector1,vector2),dim = c(3,3,2))\n",
    "print(new.array)\n",
    "\n",
    "# Use apply to calculate the sum of the rows across all the matrices.\n",
    "result <- apply(new.array, c(1), sum)\n",
    "print(result)"
   ]
  },
  {
   "cell_type": "markdown",
   "metadata": {},
   "source": [
    "- - - \n",
    "<!--NAVIGATION-->\n",
    "Module 13. [Introduction](./00.ipynb) | [Basic Syntax](./01.ipynb)  | [Data Types](./02.ipynb) | [Variables](./03.ipynb) | [Operators](./04.ipynb) | [Decision Making](./05.ipynb)  | [Functions](./06.ipynb) | [Strings](./07.ipynb) | [Vectors](./08.ipynb) | [Lists](./09.ipynb) | [Matrices](./10.ipynb) | [Arrays](./11.ipynb) | [Factors](./12.ipynb) | [Data Frames](./13.ipynb) | [Data Reshaping](./14.ipynb) | [Exercises](./15.ipynb)"
   ]
  },
  {
   "cell_type": "code",
   "execution_count": null,
   "metadata": {},
   "outputs": [],
   "source": []
  }
 ],
 "metadata": {
  "kernelspec": {
   "display_name": "R",
   "language": "R",
   "name": "ir"
  },
  "language_info": {
   "codemirror_mode": "r",
   "file_extension": ".r",
   "mimetype": "text/x-r-source",
   "name": "R",
   "pygments_lexer": "r",
   "version": "3.6.2"
  }
 },
 "nbformat": 4,
 "nbformat_minor": 1
}
