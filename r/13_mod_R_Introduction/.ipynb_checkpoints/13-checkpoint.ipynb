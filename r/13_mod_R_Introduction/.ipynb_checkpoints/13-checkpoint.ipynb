{
 "cells": [
  {
   "cell_type": "markdown",
   "metadata": {},
   "source": [
    "Data Science Fundamentals: R |\n",
    "[Table of Contents](../index.ipynb)\n",
    "- - - \n",
    "<!--NAVIGATION-->\n",
    "Module 14. [Introduction](./00.ipynb) | [Basic Syntax](./01.ipynb)  | [Data Types](./02.ipynb) | [Variables](./03.ipynb) | [Operators](./04.ipynb) | [Decision Making](./05.ipynb)  | [Functions](./06.ipynb) | [Strings](./07.ipynb) | [Vectors](./08.ipynb) | [Lists](./09.ipynb) | [Matrices](./10.ipynb) | [Arrays](./11.ipynb) | [Factors](./12.ipynb) | [Data Frames](./13.ipynb) | [Data Reshaping](./14.ipynb) | [Exercises](./15.ipynb)"
   ]
  },
  {
   "cell_type": "markdown",
   "metadata": {},
   "source": [
    "Data Frames\n",
    "---"
   ]
  },
  {
   "cell_type": "markdown",
   "metadata": {},
   "source": [
    "A data frame is a table or a two-dimensional array-like structure in which each column contains values of one variable and each row contains one set of values from each column.\n",
    "\n",
    "Following are the characteristics of a data frame.\n",
    "\n",
    "- The column names should be non-empty.\n",
    "- The row names should be unique.\n",
    "- The data stored in a data frame can be of numeric, factor or character type.\n",
    "- Each column should contain same number of data items."
   ]
  },
  {
   "cell_type": "markdown",
   "metadata": {},
   "source": [
    "<b>Create A Data Frame</b>"
   ]
  },
  {
   "cell_type": "code",
   "execution_count": 1,
   "metadata": {},
   "outputs": [
    {
     "name": "stdout",
     "output_type": "stream",
     "text": [
      "  emp_id emp_name salary start_date\n",
      "1      1     Rick 623.30 2012-01-01\n",
      "2      2      Dan 515.20 2013-09-23\n",
      "3      3 Michelle 611.00 2014-11-15\n",
      "4      4     Ryan 729.00 2014-05-11\n",
      "5      5     Gary 843.25 2015-03-27\n"
     ]
    }
   ],
   "source": [
    "# Create the data frame.\n",
    "emp.data <- data.frame(\n",
    "\n",
    "   emp_id = c (1:5), \n",
    "\n",
    "   emp_name = c(\"Rick\",\"Dan\",\"Michelle\",\"Ryan\",\"Gary\"),\n",
    "\n",
    "   salary = c(623.3,515.2,611.0,729.0,843.25), \n",
    "\n",
    "   start_date = as.Date(c(\"2012-01-01\", \"2013-09-23\", \"2014-11-15\", \"2014-05-11\",\n",
    "      \"2015-03-27\")),\n",
    "   stringsAsFactors = FALSE\n",
    ")\n",
    "\n",
    "# Print the data frame.\t\t\t\n",
    "print(emp.data) "
   ]
  },
  {
   "cell_type": "markdown",
   "metadata": {},
   "source": [
    "<b>Get the Structure of the Data Frame</b>\n",
    "\n",
    "The structure of the data frame can be seen by using str() function."
   ]
  },
  {
   "cell_type": "code",
   "execution_count": 2,
   "metadata": {},
   "outputs": [
    {
     "name": "stdout",
     "output_type": "stream",
     "text": [
      "'data.frame':\t5 obs. of  4 variables:\n",
      " $ emp_id    : int  1 2 3 4 5\n",
      " $ emp_name  : chr  \"Rick\" \"Dan\" \"Michelle\" \"Ryan\" ...\n",
      " $ salary    : num  623 515 611 729 843\n",
      " $ start_date: Date, format: \"2012-01-01\" \"2013-09-23\" ...\n"
     ]
    }
   ],
   "source": [
    "# Create the data frame.\n",
    "emp.data <- data.frame(\n",
    "   emp_id = c (1:5), \n",
    "  \n",
    "   emp_name = c(\"Rick\",\"Dan\",\"Michelle\",\"Ryan\",\"Gary\"),\n",
    "\n",
    "   salary = c(623.3,515.2,611.0,729.0,843.25), \n",
    "   \n",
    "   start_date = as.Date(c(\"2012-01-01\", \"2013-09-23\", \"2014-11-15\", \"2014-05-11\",\n",
    "      \"2015-03-27\")),\n",
    "   stringsAsFactors = FALSE\n",
    ")\n",
    "\n",
    "# Get the structure of the data frame.\n",
    "str(emp.data)"
   ]
  },
  {
   "cell_type": "markdown",
   "metadata": {},
   "source": [
    "<b>Summary of Data in Data Frame</b>\n",
    "\n",
    "The statistical summary and nature of the data can be obtained by applying summary() function."
   ]
  },
  {
   "cell_type": "code",
   "execution_count": 3,
   "metadata": {},
   "outputs": [
    {
     "name": "stdout",
     "output_type": "stream",
     "text": [
      "     emp_id    emp_name             salary        start_date        \n",
      " Min.   :1   Length:5           Min.   :515.2   Min.   :2012-01-01  \n",
      " 1st Qu.:2   Class :character   1st Qu.:611.0   1st Qu.:2013-09-23  \n",
      " Median :3   Mode  :character   Median :623.3   Median :2014-05-11  \n",
      " Mean   :3                      Mean   :664.4   Mean   :2014-01-14  \n",
      " 3rd Qu.:4                      3rd Qu.:729.0   3rd Qu.:2014-11-15  \n",
      " Max.   :5                      Max.   :843.2   Max.   :2015-03-27  \n"
     ]
    }
   ],
   "source": [
    "# Create the data frame.\n",
    "emp.data <- data.frame(\n",
    "   emp_id = c (1:5), \n",
    "   \n",
    "   emp_name = c(\"Rick\",\"Dan\",\"Michelle\",\"Ryan\",\"Gary\"),\n",
    "\n",
    "   salary = c(623.3,515.2,611.0,729.0,843.25), \n",
    "   \n",
    "   start_date = as.Date(c(\"2012-01-01\", \"2013-09-23\", \"2014-11-15\", \"2014-05-11\",\n",
    "      \"2015-03-27\")),\n",
    "   stringsAsFactors = FALSE\n",
    ")\n",
    "\n",
    "# Print the summary.\n",
    "\n",
    "print(summary(emp.data))"
   ]
  },
  {
   "cell_type": "markdown",
   "metadata": {},
   "source": [
    "<b>Extract Data from Data Frame</b>\n",
    "\n",
    "Extract specific column from a data frame using column name."
   ]
  },
  {
   "cell_type": "code",
   "execution_count": 4,
   "metadata": {},
   "outputs": [
    {
     "name": "stdout",
     "output_type": "stream",
     "text": [
      "  emp.data.emp_name emp.data.salary\n",
      "1              Rick          623.30\n",
      "2               Dan          515.20\n",
      "3          Michelle          611.00\n",
      "4              Ryan          729.00\n",
      "5              Gary          843.25\n"
     ]
    }
   ],
   "source": [
    "# Create the data frame.\n",
    "\n",
    "emp.data <- data.frame(\n",
    "   emp_id = c (1:5),\n",
    "   emp_name = c(\"Rick\",\"Dan\",\"Michelle\",\"Ryan\",\"Gary\"),\n",
    "   salary = c(623.3,515.2,611.0,729.0,843.25),\n",
    "   start_date = as.Date(c(\"2012-01-01\",\"2013-09-23\",\"2014-11-15\",\"2014-05-11\",\n",
    "      \"2015-03-27\")),\n",
    "   stringsAsFactors = FALSE\n",
    ")\n",
    "\n",
    "# Extract Specific columns.\n",
    "result <- data.frame(emp.data$emp_name,emp.data$salary)\n",
    "print(result)"
   ]
  },
  {
   "cell_type": "markdown",
   "metadata": {},
   "source": [
    "Extract the first two rows and then all columns"
   ]
  },
  {
   "cell_type": "code",
   "execution_count": 5,
   "metadata": {},
   "outputs": [
    {
     "name": "stdout",
     "output_type": "stream",
     "text": [
      "  emp_id emp_name salary start_date\n",
      "1      1     Rick  623.3 2012-01-01\n",
      "2      2      Dan  515.2 2013-09-23\n"
     ]
    }
   ],
   "source": [
    "# Create the data frame.\n",
    "\n",
    "emp.data <- data.frame(\n",
    "   emp_id = c (1:5),\n",
    "   emp_name = c(\"Rick\",\"Dan\",\"Michelle\",\"Ryan\",\"Gary\"),\n",
    "   salary = c(623.3,515.2,611.0,729.0,843.25),\n",
    "   start_date = as.Date(c(\"2012-01-01\", \"2013-09-23\", \"2014-11-15\", \"2014-05-11\",\n",
    "      \"2015-03-27\")),\n",
    "   stringsAsFactors = FALSE\n",
    ")\n",
    "\n",
    "# Extract first two rows.\n",
    "\n",
    "result <- emp.data[1:2,]\n",
    "print(result)"
   ]
  },
  {
   "cell_type": "markdown",
   "metadata": {},
   "source": [
    "Extract 3rd and 5th row with 2nd and 4th column"
   ]
  },
  {
   "cell_type": "code",
   "execution_count": 6,
   "metadata": {},
   "outputs": [
    {
     "name": "stdout",
     "output_type": "stream",
     "text": [
      "  emp_name start_date\n",
      "3 Michelle 2014-11-15\n",
      "5     Gary 2015-03-27\n"
     ]
    }
   ],
   "source": [
    "# Create the data frame.\n",
    "\n",
    "emp.data <- data.frame(\n",
    "   emp_id = c (1:5), \n",
    "   emp_name = c(\"Rick\",\"Dan\",\"Michelle\",\"Ryan\",\"Gary\"),\n",
    "   salary = c(623.3,515.2,611.0,729.0,843.25), \n",
    "   start_date = as.Date(c(\"2012-01-01\", \"2013-09-23\", \"2014-11-15\", \"2014-05-11\",\n",
    "     \"2015-03-27\")),\n",
    "   stringsAsFactors = FALSE\n",
    ")\n",
    "\n",
    "# Extract 3rd and 5th row with 2nd and 4th column.\n",
    "\n",
    "result <- emp.data[c(3,5),c(2,4)]\n",
    "print(result)"
   ]
  },
  {
   "cell_type": "markdown",
   "metadata": {},
   "source": [
    "<b>Expand Data Frame</b>\n",
    "\n",
    "A data frame can be expanded by adding columns and rows.\n",
    "\n",
    "<b>Add Column</b>\n",
    "Just add the column vector using a new column name."
   ]
  },
  {
   "cell_type": "code",
   "execution_count": 7,
   "metadata": {},
   "outputs": [
    {
     "name": "stdout",
     "output_type": "stream",
     "text": [
      "  emp_id emp_name salary start_date       dept\n",
      "1      1     Rick 623.30 2012-01-01         IT\n",
      "2      2      Dan 515.20 2013-09-23 Operations\n",
      "3      3 Michelle 611.00 2014-11-15         IT\n",
      "4      4     Ryan 729.00 2014-05-11         HR\n",
      "5      5     Gary 843.25 2015-03-27    Finance\n"
     ]
    }
   ],
   "source": [
    "# Create the data frame.\n",
    "\n",
    "emp.data <- data.frame(\n",
    "   emp_id = c (1:5), \n",
    "   emp_name = c(\"Rick\",\"Dan\",\"Michelle\",\"Ryan\",\"Gary\"),\n",
    "   salary = c(623.3,515.2,611.0,729.0,843.25), \n",
    "   start_date = as.Date(c(\"2012-01-01\", \"2013-09-23\", \"2014-11-15\", \"2014-05-11\",\n",
    "      \"2015-03-27\")),\n",
    "   stringsAsFactors = FALSE\n",
    ")\n",
    "\n",
    "\n",
    "# Add the \"dept\" coulmn.\n",
    "emp.data$dept <- c(\"IT\",\"Operations\",\"IT\",\"HR\",\"Finance\")\n",
    "v <- emp.data\n",
    "print(v)"
   ]
  },
  {
   "cell_type": "markdown",
   "metadata": {},
   "source": [
    "<b>Add Row</b>\n",
    "To add more rows permanently to an existing data frame, we need to bring in the new rows in the same structure as the existing data frame and use the rbind() function.\n",
    "\n",
    "In the example below we create a data frame with new rows and merge it with the existing data frame to create the final data frame."
   ]
  },
  {
   "cell_type": "code",
   "execution_count": 8,
   "metadata": {
    "scrolled": true
   },
   "outputs": [
    {
     "name": "stdout",
     "output_type": "stream",
     "text": [
      "  emp_id emp_name salary start_date       dept\n",
      "1      1     Rick 623.30 2012-01-01         IT\n",
      "2      2      Dan 515.20 2013-09-23 Operations\n",
      "3      3 Michelle 611.00 2014-11-15         IT\n",
      "4      4     Ryan 729.00 2014-05-11         HR\n",
      "5      5     Gary 843.25 2015-03-27    Finance\n",
      "6      6    Rasmi 578.00 2013-05-21         IT\n",
      "7      7   Pranab 722.50 2013-07-30 Operations\n",
      "8      8    Tusar 632.80 2014-06-17   Fianance\n"
     ]
    }
   ],
   "source": [
    "# Create the first data frame.\n",
    "\n",
    "emp.data <- data.frame(\n",
    "   emp_id = c (1:5), \n",
    "   emp_name = c(\"Rick\",\"Dan\",\"Michelle\",\"Ryan\",\"Gary\"),\n",
    "   salary = c(623.3,515.2,611.0,729.0,843.25), \n",
    "   start_date = as.Date(c(\"2012-01-01\", \"2013-09-23\", \"2014-11-15\", \"2014-05-11\",\n",
    "      \"2015-03-27\")),\n",
    "   dept = c(\"IT\",\"Operations\",\"IT\",\"HR\",\"Finance\"),\n",
    "   stringsAsFactors = FALSE\n",
    ")\n",
    "\n",
    "# Create the second data frame\n",
    "\n",
    "emp.newdata <- \tdata.frame(\n",
    "   emp_id = c (6:8), \n",
    "   emp_name = c(\"Rasmi\",\"Pranab\",\"Tusar\"),\n",
    "   salary = c(578.0,722.5,632.8), \n",
    "   start_date = as.Date(c(\"2013-05-21\",\"2013-07-30\",\"2014-06-17\")),\n",
    "   dept = c(\"IT\",\"Operations\",\"Fianance\"),\n",
    "   stringsAsFactors = FALSE\n",
    "\n",
    ")\n",
    "\n",
    "# Bind the two data frames.\n",
    "emp.finaldata <- rbind(emp.data,emp.newdata)\n",
    "print(emp.finaldata)\n"
   ]
  },
  {
   "cell_type": "markdown",
   "metadata": {},
   "source": [
    "- - - \n",
    "<!--NAVIGATION-->\n",
    "Module 14. [Introduction](./00.ipynb) | [Basic Syntax](./01.ipynb)  | [Data Types](./02.ipynb) | [Variables](./03.ipynb) | [Operators](./04.ipynb) | [Decision Making](./05.ipynb)  | [Functions](./06.ipynb) | [Strings](./07.ipynb) | [Vectors](./08.ipynb) | [Lists](./09.ipynb) | [Matrices](./10.ipynb) | [Arrays](./11.ipynb) | [Factors](./12.ipynb) | [Data Frames](./13.ipynb) | [Data Reshaping](./14.ipynb) | [Exercises](./15.ipynb)"
   ]
  },
  {
   "cell_type": "code",
   "execution_count": null,
   "metadata": {},
   "outputs": [],
   "source": []
  }
 ],
 "metadata": {
  "kernelspec": {
   "display_name": "R",
   "language": "R",
   "name": "ir"
  },
  "language_info": {
   "codemirror_mode": "r",
   "file_extension": ".r",
   "mimetype": "text/x-r-source",
   "name": "R",
   "pygments_lexer": "r",
   "version": "3.6.1"
  }
 },
 "nbformat": 4,
 "nbformat_minor": 1
}
