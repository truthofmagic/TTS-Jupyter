{
 "cells": [
  {
   "cell_type": "markdown",
   "metadata": {},
   "source": [
    "Data Science Fundamentals: R |\n",
    "[Table of Contents](../index.ipynb)\n",
    "- - - \n",
    "<!--NAVIGATION-->\n",
    "Module 14. [Introduction](./00.ipynb) | [Basic Syntax](./01.ipynb)  | [Data Types](./02.ipynb) | [Variables](./03.ipynb) | [Operators](./04.ipynb) | [Decision Making](./05.ipynb)  | [Functions](./06.ipynb) | [Strings](./07.ipynb) | [Vectors](./08.ipynb) | [Lists](./09.ipynb) | [Matrices](./10.ipynb) | [Arrays](./11.ipynb) | [Factors](./12.ipynb) | [Data Frames](./13.ipynb) | [Data Reshaping](./14.ipynb) | [Exercises](./15.ipynb)"
   ]
  },
  {
   "cell_type": "markdown",
   "metadata": {},
   "source": [
    "Lists\n",
    "---"
   ]
  },
  {
   "cell_type": "markdown",
   "metadata": {},
   "source": [
    "Lists are the R objects which contain elements of different types like − numbers, strings, vectors and another list inside it. A list can also contain a matrix or a function as its elements. List is created using list() function.\n",
    "\n",
    "<b>Creating a List</b>\n",
    "\n",
    "Following is an example to create a list containing strings, numbers, vectors and a logical values"
   ]
  },
  {
   "cell_type": "code",
   "execution_count": 1,
   "metadata": {},
   "outputs": [
    {
     "name": "stdout",
     "output_type": "stream",
     "text": [
      "[[1]]\n",
      "[1] \"Red\"\n",
      "\n",
      "[[2]]\n",
      "[1] \"Green\"\n",
      "\n",
      "[[3]]\n",
      "[1] 21 32 11\n",
      "\n",
      "[[4]]\n",
      "[1] TRUE\n",
      "\n",
      "[[5]]\n",
      "[1] 51.23\n",
      "\n",
      "[[6]]\n",
      "[1] 119.1\n",
      "\n"
     ]
    }
   ],
   "source": [
    "# Create a list containing strings, numbers, vectors and a logical values.\n",
    "list_data <- list(\"Red\", \"Green\", c(21,32,11), TRUE, 51.23, 119.1)\n",
    "print(list_data)"
   ]
  },
  {
   "cell_type": "markdown",
   "metadata": {},
   "source": [
    "<b>Naming List Elements</b>\n",
    "\n",
    "The list elements can be given names and they can be accessed using these names."
   ]
  },
  {
   "cell_type": "code",
   "execution_count": 2,
   "metadata": {},
   "outputs": [
    {
     "name": "stdout",
     "output_type": "stream",
     "text": [
      "$`1st Quarter`\n",
      "[1] \"Jan\" \"Feb\" \"Mar\"\n",
      "\n",
      "$A_Matrix\n",
      "     [,1] [,2] [,3]\n",
      "[1,]    3    5   -2\n",
      "[2,]    9    1    8\n",
      "\n",
      "$`A Inner list`\n",
      "$`A Inner list`[[1]]\n",
      "[1] \"green\"\n",
      "\n",
      "$`A Inner list`[[2]]\n",
      "[1] 12.3\n",
      "\n",
      "\n"
     ]
    }
   ],
   "source": [
    "# Create a list containing a vector, a matrix and a list.\n",
    "list_data <- list(c(\"Jan\",\"Feb\",\"Mar\"), matrix(c(3,9,5,1,-2,8), nrow = 2),\n",
    "   list(\"green\",12.3))\n",
    "\n",
    "# Give names to the elements in the list.\n",
    "names(list_data) <- c(\"1st Quarter\", \"A_Matrix\", \"A Inner list\")\n",
    "\n",
    "# Show the list.\n",
    "print(list_data)"
   ]
  },
  {
   "cell_type": "markdown",
   "metadata": {},
   "source": [
    "<b>Accessing List Elements</b>\n",
    "\n",
    "Elements of the list can be accessed by the index of the element in the list. In case of named lists it can also be accessed using the names.\n",
    "\n",
    "We continue to use the list in the above example −"
   ]
  },
  {
   "cell_type": "code",
   "execution_count": 3,
   "metadata": {},
   "outputs": [
    {
     "name": "stdout",
     "output_type": "stream",
     "text": [
      "$`1st Quarter`\n",
      "[1] \"Jan\" \"Feb\" \"Mar\"\n",
      "\n",
      "$`A Inner list`\n",
      "$`A Inner list`[[1]]\n",
      "[1] \"green\"\n",
      "\n",
      "$`A Inner list`[[2]]\n",
      "[1] 12.3\n",
      "\n",
      "\n",
      "     [,1] [,2] [,3]\n",
      "[1,]    3    5   -2\n",
      "[2,]    9    1    8\n"
     ]
    }
   ],
   "source": [
    "# Create a list containing a vector, a matrix and a list.\n",
    "list_data <- list(c(\"Jan\",\"Feb\",\"Mar\"), matrix(c(3,9,5,1,-2,8), nrow = 2),\n",
    "   list(\"green\",12.3))\n",
    "\n",
    "# Give names to the elements in the list.\n",
    "names(list_data) <- c(\"1st Quarter\", \"A_Matrix\", \"A Inner list\")\n",
    "\n",
    "# Access the first element of the list.\n",
    "print(list_data[1])\n",
    "\n",
    "# Access the thrid element. As it is also a list, all its elements will be printed.\n",
    "print(list_data[3])\n",
    "\n",
    "# Access the list element using the name of the element.\n",
    "print(list_data$A_Matrix)"
   ]
  },
  {
   "cell_type": "markdown",
   "metadata": {},
   "source": [
    "<b>Manipulating List Elements</b>\n",
    "\n",
    "We can add, delete and update list elements as shown below. We can add and delete elements only at the end of a list. But we can update any element."
   ]
  },
  {
   "cell_type": "code",
   "execution_count": 4,
   "metadata": {},
   "outputs": [
    {
     "name": "stdout",
     "output_type": "stream",
     "text": [
      "[[1]]\n",
      "[1] \"New element\"\n",
      "\n",
      "$<NA>\n",
      "NULL\n",
      "\n",
      "$`A Inner list`\n",
      "[1] \"updated element\"\n",
      "\n"
     ]
    }
   ],
   "source": [
    "# Create a list containing a vector, a matrix and a list.\n",
    "list_data <- list(c(\"Jan\",\"Feb\",\"Mar\"), matrix(c(3,9,5,1,-2,8), nrow = 2),\n",
    "   list(\"green\",12.3))\n",
    "\n",
    "# Give names to the elements in the list.\n",
    "names(list_data) <- c(\"1st Quarter\", \"A_Matrix\", \"A Inner list\")\n",
    "\n",
    "# Add element at the end of the list.\n",
    "list_data[4] <- \"New element\"\n",
    "print(list_data[4])\n",
    "\n",
    "# Remove the last element.\n",
    "list_data[4] <- NULL\n",
    "\n",
    "# Print the 4th Element.\n",
    "print(list_data[4])\n",
    "\n",
    "# Update the 3rd Element.\n",
    "list_data[3] <- \"updated element\"\n",
    "print(list_data[3])"
   ]
  },
  {
   "cell_type": "markdown",
   "metadata": {},
   "source": [
    "<b>Merging Lists</b>\n",
    "\n",
    "You can merge many lists into one list by placing all the lists inside one list() function."
   ]
  },
  {
   "cell_type": "code",
   "execution_count": 5,
   "metadata": {},
   "outputs": [
    {
     "name": "stdout",
     "output_type": "stream",
     "text": [
      "[[1]]\n",
      "[1] 1\n",
      "\n",
      "[[2]]\n",
      "[1] 2\n",
      "\n",
      "[[3]]\n",
      "[1] 3\n",
      "\n",
      "[[4]]\n",
      "[1] \"Sun\"\n",
      "\n",
      "[[5]]\n",
      "[1] \"Mon\"\n",
      "\n",
      "[[6]]\n",
      "[1] \"Tue\"\n",
      "\n"
     ]
    }
   ],
   "source": [
    "# Create two lists.\n",
    "list1 <- list(1,2,3)\n",
    "list2 <- list(\"Sun\",\"Mon\",\"Tue\")\n",
    "\n",
    "# Merge the two lists.\n",
    "merged.list <- c(list1,list2)\n",
    "\n",
    "# Print the merged list.\n",
    "print(merged.list)"
   ]
  },
  {
   "cell_type": "markdown",
   "metadata": {},
   "source": [
    "<b>Converting List to Vector</b>\n",
    "\n",
    "A list can be converted to a vector so that the elements of the vector can be used for further manipulation. All the arithmetic operations on vectors can be applied after the list is converted into vectors. To do this conversion, we use the unlist() function. It takes the list as input and produces a vector."
   ]
  },
  {
   "cell_type": "code",
   "execution_count": 6,
   "metadata": {},
   "outputs": [
    {
     "name": "stdout",
     "output_type": "stream",
     "text": [
      "[[1]]\n",
      "[1] 1 2 3 4 5\n",
      "\n",
      "[[1]]\n",
      "[1] 10 11 12 13 14\n",
      "\n",
      "[1] 1 2 3 4 5\n",
      "[1] 10 11 12 13 14\n",
      "[1] 11 13 15 17 19\n"
     ]
    }
   ],
   "source": [
    "# Create lists.\n",
    "list1 <- list(1:5)\n",
    "print(list1)\n",
    "\n",
    "list2 <-list(10:14)\n",
    "print(list2)\n",
    "\n",
    "# Convert the lists to vectors.\n",
    "v1 <- unlist(list1)\n",
    "v2 <- unlist(list2)\n",
    "\n",
    "print(v1)\n",
    "print(v2)\n",
    "\n",
    "# Now add the vectors\n",
    "result <- v1+v2\n",
    "print(result)"
   ]
  },
  {
   "cell_type": "markdown",
   "metadata": {
    "collapsed": true
   },
   "source": [
    "- - - \n",
    "<!--NAVIGATION-->\n",
    "Module 14. [Introduction](./00.ipynb) | [Basic Syntax](./01.ipynb)  | [Data Types](./02.ipynb) | [Variables](./03.ipynb) | [Operators](./04.ipynb) | [Decision Making](./05.ipynb)  | [Functions](./06.ipynb) | [Strings](./07.ipynb) | [Vectors](./08.ipynb) | [Lists](./09.ipynb) | [Matrices](./10.ipynb) | [Arrays](./11.ipynb) | [Factors](./12.ipynb) | [Data Frames](./13.ipynb) | [Data Reshaping](./14.ipynb) | [Exercises](./15.ipynb)"
   ]
  },
  {
   "cell_type": "code",
   "execution_count": null,
   "metadata": {},
   "outputs": [],
   "source": []
  }
 ],
 "metadata": {
  "kernelspec": {
   "display_name": "R",
   "language": "R",
   "name": "ir"
  },
  "language_info": {
   "codemirror_mode": "r",
   "file_extension": ".r",
   "mimetype": "text/x-r-source",
   "name": "R",
   "pygments_lexer": "r",
   "version": "3.6.1"
  }
 },
 "nbformat": 4,
 "nbformat_minor": 1
}
