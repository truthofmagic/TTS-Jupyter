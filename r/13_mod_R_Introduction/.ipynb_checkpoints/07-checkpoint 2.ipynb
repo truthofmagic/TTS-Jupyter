{
 "cells": [
  {
   "cell_type": "markdown",
   "metadata": {},
   "source": [
    "Data Science Fundamentals: R |\n",
    "[Table of Contents](../index.ipynb)\n",
    "- - - \n",
    "<!--NAVIGATION-->\n",
    "Module 13. [Introduction](./00.ipynb) | [Basic Syntax](./01.ipynb)  | [Data Types](./02.ipynb) | [Variables](./03.ipynb) | [Operators](./04.ipynb) | [Decision Making](./05.ipynb)  | [Functions](./06.ipynb) | [Strings](./07.ipynb) | [Vectors](./08.ipynb) | [Lists](./09.ipynb) | [Matrices](./10.ipynb) | [Arrays](./11.ipynb) | [Factors](./12.ipynb) | [Data Frames](./13.ipynb) | [Data Reshaping](./14.ipynb) | [Exercises](./15.ipynb)"
   ]
  },
  {
   "cell_type": "markdown",
   "metadata": {},
   "source": [
    "Strings\n",
    "---"
   ]
  },
  {
   "cell_type": "markdown",
   "metadata": {},
   "source": [
    "Any value written within a pair of single quote or double quotes in R is treated as a string. Internally R stores every string within double quotes, even when you create them with single quote.\n",
    "\n",
    "<b>Rules Applied in String Construction</b>\n",
    "\n",
    "- The quotes at the beginning and end of a string should be both double quotes or both single quote. They can not be mixed.\n",
    "\n",
    "- Double quotes can be inserted into a string starting and ending with single quote.\n",
    "\n",
    "- Single quote can be inserted into a string starting and ending with double quotes.\n",
    "\n",
    "- Double quotes can not be inserted into a string starting and ending with double quotes.\n",
    "\n",
    "- Single quote can not be inserted into a string starting and ending with single quote."
   ]
  },
  {
   "cell_type": "markdown",
   "metadata": {},
   "source": [
    "<b>Examples of Valid Strings</b>\n",
    "\n",
    "Following examples clarify the rules about creating a string in R."
   ]
  },
  {
   "cell_type": "code",
   "execution_count": 1,
   "metadata": {},
   "outputs": [
    {
     "name": "stdout",
     "output_type": "stream",
     "text": [
      "[1] \"Start and end with single quote\"\n",
      "[1] \"Start and end with double quotes\"\n",
      "[1] \"single quote ' in between double quotes\"\n",
      "[1] \"Double quotes \\\" in between single quote\"\n"
     ]
    }
   ],
   "source": [
    "a <- 'Start and end with single quote'\n",
    "print(a)\n",
    "\n",
    "b <- \"Start and end with double quotes\"\n",
    "print(b)\n",
    "\n",
    "c <- \"single quote ' in between double quotes\"\n",
    "print(c)\n",
    "\n",
    "d <- 'Double quotes \" in between single quote'\n",
    "print(d)"
   ]
  },
  {
   "cell_type": "markdown",
   "metadata": {},
   "source": [
    "<b>Examples of Invalid Strings</b>"
   ]
  },
  {
   "cell_type": "code",
   "execution_count": 2,
   "metadata": {},
   "outputs": [
    {
     "ename": "ERROR",
     "evalue": "Error in parse(text = x, srcfile = src): <text>:4:7: unexpected symbol\n3: \n4: f <- 'Single\n         ^\n",
     "output_type": "error",
     "traceback": [
      "Error in parse(text = x, srcfile = src): <text>:4:7: unexpected symbol\n3: \n4: f <- 'Single\n         ^\nTraceback:\n"
     ]
    }
   ],
   "source": [
    "e <- 'Mixed quotes\" \n",
    "print(e)\n",
    "\n",
    "f <- 'Single quote ' inside single quote'\n",
    "print(f)\n",
    "\n",
    "g <- \"Double quotes \" inside double quotes\"\n",
    "print(g)"
   ]
  },
  {
   "cell_type": "markdown",
   "metadata": {},
   "source": [
    "<b>String Manipulation</b>\n",
    "\n",
    "<b>Concatentating Strings - Paste () Function</b>\n",
    "\n",
    "Many strings in R are combined using the paste() function. It can take any number of arguments to be combined together.\n",
    "\n",
    "SYNTAX\n",
    "The basic syntax for paste function is −"
   ]
  },
  {
   "cell_type": "raw",
   "metadata": {},
   "source": [
    "paste(..., sep = \" \", collapse = NULL)"
   ]
  },
  {
   "cell_type": "markdown",
   "metadata": {},
   "source": [
    "Following is the description of the parameters used −\n",
    "\n",
    "- ... represents any number of arguments to be combined.\n",
    "\n",
    "- sep represents any separator between the arguments. It is optional.\n",
    "\n",
    "- collapse is used to eliminate the space in between two strings. But not the space within two words of one string."
   ]
  },
  {
   "cell_type": "code",
   "execution_count": 5,
   "metadata": {},
   "outputs": [
    {
     "name": "stdout",
     "output_type": "stream",
     "text": [
      "[1] \"Hello How are you? \"\n",
      "[1] \"Hello-How-are you? \"\n",
      "[1] \"HelloHoware you? \"\n"
     ]
    }
   ],
   "source": [
    "a <- \"Hello\"\n",
    "b <- 'How'\n",
    "c <- \"are you? \"\n",
    "\n",
    "print(paste(a,b,c))\n",
    "\n",
    "print(paste(a,b,c, sep = \"-\"))\n",
    "\n",
    "print(paste(a,b,c, sep = \"\", collapse = \"\"))"
   ]
  },
  {
   "cell_type": "markdown",
   "metadata": {},
   "source": [
    "<b>Formatting Numbers & Strings - FORMAT() Function</b>\n",
    "\n",
    "Numbers and strings can be formatted to a specific style using format() function.\n",
    "\n",
    "SYNTAX\n",
    "The basic syntax for format function is −"
   ]
  },
  {
   "cell_type": "raw",
   "metadata": {},
   "source": [
    "format(x, digits, nsmall, scientific, width, justify = c(\"left\", \"right\", \"centre\", \"none\")) "
   ]
  },
  {
   "cell_type": "markdown",
   "metadata": {},
   "source": [
    "Following is the description of the parameters used −\n",
    "\n",
    "- x is the vector input.\n",
    "\n",
    "- digits is the total number of digits displayed.\n",
    "\n",
    "- nsmall is the minimum number of digits to the right of the decimal point.\n",
    "\n",
    "- scientific is set to TRUE to display scientific notation.\n",
    "\n",
    "- width indicates the minimum width to be displayed by padding blanks in the beginning.\n",
    "\n",
    "- justify is the display of the string to left, right or center.\n",
    "\n",
    "See example -"
   ]
  },
  {
   "cell_type": "code",
   "execution_count": 6,
   "metadata": {},
   "outputs": [
    {
     "name": "stdout",
     "output_type": "stream",
     "text": [
      "[1] \"23.1234568\"\n",
      "[1] \"6.000000e+00\" \"1.314521e+01\"\n",
      "[1] \"23.47000\"\n",
      "[1] \"6\"\n",
      "[1] \"  13.7\"\n",
      "[1] \"Hello   \"\n",
      "[1] \" Hello  \"\n"
     ]
    }
   ],
   "source": [
    "# Total number of digits displayed. Last digit rounded off.\n",
    "result <- format(23.123456789, digits = 9)\n",
    "print(result)\n",
    "\n",
    "# Display numbers in scientific notation.\n",
    "result <- format(c(6, 13.14521), scientific = TRUE)\n",
    "print(result)\n",
    "\n",
    "# The minimum number of digits to the right of the decimal point.\n",
    "result <- format(23.47, nsmall = 5)\n",
    "print(result)\n",
    "\n",
    "# Format treats everything as a string.\n",
    "result <- format(6)\n",
    "print(result)\n",
    "\n",
    "# Numbers are padded with blank in the beginning for width.\n",
    "result <- format(13.7, width = 6)\n",
    "print(result)\n",
    "\n",
    "# Left justify strings.\n",
    "result <- format(\"Hello\", width = 8, justify = \"l\")\n",
    "print(result)\n",
    "\n",
    "# Justfy string with center.\n",
    "result <- format(\"Hello\", width = 8, justify = \"c\")\n",
    "print(result)"
   ]
  },
  {
   "cell_type": "markdown",
   "metadata": {},
   "source": [
    "<b>Counting Number of Characters In A String - NCHAR() Function</b>\n",
    "\n",
    "This function counts the number of characters including spaces in a string.\n",
    "\n",
    "SYNTAX\n",
    "The basic syntax for nchar() function is −"
   ]
  },
  {
   "cell_type": "raw",
   "metadata": {},
   "source": [
    "nchar(x)"
   ]
  },
  {
   "cell_type": "markdown",
   "metadata": {},
   "source": [
    "Following is the description of the parameters used −\n",
    "\n",
    "- x is the vector input.\n",
    "\n",
    "See example - "
   ]
  },
  {
   "cell_type": "code",
   "execution_count": 7,
   "metadata": {},
   "outputs": [
    {
     "name": "stdout",
     "output_type": "stream",
     "text": [
      "[1] 30\n"
     ]
    }
   ],
   "source": [
    "result <- nchar(\"Count the number of characters\")\n",
    "print(result)"
   ]
  },
  {
   "cell_type": "markdown",
   "metadata": {},
   "source": [
    "<b>Changing the Case - TOUPPER() & TOLOWER() Function</b>\n",
    "\n",
    "These functions change the case of characters of a string.\n",
    "\n",
    "SYNTAX\n",
    "The basic syntax for toupper() & tolower() function is −"
   ]
  },
  {
   "cell_type": "raw",
   "metadata": {},
   "source": [
    "toupper(x)\n",
    "\n",
    "tolower(x)"
   ]
  },
  {
   "cell_type": "markdown",
   "metadata": {},
   "source": [
    "Following is the description of the parameters used −\n",
    "\n",
    "- x is the vector input.\n",
    "\n",
    "See example "
   ]
  },
  {
   "cell_type": "code",
   "execution_count": 8,
   "metadata": {},
   "outputs": [
    {
     "name": "stdout",
     "output_type": "stream",
     "text": [
      "[1] \"CHANGING TO UPPER\"\n",
      "[1] \"changing to lower\"\n"
     ]
    }
   ],
   "source": [
    "# Changing to Upper case.\n",
    "result <- toupper(\"Changing To Upper\")\n",
    "print(result)\n",
    "\n",
    "# Changing to lower case.\n",
    "result <- tolower(\"Changing To Lower\")\n",
    "print(result)"
   ]
  },
  {
   "cell_type": "markdown",
   "metadata": {},
   "source": [
    "<b>Extracting Parts of a String - SUBSTRING() Function</b>\n",
    "\n",
    "This function extracts parts of a String.\n",
    "\n",
    "SYNTAX\n",
    "The basic syntax for substring() function is −"
   ]
  },
  {
   "cell_type": "raw",
   "metadata": {},
   "source": [
    "substring(x,first,last)"
   ]
  },
  {
   "cell_type": "markdown",
   "metadata": {},
   "source": [
    "Following is the description of the parameters used −\n",
    "\n",
    "- x is the character vector input.\n",
    "\n",
    "- first is the position of the first character to be extracted.\n",
    "\n",
    "- last is the position of the last character to be extracted.\n",
    "\n",
    "See example - "
   ]
  },
  {
   "cell_type": "code",
   "execution_count": 9,
   "metadata": {},
   "outputs": [
    {
     "name": "stdout",
     "output_type": "stream",
     "text": [
      "[1] \"act\"\n"
     ]
    }
   ],
   "source": [
    "# Extract characters from 5th to 7th position.\n",
    "result <- substring(\"Extract\", 5, 7)\n",
    "print(result)"
   ]
  },
  {
   "cell_type": "markdown",
   "metadata": {},
   "source": [
    "- - -\n",
    "<!--NAVIGATION-->\n",
    "Module 13. [Introduction](./00.ipynb) | [Basic Syntax](./01.ipynb)  | [Data Types](./02.ipynb) | [Variables](./03.ipynb) | [Operators](./04.ipynb) | [Decision Making](./05.ipynb)  | [Functions](./06.ipynb) | [Strings](./07.ipynb) | [Vectors](./08.ipynb) | [Lists](./09.ipynb) | [Matrices](./10.ipynb) | [Arrays](./11.ipynb) | [Factors](./12.ipynb) | [Data Frames](./13.ipynb) | [Data Reshaping](./14.ipynb) | [Exercises](./15.ipynb)"
   ]
  },
  {
   "cell_type": "code",
   "execution_count": null,
   "metadata": {},
   "outputs": [],
   "source": []
  }
 ],
 "metadata": {
  "kernelspec": {
   "display_name": "R",
   "language": "R",
   "name": "ir"
  },
  "language_info": {
   "codemirror_mode": "r",
   "file_extension": ".r",
   "mimetype": "text/x-r-source",
   "name": "R",
   "pygments_lexer": "r",
   "version": "3.6.2"
  }
 },
 "nbformat": 4,
 "nbformat_minor": 1
}
