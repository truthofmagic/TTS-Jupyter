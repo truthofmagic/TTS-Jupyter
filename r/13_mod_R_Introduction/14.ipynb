{
 "cells": [
  {
   "cell_type": "markdown",
   "metadata": {},
   "source": [
    "Data Science Fundamentals: R |\n",
    "[Table of Contents](../index.ipynb)\n",
    "- - - \n",
    "<!--NAVIGATION-->\n",
    "Module 14. [Introduction](./00.ipynb) | [Basic Syntax](./01.ipynb)  | [Data Types](./02.ipynb) | [Variables](./03.ipynb) | [Operators](./04.ipynb) | [Decision Making](./05.ipynb)  | [Functions](./06.ipynb) | [Strings](./07.ipynb) | [Vectors](./08.ipynb) | [Lists](./09.ipynb) | [Matrices](./10.ipynb) | [Arrays](./11.ipynb) | [Factors](./12.ipynb) | [Data Frames](./13.ipynb) | [Data Reshaping](./14.ipynb) | [Exercises](./15.ipynb)"
   ]
  },
  {
   "cell_type": "markdown",
   "metadata": {},
   "source": [
    "Data Reshaping\n",
    "---"
   ]
  },
  {
   "cell_type": "markdown",
   "metadata": {},
   "source": [
    "\n",
    "Data Reshaping in R is about changing the way data is organized into rows and columns. Most of the time data processing in R is done by taking the input data as a data frame. It is easy to extract data from the rows and columns of a data frame but there are situations when we need the data frame in a format that is different from format in which we received it. R has many functions to split, merge and change the rows to columns and vice-versa in a data frame.\n",
    "\n",
    "<b>Joining Columns and Rows in a Data Frame</b>\n",
    "\n",
    "We can join multiple vectors to create a data frame using the cbind()function. Also we can merge two data frames using rbind() function."
   ]
  },
  {
   "cell_type": "code",
   "execution_count": 1,
   "metadata": {},
   "outputs": [
    {
     "name": "stdout",
     "output_type": "stream",
     "text": [
      "# # # # The First data frame\n",
      "     city       state zipcode\n",
      "[1,] \"Tampa\"    \"FL\"  \"33602\"\n",
      "[2,] \"Seattle\"  \"WA\"  \"98104\"\n",
      "[3,] \"Hartford\" \"CT\"  \"6161\" \n",
      "[4,] \"Denver\"   \"CO\"  \"80294\"\n",
      "# # # The Second data frame\n",
      "       city state zipcode\n",
      "1     Lowry    CO   80230\n",
      "2 Charlotte    FL   33949\n",
      "# # # The combined data frame\n",
      "       city state zipcode\n",
      "1     Tampa    FL   33602\n",
      "2   Seattle    WA   98104\n",
      "3  Hartford    CT    6161\n",
      "4    Denver    CO   80294\n",
      "5     Lowry    CO   80230\n",
      "6 Charlotte    FL   33949\n"
     ]
    }
   ],
   "source": [
    "# Create vector objects.\n",
    "\n",
    "city <- c(\"Tampa\",\"Seattle\",\"Hartford\",\"Denver\")\n",
    "state <- c(\"FL\",\"WA\",\"CT\",\"CO\")\n",
    "zipcode <- c(33602,98104,06161,80294)\n",
    "\n",
    "# Combine above three vectors into one data frame.\n",
    "addresses <- cbind(city,state,zipcode)\n",
    "\n",
    "# Print a header.\n",
    "cat(\"# # # # The First data frame\\n\") \n",
    "\n",
    "# Print the data frame.\n",
    "print(addresses)\n",
    "\n",
    "# Create another data frame with similar columns\n",
    "\n",
    "new.address <- data.frame(\n",
    "   city = c(\"Lowry\",\"Charlotte\"),\n",
    "   state = c(\"CO\",\"FL\"),\n",
    "   zipcode = c(\"80230\",\"33949\"),\n",
    "   stringsAsFactors = FALSE\n",
    ")\n",
    "\n",
    "# Print a header.\n",
    "cat(\"# # # The Second data frame\\n\") \n",
    "\n",
    "# Print the data frame.\n",
    "print(new.address)\n",
    "\n",
    "# Combine rows form both the data frames.\n",
    "all.addresses <- rbind(addresses,new.address)\n",
    "\n",
    "# Print a header.\n",
    "cat(\"# # # The combined data frame\\n\") \n",
    "\n",
    "# Print the result.\n",
    "print(all.addresses)"
   ]
  },
  {
   "cell_type": "markdown",
   "metadata": {},
   "source": [
    "<b>Merging Data Frames</b>\n",
    "\n",
    "We can merge two data frames by using the merge() function. The data frames must have same column names on which the merging happens.\n",
    "\n",
    "In the example below, we consider the data sets about Diabetes in Pima Indian Women available in the library names \"MASS\". we merge the two data sets based on the values of blood pressure(\"bp\") and body mass index(\"bmi\"). On choosing these two columns for merging, the records where values of these two variables match in both data sets are combined together to form a single data frame."
   ]
  },
  {
   "cell_type": "code",
   "execution_count": 2,
   "metadata": {},
   "outputs": [
    {
     "name": "stderr",
     "output_type": "stream",
     "text": [
      "Warning message:\n",
      "\"package 'MASS' was built under R version 3.6.3\""
     ]
    },
    {
     "name": "stdout",
     "output_type": "stream",
     "text": [
      "   bp  bmi npreg.x glu.x skin.x ped.x age.x type.x npreg.y glu.y skin.y ped.y\n",
      "1  60 33.8       1   117     23 0.466    27     No       2   125     20 0.088\n",
      "2  64 29.7       2    75     24 0.370    33     No       2   100     23 0.368\n",
      "3  64 31.2       5   189     33 0.583    29    Yes       3   158     13 0.295\n",
      "4  64 33.2       4   117     27 0.230    24     No       1    96     27 0.289\n",
      "5  66 38.1       3   115     39 0.150    28     No       1   114     36 0.289\n",
      "6  68 38.5       2   100     25 0.324    26     No       7   129     49 0.439\n",
      "7  70 27.4       1   116     28 0.204    21     No       0   124     20 0.254\n",
      "8  70 33.1       4    91     32 0.446    22     No       9   123     44 0.374\n",
      "9  70 35.4       9   124     33 0.282    34     No       6   134     23 0.542\n",
      "10 72 25.6       1   157     21 0.123    24     No       4    99     17 0.294\n",
      "11 72 37.7       5    95     33 0.370    27     No       6   103     32 0.324\n",
      "12 74 25.9       9   134     33 0.460    81     No       8   126     38 0.162\n",
      "13 74 25.9       1    95     21 0.673    36     No       8   126     38 0.162\n",
      "14 78 27.6       5    88     30 0.258    37     No       6   125     31 0.565\n",
      "15 78 27.6      10   122     31 0.512    45     No       6   125     31 0.565\n",
      "16 78 39.4       2   112     50 0.175    24     No       4   112     40 0.236\n",
      "17 88 34.5       1   117     24 0.403    40    Yes       4   127     11 0.598\n",
      "   age.y type.y\n",
      "1     31     No\n",
      "2     21     No\n",
      "3     24     No\n",
      "4     21     No\n",
      "5     21     No\n",
      "6     43    Yes\n",
      "7     36    Yes\n",
      "8     40     No\n",
      "9     29    Yes\n",
      "10    28     No\n",
      "11    55     No\n",
      "12    39     No\n",
      "13    39     No\n",
      "14    49    Yes\n",
      "15    49    Yes\n",
      "16    38     No\n",
      "17    28     No\n"
     ]
    },
    {
     "data": {
      "text/html": [
       "17"
      ],
      "text/latex": [
       "17"
      ],
      "text/markdown": [
       "17"
      ],
      "text/plain": [
       "[1] 17"
      ]
     },
     "metadata": {},
     "output_type": "display_data"
    }
   ],
   "source": [
    "library(MASS)\n",
    "\n",
    "merged.Pima <- merge(x = Pima.te, y = Pima.tr,\n",
    "   by.x = c(\"bp\", \"bmi\"),\n",
    "   by.y = c(\"bp\", \"bmi\")\n",
    ")\n",
    "\n",
    "print(merged.Pima)\n",
    "nrow(merged.Pima)\n"
   ]
  },
  {
   "cell_type": "markdown",
   "metadata": {},
   "source": [
    "<b>Melting and Casting</b>\n",
    "\n",
    "One of the most interesting aspects of R programming is about changing the shape of the data in multiple steps to get a desired shape. The functions used to do this are called melt() and cast().\n",
    "\n",
    "We consider the dataset called ships present in the library called \"MASS\"."
   ]
  },
  {
   "cell_type": "code",
   "execution_count": 2,
   "metadata": {},
   "outputs": [
    {
     "name": "stdout",
     "output_type": "stream",
     "text": [
      "   type year period service incidents\n",
      "1     A   60     60     127         0\n",
      "2     A   60     75      63         0\n",
      "3     A   65     60    1095         3\n",
      "4     A   65     75    1095         4\n",
      "5     A   70     60    1512         6\n",
      "6     A   70     75    3353        18\n",
      "7     A   75     60       0         0\n",
      "8     A   75     75    2244        11\n",
      "9     B   60     60   44882        39\n",
      "10    B   60     75   17176        29\n",
      "11    B   65     60   28609        58\n",
      "12    B   65     75   20370        53\n",
      "13    B   70     60    7064        12\n",
      "14    B   70     75   13099        44\n",
      "15    B   75     60       0         0\n",
      "16    B   75     75    7117        18\n",
      "17    C   60     60    1179         1\n",
      "18    C   60     75     552         1\n",
      "19    C   65     60     781         0\n",
      "20    C   65     75     676         1\n",
      "21    C   70     60     783         6\n",
      "22    C   70     75    1948         2\n",
      "23    C   75     60       0         0\n",
      "24    C   75     75     274         1\n",
      "25    D   60     60     251         0\n",
      "26    D   60     75     105         0\n",
      "27    D   65     60     288         0\n",
      "28    D   65     75     192         0\n",
      "29    D   70     60     349         2\n",
      "30    D   70     75    1208        11\n",
      "31    D   75     60       0         0\n",
      "32    D   75     75    2051         4\n",
      "33    E   60     60      45         0\n",
      "34    E   60     75       0         0\n",
      "35    E   65     60     789         7\n",
      "36    E   65     75     437         7\n",
      "37    E   70     60    1157         5\n",
      "38    E   70     75    2161        12\n",
      "39    E   75     60       0         0\n",
      "40    E   75     75     542         1\n"
     ]
    }
   ],
   "source": [
    "library(MASS)\n",
    "print(ships)"
   ]
  },
  {
   "cell_type": "markdown",
   "metadata": {},
   "source": [
    "### [Reshape]( http://had.co.nz/reshape.1.html) Package\n",
    "\n",
    "<b>Melt the Data</b>\n",
    "\n",
    "Now we melt the data to organize it, converting all columns other than type and year into multiple rows.  Basically, you \"melt\" data so that each row is a unique id-variable combination. "
   ]
  },
  {
   "cell_type": "code",
   "execution_count": 3,
   "metadata": {},
   "outputs": [
    {
     "name": "stdout",
     "output_type": "stream",
     "text": [
      "\n",
      "The downloaded binary packages are in\n",
      "\t/var/folders/39/rw094bh97s1fm7lfmg_nwcxm0000gn/T//RtmpuqAGW4/downloaded_packages\n"
     ]
    }
   ],
   "source": [
    "install.packages(\"reshape\")"
   ]
  },
  {
   "cell_type": "code",
   "execution_count": 5,
   "metadata": {},
   "outputs": [],
   "source": [
    "# Create vector objects.\n",
    "\n",
    "id <- c(1,1,2,2)\n",
    "time <- c(1,2,1,2)\n",
    "x1 <- c(5,3,6,2)\n",
    "x2 <- c(6,5,1,4)\n",
    "\n",
    "# Combine above three vectors into one data frame.\n",
    "mydata <- cbind(id,time,x1,x2)"
   ]
  },
  {
   "cell_type": "code",
   "execution_count": 6,
   "metadata": {},
   "outputs": [
    {
     "data": {
      "text/html": [
       "<table>\n",
       "<thead><tr><th scope=col>id</th><th scope=col>time</th><th scope=col>x1</th><th scope=col>x2</th></tr></thead>\n",
       "<tbody>\n",
       "\t<tr><td>1</td><td>1</td><td>5</td><td>6</td></tr>\n",
       "\t<tr><td>1</td><td>2</td><td>3</td><td>5</td></tr>\n",
       "\t<tr><td>2</td><td>1</td><td>6</td><td>1</td></tr>\n",
       "\t<tr><td>2</td><td>2</td><td>2</td><td>4</td></tr>\n",
       "</tbody>\n",
       "</table>\n"
      ],
      "text/latex": [
       "\\begin{tabular}{llll}\n",
       " id & time & x1 & x2\\\\\n",
       "\\hline\n",
       "\t 1 & 1 & 5 & 6\\\\\n",
       "\t 1 & 2 & 3 & 5\\\\\n",
       "\t 2 & 1 & 6 & 1\\\\\n",
       "\t 2 & 2 & 2 & 4\\\\\n",
       "\\end{tabular}\n"
      ],
      "text/markdown": [
       "\n",
       "| id | time | x1 | x2 |\n",
       "|---|---|---|---|\n",
       "| 1 | 1 | 5 | 6 |\n",
       "| 1 | 2 | 3 | 5 |\n",
       "| 2 | 1 | 6 | 1 |\n",
       "| 2 | 2 | 2 | 4 |\n",
       "\n"
      ],
      "text/plain": [
       "     id time x1 x2\n",
       "[1,] 1  1    5  6 \n",
       "[2,] 1  2    3  5 \n",
       "[3,] 2  1    6  1 \n",
       "[4,] 2  2    2  4 "
      ]
     },
     "metadata": {},
     "output_type": "display_data"
    }
   ],
   "source": [
    "mydata"
   ]
  },
  {
   "cell_type": "code",
   "execution_count": 7,
   "metadata": {},
   "outputs": [
    {
     "name": "stderr",
     "output_type": "stream",
     "text": [
      "Warning message:\n",
      "\"package 'reshape' was built under R version 3.6.3\""
     ]
    }
   ],
   "source": [
    "# example of melt function\n",
    "library(reshape)\n",
    "mdata <- melt(mydata, id=c(\"id\",\"time\"))"
   ]
  },
  {
   "cell_type": "code",
   "execution_count": 8,
   "metadata": {},
   "outputs": [
    {
     "data": {
      "text/html": [
       "<table>\n",
       "<thead><tr><th scope=col>X1</th><th scope=col>X2</th><th scope=col>value</th></tr></thead>\n",
       "<tbody>\n",
       "\t<tr><td>1   </td><td>id  </td><td>1   </td></tr>\n",
       "\t<tr><td>2   </td><td>id  </td><td>1   </td></tr>\n",
       "\t<tr><td>3   </td><td>id  </td><td>2   </td></tr>\n",
       "\t<tr><td>4   </td><td>id  </td><td>2   </td></tr>\n",
       "\t<tr><td>1   </td><td>time</td><td>1   </td></tr>\n",
       "\t<tr><td>2   </td><td>time</td><td>2   </td></tr>\n",
       "\t<tr><td>3   </td><td>time</td><td>1   </td></tr>\n",
       "\t<tr><td>4   </td><td>time</td><td>2   </td></tr>\n",
       "\t<tr><td>1   </td><td>x1  </td><td>5   </td></tr>\n",
       "\t<tr><td>2   </td><td>x1  </td><td>3   </td></tr>\n",
       "\t<tr><td>3   </td><td>x1  </td><td>6   </td></tr>\n",
       "\t<tr><td>4   </td><td>x1  </td><td>2   </td></tr>\n",
       "\t<tr><td>1   </td><td>x2  </td><td>6   </td></tr>\n",
       "\t<tr><td>2   </td><td>x2  </td><td>5   </td></tr>\n",
       "\t<tr><td>3   </td><td>x2  </td><td>1   </td></tr>\n",
       "\t<tr><td>4   </td><td>x2  </td><td>4   </td></tr>\n",
       "</tbody>\n",
       "</table>\n"
      ],
      "text/latex": [
       "\\begin{tabular}{r|lll}\n",
       " X1 & X2 & value\\\\\n",
       "\\hline\n",
       "\t 1    & id   & 1   \\\\\n",
       "\t 2    & id   & 1   \\\\\n",
       "\t 3    & id   & 2   \\\\\n",
       "\t 4    & id   & 2   \\\\\n",
       "\t 1    & time & 1   \\\\\n",
       "\t 2    & time & 2   \\\\\n",
       "\t 3    & time & 1   \\\\\n",
       "\t 4    & time & 2   \\\\\n",
       "\t 1    & x1   & 5   \\\\\n",
       "\t 2    & x1   & 3   \\\\\n",
       "\t 3    & x1   & 6   \\\\\n",
       "\t 4    & x1   & 2   \\\\\n",
       "\t 1    & x2   & 6   \\\\\n",
       "\t 2    & x2   & 5   \\\\\n",
       "\t 3    & x2   & 1   \\\\\n",
       "\t 4    & x2   & 4   \\\\\n",
       "\\end{tabular}\n"
      ],
      "text/markdown": [
       "\n",
       "| X1 | X2 | value |\n",
       "|---|---|---|\n",
       "| 1    | id   | 1    |\n",
       "| 2    | id   | 1    |\n",
       "| 3    | id   | 2    |\n",
       "| 4    | id   | 2    |\n",
       "| 1    | time | 1    |\n",
       "| 2    | time | 2    |\n",
       "| 3    | time | 1    |\n",
       "| 4    | time | 2    |\n",
       "| 1    | x1   | 5    |\n",
       "| 2    | x1   | 3    |\n",
       "| 3    | x1   | 6    |\n",
       "| 4    | x1   | 2    |\n",
       "| 1    | x2   | 6    |\n",
       "| 2    | x2   | 5    |\n",
       "| 3    | x2   | 1    |\n",
       "| 4    | x2   | 4    |\n",
       "\n"
      ],
      "text/plain": [
       "   X1 X2   value\n",
       "1  1  id   1    \n",
       "2  2  id   1    \n",
       "3  3  id   2    \n",
       "4  4  id   2    \n",
       "5  1  time 1    \n",
       "6  2  time 2    \n",
       "7  3  time 1    \n",
       "8  4  time 2    \n",
       "9  1  x1   5    \n",
       "10 2  x1   3    \n",
       "11 3  x1   6    \n",
       "12 4  x1   2    \n",
       "13 1  x2   6    \n",
       "14 2  x2   5    \n",
       "15 3  x2   1    \n",
       "16 4  x2   4    "
      ]
     },
     "metadata": {},
     "output_type": "display_data"
    }
   ],
   "source": [
    "mdata"
   ]
  },
  {
   "cell_type": "markdown",
   "metadata": {},
   "source": [
    "![caption](files/r_package.png)"
   ]
  },
  {
   "cell_type": "markdown",
   "metadata": {},
   "source": [
    "<b>Cast the Melted Data</b>\n",
    "\n",
    "We can cast the molten data into a new form where the aggregate of each type of ship for each year is created. It is done using the cast() function. Then you \"cast\" the melted data into any shape you would like. "
   ]
  },
  {
   "cell_type": "code",
   "execution_count": 9,
   "metadata": {},
   "outputs": [
    {
     "ename": "ERROR",
     "evalue": "Error: Casting formula contains variables not found in molten data: 1122\n",
     "output_type": "error",
     "traceback": [
      "Error: Casting formula contains variables not found in molten data: 1122\nTraceback:\n",
      "1. cast(mdata, id, mean)",
      "2. cast_parse_formula(formula, names(data))",
      "3. check_formula(formula, varnames)",
      "4. stop(\"Casting formula contains variables not found in molten data: \", \n .     paste(unknown, collapse = \", \"), call. = FALSE)"
     ]
    }
   ],
   "source": [
    "# cast the melted data\n",
    "# cast(data, formula, function)\n",
    "subjmeans <- cast(mdata, id, mean)\n",
    "timemeans <- cast(mdata, time, mean)"
   ]
  },
  {
   "cell_type": "code",
   "execution_count": null,
   "metadata": {},
   "outputs": [],
   "source": [
    "# Create vector objects.\n",
    "\n",
    "id <- c(1,1,2,2,1,1,2,2)\n",
    "time <- c(1,2,1,2,1,2)\n",
    "variable <- c(x1,x1,x1,x1,x2,x2,x2,x2)\n",
    "value <- c(5,3,6,2,6,5,1,4)\n",
    "\n",
    "# Combine above three vectors into one data frame.\n",
    "newdata <- cbind(id,time,variable,value)"
   ]
  },
  {
   "cell_type": "code",
   "execution_count": null,
   "metadata": {},
   "outputs": [],
   "source": [
    "newdata"
   ]
  },
  {
   "cell_type": "markdown",
   "metadata": {},
   "source": [
    "- - - \n",
    "<!--NAVIGATION-->\n",
    "Module 14. [Introduction](./00.ipynb) | [Basic Syntax](./01.ipynb)  | [Data Types](./02.ipynb) | [Variables](./03.ipynb) | [Operators](./04.ipynb) | [Decision Making](./05.ipynb)  | [Functions](./06.ipynb) | [Strings](./07.ipynb) | [Vectors](./08.ipynb) | [Lists](./09.ipynb) | [Matrices](./10.ipynb) | [Arrays](./11.ipynb) | [Factors](./12.ipynb) | [Data Frames](./13.ipynb) | [Data Reshaping](./14.ipynb) | [Exercises](./15.ipynb)"
   ]
  },
  {
   "cell_type": "code",
   "execution_count": null,
   "metadata": {},
   "outputs": [],
   "source": []
  }
 ],
 "metadata": {
  "kernelspec": {
   "display_name": "R",
   "language": "R",
   "name": "ir"
  },
  "language_info": {
   "codemirror_mode": "r",
   "file_extension": ".r",
   "mimetype": "text/x-r-source",
   "name": "R",
   "pygments_lexer": "r",
   "version": "4.1.2"
  }
 },
 "nbformat": 4,
 "nbformat_minor": 1
}
