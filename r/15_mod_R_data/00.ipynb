{
 "cells": [
  {
   "cell_type": "markdown",
   "metadata": {},
   "source": [
    "Data Science Fundamentals: R |\n",
    "[Table of Contents](../index.ipynb)\n",
    "- - - \n",
    "<!--NAVIGATION-->\n",
    "Module 15. [Date Time Values](./00.ipynb) | [readr](./01.ipynb) | [dplyr](./02.ipynb) | [Exercises](./03.ipynb)"
   ]
  },
  {
   "cell_type": "markdown",
   "metadata": {},
   "source": [
    "# Data Transformation with R"
   ]
  },
  {
   "cell_type": "markdown",
   "metadata": {},
   "source": [
    "## [Date Time Values](https://stats.idre.ucla.edu/r/faq/how-does-r-handle-date-values/)"
   ]
  },
  {
   "cell_type": "markdown",
   "metadata": {},
   "source": [
    "![images](images/slides1.png)"
   ]
  },
  {
   "cell_type": "code",
   "execution_count": 6,
   "metadata": {},
   "outputs": [
    {
     "name": "stdout",
     "output_type": "stream",
     "text": [
      "\n",
      "The downloaded binary packages are in\n",
      "\t/var/folders/39/rw094bh97s1fm7lfmg_nwcxm0000gn/T//RtmpiiOH55/downloaded_packages\n"
     ]
    }
   ],
   "source": [
    "install.packages(\"lubridate\")"
   ]
  },
  {
   "cell_type": "code",
   "execution_count": 2,
   "metadata": {},
   "outputs": [
    {
     "name": "stderr",
     "output_type": "stream",
     "text": [
      "\n",
      "Attaching package: ‘lubridate’\n",
      "\n",
      "\n",
      "The following objects are masked from ‘package:base’:\n",
      "\n",
      "    date, intersect, setdiff, union\n",
      "\n",
      "\n"
     ]
    }
   ],
   "source": [
    "library(lubridate)"
   ]
  },
  {
   "cell_type": "code",
   "execution_count": 3,
   "metadata": {},
   "outputs": [
    {
     "data": {
      "text/html": [
       "<time datetime=\"2020-06-18\">2020-06-18</time>"
      ],
      "text/latex": [
       "2020-06-18"
      ],
      "text/markdown": [
       "2020-06-18"
      ],
      "text/plain": [
       "[1] \"2020-06-18\""
      ]
     },
     "metadata": {},
     "output_type": "display_data"
    }
   ],
   "source": [
    "today()"
   ]
  },
  {
   "cell_type": "code",
   "execution_count": 18,
   "metadata": {},
   "outputs": [
    {
     "data": {
      "text/plain": [
       "[1] \"2021-10-04 23:58:56 CDT\""
      ]
     },
     "metadata": {},
     "output_type": "display_data"
    }
   ],
   "source": [
    "now(tzone = \"\")"
   ]
  },
  {
   "cell_type": "code",
   "execution_count": 19,
   "metadata": {},
   "outputs": [
    {
     "data": {
      "text/plain": [
       "[1] \"2021-10-04 23:58:58 CDT\""
      ]
     },
     "metadata": {},
     "output_type": "display_data"
    }
   ],
   "source": [
    "now()"
   ]
  },
  {
   "cell_type": "code",
   "execution_count": 20,
   "metadata": {},
   "outputs": [
    {
     "data": {
      "text/plain": [
       "[1] \"2021-10-05 04:59:10 GMT\""
      ]
     },
     "metadata": {},
     "output_type": "display_data"
    },
    {
     "data": {
      "text/plain": [
       "[1] \"2021-10-04 23:59:10 CDT\""
      ]
     },
     "metadata": {},
     "output_type": "display_data"
    },
    {
     "data": {
      "text/html": [
       "TRUE"
      ],
      "text/latex": [
       "TRUE"
      ],
      "text/markdown": [
       "TRUE"
      ],
      "text/plain": [
       "[1] TRUE"
      ]
     },
     "metadata": {},
     "output_type": "display_data"
    },
    {
     "data": {
      "text/html": [
       "FALSE"
      ],
      "text/latex": [
       "FALSE"
      ],
      "text/markdown": [
       "FALSE"
      ],
      "text/plain": [
       "[1] FALSE"
      ]
     },
     "metadata": {},
     "output_type": "display_data"
    },
    {
     "data": {
      "text/html": [
       "FALSE"
      ],
      "text/latex": [
       "FALSE"
      ],
      "text/markdown": [
       "FALSE"
      ],
      "text/plain": [
       "[1] FALSE"
      ]
     },
     "metadata": {},
     "output_type": "display_data"
    },
    {
     "data": {
      "text/html": [
       "<time datetime=\"2021-10-04\">2021-10-04</time>"
      ],
      "text/latex": [
       "2021-10-04"
      ],
      "text/markdown": [
       "2021-10-04"
      ],
      "text/plain": [
       "[1] \"2021-10-04\""
      ]
     },
     "metadata": {},
     "output_type": "display_data"
    },
    {
     "data": {
      "text/html": [
       "<time datetime=\"2021-10-05\">2021-10-05</time>"
      ],
      "text/latex": [
       "2021-10-05"
      ],
      "text/markdown": [
       "2021-10-05"
      ],
      "text/plain": [
       "[1] \"2021-10-05\""
      ]
     },
     "metadata": {},
     "output_type": "display_data"
    },
    {
     "data": {
      "text/html": [
       "FALSE"
      ],
      "text/latex": [
       "FALSE"
      ],
      "text/markdown": [
       "FALSE"
      ],
      "text/plain": [
       "[1] FALSE"
      ]
     },
     "metadata": {},
     "output_type": "display_data"
    },
    {
     "data": {
      "text/html": [
       "TRUE"
      ],
      "text/latex": [
       "TRUE"
      ],
      "text/markdown": [
       "TRUE"
      ],
      "text/plain": [
       "[1] TRUE"
      ]
     },
     "metadata": {},
     "output_type": "display_data"
    }
   ],
   "source": [
    "now(\"GMT\")\n",
    "now(\"\")\n",
    "now() == now() # would be TRUE if computer processed both at the same instant\n",
    "now() < now() # TRUE\n",
    "now() > now() # FALSE\n",
    "today()\n",
    "today(\"GMT\")\n",
    "today() == today(\"GMT\") # not always true\n",
    "today() < as.Date(\"2999-01-01\") # TRUE  (so far)\n",
    "# }"
   ]
  },
  {
   "cell_type": "markdown",
   "metadata": {},
   "source": [
    "### Creating Dates From Strings"
   ]
  },
  {
   "cell_type": "code",
   "execution_count": 10,
   "metadata": {},
   "outputs": [
    {
     "data": {
      "text/html": [
       "<time datetime=\"2017-01-31\">2017-01-31</time>"
      ],
      "text/latex": [
       "2017-01-31"
      ],
      "text/markdown": [
       "2017-01-31"
      ],
      "text/plain": [
       "[1] \"2017-01-31\""
      ]
     },
     "metadata": {},
     "output_type": "display_data"
    }
   ],
   "source": [
    "ymd(\"2017-01-31\")"
   ]
  },
  {
   "cell_type": "code",
   "execution_count": 11,
   "metadata": {},
   "outputs": [
    {
     "data": {
      "text/html": [
       "<time datetime=\"2017-01-31\">2017-01-31</time>"
      ],
      "text/latex": [
       "2017-01-31"
      ],
      "text/markdown": [
       "2017-01-31"
      ],
      "text/plain": [
       "[1] \"2017-01-31\""
      ]
     },
     "metadata": {},
     "output_type": "display_data"
    }
   ],
   "source": [
    "ymd(20170131)"
   ]
  },
  {
   "cell_type": "code",
   "execution_count": 12,
   "metadata": {},
   "outputs": [
    {
     "data": {
      "text/plain": [
       "[1] \"2017-01-31 20:11:59 UTC\""
      ]
     },
     "metadata": {},
     "output_type": "display_data"
    }
   ],
   "source": [
    "ymd_hms(\"2017-01-31 20:11:59\")"
   ]
  },
  {
   "cell_type": "code",
   "execution_count": 13,
   "metadata": {},
   "outputs": [
    {
     "data": {
      "text/html": [
       "<time datetime=\"2017-01-31\">2017-01-31</time>"
      ],
      "text/latex": [
       "2017-01-31"
      ],
      "text/markdown": [
       "2017-01-31"
      ],
      "text/plain": [
       "[1] \"2017-01-31\""
      ]
     },
     "metadata": {},
     "output_type": "display_data"
    }
   ],
   "source": [
    "mdy(\"January 31st, 2017\")"
   ]
  },
  {
   "cell_type": "code",
   "execution_count": 14,
   "metadata": {},
   "outputs": [
    {
     "data": {
      "text/html": [
       "<time datetime=\"2017-01-31\">2017-01-31</time>"
      ],
      "text/latex": [
       "2017-01-31"
      ],
      "text/markdown": [
       "2017-01-31"
      ],
      "text/plain": [
       "[1] \"2017-01-31\""
      ]
     },
     "metadata": {},
     "output_type": "display_data"
    }
   ],
   "source": [
    "dmy(\"31-Jan-2017\")"
   ]
  },
  {
   "cell_type": "code",
   "execution_count": 15,
   "metadata": {},
   "outputs": [
    {
     "data": {
      "text/plain": [
       "[1] \"2017-01-31 08:01:00 UTC\""
      ]
     },
     "metadata": {},
     "output_type": "display_data"
    }
   ],
   "source": [
    "mdy_hm(\"01/31/2017 08:01\")"
   ]
  },
  {
   "cell_type": "markdown",
   "metadata": {},
   "source": [
    "![images](images/slides2.png)"
   ]
  },
  {
   "cell_type": "code",
   "execution_count": 26,
   "metadata": {},
   "outputs": [
    {
     "name": "stdout",
     "output_type": "stream",
     "text": [
      "\n",
      "The downloaded binary packages are in\n",
      "\t/var/folders/39/rw094bh97s1fm7lfmg_nwcxm0000gn/T//RtmpiiOH55/downloaded_packages\n"
     ]
    }
   ],
   "source": [
    "install.packages('nycflights13')"
   ]
  },
  {
   "cell_type": "code",
   "execution_count": 27,
   "metadata": {},
   "outputs": [
    {
     "name": "stdout",
     "output_type": "stream",
     "text": [
      "\n",
      "The downloaded binary packages are in\n",
      "\t/var/folders/39/rw094bh97s1fm7lfmg_nwcxm0000gn/T//RtmpiiOH55/downloaded_packages\n"
     ]
    }
   ],
   "source": [
    "install.packages('dplyr')"
   ]
  },
  {
   "cell_type": "code",
   "execution_count": 28,
   "metadata": {},
   "outputs": [
    {
     "name": "stdout",
     "output_type": "stream",
     "text": [
      "\n",
      "The downloaded binary packages are in\n",
      "\t/var/folders/39/rw094bh97s1fm7lfmg_nwcxm0000gn/T//RtmpiiOH55/downloaded_packages\n"
     ]
    }
   ],
   "source": [
    "install.packages('knitr')"
   ]
  },
  {
   "cell_type": "code",
   "execution_count": 9,
   "metadata": {},
   "outputs": [
    {
     "name": "stderr",
     "output_type": "stream",
     "text": [
      "Warning message:\n",
      "\"package 'dplyr' was built under R version 3.6.3\"\n",
      "Attaching package: 'dplyr'\n",
      "\n",
      "The following objects are masked from 'package:stats':\n",
      "\n",
      "    filter, lag\n",
      "\n",
      "The following objects are masked from 'package:base':\n",
      "\n",
      "    intersect, setdiff, setequal, union\n",
      "\n",
      "Warning message:\n",
      "\"package 'nycflights13' was built under R version 3.6.3\""
     ]
    }
   ],
   "source": [
    "library(dplyr)\n",
    "library(nycflights13)\n",
    "library(knitr)"
   ]
  },
  {
   "cell_type": "code",
   "execution_count": 10,
   "metadata": {},
   "outputs": [
    {
     "data": {
      "text/html": [
       "<table>\n",
       "<thead><tr><th scope=col>year</th><th scope=col>month</th><th scope=col>day</th><th scope=col>dep_time</th><th scope=col>sched_dep_time</th><th scope=col>dep_delay</th><th scope=col>arr_time</th><th scope=col>sched_arr_time</th><th scope=col>arr_delay</th><th scope=col>carrier</th><th scope=col>flight</th><th scope=col>tailnum</th><th scope=col>origin</th><th scope=col>dest</th><th scope=col>air_time</th><th scope=col>distance</th><th scope=col>hour</th><th scope=col>minute</th><th scope=col>time_hour</th></tr></thead>\n",
       "<tbody>\n",
       "\t<tr><td>2013               </td><td>1                  </td><td>1                  </td><td>517                </td><td>515                </td><td> 2                 </td><td> 830               </td><td> 819               </td><td> 11                </td><td>UA                 </td><td>1545               </td><td>N14228             </td><td>EWR                </td><td>IAH                </td><td>227                </td><td>1400               </td><td>5                  </td><td>15                 </td><td>2013-01-01 05:00:00</td></tr>\n",
       "\t<tr><td>2013               </td><td>1                  </td><td>1                  </td><td>533                </td><td>529                </td><td> 4                 </td><td> 850               </td><td> 830               </td><td> 20                </td><td>UA                 </td><td>1714               </td><td>N24211             </td><td>LGA                </td><td>IAH                </td><td>227                </td><td>1416               </td><td>5                  </td><td>29                 </td><td>2013-01-01 05:00:00</td></tr>\n",
       "\t<tr><td>2013               </td><td>1                  </td><td>1                  </td><td>542                </td><td>540                </td><td> 2                 </td><td> 923               </td><td> 850               </td><td> 33                </td><td>AA                 </td><td>1141               </td><td>N619AA             </td><td>JFK                </td><td>MIA                </td><td>160                </td><td>1089               </td><td>5                  </td><td>40                 </td><td>2013-01-01 05:00:00</td></tr>\n",
       "\t<tr><td>2013               </td><td>1                  </td><td>1                  </td><td>544                </td><td>545                </td><td>-1                 </td><td>1004               </td><td>1022               </td><td>-18                </td><td>B6                 </td><td> 725               </td><td>N804JB             </td><td>JFK                </td><td>BQN                </td><td>183                </td><td>1576               </td><td>5                  </td><td>45                 </td><td>2013-01-01 05:00:00</td></tr>\n",
       "\t<tr><td>2013               </td><td>1                  </td><td>1                  </td><td>554                </td><td>600                </td><td>-6                 </td><td> 812               </td><td> 837               </td><td>-25                </td><td>DL                 </td><td> 461               </td><td>N668DN             </td><td>LGA                </td><td>ATL                </td><td>116                </td><td> 762               </td><td>6                  </td><td> 0                 </td><td>2013-01-01 06:00:00</td></tr>\n",
       "\t<tr><td>2013               </td><td>1                  </td><td>1                  </td><td>554                </td><td>558                </td><td>-4                 </td><td> 740               </td><td> 728               </td><td> 12                </td><td>UA                 </td><td>1696               </td><td>N39463             </td><td>EWR                </td><td>ORD                </td><td>150                </td><td> 719               </td><td>5                  </td><td>58                 </td><td>2013-01-01 05:00:00</td></tr>\n",
       "\t<tr><td>2013               </td><td>1                  </td><td>1                  </td><td>555                </td><td>600                </td><td>-5                 </td><td> 913               </td><td> 854               </td><td> 19                </td><td>B6                 </td><td> 507               </td><td>N516JB             </td><td>EWR                </td><td>FLL                </td><td>158                </td><td>1065               </td><td>6                  </td><td> 0                 </td><td>2013-01-01 06:00:00</td></tr>\n",
       "\t<tr><td>2013               </td><td>1                  </td><td>1                  </td><td>557                </td><td>600                </td><td>-3                 </td><td> 709               </td><td> 723               </td><td>-14                </td><td>EV                 </td><td>5708               </td><td>N829AS             </td><td>LGA                </td><td>IAD                </td><td> 53                </td><td> 229               </td><td>6                  </td><td> 0                 </td><td>2013-01-01 06:00:00</td></tr>\n",
       "\t<tr><td>2013               </td><td>1                  </td><td>1                  </td><td>557                </td><td>600                </td><td>-3                 </td><td> 838               </td><td> 846               </td><td> -8                </td><td>B6                 </td><td>  79               </td><td>N593JB             </td><td>JFK                </td><td>MCO                </td><td>140                </td><td> 944               </td><td>6                  </td><td> 0                 </td><td>2013-01-01 06:00:00</td></tr>\n",
       "\t<tr><td>2013               </td><td>1                  </td><td>1                  </td><td>558                </td><td>600                </td><td>-2                 </td><td> 753               </td><td> 745               </td><td>  8                </td><td>AA                 </td><td> 301               </td><td>N3ALAA             </td><td>LGA                </td><td>ORD                </td><td>138                </td><td> 733               </td><td>6                  </td><td> 0                 </td><td>2013-01-01 06:00:00</td></tr>\n",
       "\t<tr><td>2013               </td><td>1                  </td><td>1                  </td><td>558                </td><td>600                </td><td>-2                 </td><td> 849               </td><td> 851               </td><td> -2                </td><td>B6                 </td><td>  49               </td><td>N793JB             </td><td>JFK                </td><td>PBI                </td><td>149                </td><td>1028               </td><td>6                  </td><td> 0                 </td><td>2013-01-01 06:00:00</td></tr>\n",
       "\t<tr><td>2013               </td><td>1                  </td><td>1                  </td><td>558                </td><td>600                </td><td>-2                 </td><td> 853               </td><td> 856               </td><td> -3                </td><td>B6                 </td><td>  71               </td><td>N657JB             </td><td>JFK                </td><td>TPA                </td><td>158                </td><td>1005               </td><td>6                  </td><td> 0                 </td><td>2013-01-01 06:00:00</td></tr>\n",
       "\t<tr><td>2013               </td><td>1                  </td><td>1                  </td><td>558                </td><td>600                </td><td>-2                 </td><td> 924               </td><td> 917               </td><td>  7                </td><td>UA                 </td><td> 194               </td><td>N29129             </td><td>JFK                </td><td>LAX                </td><td>345                </td><td>2475               </td><td>6                  </td><td> 0                 </td><td>2013-01-01 06:00:00</td></tr>\n",
       "\t<tr><td>2013               </td><td>1                  </td><td>1                  </td><td>558                </td><td>600                </td><td>-2                 </td><td> 923               </td><td> 937               </td><td>-14                </td><td>UA                 </td><td>1124               </td><td>N53441             </td><td>EWR                </td><td>SFO                </td><td>361                </td><td>2565               </td><td>6                  </td><td> 0                 </td><td>2013-01-01 06:00:00</td></tr>\n",
       "\t<tr><td>2013               </td><td>1                  </td><td>1                  </td><td>559                </td><td>600                </td><td>-1                 </td><td> 941               </td><td> 910               </td><td> 31                </td><td>AA                 </td><td> 707               </td><td>N3DUAA             </td><td>LGA                </td><td>DFW                </td><td>257                </td><td>1389               </td><td>6                  </td><td> 0                 </td><td>2013-01-01 06:00:00</td></tr>\n",
       "\t<tr><td>2013               </td><td>1                  </td><td>1                  </td><td>559                </td><td>559                </td><td> 0                 </td><td> 702               </td><td> 706               </td><td> -4                </td><td>B6                 </td><td>1806               </td><td>N708JB             </td><td>JFK                </td><td>BOS                </td><td> 44                </td><td> 187               </td><td>5                  </td><td>59                 </td><td>2013-01-01 05:00:00</td></tr>\n",
       "\t<tr><td>2013               </td><td>1                  </td><td>1                  </td><td>559                </td><td>600                </td><td>-1                 </td><td> 854               </td><td> 902               </td><td> -8                </td><td>UA                 </td><td>1187               </td><td>N76515             </td><td>EWR                </td><td>LAS                </td><td>337                </td><td>2227               </td><td>6                  </td><td> 0                 </td><td>2013-01-01 06:00:00</td></tr>\n",
       "\t<tr><td>2013               </td><td>1                  </td><td>1                  </td><td>600                </td><td>600                </td><td> 0                 </td><td> 851               </td><td> 858               </td><td> -7                </td><td>B6                 </td><td> 371               </td><td>N595JB             </td><td>LGA                </td><td>FLL                </td><td>152                </td><td>1076               </td><td>6                  </td><td> 0                 </td><td>2013-01-01 06:00:00</td></tr>\n",
       "\t<tr><td>2013               </td><td>1                  </td><td>1                  </td><td>600                </td><td>600                </td><td> 0                 </td><td> 837               </td><td> 825               </td><td> 12                </td><td>MQ                 </td><td>4650               </td><td>N542MQ             </td><td>LGA                </td><td>ATL                </td><td>134                </td><td> 762               </td><td>6                  </td><td> 0                 </td><td>2013-01-01 06:00:00</td></tr>\n",
       "\t<tr><td>2013               </td><td>1                  </td><td>1                  </td><td>601                </td><td>600                </td><td> 1                 </td><td> 844               </td><td> 850               </td><td> -6                </td><td>B6                 </td><td> 343               </td><td>N644JB             </td><td>EWR                </td><td>PBI                </td><td>147                </td><td>1023               </td><td>6                  </td><td> 0                 </td><td>2013-01-01 06:00:00</td></tr>\n",
       "\t<tr><td>2013               </td><td>1                  </td><td>1                  </td><td>602                </td><td>610                </td><td>-8                 </td><td> 812               </td><td> 820               </td><td> -8                </td><td>DL                 </td><td>1919               </td><td>N971DL             </td><td>LGA                </td><td>MSP                </td><td>170                </td><td>1020               </td><td>6                  </td><td>10                 </td><td>2013-01-01 06:00:00</td></tr>\n",
       "\t<tr><td>2013               </td><td>1                  </td><td>1                  </td><td>602                </td><td>605                </td><td>-3                 </td><td> 821               </td><td> 805               </td><td> 16                </td><td>MQ                 </td><td>4401               </td><td>N730MQ             </td><td>LGA                </td><td>DTW                </td><td>105                </td><td> 502               </td><td>6                  </td><td> 5                 </td><td>2013-01-01 06:00:00</td></tr>\n",
       "\t<tr><td>2013               </td><td>1                  </td><td>1                  </td><td>606                </td><td>610                </td><td>-4                 </td><td> 858               </td><td> 910               </td><td>-12                </td><td>AA                 </td><td>1895               </td><td>N633AA             </td><td>EWR                </td><td>MIA                </td><td>152                </td><td>1085               </td><td>6                  </td><td>10                 </td><td>2013-01-01 06:00:00</td></tr>\n",
       "\t<tr><td>2013               </td><td>1                  </td><td>1                  </td><td>606                </td><td>610                </td><td>-4                 </td><td> 837               </td><td> 845               </td><td> -8                </td><td>DL                 </td><td>1743               </td><td>N3739P             </td><td>JFK                </td><td>ATL                </td><td>128                </td><td> 760               </td><td>6                  </td><td>10                 </td><td>2013-01-01 06:00:00</td></tr>\n",
       "\t<tr><td>2013               </td><td>1                  </td><td>1                  </td><td>607                </td><td>607                </td><td> 0                 </td><td> 858               </td><td> 915               </td><td>-17                </td><td>UA                 </td><td>1077               </td><td>N53442             </td><td>EWR                </td><td>MIA                </td><td>157                </td><td>1085               </td><td>6                  </td><td> 7                 </td><td>2013-01-01 06:00:00</td></tr>\n",
       "\t<tr><td>2013               </td><td>1                  </td><td>1                  </td><td>608                </td><td>600                </td><td> 8                 </td><td> 807               </td><td> 735               </td><td> 32                </td><td>MQ                 </td><td>3768               </td><td>N9EAMQ             </td><td>EWR                </td><td>ORD                </td><td>139                </td><td> 719               </td><td>6                  </td><td> 0                 </td><td>2013-01-01 06:00:00</td></tr>\n",
       "\t<tr><td>2013               </td><td>1                  </td><td>1                  </td><td>611                </td><td>600                </td><td>11                 </td><td> 945               </td><td> 931               </td><td> 14                </td><td>UA                 </td><td> 303               </td><td>N532UA             </td><td>JFK                </td><td>SFO                </td><td>366                </td><td>2586               </td><td>6                  </td><td> 0                 </td><td>2013-01-01 06:00:00</td></tr>\n",
       "\t<tr><td>2013               </td><td>1                  </td><td>1                  </td><td>613                </td><td>610                </td><td> 3                 </td><td> 925               </td><td> 921               </td><td>  4                </td><td>B6                 </td><td> 135               </td><td>N635JB             </td><td>JFK                </td><td>RSW                </td><td>175                </td><td>1074               </td><td>6                  </td><td>10                 </td><td>2013-01-01 06:00:00</td></tr>\n",
       "\t<tr><td>2013               </td><td>1                  </td><td>1                  </td><td>615                </td><td>615                </td><td> 0                 </td><td>1039               </td><td>1100               </td><td>-21                </td><td>B6                 </td><td> 709               </td><td>N794JB             </td><td>JFK                </td><td>SJU                </td><td>182                </td><td>1598               </td><td>6                  </td><td>15                 </td><td>2013-01-01 06:00:00</td></tr>\n",
       "\t<tr><td>2013               </td><td>1                  </td><td>1                  </td><td>615                </td><td>615                </td><td> 0                 </td><td> 833               </td><td> 842               </td><td> -9                </td><td>DL                 </td><td> 575               </td><td>N326NB             </td><td>EWR                </td><td>ATL                </td><td>120                </td><td> 746               </td><td>6                  </td><td>15                 </td><td>2013-01-01 06:00:00</td></tr>\n",
       "\t<tr><td>...</td><td>...</td><td>...</td><td>...</td><td>...</td><td>...</td><td>...</td><td>...</td><td>...</td><td>...</td><td>...</td><td>...</td><td>...</td><td>...</td><td>...</td><td>...</td><td>...</td><td>...</td><td>...</td></tr>\n",
       "\t<tr><td>2013               </td><td>9                  </td><td>30                 </td><td>2123               </td><td>2125               </td><td> -2                </td><td>2223               </td><td>2247               </td><td>-24                </td><td>EV                 </td><td>5489               </td><td>N712EV             </td><td>LGA                </td><td>CHO                </td><td> 45                </td><td> 305               </td><td>21                 </td><td>25                 </td><td>2013-09-30 21:00:00</td></tr>\n",
       "\t<tr><td>2013               </td><td>9                  </td><td>30                 </td><td>2127               </td><td>2129               </td><td> -2                </td><td>2314               </td><td>2323               </td><td> -9                </td><td>EV                 </td><td>3833               </td><td>N16546             </td><td>EWR                </td><td>CLT                </td><td> 72                </td><td> 529               </td><td>21                 </td><td>29                 </td><td>2013-09-30 21:00:00</td></tr>\n",
       "\t<tr><td>2013               </td><td>9                  </td><td>30                 </td><td>2128               </td><td>2130               </td><td> -2                </td><td>2328               </td><td>2359               </td><td>-31                </td><td>B6                 </td><td>  97               </td><td>N807JB             </td><td>JFK                </td><td>DEN                </td><td>213                </td><td>1626               </td><td>21                 </td><td>30                 </td><td>2013-09-30 21:00:00</td></tr>\n",
       "\t<tr><td>2013               </td><td>9                  </td><td>30                 </td><td>2129               </td><td>2059               </td><td> 30                </td><td>2230               </td><td>2232               </td><td> -2                </td><td>EV                 </td><td>5048               </td><td>N751EV             </td><td>LGA                </td><td>RIC                </td><td> 45                </td><td> 292               </td><td>20                 </td><td>59                 </td><td>2013-09-30 20:00:00</td></tr>\n",
       "\t<tr><td>2013               </td><td>9                  </td><td>30                 </td><td>2131               </td><td>2140               </td><td> -9                </td><td>2225               </td><td>2255               </td><td>-30                </td><td>MQ                 </td><td>3621               </td><td>N807MQ             </td><td>JFK                </td><td>DCA                </td><td> 36                </td><td> 213               </td><td>21                 </td><td>40                 </td><td>2013-09-30 21:00:00</td></tr>\n",
       "\t<tr><td>2013               </td><td>9                  </td><td>30                 </td><td>2140               </td><td>2140               </td><td>  0                </td><td>  10               </td><td>  40               </td><td>-30                </td><td>AA                 </td><td> 185               </td><td>N335AA             </td><td>JFK                </td><td>LAX                </td><td>298                </td><td>2475               </td><td>21                 </td><td>40                 </td><td>2013-09-30 21:00:00</td></tr>\n",
       "\t<tr><td>2013               </td><td>9                  </td><td>30                 </td><td>2142               </td><td>2129               </td><td> 13                </td><td>2250               </td><td>2239               </td><td> 11                </td><td>EV                 </td><td>4509               </td><td>N12957             </td><td>EWR                </td><td>PWM                </td><td> 47                </td><td> 284               </td><td>21                 </td><td>29                 </td><td>2013-09-30 21:00:00</td></tr>\n",
       "\t<tr><td>2013               </td><td>9                  </td><td>30                 </td><td>2145               </td><td>2145               </td><td>  0                </td><td> 115               </td><td> 140               </td><td>-25                </td><td>B6                 </td><td>1103               </td><td>N633JB             </td><td>JFK                </td><td>SJU                </td><td>192                </td><td>1598               </td><td>21                 </td><td>45                 </td><td>2013-09-30 21:00:00</td></tr>\n",
       "\t<tr><td>2013               </td><td>9                  </td><td>30                 </td><td>2147               </td><td>2137               </td><td> 10                </td><td>  30               </td><td>  27               </td><td>  3                </td><td>B6                 </td><td>1371               </td><td>N627JB             </td><td>LGA                </td><td>FLL                </td><td>139                </td><td>1076               </td><td>21                 </td><td>37                 </td><td>2013-09-30 21:00:00</td></tr>\n",
       "\t<tr><td>2013               </td><td>9                  </td><td>30                 </td><td>2149               </td><td>2156               </td><td> -7                </td><td>2245               </td><td>2308               </td><td>-23                </td><td>UA                 </td><td> 523               </td><td>N813UA             </td><td>EWR                </td><td>BOS                </td><td> 37                </td><td> 200               </td><td>21                 </td><td>56                 </td><td>2013-09-30 21:00:00</td></tr>\n",
       "\t<tr><td>2013               </td><td>9                  </td><td>30                 </td><td>2150               </td><td>2159               </td><td> -9                </td><td>2250               </td><td>2306               </td><td>-16                </td><td>EV                 </td><td>3842               </td><td>N10575             </td><td>EWR                </td><td>MHT                </td><td> 39                </td><td> 209               </td><td>21                 </td><td>59                 </td><td>2013-09-30 21:00:00</td></tr>\n",
       "\t<tr><td>2013               </td><td>9                  </td><td>30                 </td><td>2159               </td><td>1845               </td><td>194                </td><td>2344               </td><td>2030               </td><td>194                </td><td>9E                 </td><td>3320               </td><td>N906XJ             </td><td>JFK                </td><td>BUF                </td><td> 50                </td><td> 301               </td><td>18                 </td><td>45                 </td><td>2013-09-30 18:00:00</td></tr>\n",
       "\t<tr><td>2013               </td><td>9                  </td><td>30                 </td><td>2203               </td><td>2205               </td><td> -2                </td><td>2339               </td><td>2331               </td><td>  8                </td><td>EV                 </td><td>5311               </td><td>N722EV             </td><td>LGA                </td><td>BGR                </td><td> 61                </td><td> 378               </td><td>22                 </td><td> 5                 </td><td>2013-09-30 22:00:00</td></tr>\n",
       "\t<tr><td>2013               </td><td>9                  </td><td>30                 </td><td>2207               </td><td>2140               </td><td> 27                </td><td>2257               </td><td>2250               </td><td>  7                </td><td>MQ                 </td><td>3660               </td><td>N532MQ             </td><td>LGA                </td><td>BNA                </td><td> 97                </td><td> 764               </td><td>21                 </td><td>40                 </td><td>2013-09-30 21:00:00</td></tr>\n",
       "\t<tr><td>2013               </td><td>9                  </td><td>30                 </td><td>2211               </td><td>2059               </td><td> 72                </td><td>2339               </td><td>2242               </td><td> 57                </td><td>EV                 </td><td>4672               </td><td>N12145             </td><td>EWR                </td><td>STL                </td><td>120                </td><td> 872               </td><td>20                 </td><td>59                 </td><td>2013-09-30 20:00:00</td></tr>\n",
       "\t<tr><td>2013               </td><td>9                  </td><td>30                 </td><td>2231               </td><td>2245               </td><td>-14                </td><td>2335               </td><td>2356               </td><td>-21                </td><td>B6                 </td><td> 108               </td><td>N193JB             </td><td>JFK                </td><td>PWM                </td><td> 48                </td><td> 273               </td><td>22                 </td><td>45                 </td><td>2013-09-30 22:00:00</td></tr>\n",
       "\t<tr><td>2013               </td><td>9                  </td><td>30                 </td><td>2233               </td><td>2113               </td><td> 80                </td><td> 112               </td><td>  30               </td><td> 42                </td><td>UA                 </td><td> 471               </td><td>N578UA             </td><td>EWR                </td><td>SFO                </td><td>318                </td><td>2565               </td><td>21                 </td><td>13                 </td><td>2013-09-30 21:00:00</td></tr>\n",
       "\t<tr><td>2013               </td><td>9                  </td><td>30                 </td><td>2235               </td><td>2001               </td><td>154                </td><td>  59               </td><td>2249               </td><td>130                </td><td>B6                 </td><td>1083               </td><td>N804JB             </td><td>JFK                </td><td>MCO                </td><td>123                </td><td> 944               </td><td>20                 </td><td> 1                 </td><td>2013-09-30 20:00:00</td></tr>\n",
       "\t<tr><td>2013               </td><td>9                  </td><td>30                 </td><td>2237               </td><td>2245               </td><td> -8                </td><td>2345               </td><td>2353               </td><td> -8                </td><td>B6                 </td><td> 234               </td><td>N318JB             </td><td>JFK                </td><td>BTV                </td><td> 43                </td><td> 266               </td><td>22                 </td><td>45                 </td><td>2013-09-30 22:00:00</td></tr>\n",
       "\t<tr><td>2013               </td><td>9                  </td><td>30                 </td><td>2240               </td><td>2245               </td><td> -5                </td><td>2334               </td><td>2351               </td><td>-17                </td><td>B6                 </td><td>1816               </td><td>N354JB             </td><td>JFK                </td><td>SYR                </td><td> 41                </td><td> 209               </td><td>22                 </td><td>45                 </td><td>2013-09-30 22:00:00</td></tr>\n",
       "\t<tr><td>2013               </td><td>9                  </td><td>30                 </td><td>2240               </td><td>2250               </td><td>-10                </td><td>2347               </td><td>   7               </td><td>-20                </td><td>B6                 </td><td>2002               </td><td>N281JB             </td><td>JFK                </td><td>BUF                </td><td> 52                </td><td> 301               </td><td>22                 </td><td>50                 </td><td>2013-09-30 22:00:00</td></tr>\n",
       "\t<tr><td>2013               </td><td>9                  </td><td>30                 </td><td>2241               </td><td>2246               </td><td> -5                </td><td>2345               </td><td>   1               </td><td>-16                </td><td>B6                 </td><td> 486               </td><td>N346JB             </td><td>JFK                </td><td>ROC                </td><td> 47                </td><td> 264               </td><td>22                 </td><td>46                 </td><td>2013-09-30 22:00:00</td></tr>\n",
       "\t<tr><td>2013               </td><td>9                  </td><td>30                 </td><td>2307               </td><td>2255               </td><td> 12                </td><td>2359               </td><td>2358               </td><td>  1                </td><td>B6                 </td><td> 718               </td><td>N565JB             </td><td>JFK                </td><td>BOS                </td><td> 33                </td><td> 187               </td><td>22                 </td><td>55                 </td><td>2013-09-30 22:00:00</td></tr>\n",
       "\t<tr><td>2013               </td><td>9                  </td><td>30                 </td><td>2349               </td><td>2359               </td><td>-10                </td><td> 325               </td><td> 350               </td><td>-25                </td><td>B6                 </td><td> 745               </td><td>N516JB             </td><td>JFK                </td><td>PSE                </td><td>196                </td><td>1617               </td><td>23                 </td><td>59                 </td><td>2013-09-30 23:00:00</td></tr>\n",
       "\t<tr><td>2013               </td><td>9                  </td><td>30                 </td><td>  NA               </td><td>1842               </td><td> NA                </td><td>  NA               </td><td>2019               </td><td> NA                </td><td>EV                 </td><td>5274               </td><td>N740EV             </td><td>LGA                </td><td>BNA                </td><td> NA                </td><td> 764               </td><td>18                 </td><td>42                 </td><td>2013-09-30 18:00:00</td></tr>\n",
       "\t<tr><td>2013               </td><td>9                  </td><td>30                 </td><td>  NA               </td><td>1455               </td><td> NA                </td><td>  NA               </td><td>1634               </td><td> NA                </td><td>9E                 </td><td>3393               </td><td>NA                 </td><td>JFK                </td><td>DCA                </td><td> NA                </td><td> 213               </td><td>14                 </td><td>55                 </td><td>2013-09-30 14:00:00</td></tr>\n",
       "\t<tr><td>2013               </td><td>9                  </td><td>30                 </td><td>  NA               </td><td>2200               </td><td> NA                </td><td>  NA               </td><td>2312               </td><td> NA                </td><td>9E                 </td><td>3525               </td><td>NA                 </td><td>LGA                </td><td>SYR                </td><td> NA                </td><td> 198               </td><td>22                 </td><td> 0                 </td><td>2013-09-30 22:00:00</td></tr>\n",
       "\t<tr><td>2013               </td><td>9                  </td><td>30                 </td><td>  NA               </td><td>1210               </td><td> NA                </td><td>  NA               </td><td>1330               </td><td> NA                </td><td>MQ                 </td><td>3461               </td><td>N535MQ             </td><td>LGA                </td><td>BNA                </td><td> NA                </td><td> 764               </td><td>12                 </td><td>10                 </td><td>2013-09-30 12:00:00</td></tr>\n",
       "\t<tr><td>2013               </td><td>9                  </td><td>30                 </td><td>  NA               </td><td>1159               </td><td> NA                </td><td>  NA               </td><td>1344               </td><td> NA                </td><td>MQ                 </td><td>3572               </td><td>N511MQ             </td><td>LGA                </td><td>CLE                </td><td> NA                </td><td> 419               </td><td>11                 </td><td>59                 </td><td>2013-09-30 11:00:00</td></tr>\n",
       "\t<tr><td>2013               </td><td>9                  </td><td>30                 </td><td>  NA               </td><td> 840               </td><td> NA                </td><td>  NA               </td><td>1020               </td><td> NA                </td><td>MQ                 </td><td>3531               </td><td>N839MQ             </td><td>LGA                </td><td>RDU                </td><td> NA                </td><td> 431               </td><td> 8                 </td><td>40                 </td><td>2013-09-30 08:00:00</td></tr>\n",
       "</tbody>\n",
       "</table>\n"
      ],
      "text/latex": [
       "\\begin{tabular}{r|lllllllllllllllllll}\n",
       " year & month & day & dep\\_time & sched\\_dep\\_time & dep\\_delay & arr\\_time & sched\\_arr\\_time & arr\\_delay & carrier & flight & tailnum & origin & dest & air\\_time & distance & hour & minute & time\\_hour\\\\\n",
       "\\hline\n",
       "\t 2013                & 1                   & 1                   & 517                 & 515                 &  2                  &  830                &  819                &  11                 & UA                  & 1545                & N14228              & EWR                 & IAH                 & 227                 & 1400                & 5                   & 15                  & 2013-01-01 05:00:00\\\\\n",
       "\t 2013                & 1                   & 1                   & 533                 & 529                 &  4                  &  850                &  830                &  20                 & UA                  & 1714                & N24211              & LGA                 & IAH                 & 227                 & 1416                & 5                   & 29                  & 2013-01-01 05:00:00\\\\\n",
       "\t 2013                & 1                   & 1                   & 542                 & 540                 &  2                  &  923                &  850                &  33                 & AA                  & 1141                & N619AA              & JFK                 & MIA                 & 160                 & 1089                & 5                   & 40                  & 2013-01-01 05:00:00\\\\\n",
       "\t 2013                & 1                   & 1                   & 544                 & 545                 & -1                  & 1004                & 1022                & -18                 & B6                  &  725                & N804JB              & JFK                 & BQN                 & 183                 & 1576                & 5                   & 45                  & 2013-01-01 05:00:00\\\\\n",
       "\t 2013                & 1                   & 1                   & 554                 & 600                 & -6                  &  812                &  837                & -25                 & DL                  &  461                & N668DN              & LGA                 & ATL                 & 116                 &  762                & 6                   &  0                  & 2013-01-01 06:00:00\\\\\n",
       "\t 2013                & 1                   & 1                   & 554                 & 558                 & -4                  &  740                &  728                &  12                 & UA                  & 1696                & N39463              & EWR                 & ORD                 & 150                 &  719                & 5                   & 58                  & 2013-01-01 05:00:00\\\\\n",
       "\t 2013                & 1                   & 1                   & 555                 & 600                 & -5                  &  913                &  854                &  19                 & B6                  &  507                & N516JB              & EWR                 & FLL                 & 158                 & 1065                & 6                   &  0                  & 2013-01-01 06:00:00\\\\\n",
       "\t 2013                & 1                   & 1                   & 557                 & 600                 & -3                  &  709                &  723                & -14                 & EV                  & 5708                & N829AS              & LGA                 & IAD                 &  53                 &  229                & 6                   &  0                  & 2013-01-01 06:00:00\\\\\n",
       "\t 2013                & 1                   & 1                   & 557                 & 600                 & -3                  &  838                &  846                &  -8                 & B6                  &   79                & N593JB              & JFK                 & MCO                 & 140                 &  944                & 6                   &  0                  & 2013-01-01 06:00:00\\\\\n",
       "\t 2013                & 1                   & 1                   & 558                 & 600                 & -2                  &  753                &  745                &   8                 & AA                  &  301                & N3ALAA              & LGA                 & ORD                 & 138                 &  733                & 6                   &  0                  & 2013-01-01 06:00:00\\\\\n",
       "\t 2013                & 1                   & 1                   & 558                 & 600                 & -2                  &  849                &  851                &  -2                 & B6                  &   49                & N793JB              & JFK                 & PBI                 & 149                 & 1028                & 6                   &  0                  & 2013-01-01 06:00:00\\\\\n",
       "\t 2013                & 1                   & 1                   & 558                 & 600                 & -2                  &  853                &  856                &  -3                 & B6                  &   71                & N657JB              & JFK                 & TPA                 & 158                 & 1005                & 6                   &  0                  & 2013-01-01 06:00:00\\\\\n",
       "\t 2013                & 1                   & 1                   & 558                 & 600                 & -2                  &  924                &  917                &   7                 & UA                  &  194                & N29129              & JFK                 & LAX                 & 345                 & 2475                & 6                   &  0                  & 2013-01-01 06:00:00\\\\\n",
       "\t 2013                & 1                   & 1                   & 558                 & 600                 & -2                  &  923                &  937                & -14                 & UA                  & 1124                & N53441              & EWR                 & SFO                 & 361                 & 2565                & 6                   &  0                  & 2013-01-01 06:00:00\\\\\n",
       "\t 2013                & 1                   & 1                   & 559                 & 600                 & -1                  &  941                &  910                &  31                 & AA                  &  707                & N3DUAA              & LGA                 & DFW                 & 257                 & 1389                & 6                   &  0                  & 2013-01-01 06:00:00\\\\\n",
       "\t 2013                & 1                   & 1                   & 559                 & 559                 &  0                  &  702                &  706                &  -4                 & B6                  & 1806                & N708JB              & JFK                 & BOS                 &  44                 &  187                & 5                   & 59                  & 2013-01-01 05:00:00\\\\\n",
       "\t 2013                & 1                   & 1                   & 559                 & 600                 & -1                  &  854                &  902                &  -8                 & UA                  & 1187                & N76515              & EWR                 & LAS                 & 337                 & 2227                & 6                   &  0                  & 2013-01-01 06:00:00\\\\\n",
       "\t 2013                & 1                   & 1                   & 600                 & 600                 &  0                  &  851                &  858                &  -7                 & B6                  &  371                & N595JB              & LGA                 & FLL                 & 152                 & 1076                & 6                   &  0                  & 2013-01-01 06:00:00\\\\\n",
       "\t 2013                & 1                   & 1                   & 600                 & 600                 &  0                  &  837                &  825                &  12                 & MQ                  & 4650                & N542MQ              & LGA                 & ATL                 & 134                 &  762                & 6                   &  0                  & 2013-01-01 06:00:00\\\\\n",
       "\t 2013                & 1                   & 1                   & 601                 & 600                 &  1                  &  844                &  850                &  -6                 & B6                  &  343                & N644JB              & EWR                 & PBI                 & 147                 & 1023                & 6                   &  0                  & 2013-01-01 06:00:00\\\\\n",
       "\t 2013                & 1                   & 1                   & 602                 & 610                 & -8                  &  812                &  820                &  -8                 & DL                  & 1919                & N971DL              & LGA                 & MSP                 & 170                 & 1020                & 6                   & 10                  & 2013-01-01 06:00:00\\\\\n",
       "\t 2013                & 1                   & 1                   & 602                 & 605                 & -3                  &  821                &  805                &  16                 & MQ                  & 4401                & N730MQ              & LGA                 & DTW                 & 105                 &  502                & 6                   &  5                  & 2013-01-01 06:00:00\\\\\n",
       "\t 2013                & 1                   & 1                   & 606                 & 610                 & -4                  &  858                &  910                & -12                 & AA                  & 1895                & N633AA              & EWR                 & MIA                 & 152                 & 1085                & 6                   & 10                  & 2013-01-01 06:00:00\\\\\n",
       "\t 2013                & 1                   & 1                   & 606                 & 610                 & -4                  &  837                &  845                &  -8                 & DL                  & 1743                & N3739P              & JFK                 & ATL                 & 128                 &  760                & 6                   & 10                  & 2013-01-01 06:00:00\\\\\n",
       "\t 2013                & 1                   & 1                   & 607                 & 607                 &  0                  &  858                &  915                & -17                 & UA                  & 1077                & N53442              & EWR                 & MIA                 & 157                 & 1085                & 6                   &  7                  & 2013-01-01 06:00:00\\\\\n",
       "\t 2013                & 1                   & 1                   & 608                 & 600                 &  8                  &  807                &  735                &  32                 & MQ                  & 3768                & N9EAMQ              & EWR                 & ORD                 & 139                 &  719                & 6                   &  0                  & 2013-01-01 06:00:00\\\\\n",
       "\t 2013                & 1                   & 1                   & 611                 & 600                 & 11                  &  945                &  931                &  14                 & UA                  &  303                & N532UA              & JFK                 & SFO                 & 366                 & 2586                & 6                   &  0                  & 2013-01-01 06:00:00\\\\\n",
       "\t 2013                & 1                   & 1                   & 613                 & 610                 &  3                  &  925                &  921                &   4                 & B6                  &  135                & N635JB              & JFK                 & RSW                 & 175                 & 1074                & 6                   & 10                  & 2013-01-01 06:00:00\\\\\n",
       "\t 2013                & 1                   & 1                   & 615                 & 615                 &  0                  & 1039                & 1100                & -21                 & B6                  &  709                & N794JB              & JFK                 & SJU                 & 182                 & 1598                & 6                   & 15                  & 2013-01-01 06:00:00\\\\\n",
       "\t 2013                & 1                   & 1                   & 615                 & 615                 &  0                  &  833                &  842                &  -9                 & DL                  &  575                & N326NB              & EWR                 & ATL                 & 120                 &  746                & 6                   & 15                  & 2013-01-01 06:00:00\\\\\n",
       "\t ... & ... & ... & ... & ... & ... & ... & ... & ... & ... & ... & ... & ... & ... & ... & ... & ... & ... & ...\\\\\n",
       "\t 2013                & 9                   & 30                  & 2123                & 2125                &  -2                 & 2223                & 2247                & -24                 & EV                  & 5489                & N712EV              & LGA                 & CHO                 &  45                 &  305                & 21                  & 25                  & 2013-09-30 21:00:00\\\\\n",
       "\t 2013                & 9                   & 30                  & 2127                & 2129                &  -2                 & 2314                & 2323                &  -9                 & EV                  & 3833                & N16546              & EWR                 & CLT                 &  72                 &  529                & 21                  & 29                  & 2013-09-30 21:00:00\\\\\n",
       "\t 2013                & 9                   & 30                  & 2128                & 2130                &  -2                 & 2328                & 2359                & -31                 & B6                  &   97                & N807JB              & JFK                 & DEN                 & 213                 & 1626                & 21                  & 30                  & 2013-09-30 21:00:00\\\\\n",
       "\t 2013                & 9                   & 30                  & 2129                & 2059                &  30                 & 2230                & 2232                &  -2                 & EV                  & 5048                & N751EV              & LGA                 & RIC                 &  45                 &  292                & 20                  & 59                  & 2013-09-30 20:00:00\\\\\n",
       "\t 2013                & 9                   & 30                  & 2131                & 2140                &  -9                 & 2225                & 2255                & -30                 & MQ                  & 3621                & N807MQ              & JFK                 & DCA                 &  36                 &  213                & 21                  & 40                  & 2013-09-30 21:00:00\\\\\n",
       "\t 2013                & 9                   & 30                  & 2140                & 2140                &   0                 &   10                &   40                & -30                 & AA                  &  185                & N335AA              & JFK                 & LAX                 & 298                 & 2475                & 21                  & 40                  & 2013-09-30 21:00:00\\\\\n",
       "\t 2013                & 9                   & 30                  & 2142                & 2129                &  13                 & 2250                & 2239                &  11                 & EV                  & 4509                & N12957              & EWR                 & PWM                 &  47                 &  284                & 21                  & 29                  & 2013-09-30 21:00:00\\\\\n",
       "\t 2013                & 9                   & 30                  & 2145                & 2145                &   0                 &  115                &  140                & -25                 & B6                  & 1103                & N633JB              & JFK                 & SJU                 & 192                 & 1598                & 21                  & 45                  & 2013-09-30 21:00:00\\\\\n",
       "\t 2013                & 9                   & 30                  & 2147                & 2137                &  10                 &   30                &   27                &   3                 & B6                  & 1371                & N627JB              & LGA                 & FLL                 & 139                 & 1076                & 21                  & 37                  & 2013-09-30 21:00:00\\\\\n",
       "\t 2013                & 9                   & 30                  & 2149                & 2156                &  -7                 & 2245                & 2308                & -23                 & UA                  &  523                & N813UA              & EWR                 & BOS                 &  37                 &  200                & 21                  & 56                  & 2013-09-30 21:00:00\\\\\n",
       "\t 2013                & 9                   & 30                  & 2150                & 2159                &  -9                 & 2250                & 2306                & -16                 & EV                  & 3842                & N10575              & EWR                 & MHT                 &  39                 &  209                & 21                  & 59                  & 2013-09-30 21:00:00\\\\\n",
       "\t 2013                & 9                   & 30                  & 2159                & 1845                & 194                 & 2344                & 2030                & 194                 & 9E                  & 3320                & N906XJ              & JFK                 & BUF                 &  50                 &  301                & 18                  & 45                  & 2013-09-30 18:00:00\\\\\n",
       "\t 2013                & 9                   & 30                  & 2203                & 2205                &  -2                 & 2339                & 2331                &   8                 & EV                  & 5311                & N722EV              & LGA                 & BGR                 &  61                 &  378                & 22                  &  5                  & 2013-09-30 22:00:00\\\\\n",
       "\t 2013                & 9                   & 30                  & 2207                & 2140                &  27                 & 2257                & 2250                &   7                 & MQ                  & 3660                & N532MQ              & LGA                 & BNA                 &  97                 &  764                & 21                  & 40                  & 2013-09-30 21:00:00\\\\\n",
       "\t 2013                & 9                   & 30                  & 2211                & 2059                &  72                 & 2339                & 2242                &  57                 & EV                  & 4672                & N12145              & EWR                 & STL                 & 120                 &  872                & 20                  & 59                  & 2013-09-30 20:00:00\\\\\n",
       "\t 2013                & 9                   & 30                  & 2231                & 2245                & -14                 & 2335                & 2356                & -21                 & B6                  &  108                & N193JB              & JFK                 & PWM                 &  48                 &  273                & 22                  & 45                  & 2013-09-30 22:00:00\\\\\n",
       "\t 2013                & 9                   & 30                  & 2233                & 2113                &  80                 &  112                &   30                &  42                 & UA                  &  471                & N578UA              & EWR                 & SFO                 & 318                 & 2565                & 21                  & 13                  & 2013-09-30 21:00:00\\\\\n",
       "\t 2013                & 9                   & 30                  & 2235                & 2001                & 154                 &   59                & 2249                & 130                 & B6                  & 1083                & N804JB              & JFK                 & MCO                 & 123                 &  944                & 20                  &  1                  & 2013-09-30 20:00:00\\\\\n",
       "\t 2013                & 9                   & 30                  & 2237                & 2245                &  -8                 & 2345                & 2353                &  -8                 & B6                  &  234                & N318JB              & JFK                 & BTV                 &  43                 &  266                & 22                  & 45                  & 2013-09-30 22:00:00\\\\\n",
       "\t 2013                & 9                   & 30                  & 2240                & 2245                &  -5                 & 2334                & 2351                & -17                 & B6                  & 1816                & N354JB              & JFK                 & SYR                 &  41                 &  209                & 22                  & 45                  & 2013-09-30 22:00:00\\\\\n",
       "\t 2013                & 9                   & 30                  & 2240                & 2250                & -10                 & 2347                &    7                & -20                 & B6                  & 2002                & N281JB              & JFK                 & BUF                 &  52                 &  301                & 22                  & 50                  & 2013-09-30 22:00:00\\\\\n",
       "\t 2013                & 9                   & 30                  & 2241                & 2246                &  -5                 & 2345                &    1                & -16                 & B6                  &  486                & N346JB              & JFK                 & ROC                 &  47                 &  264                & 22                  & 46                  & 2013-09-30 22:00:00\\\\\n",
       "\t 2013                & 9                   & 30                  & 2307                & 2255                &  12                 & 2359                & 2358                &   1                 & B6                  &  718                & N565JB              & JFK                 & BOS                 &  33                 &  187                & 22                  & 55                  & 2013-09-30 22:00:00\\\\\n",
       "\t 2013                & 9                   & 30                  & 2349                & 2359                & -10                 &  325                &  350                & -25                 & B6                  &  745                & N516JB              & JFK                 & PSE                 & 196                 & 1617                & 23                  & 59                  & 2013-09-30 23:00:00\\\\\n",
       "\t 2013                & 9                   & 30                  &   NA                & 1842                &  NA                 &   NA                & 2019                &  NA                 & EV                  & 5274                & N740EV              & LGA                 & BNA                 &  NA                 &  764                & 18                  & 42                  & 2013-09-30 18:00:00\\\\\n",
       "\t 2013                & 9                   & 30                  &   NA                & 1455                &  NA                 &   NA                & 1634                &  NA                 & 9E                  & 3393                & NA                  & JFK                 & DCA                 &  NA                 &  213                & 14                  & 55                  & 2013-09-30 14:00:00\\\\\n",
       "\t 2013                & 9                   & 30                  &   NA                & 2200                &  NA                 &   NA                & 2312                &  NA                 & 9E                  & 3525                & NA                  & LGA                 & SYR                 &  NA                 &  198                & 22                  &  0                  & 2013-09-30 22:00:00\\\\\n",
       "\t 2013                & 9                   & 30                  &   NA                & 1210                &  NA                 &   NA                & 1330                &  NA                 & MQ                  & 3461                & N535MQ              & LGA                 & BNA                 &  NA                 &  764                & 12                  & 10                  & 2013-09-30 12:00:00\\\\\n",
       "\t 2013                & 9                   & 30                  &   NA                & 1159                &  NA                 &   NA                & 1344                &  NA                 & MQ                  & 3572                & N511MQ              & LGA                 & CLE                 &  NA                 &  419                & 11                  & 59                  & 2013-09-30 11:00:00\\\\\n",
       "\t 2013                & 9                   & 30                  &   NA                &  840                &  NA                 &   NA                & 1020                &  NA                 & MQ                  & 3531                & N839MQ              & LGA                 & RDU                 &  NA                 &  431                &  8                  & 40                  & 2013-09-30 08:00:00\\\\\n",
       "\\end{tabular}\n"
      ],
      "text/markdown": [
       "\n",
       "| year | month | day | dep_time | sched_dep_time | dep_delay | arr_time | sched_arr_time | arr_delay | carrier | flight | tailnum | origin | dest | air_time | distance | hour | minute | time_hour |\n",
       "|---|---|---|---|---|---|---|---|---|---|---|---|---|---|---|---|---|---|---|\n",
       "| 2013                | 1                   | 1                   | 517                 | 515                 |  2                  |  830                |  819                |  11                 | UA                  | 1545                | N14228              | EWR                 | IAH                 | 227                 | 1400                | 5                   | 15                  | 2013-01-01 05:00:00 |\n",
       "| 2013                | 1                   | 1                   | 533                 | 529                 |  4                  |  850                |  830                |  20                 | UA                  | 1714                | N24211              | LGA                 | IAH                 | 227                 | 1416                | 5                   | 29                  | 2013-01-01 05:00:00 |\n",
       "| 2013                | 1                   | 1                   | 542                 | 540                 |  2                  |  923                |  850                |  33                 | AA                  | 1141                | N619AA              | JFK                 | MIA                 | 160                 | 1089                | 5                   | 40                  | 2013-01-01 05:00:00 |\n",
       "| 2013                | 1                   | 1                   | 544                 | 545                 | -1                  | 1004                | 1022                | -18                 | B6                  |  725                | N804JB              | JFK                 | BQN                 | 183                 | 1576                | 5                   | 45                  | 2013-01-01 05:00:00 |\n",
       "| 2013                | 1                   | 1                   | 554                 | 600                 | -6                  |  812                |  837                | -25                 | DL                  |  461                | N668DN              | LGA                 | ATL                 | 116                 |  762                | 6                   |  0                  | 2013-01-01 06:00:00 |\n",
       "| 2013                | 1                   | 1                   | 554                 | 558                 | -4                  |  740                |  728                |  12                 | UA                  | 1696                | N39463              | EWR                 | ORD                 | 150                 |  719                | 5                   | 58                  | 2013-01-01 05:00:00 |\n",
       "| 2013                | 1                   | 1                   | 555                 | 600                 | -5                  |  913                |  854                |  19                 | B6                  |  507                | N516JB              | EWR                 | FLL                 | 158                 | 1065                | 6                   |  0                  | 2013-01-01 06:00:00 |\n",
       "| 2013                | 1                   | 1                   | 557                 | 600                 | -3                  |  709                |  723                | -14                 | EV                  | 5708                | N829AS              | LGA                 | IAD                 |  53                 |  229                | 6                   |  0                  | 2013-01-01 06:00:00 |\n",
       "| 2013                | 1                   | 1                   | 557                 | 600                 | -3                  |  838                |  846                |  -8                 | B6                  |   79                | N593JB              | JFK                 | MCO                 | 140                 |  944                | 6                   |  0                  | 2013-01-01 06:00:00 |\n",
       "| 2013                | 1                   | 1                   | 558                 | 600                 | -2                  |  753                |  745                |   8                 | AA                  |  301                | N3ALAA              | LGA                 | ORD                 | 138                 |  733                | 6                   |  0                  | 2013-01-01 06:00:00 |\n",
       "| 2013                | 1                   | 1                   | 558                 | 600                 | -2                  |  849                |  851                |  -2                 | B6                  |   49                | N793JB              | JFK                 | PBI                 | 149                 | 1028                | 6                   |  0                  | 2013-01-01 06:00:00 |\n",
       "| 2013                | 1                   | 1                   | 558                 | 600                 | -2                  |  853                |  856                |  -3                 | B6                  |   71                | N657JB              | JFK                 | TPA                 | 158                 | 1005                | 6                   |  0                  | 2013-01-01 06:00:00 |\n",
       "| 2013                | 1                   | 1                   | 558                 | 600                 | -2                  |  924                |  917                |   7                 | UA                  |  194                | N29129              | JFK                 | LAX                 | 345                 | 2475                | 6                   |  0                  | 2013-01-01 06:00:00 |\n",
       "| 2013                | 1                   | 1                   | 558                 | 600                 | -2                  |  923                |  937                | -14                 | UA                  | 1124                | N53441              | EWR                 | SFO                 | 361                 | 2565                | 6                   |  0                  | 2013-01-01 06:00:00 |\n",
       "| 2013                | 1                   | 1                   | 559                 | 600                 | -1                  |  941                |  910                |  31                 | AA                  |  707                | N3DUAA              | LGA                 | DFW                 | 257                 | 1389                | 6                   |  0                  | 2013-01-01 06:00:00 |\n",
       "| 2013                | 1                   | 1                   | 559                 | 559                 |  0                  |  702                |  706                |  -4                 | B6                  | 1806                | N708JB              | JFK                 | BOS                 |  44                 |  187                | 5                   | 59                  | 2013-01-01 05:00:00 |\n",
       "| 2013                | 1                   | 1                   | 559                 | 600                 | -1                  |  854                |  902                |  -8                 | UA                  | 1187                | N76515              | EWR                 | LAS                 | 337                 | 2227                | 6                   |  0                  | 2013-01-01 06:00:00 |\n",
       "| 2013                | 1                   | 1                   | 600                 | 600                 |  0                  |  851                |  858                |  -7                 | B6                  |  371                | N595JB              | LGA                 | FLL                 | 152                 | 1076                | 6                   |  0                  | 2013-01-01 06:00:00 |\n",
       "| 2013                | 1                   | 1                   | 600                 | 600                 |  0                  |  837                |  825                |  12                 | MQ                  | 4650                | N542MQ              | LGA                 | ATL                 | 134                 |  762                | 6                   |  0                  | 2013-01-01 06:00:00 |\n",
       "| 2013                | 1                   | 1                   | 601                 | 600                 |  1                  |  844                |  850                |  -6                 | B6                  |  343                | N644JB              | EWR                 | PBI                 | 147                 | 1023                | 6                   |  0                  | 2013-01-01 06:00:00 |\n",
       "| 2013                | 1                   | 1                   | 602                 | 610                 | -8                  |  812                |  820                |  -8                 | DL                  | 1919                | N971DL              | LGA                 | MSP                 | 170                 | 1020                | 6                   | 10                  | 2013-01-01 06:00:00 |\n",
       "| 2013                | 1                   | 1                   | 602                 | 605                 | -3                  |  821                |  805                |  16                 | MQ                  | 4401                | N730MQ              | LGA                 | DTW                 | 105                 |  502                | 6                   |  5                  | 2013-01-01 06:00:00 |\n",
       "| 2013                | 1                   | 1                   | 606                 | 610                 | -4                  |  858                |  910                | -12                 | AA                  | 1895                | N633AA              | EWR                 | MIA                 | 152                 | 1085                | 6                   | 10                  | 2013-01-01 06:00:00 |\n",
       "| 2013                | 1                   | 1                   | 606                 | 610                 | -4                  |  837                |  845                |  -8                 | DL                  | 1743                | N3739P              | JFK                 | ATL                 | 128                 |  760                | 6                   | 10                  | 2013-01-01 06:00:00 |\n",
       "| 2013                | 1                   | 1                   | 607                 | 607                 |  0                  |  858                |  915                | -17                 | UA                  | 1077                | N53442              | EWR                 | MIA                 | 157                 | 1085                | 6                   |  7                  | 2013-01-01 06:00:00 |\n",
       "| 2013                | 1                   | 1                   | 608                 | 600                 |  8                  |  807                |  735                |  32                 | MQ                  | 3768                | N9EAMQ              | EWR                 | ORD                 | 139                 |  719                | 6                   |  0                  | 2013-01-01 06:00:00 |\n",
       "| 2013                | 1                   | 1                   | 611                 | 600                 | 11                  |  945                |  931                |  14                 | UA                  |  303                | N532UA              | JFK                 | SFO                 | 366                 | 2586                | 6                   |  0                  | 2013-01-01 06:00:00 |\n",
       "| 2013                | 1                   | 1                   | 613                 | 610                 |  3                  |  925                |  921                |   4                 | B6                  |  135                | N635JB              | JFK                 | RSW                 | 175                 | 1074                | 6                   | 10                  | 2013-01-01 06:00:00 |\n",
       "| 2013                | 1                   | 1                   | 615                 | 615                 |  0                  | 1039                | 1100                | -21                 | B6                  |  709                | N794JB              | JFK                 | SJU                 | 182                 | 1598                | 6                   | 15                  | 2013-01-01 06:00:00 |\n",
       "| 2013                | 1                   | 1                   | 615                 | 615                 |  0                  |  833                |  842                |  -9                 | DL                  |  575                | N326NB              | EWR                 | ATL                 | 120                 |  746                | 6                   | 15                  | 2013-01-01 06:00:00 |\n",
       "| ... | ... | ... | ... | ... | ... | ... | ... | ... | ... | ... | ... | ... | ... | ... | ... | ... | ... | ... |\n",
       "| 2013                | 9                   | 30                  | 2123                | 2125                |  -2                 | 2223                | 2247                | -24                 | EV                  | 5489                | N712EV              | LGA                 | CHO                 |  45                 |  305                | 21                  | 25                  | 2013-09-30 21:00:00 |\n",
       "| 2013                | 9                   | 30                  | 2127                | 2129                |  -2                 | 2314                | 2323                |  -9                 | EV                  | 3833                | N16546              | EWR                 | CLT                 |  72                 |  529                | 21                  | 29                  | 2013-09-30 21:00:00 |\n",
       "| 2013                | 9                   | 30                  | 2128                | 2130                |  -2                 | 2328                | 2359                | -31                 | B6                  |   97                | N807JB              | JFK                 | DEN                 | 213                 | 1626                | 21                  | 30                  | 2013-09-30 21:00:00 |\n",
       "| 2013                | 9                   | 30                  | 2129                | 2059                |  30                 | 2230                | 2232                |  -2                 | EV                  | 5048                | N751EV              | LGA                 | RIC                 |  45                 |  292                | 20                  | 59                  | 2013-09-30 20:00:00 |\n",
       "| 2013                | 9                   | 30                  | 2131                | 2140                |  -9                 | 2225                | 2255                | -30                 | MQ                  | 3621                | N807MQ              | JFK                 | DCA                 |  36                 |  213                | 21                  | 40                  | 2013-09-30 21:00:00 |\n",
       "| 2013                | 9                   | 30                  | 2140                | 2140                |   0                 |   10                |   40                | -30                 | AA                  |  185                | N335AA              | JFK                 | LAX                 | 298                 | 2475                | 21                  | 40                  | 2013-09-30 21:00:00 |\n",
       "| 2013                | 9                   | 30                  | 2142                | 2129                |  13                 | 2250                | 2239                |  11                 | EV                  | 4509                | N12957              | EWR                 | PWM                 |  47                 |  284                | 21                  | 29                  | 2013-09-30 21:00:00 |\n",
       "| 2013                | 9                   | 30                  | 2145                | 2145                |   0                 |  115                |  140                | -25                 | B6                  | 1103                | N633JB              | JFK                 | SJU                 | 192                 | 1598                | 21                  | 45                  | 2013-09-30 21:00:00 |\n",
       "| 2013                | 9                   | 30                  | 2147                | 2137                |  10                 |   30                |   27                |   3                 | B6                  | 1371                | N627JB              | LGA                 | FLL                 | 139                 | 1076                | 21                  | 37                  | 2013-09-30 21:00:00 |\n",
       "| 2013                | 9                   | 30                  | 2149                | 2156                |  -7                 | 2245                | 2308                | -23                 | UA                  |  523                | N813UA              | EWR                 | BOS                 |  37                 |  200                | 21                  | 56                  | 2013-09-30 21:00:00 |\n",
       "| 2013                | 9                   | 30                  | 2150                | 2159                |  -9                 | 2250                | 2306                | -16                 | EV                  | 3842                | N10575              | EWR                 | MHT                 |  39                 |  209                | 21                  | 59                  | 2013-09-30 21:00:00 |\n",
       "| 2013                | 9                   | 30                  | 2159                | 1845                | 194                 | 2344                | 2030                | 194                 | 9E                  | 3320                | N906XJ              | JFK                 | BUF                 |  50                 |  301                | 18                  | 45                  | 2013-09-30 18:00:00 |\n",
       "| 2013                | 9                   | 30                  | 2203                | 2205                |  -2                 | 2339                | 2331                |   8                 | EV                  | 5311                | N722EV              | LGA                 | BGR                 |  61                 |  378                | 22                  |  5                  | 2013-09-30 22:00:00 |\n",
       "| 2013                | 9                   | 30                  | 2207                | 2140                |  27                 | 2257                | 2250                |   7                 | MQ                  | 3660                | N532MQ              | LGA                 | BNA                 |  97                 |  764                | 21                  | 40                  | 2013-09-30 21:00:00 |\n",
       "| 2013                | 9                   | 30                  | 2211                | 2059                |  72                 | 2339                | 2242                |  57                 | EV                  | 4672                | N12145              | EWR                 | STL                 | 120                 |  872                | 20                  | 59                  | 2013-09-30 20:00:00 |\n",
       "| 2013                | 9                   | 30                  | 2231                | 2245                | -14                 | 2335                | 2356                | -21                 | B6                  |  108                | N193JB              | JFK                 | PWM                 |  48                 |  273                | 22                  | 45                  | 2013-09-30 22:00:00 |\n",
       "| 2013                | 9                   | 30                  | 2233                | 2113                |  80                 |  112                |   30                |  42                 | UA                  |  471                | N578UA              | EWR                 | SFO                 | 318                 | 2565                | 21                  | 13                  | 2013-09-30 21:00:00 |\n",
       "| 2013                | 9                   | 30                  | 2235                | 2001                | 154                 |   59                | 2249                | 130                 | B6                  | 1083                | N804JB              | JFK                 | MCO                 | 123                 |  944                | 20                  |  1                  | 2013-09-30 20:00:00 |\n",
       "| 2013                | 9                   | 30                  | 2237                | 2245                |  -8                 | 2345                | 2353                |  -8                 | B6                  |  234                | N318JB              | JFK                 | BTV                 |  43                 |  266                | 22                  | 45                  | 2013-09-30 22:00:00 |\n",
       "| 2013                | 9                   | 30                  | 2240                | 2245                |  -5                 | 2334                | 2351                | -17                 | B6                  | 1816                | N354JB              | JFK                 | SYR                 |  41                 |  209                | 22                  | 45                  | 2013-09-30 22:00:00 |\n",
       "| 2013                | 9                   | 30                  | 2240                | 2250                | -10                 | 2347                |    7                | -20                 | B6                  | 2002                | N281JB              | JFK                 | BUF                 |  52                 |  301                | 22                  | 50                  | 2013-09-30 22:00:00 |\n",
       "| 2013                | 9                   | 30                  | 2241                | 2246                |  -5                 | 2345                |    1                | -16                 | B6                  |  486                | N346JB              | JFK                 | ROC                 |  47                 |  264                | 22                  | 46                  | 2013-09-30 22:00:00 |\n",
       "| 2013                | 9                   | 30                  | 2307                | 2255                |  12                 | 2359                | 2358                |   1                 | B6                  |  718                | N565JB              | JFK                 | BOS                 |  33                 |  187                | 22                  | 55                  | 2013-09-30 22:00:00 |\n",
       "| 2013                | 9                   | 30                  | 2349                | 2359                | -10                 |  325                |  350                | -25                 | B6                  |  745                | N516JB              | JFK                 | PSE                 | 196                 | 1617                | 23                  | 59                  | 2013-09-30 23:00:00 |\n",
       "| 2013                | 9                   | 30                  |   NA                | 1842                |  NA                 |   NA                | 2019                |  NA                 | EV                  | 5274                | N740EV              | LGA                 | BNA                 |  NA                 |  764                | 18                  | 42                  | 2013-09-30 18:00:00 |\n",
       "| 2013                | 9                   | 30                  |   NA                | 1455                |  NA                 |   NA                | 1634                |  NA                 | 9E                  | 3393                | NA                  | JFK                 | DCA                 |  NA                 |  213                | 14                  | 55                  | 2013-09-30 14:00:00 |\n",
       "| 2013                | 9                   | 30                  |   NA                | 2200                |  NA                 |   NA                | 2312                |  NA                 | 9E                  | 3525                | NA                  | LGA                 | SYR                 |  NA                 |  198                | 22                  |  0                  | 2013-09-30 22:00:00 |\n",
       "| 2013                | 9                   | 30                  |   NA                | 1210                |  NA                 |   NA                | 1330                |  NA                 | MQ                  | 3461                | N535MQ              | LGA                 | BNA                 |  NA                 |  764                | 12                  | 10                  | 2013-09-30 12:00:00 |\n",
       "| 2013                | 9                   | 30                  |   NA                | 1159                |  NA                 |   NA                | 1344                |  NA                 | MQ                  | 3572                | N511MQ              | LGA                 | CLE                 |  NA                 |  419                | 11                  | 59                  | 2013-09-30 11:00:00 |\n",
       "| 2013                | 9                   | 30                  |   NA                |  840                |  NA                 |   NA                | 1020                |  NA                 | MQ                  | 3531                | N839MQ              | LGA                 | RDU                 |  NA                 |  431                |  8                  | 40                  | 2013-09-30 08:00:00 |\n",
       "\n"
      ],
      "text/plain": [
       "       year month day dep_time sched_dep_time dep_delay arr_time sched_arr_time\n",
       "1      2013 1     1   517      515             2         830      819          \n",
       "2      2013 1     1   533      529             4         850      830          \n",
       "3      2013 1     1   542      540             2         923      850          \n",
       "4      2013 1     1   544      545            -1        1004     1022          \n",
       "5      2013 1     1   554      600            -6         812      837          \n",
       "6      2013 1     1   554      558            -4         740      728          \n",
       "7      2013 1     1   555      600            -5         913      854          \n",
       "8      2013 1     1   557      600            -3         709      723          \n",
       "9      2013 1     1   557      600            -3         838      846          \n",
       "10     2013 1     1   558      600            -2         753      745          \n",
       "11     2013 1     1   558      600            -2         849      851          \n",
       "12     2013 1     1   558      600            -2         853      856          \n",
       "13     2013 1     1   558      600            -2         924      917          \n",
       "14     2013 1     1   558      600            -2         923      937          \n",
       "15     2013 1     1   559      600            -1         941      910          \n",
       "16     2013 1     1   559      559             0         702      706          \n",
       "17     2013 1     1   559      600            -1         854      902          \n",
       "18     2013 1     1   600      600             0         851      858          \n",
       "19     2013 1     1   600      600             0         837      825          \n",
       "20     2013 1     1   601      600             1         844      850          \n",
       "21     2013 1     1   602      610            -8         812      820          \n",
       "22     2013 1     1   602      605            -3         821      805          \n",
       "23     2013 1     1   606      610            -4         858      910          \n",
       "24     2013 1     1   606      610            -4         837      845          \n",
       "25     2013 1     1   607      607             0         858      915          \n",
       "26     2013 1     1   608      600             8         807      735          \n",
       "27     2013 1     1   611      600            11         945      931          \n",
       "28     2013 1     1   613      610             3         925      921          \n",
       "29     2013 1     1   615      615             0        1039     1100          \n",
       "30     2013 1     1   615      615             0         833      842          \n",
       "...    ...  ...   ... ...      ...            ...       ...      ...           \n",
       "336747 2013 9     30  2123     2125            -2       2223     2247          \n",
       "336748 2013 9     30  2127     2129            -2       2314     2323          \n",
       "336749 2013 9     30  2128     2130            -2       2328     2359          \n",
       "336750 2013 9     30  2129     2059            30       2230     2232          \n",
       "336751 2013 9     30  2131     2140            -9       2225     2255          \n",
       "336752 2013 9     30  2140     2140             0         10       40          \n",
       "336753 2013 9     30  2142     2129            13       2250     2239          \n",
       "336754 2013 9     30  2145     2145             0        115      140          \n",
       "336755 2013 9     30  2147     2137            10         30       27          \n",
       "336756 2013 9     30  2149     2156            -7       2245     2308          \n",
       "336757 2013 9     30  2150     2159            -9       2250     2306          \n",
       "336758 2013 9     30  2159     1845           194       2344     2030          \n",
       "336759 2013 9     30  2203     2205            -2       2339     2331          \n",
       "336760 2013 9     30  2207     2140            27       2257     2250          \n",
       "336761 2013 9     30  2211     2059            72       2339     2242          \n",
       "336762 2013 9     30  2231     2245           -14       2335     2356          \n",
       "336763 2013 9     30  2233     2113            80        112       30          \n",
       "336764 2013 9     30  2235     2001           154         59     2249          \n",
       "336765 2013 9     30  2237     2245            -8       2345     2353          \n",
       "336766 2013 9     30  2240     2245            -5       2334     2351          \n",
       "336767 2013 9     30  2240     2250           -10       2347        7          \n",
       "336768 2013 9     30  2241     2246            -5       2345        1          \n",
       "336769 2013 9     30  2307     2255            12       2359     2358          \n",
       "336770 2013 9     30  2349     2359           -10        325      350          \n",
       "336771 2013 9     30    NA     1842            NA         NA     2019          \n",
       "336772 2013 9     30    NA     1455            NA         NA     1634          \n",
       "336773 2013 9     30    NA     2200            NA         NA     2312          \n",
       "336774 2013 9     30    NA     1210            NA         NA     1330          \n",
       "336775 2013 9     30    NA     1159            NA         NA     1344          \n",
       "336776 2013 9     30    NA      840            NA         NA     1020          \n",
       "       arr_delay carrier flight tailnum origin dest air_time distance hour\n",
       "1       11       UA      1545   N14228  EWR    IAH  227      1400     5   \n",
       "2       20       UA      1714   N24211  LGA    IAH  227      1416     5   \n",
       "3       33       AA      1141   N619AA  JFK    MIA  160      1089     5   \n",
       "4      -18       B6       725   N804JB  JFK    BQN  183      1576     5   \n",
       "5      -25       DL       461   N668DN  LGA    ATL  116       762     6   \n",
       "6       12       UA      1696   N39463  EWR    ORD  150       719     5   \n",
       "7       19       B6       507   N516JB  EWR    FLL  158      1065     6   \n",
       "8      -14       EV      5708   N829AS  LGA    IAD   53       229     6   \n",
       "9       -8       B6        79   N593JB  JFK    MCO  140       944     6   \n",
       "10       8       AA       301   N3ALAA  LGA    ORD  138       733     6   \n",
       "11      -2       B6        49   N793JB  JFK    PBI  149      1028     6   \n",
       "12      -3       B6        71   N657JB  JFK    TPA  158      1005     6   \n",
       "13       7       UA       194   N29129  JFK    LAX  345      2475     6   \n",
       "14     -14       UA      1124   N53441  EWR    SFO  361      2565     6   \n",
       "15      31       AA       707   N3DUAA  LGA    DFW  257      1389     6   \n",
       "16      -4       B6      1806   N708JB  JFK    BOS   44       187     5   \n",
       "17      -8       UA      1187   N76515  EWR    LAS  337      2227     6   \n",
       "18      -7       B6       371   N595JB  LGA    FLL  152      1076     6   \n",
       "19      12       MQ      4650   N542MQ  LGA    ATL  134       762     6   \n",
       "20      -6       B6       343   N644JB  EWR    PBI  147      1023     6   \n",
       "21      -8       DL      1919   N971DL  LGA    MSP  170      1020     6   \n",
       "22      16       MQ      4401   N730MQ  LGA    DTW  105       502     6   \n",
       "23     -12       AA      1895   N633AA  EWR    MIA  152      1085     6   \n",
       "24      -8       DL      1743   N3739P  JFK    ATL  128       760     6   \n",
       "25     -17       UA      1077   N53442  EWR    MIA  157      1085     6   \n",
       "26      32       MQ      3768   N9EAMQ  EWR    ORD  139       719     6   \n",
       "27      14       UA       303   N532UA  JFK    SFO  366      2586     6   \n",
       "28       4       B6       135   N635JB  JFK    RSW  175      1074     6   \n",
       "29     -21       B6       709   N794JB  JFK    SJU  182      1598     6   \n",
       "30      -9       DL       575   N326NB  EWR    ATL  120       746     6   \n",
       "...    ...       ...     ...    ...     ...    ...  ...      ...      ... \n",
       "336747 -24       EV      5489   N712EV  LGA    CHO   45       305     21  \n",
       "336748  -9       EV      3833   N16546  EWR    CLT   72       529     21  \n",
       "336749 -31       B6        97   N807JB  JFK    DEN  213      1626     21  \n",
       "336750  -2       EV      5048   N751EV  LGA    RIC   45       292     20  \n",
       "336751 -30       MQ      3621   N807MQ  JFK    DCA   36       213     21  \n",
       "336752 -30       AA       185   N335AA  JFK    LAX  298      2475     21  \n",
       "336753  11       EV      4509   N12957  EWR    PWM   47       284     21  \n",
       "336754 -25       B6      1103   N633JB  JFK    SJU  192      1598     21  \n",
       "336755   3       B6      1371   N627JB  LGA    FLL  139      1076     21  \n",
       "336756 -23       UA       523   N813UA  EWR    BOS   37       200     21  \n",
       "336757 -16       EV      3842   N10575  EWR    MHT   39       209     21  \n",
       "336758 194       9E      3320   N906XJ  JFK    BUF   50       301     18  \n",
       "336759   8       EV      5311   N722EV  LGA    BGR   61       378     22  \n",
       "336760   7       MQ      3660   N532MQ  LGA    BNA   97       764     21  \n",
       "336761  57       EV      4672   N12145  EWR    STL  120       872     20  \n",
       "336762 -21       B6       108   N193JB  JFK    PWM   48       273     22  \n",
       "336763  42       UA       471   N578UA  EWR    SFO  318      2565     21  \n",
       "336764 130       B6      1083   N804JB  JFK    MCO  123       944     20  \n",
       "336765  -8       B6       234   N318JB  JFK    BTV   43       266     22  \n",
       "336766 -17       B6      1816   N354JB  JFK    SYR   41       209     22  \n",
       "336767 -20       B6      2002   N281JB  JFK    BUF   52       301     22  \n",
       "336768 -16       B6       486   N346JB  JFK    ROC   47       264     22  \n",
       "336769   1       B6       718   N565JB  JFK    BOS   33       187     22  \n",
       "336770 -25       B6       745   N516JB  JFK    PSE  196      1617     23  \n",
       "336771  NA       EV      5274   N740EV  LGA    BNA   NA       764     18  \n",
       "336772  NA       9E      3393   NA      JFK    DCA   NA       213     14  \n",
       "336773  NA       9E      3525   NA      LGA    SYR   NA       198     22  \n",
       "336774  NA       MQ      3461   N535MQ  LGA    BNA   NA       764     12  \n",
       "336775  NA       MQ      3572   N511MQ  LGA    CLE   NA       419     11  \n",
       "336776  NA       MQ      3531   N839MQ  LGA    RDU   NA       431      8  \n",
       "       minute time_hour          \n",
       "1      15     2013-01-01 05:00:00\n",
       "2      29     2013-01-01 05:00:00\n",
       "3      40     2013-01-01 05:00:00\n",
       "4      45     2013-01-01 05:00:00\n",
       "5       0     2013-01-01 06:00:00\n",
       "6      58     2013-01-01 05:00:00\n",
       "7       0     2013-01-01 06:00:00\n",
       "8       0     2013-01-01 06:00:00\n",
       "9       0     2013-01-01 06:00:00\n",
       "10      0     2013-01-01 06:00:00\n",
       "11      0     2013-01-01 06:00:00\n",
       "12      0     2013-01-01 06:00:00\n",
       "13      0     2013-01-01 06:00:00\n",
       "14      0     2013-01-01 06:00:00\n",
       "15      0     2013-01-01 06:00:00\n",
       "16     59     2013-01-01 05:00:00\n",
       "17      0     2013-01-01 06:00:00\n",
       "18      0     2013-01-01 06:00:00\n",
       "19      0     2013-01-01 06:00:00\n",
       "20      0     2013-01-01 06:00:00\n",
       "21     10     2013-01-01 06:00:00\n",
       "22      5     2013-01-01 06:00:00\n",
       "23     10     2013-01-01 06:00:00\n",
       "24     10     2013-01-01 06:00:00\n",
       "25      7     2013-01-01 06:00:00\n",
       "26      0     2013-01-01 06:00:00\n",
       "27      0     2013-01-01 06:00:00\n",
       "28     10     2013-01-01 06:00:00\n",
       "29     15     2013-01-01 06:00:00\n",
       "30     15     2013-01-01 06:00:00\n",
       "...    ...    ...                \n",
       "336747 25     2013-09-30 21:00:00\n",
       "336748 29     2013-09-30 21:00:00\n",
       "336749 30     2013-09-30 21:00:00\n",
       "336750 59     2013-09-30 20:00:00\n",
       "336751 40     2013-09-30 21:00:00\n",
       "336752 40     2013-09-30 21:00:00\n",
       "336753 29     2013-09-30 21:00:00\n",
       "336754 45     2013-09-30 21:00:00\n",
       "336755 37     2013-09-30 21:00:00\n",
       "336756 56     2013-09-30 21:00:00\n",
       "336757 59     2013-09-30 21:00:00\n",
       "336758 45     2013-09-30 18:00:00\n",
       "336759  5     2013-09-30 22:00:00\n",
       "336760 40     2013-09-30 21:00:00\n",
       "336761 59     2013-09-30 20:00:00\n",
       "336762 45     2013-09-30 22:00:00\n",
       "336763 13     2013-09-30 21:00:00\n",
       "336764  1     2013-09-30 20:00:00\n",
       "336765 45     2013-09-30 22:00:00\n",
       "336766 45     2013-09-30 22:00:00\n",
       "336767 50     2013-09-30 22:00:00\n",
       "336768 46     2013-09-30 22:00:00\n",
       "336769 55     2013-09-30 22:00:00\n",
       "336770 59     2013-09-30 23:00:00\n",
       "336771 42     2013-09-30 18:00:00\n",
       "336772 55     2013-09-30 14:00:00\n",
       "336773  0     2013-09-30 22:00:00\n",
       "336774 10     2013-09-30 12:00:00\n",
       "336775 59     2013-09-30 11:00:00\n",
       "336776 40     2013-09-30 08:00:00"
      ]
     },
     "metadata": {},
     "output_type": "display_data"
    }
   ],
   "source": [
    "flights"
   ]
  },
  {
   "cell_type": "code",
   "execution_count": 8,
   "metadata": {},
   "outputs": [
    {
     "data": {
      "text/html": [
       "<table>\n",
       "<caption>A tibble: 336776 × 6</caption>\n",
       "<thead>\n",
       "\t<tr><th scope=col>year</th><th scope=col>month</th><th scope=col>day</th><th scope=col>hour</th><th scope=col>minute</th><th scope=col>sched_dep_time</th></tr>\n",
       "\t<tr><th scope=col>&lt;int&gt;</th><th scope=col>&lt;int&gt;</th><th scope=col>&lt;int&gt;</th><th scope=col>&lt;dbl&gt;</th><th scope=col>&lt;dbl&gt;</th><th scope=col>&lt;dttm&gt;</th></tr>\n",
       "</thead>\n",
       "<tbody>\n",
       "\t<tr><td>2013</td><td>1</td><td>1</td><td>5</td><td>15</td><td>2013-01-01 05:15:00</td></tr>\n",
       "\t<tr><td>2013</td><td>1</td><td>1</td><td>5</td><td>29</td><td>2013-01-01 05:29:00</td></tr>\n",
       "\t<tr><td>2013</td><td>1</td><td>1</td><td>5</td><td>40</td><td>2013-01-01 05:40:00</td></tr>\n",
       "\t<tr><td>2013</td><td>1</td><td>1</td><td>5</td><td>45</td><td>2013-01-01 05:45:00</td></tr>\n",
       "\t<tr><td>2013</td><td>1</td><td>1</td><td>6</td><td> 0</td><td>2013-01-01 06:00:00</td></tr>\n",
       "\t<tr><td>2013</td><td>1</td><td>1</td><td>5</td><td>58</td><td>2013-01-01 05:58:00</td></tr>\n",
       "\t<tr><td>2013</td><td>1</td><td>1</td><td>6</td><td> 0</td><td>2013-01-01 06:00:00</td></tr>\n",
       "\t<tr><td>2013</td><td>1</td><td>1</td><td>6</td><td> 0</td><td>2013-01-01 06:00:00</td></tr>\n",
       "\t<tr><td>2013</td><td>1</td><td>1</td><td>6</td><td> 0</td><td>2013-01-01 06:00:00</td></tr>\n",
       "\t<tr><td>2013</td><td>1</td><td>1</td><td>6</td><td> 0</td><td>2013-01-01 06:00:00</td></tr>\n",
       "\t<tr><td>2013</td><td>1</td><td>1</td><td>6</td><td> 0</td><td>2013-01-01 06:00:00</td></tr>\n",
       "\t<tr><td>2013</td><td>1</td><td>1</td><td>6</td><td> 0</td><td>2013-01-01 06:00:00</td></tr>\n",
       "\t<tr><td>2013</td><td>1</td><td>1</td><td>6</td><td> 0</td><td>2013-01-01 06:00:00</td></tr>\n",
       "\t<tr><td>2013</td><td>1</td><td>1</td><td>6</td><td> 0</td><td>2013-01-01 06:00:00</td></tr>\n",
       "\t<tr><td>2013</td><td>1</td><td>1</td><td>6</td><td> 0</td><td>2013-01-01 06:00:00</td></tr>\n",
       "\t<tr><td>2013</td><td>1</td><td>1</td><td>5</td><td>59</td><td>2013-01-01 05:59:00</td></tr>\n",
       "\t<tr><td>2013</td><td>1</td><td>1</td><td>6</td><td> 0</td><td>2013-01-01 06:00:00</td></tr>\n",
       "\t<tr><td>2013</td><td>1</td><td>1</td><td>6</td><td> 0</td><td>2013-01-01 06:00:00</td></tr>\n",
       "\t<tr><td>2013</td><td>1</td><td>1</td><td>6</td><td> 0</td><td>2013-01-01 06:00:00</td></tr>\n",
       "\t<tr><td>2013</td><td>1</td><td>1</td><td>6</td><td> 0</td><td>2013-01-01 06:00:00</td></tr>\n",
       "\t<tr><td>2013</td><td>1</td><td>1</td><td>6</td><td>10</td><td>2013-01-01 06:10:00</td></tr>\n",
       "\t<tr><td>2013</td><td>1</td><td>1</td><td>6</td><td> 5</td><td>2013-01-01 06:05:00</td></tr>\n",
       "\t<tr><td>2013</td><td>1</td><td>1</td><td>6</td><td>10</td><td>2013-01-01 06:10:00</td></tr>\n",
       "\t<tr><td>2013</td><td>1</td><td>1</td><td>6</td><td>10</td><td>2013-01-01 06:10:00</td></tr>\n",
       "\t<tr><td>2013</td><td>1</td><td>1</td><td>6</td><td> 7</td><td>2013-01-01 06:07:00</td></tr>\n",
       "\t<tr><td>2013</td><td>1</td><td>1</td><td>6</td><td> 0</td><td>2013-01-01 06:00:00</td></tr>\n",
       "\t<tr><td>2013</td><td>1</td><td>1</td><td>6</td><td> 0</td><td>2013-01-01 06:00:00</td></tr>\n",
       "\t<tr><td>2013</td><td>1</td><td>1</td><td>6</td><td>10</td><td>2013-01-01 06:10:00</td></tr>\n",
       "\t<tr><td>2013</td><td>1</td><td>1</td><td>6</td><td>15</td><td>2013-01-01 06:15:00</td></tr>\n",
       "\t<tr><td>2013</td><td>1</td><td>1</td><td>6</td><td>15</td><td>2013-01-01 06:15:00</td></tr>\n",
       "\t<tr><td>⋮</td><td>⋮</td><td>⋮</td><td>⋮</td><td>⋮</td><td>⋮</td></tr>\n",
       "\t<tr><td>2013</td><td>9</td><td>30</td><td>21</td><td>25</td><td>2013-09-30 21:25:00</td></tr>\n",
       "\t<tr><td>2013</td><td>9</td><td>30</td><td>21</td><td>29</td><td>2013-09-30 21:29:00</td></tr>\n",
       "\t<tr><td>2013</td><td>9</td><td>30</td><td>21</td><td>30</td><td>2013-09-30 21:30:00</td></tr>\n",
       "\t<tr><td>2013</td><td>9</td><td>30</td><td>20</td><td>59</td><td>2013-09-30 20:59:00</td></tr>\n",
       "\t<tr><td>2013</td><td>9</td><td>30</td><td>21</td><td>40</td><td>2013-09-30 21:40:00</td></tr>\n",
       "\t<tr><td>2013</td><td>9</td><td>30</td><td>21</td><td>40</td><td>2013-09-30 21:40:00</td></tr>\n",
       "\t<tr><td>2013</td><td>9</td><td>30</td><td>21</td><td>29</td><td>2013-09-30 21:29:00</td></tr>\n",
       "\t<tr><td>2013</td><td>9</td><td>30</td><td>21</td><td>45</td><td>2013-09-30 21:45:00</td></tr>\n",
       "\t<tr><td>2013</td><td>9</td><td>30</td><td>21</td><td>37</td><td>2013-09-30 21:37:00</td></tr>\n",
       "\t<tr><td>2013</td><td>9</td><td>30</td><td>21</td><td>56</td><td>2013-09-30 21:56:00</td></tr>\n",
       "\t<tr><td>2013</td><td>9</td><td>30</td><td>21</td><td>59</td><td>2013-09-30 21:59:00</td></tr>\n",
       "\t<tr><td>2013</td><td>9</td><td>30</td><td>18</td><td>45</td><td>2013-09-30 18:45:00</td></tr>\n",
       "\t<tr><td>2013</td><td>9</td><td>30</td><td>22</td><td> 5</td><td>2013-09-30 22:05:00</td></tr>\n",
       "\t<tr><td>2013</td><td>9</td><td>30</td><td>21</td><td>40</td><td>2013-09-30 21:40:00</td></tr>\n",
       "\t<tr><td>2013</td><td>9</td><td>30</td><td>20</td><td>59</td><td>2013-09-30 20:59:00</td></tr>\n",
       "\t<tr><td>2013</td><td>9</td><td>30</td><td>22</td><td>45</td><td>2013-09-30 22:45:00</td></tr>\n",
       "\t<tr><td>2013</td><td>9</td><td>30</td><td>21</td><td>13</td><td>2013-09-30 21:13:00</td></tr>\n",
       "\t<tr><td>2013</td><td>9</td><td>30</td><td>20</td><td> 1</td><td>2013-09-30 20:01:00</td></tr>\n",
       "\t<tr><td>2013</td><td>9</td><td>30</td><td>22</td><td>45</td><td>2013-09-30 22:45:00</td></tr>\n",
       "\t<tr><td>2013</td><td>9</td><td>30</td><td>22</td><td>45</td><td>2013-09-30 22:45:00</td></tr>\n",
       "\t<tr><td>2013</td><td>9</td><td>30</td><td>22</td><td>50</td><td>2013-09-30 22:50:00</td></tr>\n",
       "\t<tr><td>2013</td><td>9</td><td>30</td><td>22</td><td>46</td><td>2013-09-30 22:46:00</td></tr>\n",
       "\t<tr><td>2013</td><td>9</td><td>30</td><td>22</td><td>55</td><td>2013-09-30 22:55:00</td></tr>\n",
       "\t<tr><td>2013</td><td>9</td><td>30</td><td>23</td><td>59</td><td>2013-09-30 23:59:00</td></tr>\n",
       "\t<tr><td>2013</td><td>9</td><td>30</td><td>18</td><td>42</td><td>2013-09-30 18:42:00</td></tr>\n",
       "\t<tr><td>2013</td><td>9</td><td>30</td><td>14</td><td>55</td><td>2013-09-30 14:55:00</td></tr>\n",
       "\t<tr><td>2013</td><td>9</td><td>30</td><td>22</td><td> 0</td><td>2013-09-30 22:00:00</td></tr>\n",
       "\t<tr><td>2013</td><td>9</td><td>30</td><td>12</td><td>10</td><td>2013-09-30 12:10:00</td></tr>\n",
       "\t<tr><td>2013</td><td>9</td><td>30</td><td>11</td><td>59</td><td>2013-09-30 11:59:00</td></tr>\n",
       "\t<tr><td>2013</td><td>9</td><td>30</td><td> 8</td><td>40</td><td>2013-09-30 08:40:00</td></tr>\n",
       "</tbody>\n",
       "</table>\n"
      ],
      "text/latex": [
       "A tibble: 336776 × 6\n",
       "\\begin{tabular}{llllll}\n",
       " year & month & day & hour & minute & sched\\_dep\\_time\\\\\n",
       " <int> & <int> & <int> & <dbl> & <dbl> & <dttm>\\\\\n",
       "\\hline\n",
       "\t 2013 & 1 & 1 & 5 & 15 & 2013-01-01 05:15:00\\\\\n",
       "\t 2013 & 1 & 1 & 5 & 29 & 2013-01-01 05:29:00\\\\\n",
       "\t 2013 & 1 & 1 & 5 & 40 & 2013-01-01 05:40:00\\\\\n",
       "\t 2013 & 1 & 1 & 5 & 45 & 2013-01-01 05:45:00\\\\\n",
       "\t 2013 & 1 & 1 & 6 &  0 & 2013-01-01 06:00:00\\\\\n",
       "\t 2013 & 1 & 1 & 5 & 58 & 2013-01-01 05:58:00\\\\\n",
       "\t 2013 & 1 & 1 & 6 &  0 & 2013-01-01 06:00:00\\\\\n",
       "\t 2013 & 1 & 1 & 6 &  0 & 2013-01-01 06:00:00\\\\\n",
       "\t 2013 & 1 & 1 & 6 &  0 & 2013-01-01 06:00:00\\\\\n",
       "\t 2013 & 1 & 1 & 6 &  0 & 2013-01-01 06:00:00\\\\\n",
       "\t 2013 & 1 & 1 & 6 &  0 & 2013-01-01 06:00:00\\\\\n",
       "\t 2013 & 1 & 1 & 6 &  0 & 2013-01-01 06:00:00\\\\\n",
       "\t 2013 & 1 & 1 & 6 &  0 & 2013-01-01 06:00:00\\\\\n",
       "\t 2013 & 1 & 1 & 6 &  0 & 2013-01-01 06:00:00\\\\\n",
       "\t 2013 & 1 & 1 & 6 &  0 & 2013-01-01 06:00:00\\\\\n",
       "\t 2013 & 1 & 1 & 5 & 59 & 2013-01-01 05:59:00\\\\\n",
       "\t 2013 & 1 & 1 & 6 &  0 & 2013-01-01 06:00:00\\\\\n",
       "\t 2013 & 1 & 1 & 6 &  0 & 2013-01-01 06:00:00\\\\\n",
       "\t 2013 & 1 & 1 & 6 &  0 & 2013-01-01 06:00:00\\\\\n",
       "\t 2013 & 1 & 1 & 6 &  0 & 2013-01-01 06:00:00\\\\\n",
       "\t 2013 & 1 & 1 & 6 & 10 & 2013-01-01 06:10:00\\\\\n",
       "\t 2013 & 1 & 1 & 6 &  5 & 2013-01-01 06:05:00\\\\\n",
       "\t 2013 & 1 & 1 & 6 & 10 & 2013-01-01 06:10:00\\\\\n",
       "\t 2013 & 1 & 1 & 6 & 10 & 2013-01-01 06:10:00\\\\\n",
       "\t 2013 & 1 & 1 & 6 &  7 & 2013-01-01 06:07:00\\\\\n",
       "\t 2013 & 1 & 1 & 6 &  0 & 2013-01-01 06:00:00\\\\\n",
       "\t 2013 & 1 & 1 & 6 &  0 & 2013-01-01 06:00:00\\\\\n",
       "\t 2013 & 1 & 1 & 6 & 10 & 2013-01-01 06:10:00\\\\\n",
       "\t 2013 & 1 & 1 & 6 & 15 & 2013-01-01 06:15:00\\\\\n",
       "\t 2013 & 1 & 1 & 6 & 15 & 2013-01-01 06:15:00\\\\\n",
       "\t ⋮ & ⋮ & ⋮ & ⋮ & ⋮ & ⋮\\\\\n",
       "\t 2013 & 9 & 30 & 21 & 25 & 2013-09-30 21:25:00\\\\\n",
       "\t 2013 & 9 & 30 & 21 & 29 & 2013-09-30 21:29:00\\\\\n",
       "\t 2013 & 9 & 30 & 21 & 30 & 2013-09-30 21:30:00\\\\\n",
       "\t 2013 & 9 & 30 & 20 & 59 & 2013-09-30 20:59:00\\\\\n",
       "\t 2013 & 9 & 30 & 21 & 40 & 2013-09-30 21:40:00\\\\\n",
       "\t 2013 & 9 & 30 & 21 & 40 & 2013-09-30 21:40:00\\\\\n",
       "\t 2013 & 9 & 30 & 21 & 29 & 2013-09-30 21:29:00\\\\\n",
       "\t 2013 & 9 & 30 & 21 & 45 & 2013-09-30 21:45:00\\\\\n",
       "\t 2013 & 9 & 30 & 21 & 37 & 2013-09-30 21:37:00\\\\\n",
       "\t 2013 & 9 & 30 & 21 & 56 & 2013-09-30 21:56:00\\\\\n",
       "\t 2013 & 9 & 30 & 21 & 59 & 2013-09-30 21:59:00\\\\\n",
       "\t 2013 & 9 & 30 & 18 & 45 & 2013-09-30 18:45:00\\\\\n",
       "\t 2013 & 9 & 30 & 22 &  5 & 2013-09-30 22:05:00\\\\\n",
       "\t 2013 & 9 & 30 & 21 & 40 & 2013-09-30 21:40:00\\\\\n",
       "\t 2013 & 9 & 30 & 20 & 59 & 2013-09-30 20:59:00\\\\\n",
       "\t 2013 & 9 & 30 & 22 & 45 & 2013-09-30 22:45:00\\\\\n",
       "\t 2013 & 9 & 30 & 21 & 13 & 2013-09-30 21:13:00\\\\\n",
       "\t 2013 & 9 & 30 & 20 &  1 & 2013-09-30 20:01:00\\\\\n",
       "\t 2013 & 9 & 30 & 22 & 45 & 2013-09-30 22:45:00\\\\\n",
       "\t 2013 & 9 & 30 & 22 & 45 & 2013-09-30 22:45:00\\\\\n",
       "\t 2013 & 9 & 30 & 22 & 50 & 2013-09-30 22:50:00\\\\\n",
       "\t 2013 & 9 & 30 & 22 & 46 & 2013-09-30 22:46:00\\\\\n",
       "\t 2013 & 9 & 30 & 22 & 55 & 2013-09-30 22:55:00\\\\\n",
       "\t 2013 & 9 & 30 & 23 & 59 & 2013-09-30 23:59:00\\\\\n",
       "\t 2013 & 9 & 30 & 18 & 42 & 2013-09-30 18:42:00\\\\\n",
       "\t 2013 & 9 & 30 & 14 & 55 & 2013-09-30 14:55:00\\\\\n",
       "\t 2013 & 9 & 30 & 22 &  0 & 2013-09-30 22:00:00\\\\\n",
       "\t 2013 & 9 & 30 & 12 & 10 & 2013-09-30 12:10:00\\\\\n",
       "\t 2013 & 9 & 30 & 11 & 59 & 2013-09-30 11:59:00\\\\\n",
       "\t 2013 & 9 & 30 &  8 & 40 & 2013-09-30 08:40:00\\\\\n",
       "\\end{tabular}\n"
      ],
      "text/markdown": [
       "\n",
       "A tibble: 336776 × 6\n",
       "\n",
       "| year &lt;int&gt; | month &lt;int&gt; | day &lt;int&gt; | hour &lt;dbl&gt; | minute &lt;dbl&gt; | sched_dep_time &lt;dttm&gt; |\n",
       "|---|---|---|---|---|---|\n",
       "| 2013 | 1 | 1 | 5 | 15 | 2013-01-01 05:15:00 |\n",
       "| 2013 | 1 | 1 | 5 | 29 | 2013-01-01 05:29:00 |\n",
       "| 2013 | 1 | 1 | 5 | 40 | 2013-01-01 05:40:00 |\n",
       "| 2013 | 1 | 1 | 5 | 45 | 2013-01-01 05:45:00 |\n",
       "| 2013 | 1 | 1 | 6 |  0 | 2013-01-01 06:00:00 |\n",
       "| 2013 | 1 | 1 | 5 | 58 | 2013-01-01 05:58:00 |\n",
       "| 2013 | 1 | 1 | 6 |  0 | 2013-01-01 06:00:00 |\n",
       "| 2013 | 1 | 1 | 6 |  0 | 2013-01-01 06:00:00 |\n",
       "| 2013 | 1 | 1 | 6 |  0 | 2013-01-01 06:00:00 |\n",
       "| 2013 | 1 | 1 | 6 |  0 | 2013-01-01 06:00:00 |\n",
       "| 2013 | 1 | 1 | 6 |  0 | 2013-01-01 06:00:00 |\n",
       "| 2013 | 1 | 1 | 6 |  0 | 2013-01-01 06:00:00 |\n",
       "| 2013 | 1 | 1 | 6 |  0 | 2013-01-01 06:00:00 |\n",
       "| 2013 | 1 | 1 | 6 |  0 | 2013-01-01 06:00:00 |\n",
       "| 2013 | 1 | 1 | 6 |  0 | 2013-01-01 06:00:00 |\n",
       "| 2013 | 1 | 1 | 5 | 59 | 2013-01-01 05:59:00 |\n",
       "| 2013 | 1 | 1 | 6 |  0 | 2013-01-01 06:00:00 |\n",
       "| 2013 | 1 | 1 | 6 |  0 | 2013-01-01 06:00:00 |\n",
       "| 2013 | 1 | 1 | 6 |  0 | 2013-01-01 06:00:00 |\n",
       "| 2013 | 1 | 1 | 6 |  0 | 2013-01-01 06:00:00 |\n",
       "| 2013 | 1 | 1 | 6 | 10 | 2013-01-01 06:10:00 |\n",
       "| 2013 | 1 | 1 | 6 |  5 | 2013-01-01 06:05:00 |\n",
       "| 2013 | 1 | 1 | 6 | 10 | 2013-01-01 06:10:00 |\n",
       "| 2013 | 1 | 1 | 6 | 10 | 2013-01-01 06:10:00 |\n",
       "| 2013 | 1 | 1 | 6 |  7 | 2013-01-01 06:07:00 |\n",
       "| 2013 | 1 | 1 | 6 |  0 | 2013-01-01 06:00:00 |\n",
       "| 2013 | 1 | 1 | 6 |  0 | 2013-01-01 06:00:00 |\n",
       "| 2013 | 1 | 1 | 6 | 10 | 2013-01-01 06:10:00 |\n",
       "| 2013 | 1 | 1 | 6 | 15 | 2013-01-01 06:15:00 |\n",
       "| 2013 | 1 | 1 | 6 | 15 | 2013-01-01 06:15:00 |\n",
       "| ⋮ | ⋮ | ⋮ | ⋮ | ⋮ | ⋮ |\n",
       "| 2013 | 9 | 30 | 21 | 25 | 2013-09-30 21:25:00 |\n",
       "| 2013 | 9 | 30 | 21 | 29 | 2013-09-30 21:29:00 |\n",
       "| 2013 | 9 | 30 | 21 | 30 | 2013-09-30 21:30:00 |\n",
       "| 2013 | 9 | 30 | 20 | 59 | 2013-09-30 20:59:00 |\n",
       "| 2013 | 9 | 30 | 21 | 40 | 2013-09-30 21:40:00 |\n",
       "| 2013 | 9 | 30 | 21 | 40 | 2013-09-30 21:40:00 |\n",
       "| 2013 | 9 | 30 | 21 | 29 | 2013-09-30 21:29:00 |\n",
       "| 2013 | 9 | 30 | 21 | 45 | 2013-09-30 21:45:00 |\n",
       "| 2013 | 9 | 30 | 21 | 37 | 2013-09-30 21:37:00 |\n",
       "| 2013 | 9 | 30 | 21 | 56 | 2013-09-30 21:56:00 |\n",
       "| 2013 | 9 | 30 | 21 | 59 | 2013-09-30 21:59:00 |\n",
       "| 2013 | 9 | 30 | 18 | 45 | 2013-09-30 18:45:00 |\n",
       "| 2013 | 9 | 30 | 22 |  5 | 2013-09-30 22:05:00 |\n",
       "| 2013 | 9 | 30 | 21 | 40 | 2013-09-30 21:40:00 |\n",
       "| 2013 | 9 | 30 | 20 | 59 | 2013-09-30 20:59:00 |\n",
       "| 2013 | 9 | 30 | 22 | 45 | 2013-09-30 22:45:00 |\n",
       "| 2013 | 9 | 30 | 21 | 13 | 2013-09-30 21:13:00 |\n",
       "| 2013 | 9 | 30 | 20 |  1 | 2013-09-30 20:01:00 |\n",
       "| 2013 | 9 | 30 | 22 | 45 | 2013-09-30 22:45:00 |\n",
       "| 2013 | 9 | 30 | 22 | 45 | 2013-09-30 22:45:00 |\n",
       "| 2013 | 9 | 30 | 22 | 50 | 2013-09-30 22:50:00 |\n",
       "| 2013 | 9 | 30 | 22 | 46 | 2013-09-30 22:46:00 |\n",
       "| 2013 | 9 | 30 | 22 | 55 | 2013-09-30 22:55:00 |\n",
       "| 2013 | 9 | 30 | 23 | 59 | 2013-09-30 23:59:00 |\n",
       "| 2013 | 9 | 30 | 18 | 42 | 2013-09-30 18:42:00 |\n",
       "| 2013 | 9 | 30 | 14 | 55 | 2013-09-30 14:55:00 |\n",
       "| 2013 | 9 | 30 | 22 |  0 | 2013-09-30 22:00:00 |\n",
       "| 2013 | 9 | 30 | 12 | 10 | 2013-09-30 12:10:00 |\n",
       "| 2013 | 9 | 30 | 11 | 59 | 2013-09-30 11:59:00 |\n",
       "| 2013 | 9 | 30 |  8 | 40 | 2013-09-30 08:40:00 |\n",
       "\n"
      ],
      "text/plain": [
       "       year month day hour minute sched_dep_time     \n",
       "1      2013 1     1   5    15     2013-01-01 05:15:00\n",
       "2      2013 1     1   5    29     2013-01-01 05:29:00\n",
       "3      2013 1     1   5    40     2013-01-01 05:40:00\n",
       "4      2013 1     1   5    45     2013-01-01 05:45:00\n",
       "5      2013 1     1   6     0     2013-01-01 06:00:00\n",
       "6      2013 1     1   5    58     2013-01-01 05:58:00\n",
       "7      2013 1     1   6     0     2013-01-01 06:00:00\n",
       "8      2013 1     1   6     0     2013-01-01 06:00:00\n",
       "9      2013 1     1   6     0     2013-01-01 06:00:00\n",
       "10     2013 1     1   6     0     2013-01-01 06:00:00\n",
       "11     2013 1     1   6     0     2013-01-01 06:00:00\n",
       "12     2013 1     1   6     0     2013-01-01 06:00:00\n",
       "13     2013 1     1   6     0     2013-01-01 06:00:00\n",
       "14     2013 1     1   6     0     2013-01-01 06:00:00\n",
       "15     2013 1     1   6     0     2013-01-01 06:00:00\n",
       "16     2013 1     1   5    59     2013-01-01 05:59:00\n",
       "17     2013 1     1   6     0     2013-01-01 06:00:00\n",
       "18     2013 1     1   6     0     2013-01-01 06:00:00\n",
       "19     2013 1     1   6     0     2013-01-01 06:00:00\n",
       "20     2013 1     1   6     0     2013-01-01 06:00:00\n",
       "21     2013 1     1   6    10     2013-01-01 06:10:00\n",
       "22     2013 1     1   6     5     2013-01-01 06:05:00\n",
       "23     2013 1     1   6    10     2013-01-01 06:10:00\n",
       "24     2013 1     1   6    10     2013-01-01 06:10:00\n",
       "25     2013 1     1   6     7     2013-01-01 06:07:00\n",
       "26     2013 1     1   6     0     2013-01-01 06:00:00\n",
       "27     2013 1     1   6     0     2013-01-01 06:00:00\n",
       "28     2013 1     1   6    10     2013-01-01 06:10:00\n",
       "29     2013 1     1   6    15     2013-01-01 06:15:00\n",
       "30     2013 1     1   6    15     2013-01-01 06:15:00\n",
       "⋮      ⋮    ⋮     ⋮   ⋮    ⋮      ⋮                  \n",
       "336747 2013 9     30  21   25     2013-09-30 21:25:00\n",
       "336748 2013 9     30  21   29     2013-09-30 21:29:00\n",
       "336749 2013 9     30  21   30     2013-09-30 21:30:00\n",
       "336750 2013 9     30  20   59     2013-09-30 20:59:00\n",
       "336751 2013 9     30  21   40     2013-09-30 21:40:00\n",
       "336752 2013 9     30  21   40     2013-09-30 21:40:00\n",
       "336753 2013 9     30  21   29     2013-09-30 21:29:00\n",
       "336754 2013 9     30  21   45     2013-09-30 21:45:00\n",
       "336755 2013 9     30  21   37     2013-09-30 21:37:00\n",
       "336756 2013 9     30  21   56     2013-09-30 21:56:00\n",
       "336757 2013 9     30  21   59     2013-09-30 21:59:00\n",
       "336758 2013 9     30  18   45     2013-09-30 18:45:00\n",
       "336759 2013 9     30  22    5     2013-09-30 22:05:00\n",
       "336760 2013 9     30  21   40     2013-09-30 21:40:00\n",
       "336761 2013 9     30  20   59     2013-09-30 20:59:00\n",
       "336762 2013 9     30  22   45     2013-09-30 22:45:00\n",
       "336763 2013 9     30  21   13     2013-09-30 21:13:00\n",
       "336764 2013 9     30  20    1     2013-09-30 20:01:00\n",
       "336765 2013 9     30  22   45     2013-09-30 22:45:00\n",
       "336766 2013 9     30  22   45     2013-09-30 22:45:00\n",
       "336767 2013 9     30  22   50     2013-09-30 22:50:00\n",
       "336768 2013 9     30  22   46     2013-09-30 22:46:00\n",
       "336769 2013 9     30  22   55     2013-09-30 22:55:00\n",
       "336770 2013 9     30  23   59     2013-09-30 23:59:00\n",
       "336771 2013 9     30  18   42     2013-09-30 18:42:00\n",
       "336772 2013 9     30  14   55     2013-09-30 14:55:00\n",
       "336773 2013 9     30  22    0     2013-09-30 22:00:00\n",
       "336774 2013 9     30  12   10     2013-09-30 12:10:00\n",
       "336775 2013 9     30  11   59     2013-09-30 11:59:00\n",
       "336776 2013 9     30   8   40     2013-09-30 08:40:00"
      ]
     },
     "metadata": {},
     "output_type": "display_data"
    }
   ],
   "source": [
    "flights %>% select(year, month, day, hour, minute) %>%\n",
    "  mutate(sched_dep_time=make_datetime(year, month, day, hour, minute))"
   ]
  },
  {
   "cell_type": "code",
   "execution_count": 32,
   "metadata": {},
   "outputs": [],
   "source": [
    "flights_dt <- flights %>%\n",
    "  filter(!is.na(dep_time), !is.na(arr_time)) %>% mutate(\n",
    "  dep_time = make_datetime(year, month, day,\n",
    "                          dep_time%/%100, dep_time%%100),\n",
    "      arr_time = make_datetime(year, month, day,\n",
    "                              arr_time%/%100, arr_time%%100),\n",
    "      sched_dep_time = make_datetime(year, month, day,\n",
    "                                    sched_dep_time%/%100,sched_dep_time%%100),\n",
    "      sched_arr_time = make_datetime(year, month, day,\n",
    "                                    sched_arr_time%/%100, sched_arr_time%%100))"
   ]
  },
  {
   "cell_type": "code",
   "execution_count": 33,
   "metadata": {},
   "outputs": [
    {
     "data": {
      "text/html": [
       "<table>\n",
       "<caption>A tibble: 328063 × 19</caption>\n",
       "<thead>\n",
       "\t<tr><th scope=col>year</th><th scope=col>month</th><th scope=col>day</th><th scope=col>dep_time</th><th scope=col>sched_dep_time</th><th scope=col>dep_delay</th><th scope=col>arr_time</th><th scope=col>sched_arr_time</th><th scope=col>arr_delay</th><th scope=col>carrier</th><th scope=col>flight</th><th scope=col>tailnum</th><th scope=col>origin</th><th scope=col>dest</th><th scope=col>air_time</th><th scope=col>distance</th><th scope=col>hour</th><th scope=col>minute</th><th scope=col>time_hour</th></tr>\n",
       "\t<tr><th scope=col>&lt;int&gt;</th><th scope=col>&lt;int&gt;</th><th scope=col>&lt;int&gt;</th><th scope=col>&lt;dttm&gt;</th><th scope=col>&lt;dttm&gt;</th><th scope=col>&lt;dbl&gt;</th><th scope=col>&lt;dttm&gt;</th><th scope=col>&lt;dttm&gt;</th><th scope=col>&lt;dbl&gt;</th><th scope=col>&lt;chr&gt;</th><th scope=col>&lt;int&gt;</th><th scope=col>&lt;chr&gt;</th><th scope=col>&lt;chr&gt;</th><th scope=col>&lt;chr&gt;</th><th scope=col>&lt;dbl&gt;</th><th scope=col>&lt;dbl&gt;</th><th scope=col>&lt;dbl&gt;</th><th scope=col>&lt;dbl&gt;</th><th scope=col>&lt;dttm&gt;</th></tr>\n",
       "</thead>\n",
       "<tbody>\n",
       "\t<tr><td>2013</td><td>1</td><td>1</td><td>2013-01-01 05:17:00</td><td>2013-01-01 05:15:00</td><td> 2</td><td>2013-01-01 08:30:00</td><td>2013-01-01 08:19:00</td><td> 11</td><td>UA</td><td>1545</td><td>N14228</td><td>EWR</td><td>IAH</td><td>227</td><td>1400</td><td>5</td><td>15</td><td>2013-01-01 05:00:00</td></tr>\n",
       "\t<tr><td>2013</td><td>1</td><td>1</td><td>2013-01-01 05:33:00</td><td>2013-01-01 05:29:00</td><td> 4</td><td>2013-01-01 08:50:00</td><td>2013-01-01 08:30:00</td><td> 20</td><td>UA</td><td>1714</td><td>N24211</td><td>LGA</td><td>IAH</td><td>227</td><td>1416</td><td>5</td><td>29</td><td>2013-01-01 05:00:00</td></tr>\n",
       "\t<tr><td>2013</td><td>1</td><td>1</td><td>2013-01-01 05:42:00</td><td>2013-01-01 05:40:00</td><td> 2</td><td>2013-01-01 09:23:00</td><td>2013-01-01 08:50:00</td><td> 33</td><td>AA</td><td>1141</td><td>N619AA</td><td>JFK</td><td>MIA</td><td>160</td><td>1089</td><td>5</td><td>40</td><td>2013-01-01 05:00:00</td></tr>\n",
       "\t<tr><td>2013</td><td>1</td><td>1</td><td>2013-01-01 05:44:00</td><td>2013-01-01 05:45:00</td><td>-1</td><td>2013-01-01 10:04:00</td><td>2013-01-01 10:22:00</td><td>-18</td><td>B6</td><td> 725</td><td>N804JB</td><td>JFK</td><td>BQN</td><td>183</td><td>1576</td><td>5</td><td>45</td><td>2013-01-01 05:00:00</td></tr>\n",
       "\t<tr><td>2013</td><td>1</td><td>1</td><td>2013-01-01 05:54:00</td><td>2013-01-01 06:00:00</td><td>-6</td><td>2013-01-01 08:12:00</td><td>2013-01-01 08:37:00</td><td>-25</td><td>DL</td><td> 461</td><td>N668DN</td><td>LGA</td><td>ATL</td><td>116</td><td> 762</td><td>6</td><td> 0</td><td>2013-01-01 06:00:00</td></tr>\n",
       "\t<tr><td>2013</td><td>1</td><td>1</td><td>2013-01-01 05:54:00</td><td>2013-01-01 05:58:00</td><td>-4</td><td>2013-01-01 07:40:00</td><td>2013-01-01 07:28:00</td><td> 12</td><td>UA</td><td>1696</td><td>N39463</td><td>EWR</td><td>ORD</td><td>150</td><td> 719</td><td>5</td><td>58</td><td>2013-01-01 05:00:00</td></tr>\n",
       "\t<tr><td>2013</td><td>1</td><td>1</td><td>2013-01-01 05:55:00</td><td>2013-01-01 06:00:00</td><td>-5</td><td>2013-01-01 09:13:00</td><td>2013-01-01 08:54:00</td><td> 19</td><td>B6</td><td> 507</td><td>N516JB</td><td>EWR</td><td>FLL</td><td>158</td><td>1065</td><td>6</td><td> 0</td><td>2013-01-01 06:00:00</td></tr>\n",
       "\t<tr><td>2013</td><td>1</td><td>1</td><td>2013-01-01 05:57:00</td><td>2013-01-01 06:00:00</td><td>-3</td><td>2013-01-01 07:09:00</td><td>2013-01-01 07:23:00</td><td>-14</td><td>EV</td><td>5708</td><td>N829AS</td><td>LGA</td><td>IAD</td><td> 53</td><td> 229</td><td>6</td><td> 0</td><td>2013-01-01 06:00:00</td></tr>\n",
       "\t<tr><td>2013</td><td>1</td><td>1</td><td>2013-01-01 05:57:00</td><td>2013-01-01 06:00:00</td><td>-3</td><td>2013-01-01 08:38:00</td><td>2013-01-01 08:46:00</td><td> -8</td><td>B6</td><td>  79</td><td>N593JB</td><td>JFK</td><td>MCO</td><td>140</td><td> 944</td><td>6</td><td> 0</td><td>2013-01-01 06:00:00</td></tr>\n",
       "\t<tr><td>2013</td><td>1</td><td>1</td><td>2013-01-01 05:58:00</td><td>2013-01-01 06:00:00</td><td>-2</td><td>2013-01-01 07:53:00</td><td>2013-01-01 07:45:00</td><td>  8</td><td>AA</td><td> 301</td><td>N3ALAA</td><td>LGA</td><td>ORD</td><td>138</td><td> 733</td><td>6</td><td> 0</td><td>2013-01-01 06:00:00</td></tr>\n",
       "\t<tr><td>2013</td><td>1</td><td>1</td><td>2013-01-01 05:58:00</td><td>2013-01-01 06:00:00</td><td>-2</td><td>2013-01-01 08:49:00</td><td>2013-01-01 08:51:00</td><td> -2</td><td>B6</td><td>  49</td><td>N793JB</td><td>JFK</td><td>PBI</td><td>149</td><td>1028</td><td>6</td><td> 0</td><td>2013-01-01 06:00:00</td></tr>\n",
       "\t<tr><td>2013</td><td>1</td><td>1</td><td>2013-01-01 05:58:00</td><td>2013-01-01 06:00:00</td><td>-2</td><td>2013-01-01 08:53:00</td><td>2013-01-01 08:56:00</td><td> -3</td><td>B6</td><td>  71</td><td>N657JB</td><td>JFK</td><td>TPA</td><td>158</td><td>1005</td><td>6</td><td> 0</td><td>2013-01-01 06:00:00</td></tr>\n",
       "\t<tr><td>2013</td><td>1</td><td>1</td><td>2013-01-01 05:58:00</td><td>2013-01-01 06:00:00</td><td>-2</td><td>2013-01-01 09:24:00</td><td>2013-01-01 09:17:00</td><td>  7</td><td>UA</td><td> 194</td><td>N29129</td><td>JFK</td><td>LAX</td><td>345</td><td>2475</td><td>6</td><td> 0</td><td>2013-01-01 06:00:00</td></tr>\n",
       "\t<tr><td>2013</td><td>1</td><td>1</td><td>2013-01-01 05:58:00</td><td>2013-01-01 06:00:00</td><td>-2</td><td>2013-01-01 09:23:00</td><td>2013-01-01 09:37:00</td><td>-14</td><td>UA</td><td>1124</td><td>N53441</td><td>EWR</td><td>SFO</td><td>361</td><td>2565</td><td>6</td><td> 0</td><td>2013-01-01 06:00:00</td></tr>\n",
       "\t<tr><td>2013</td><td>1</td><td>1</td><td>2013-01-01 05:59:00</td><td>2013-01-01 06:00:00</td><td>-1</td><td>2013-01-01 09:41:00</td><td>2013-01-01 09:10:00</td><td> 31</td><td>AA</td><td> 707</td><td>N3DUAA</td><td>LGA</td><td>DFW</td><td>257</td><td>1389</td><td>6</td><td> 0</td><td>2013-01-01 06:00:00</td></tr>\n",
       "\t<tr><td>2013</td><td>1</td><td>1</td><td>2013-01-01 05:59:00</td><td>2013-01-01 05:59:00</td><td> 0</td><td>2013-01-01 07:02:00</td><td>2013-01-01 07:06:00</td><td> -4</td><td>B6</td><td>1806</td><td>N708JB</td><td>JFK</td><td>BOS</td><td> 44</td><td> 187</td><td>5</td><td>59</td><td>2013-01-01 05:00:00</td></tr>\n",
       "\t<tr><td>2013</td><td>1</td><td>1</td><td>2013-01-01 05:59:00</td><td>2013-01-01 06:00:00</td><td>-1</td><td>2013-01-01 08:54:00</td><td>2013-01-01 09:02:00</td><td> -8</td><td>UA</td><td>1187</td><td>N76515</td><td>EWR</td><td>LAS</td><td>337</td><td>2227</td><td>6</td><td> 0</td><td>2013-01-01 06:00:00</td></tr>\n",
       "\t<tr><td>2013</td><td>1</td><td>1</td><td>2013-01-01 06:00:00</td><td>2013-01-01 06:00:00</td><td> 0</td><td>2013-01-01 08:51:00</td><td>2013-01-01 08:58:00</td><td> -7</td><td>B6</td><td> 371</td><td>N595JB</td><td>LGA</td><td>FLL</td><td>152</td><td>1076</td><td>6</td><td> 0</td><td>2013-01-01 06:00:00</td></tr>\n",
       "\t<tr><td>2013</td><td>1</td><td>1</td><td>2013-01-01 06:00:00</td><td>2013-01-01 06:00:00</td><td> 0</td><td>2013-01-01 08:37:00</td><td>2013-01-01 08:25:00</td><td> 12</td><td>MQ</td><td>4650</td><td>N542MQ</td><td>LGA</td><td>ATL</td><td>134</td><td> 762</td><td>6</td><td> 0</td><td>2013-01-01 06:00:00</td></tr>\n",
       "\t<tr><td>2013</td><td>1</td><td>1</td><td>2013-01-01 06:01:00</td><td>2013-01-01 06:00:00</td><td> 1</td><td>2013-01-01 08:44:00</td><td>2013-01-01 08:50:00</td><td> -6</td><td>B6</td><td> 343</td><td>N644JB</td><td>EWR</td><td>PBI</td><td>147</td><td>1023</td><td>6</td><td> 0</td><td>2013-01-01 06:00:00</td></tr>\n",
       "\t<tr><td>2013</td><td>1</td><td>1</td><td>2013-01-01 06:02:00</td><td>2013-01-01 06:10:00</td><td>-8</td><td>2013-01-01 08:12:00</td><td>2013-01-01 08:20:00</td><td> -8</td><td>DL</td><td>1919</td><td>N971DL</td><td>LGA</td><td>MSP</td><td>170</td><td>1020</td><td>6</td><td>10</td><td>2013-01-01 06:00:00</td></tr>\n",
       "\t<tr><td>2013</td><td>1</td><td>1</td><td>2013-01-01 06:02:00</td><td>2013-01-01 06:05:00</td><td>-3</td><td>2013-01-01 08:21:00</td><td>2013-01-01 08:05:00</td><td> 16</td><td>MQ</td><td>4401</td><td>N730MQ</td><td>LGA</td><td>DTW</td><td>105</td><td> 502</td><td>6</td><td> 5</td><td>2013-01-01 06:00:00</td></tr>\n",
       "\t<tr><td>2013</td><td>1</td><td>1</td><td>2013-01-01 06:06:00</td><td>2013-01-01 06:10:00</td><td>-4</td><td>2013-01-01 08:58:00</td><td>2013-01-01 09:10:00</td><td>-12</td><td>AA</td><td>1895</td><td>N633AA</td><td>EWR</td><td>MIA</td><td>152</td><td>1085</td><td>6</td><td>10</td><td>2013-01-01 06:00:00</td></tr>\n",
       "\t<tr><td>2013</td><td>1</td><td>1</td><td>2013-01-01 06:06:00</td><td>2013-01-01 06:10:00</td><td>-4</td><td>2013-01-01 08:37:00</td><td>2013-01-01 08:45:00</td><td> -8</td><td>DL</td><td>1743</td><td>N3739P</td><td>JFK</td><td>ATL</td><td>128</td><td> 760</td><td>6</td><td>10</td><td>2013-01-01 06:00:00</td></tr>\n",
       "\t<tr><td>2013</td><td>1</td><td>1</td><td>2013-01-01 06:07:00</td><td>2013-01-01 06:07:00</td><td> 0</td><td>2013-01-01 08:58:00</td><td>2013-01-01 09:15:00</td><td>-17</td><td>UA</td><td>1077</td><td>N53442</td><td>EWR</td><td>MIA</td><td>157</td><td>1085</td><td>6</td><td> 7</td><td>2013-01-01 06:00:00</td></tr>\n",
       "\t<tr><td>2013</td><td>1</td><td>1</td><td>2013-01-01 06:08:00</td><td>2013-01-01 06:00:00</td><td> 8</td><td>2013-01-01 08:07:00</td><td>2013-01-01 07:35:00</td><td> 32</td><td>MQ</td><td>3768</td><td>N9EAMQ</td><td>EWR</td><td>ORD</td><td>139</td><td> 719</td><td>6</td><td> 0</td><td>2013-01-01 06:00:00</td></tr>\n",
       "\t<tr><td>2013</td><td>1</td><td>1</td><td>2013-01-01 06:11:00</td><td>2013-01-01 06:00:00</td><td>11</td><td>2013-01-01 09:45:00</td><td>2013-01-01 09:31:00</td><td> 14</td><td>UA</td><td> 303</td><td>N532UA</td><td>JFK</td><td>SFO</td><td>366</td><td>2586</td><td>6</td><td> 0</td><td>2013-01-01 06:00:00</td></tr>\n",
       "\t<tr><td>2013</td><td>1</td><td>1</td><td>2013-01-01 06:13:00</td><td>2013-01-01 06:10:00</td><td> 3</td><td>2013-01-01 09:25:00</td><td>2013-01-01 09:21:00</td><td>  4</td><td>B6</td><td> 135</td><td>N635JB</td><td>JFK</td><td>RSW</td><td>175</td><td>1074</td><td>6</td><td>10</td><td>2013-01-01 06:00:00</td></tr>\n",
       "\t<tr><td>2013</td><td>1</td><td>1</td><td>2013-01-01 06:15:00</td><td>2013-01-01 06:15:00</td><td> 0</td><td>2013-01-01 10:39:00</td><td>2013-01-01 11:00:00</td><td>-21</td><td>B6</td><td> 709</td><td>N794JB</td><td>JFK</td><td>SJU</td><td>182</td><td>1598</td><td>6</td><td>15</td><td>2013-01-01 06:00:00</td></tr>\n",
       "\t<tr><td>2013</td><td>1</td><td>1</td><td>2013-01-01 06:15:00</td><td>2013-01-01 06:15:00</td><td> 0</td><td>2013-01-01 08:33:00</td><td>2013-01-01 08:42:00</td><td> -9</td><td>DL</td><td> 575</td><td>N326NB</td><td>EWR</td><td>ATL</td><td>120</td><td> 746</td><td>6</td><td>15</td><td>2013-01-01 06:00:00</td></tr>\n",
       "\t<tr><td>⋮</td><td>⋮</td><td>⋮</td><td>⋮</td><td>⋮</td><td>⋮</td><td>⋮</td><td>⋮</td><td>⋮</td><td>⋮</td><td>⋮</td><td>⋮</td><td>⋮</td><td>⋮</td><td>⋮</td><td>⋮</td><td>⋮</td><td>⋮</td><td>⋮</td></tr>\n",
       "\t<tr><td>2013</td><td>9</td><td>30</td><td>2013-09-30 21:15:00</td><td>2013-09-30 21:10:00</td><td>  5</td><td>2013-09-30 22:46:00</td><td>2013-09-30 22:55:00</td><td> -9</td><td>MQ</td><td>3603</td><td>N519MQ</td><td>LGA</td><td>DTW</td><td> 72</td><td> 502</td><td>21</td><td>10</td><td>2013-09-30 21:00:00</td></tr>\n",
       "\t<tr><td>2013</td><td>9</td><td>30</td><td>2013-09-30 21:16:00</td><td>2013-09-30 21:24:00</td><td> -8</td><td>2013-09-30 23:17:00</td><td>2013-09-30 23:37:00</td><td>-20</td><td>EV</td><td>4682</td><td>N14542</td><td>EWR</td><td>SDF</td><td> 94</td><td> 642</td><td>21</td><td>24</td><td>2013-09-30 21:00:00</td></tr>\n",
       "\t<tr><td>2013</td><td>9</td><td>30</td><td>2013-09-30 21:19:00</td><td>2013-09-30 20:05:00</td><td> 74</td><td>2013-09-30 23:10:00</td><td>2013-09-30 22:12:00</td><td> 58</td><td>EV</td><td>4321</td><td>N17984</td><td>EWR</td><td>MCI</td><td>147</td><td>1092</td><td>20</td><td> 5</td><td>2013-09-30 20:00:00</td></tr>\n",
       "\t<tr><td>2013</td><td>9</td><td>30</td><td>2013-09-30 21:19:00</td><td>2013-09-30 21:20:00</td><td> -1</td><td>2013-09-30 23:30:00</td><td>2013-09-30 23:54:00</td><td>-24</td><td>B6</td><td>1677</td><td>N358JB</td><td>JFK</td><td>JAX</td><td>113</td><td> 828</td><td>21</td><td>20</td><td>2013-09-30 21:00:00</td></tr>\n",
       "\t<tr><td>2013</td><td>9</td><td>30</td><td>2013-09-30 21:21:00</td><td>2013-09-30 21:00:00</td><td> 21</td><td>2013-09-30 23:49:00</td><td>2013-09-30 00:14:00</td><td>-25</td><td>DL</td><td>2363</td><td>N193DN</td><td>JFK</td><td>LAX</td><td>296</td><td>2475</td><td>21</td><td> 0</td><td>2013-09-30 21:00:00</td></tr>\n",
       "\t<tr><td>2013</td><td>9</td><td>30</td><td>2013-09-30 21:22:00</td><td>2013-09-30 21:27:00</td><td> -5</td><td>2013-09-30 22:26:00</td><td>2013-09-30 22:37:00</td><td>-11</td><td>EV</td><td>4372</td><td>N14902</td><td>EWR</td><td>DCA</td><td> 35</td><td> 199</td><td>21</td><td>27</td><td>2013-09-30 21:00:00</td></tr>\n",
       "\t<tr><td>2013</td><td>9</td><td>30</td><td>2013-09-30 21:23:00</td><td>2013-09-30 21:25:00</td><td> -2</td><td>2013-09-30 22:23:00</td><td>2013-09-30 22:47:00</td><td>-24</td><td>EV</td><td>5489</td><td>N712EV</td><td>LGA</td><td>CHO</td><td> 45</td><td> 305</td><td>21</td><td>25</td><td>2013-09-30 21:00:00</td></tr>\n",
       "\t<tr><td>2013</td><td>9</td><td>30</td><td>2013-09-30 21:27:00</td><td>2013-09-30 21:29:00</td><td> -2</td><td>2013-09-30 23:14:00</td><td>2013-09-30 23:23:00</td><td> -9</td><td>EV</td><td>3833</td><td>N16546</td><td>EWR</td><td>CLT</td><td> 72</td><td> 529</td><td>21</td><td>29</td><td>2013-09-30 21:00:00</td></tr>\n",
       "\t<tr><td>2013</td><td>9</td><td>30</td><td>2013-09-30 21:28:00</td><td>2013-09-30 21:30:00</td><td> -2</td><td>2013-09-30 23:28:00</td><td>2013-09-30 23:59:00</td><td>-31</td><td>B6</td><td>  97</td><td>N807JB</td><td>JFK</td><td>DEN</td><td>213</td><td>1626</td><td>21</td><td>30</td><td>2013-09-30 21:00:00</td></tr>\n",
       "\t<tr><td>2013</td><td>9</td><td>30</td><td>2013-09-30 21:29:00</td><td>2013-09-30 20:59:00</td><td> 30</td><td>2013-09-30 22:30:00</td><td>2013-09-30 22:32:00</td><td> -2</td><td>EV</td><td>5048</td><td>N751EV</td><td>LGA</td><td>RIC</td><td> 45</td><td> 292</td><td>20</td><td>59</td><td>2013-09-30 20:00:00</td></tr>\n",
       "\t<tr><td>2013</td><td>9</td><td>30</td><td>2013-09-30 21:31:00</td><td>2013-09-30 21:40:00</td><td> -9</td><td>2013-09-30 22:25:00</td><td>2013-09-30 22:55:00</td><td>-30</td><td>MQ</td><td>3621</td><td>N807MQ</td><td>JFK</td><td>DCA</td><td> 36</td><td> 213</td><td>21</td><td>40</td><td>2013-09-30 21:00:00</td></tr>\n",
       "\t<tr><td>2013</td><td>9</td><td>30</td><td>2013-09-30 21:40:00</td><td>2013-09-30 21:40:00</td><td>  0</td><td>2013-09-30 00:10:00</td><td>2013-09-30 00:40:00</td><td>-30</td><td>AA</td><td> 185</td><td>N335AA</td><td>JFK</td><td>LAX</td><td>298</td><td>2475</td><td>21</td><td>40</td><td>2013-09-30 21:00:00</td></tr>\n",
       "\t<tr><td>2013</td><td>9</td><td>30</td><td>2013-09-30 21:42:00</td><td>2013-09-30 21:29:00</td><td> 13</td><td>2013-09-30 22:50:00</td><td>2013-09-30 22:39:00</td><td> 11</td><td>EV</td><td>4509</td><td>N12957</td><td>EWR</td><td>PWM</td><td> 47</td><td> 284</td><td>21</td><td>29</td><td>2013-09-30 21:00:00</td></tr>\n",
       "\t<tr><td>2013</td><td>9</td><td>30</td><td>2013-09-30 21:45:00</td><td>2013-09-30 21:45:00</td><td>  0</td><td>2013-09-30 01:15:00</td><td>2013-09-30 01:40:00</td><td>-25</td><td>B6</td><td>1103</td><td>N633JB</td><td>JFK</td><td>SJU</td><td>192</td><td>1598</td><td>21</td><td>45</td><td>2013-09-30 21:00:00</td></tr>\n",
       "\t<tr><td>2013</td><td>9</td><td>30</td><td>2013-09-30 21:47:00</td><td>2013-09-30 21:37:00</td><td> 10</td><td>2013-09-30 00:30:00</td><td>2013-09-30 00:27:00</td><td>  3</td><td>B6</td><td>1371</td><td>N627JB</td><td>LGA</td><td>FLL</td><td>139</td><td>1076</td><td>21</td><td>37</td><td>2013-09-30 21:00:00</td></tr>\n",
       "\t<tr><td>2013</td><td>9</td><td>30</td><td>2013-09-30 21:49:00</td><td>2013-09-30 21:56:00</td><td> -7</td><td>2013-09-30 22:45:00</td><td>2013-09-30 23:08:00</td><td>-23</td><td>UA</td><td> 523</td><td>N813UA</td><td>EWR</td><td>BOS</td><td> 37</td><td> 200</td><td>21</td><td>56</td><td>2013-09-30 21:00:00</td></tr>\n",
       "\t<tr><td>2013</td><td>9</td><td>30</td><td>2013-09-30 21:50:00</td><td>2013-09-30 21:59:00</td><td> -9</td><td>2013-09-30 22:50:00</td><td>2013-09-30 23:06:00</td><td>-16</td><td>EV</td><td>3842</td><td>N10575</td><td>EWR</td><td>MHT</td><td> 39</td><td> 209</td><td>21</td><td>59</td><td>2013-09-30 21:00:00</td></tr>\n",
       "\t<tr><td>2013</td><td>9</td><td>30</td><td>2013-09-30 21:59:00</td><td>2013-09-30 18:45:00</td><td>194</td><td>2013-09-30 23:44:00</td><td>2013-09-30 20:30:00</td><td>194</td><td>9E</td><td>3320</td><td>N906XJ</td><td>JFK</td><td>BUF</td><td> 50</td><td> 301</td><td>18</td><td>45</td><td>2013-09-30 18:00:00</td></tr>\n",
       "\t<tr><td>2013</td><td>9</td><td>30</td><td>2013-09-30 22:03:00</td><td>2013-09-30 22:05:00</td><td> -2</td><td>2013-09-30 23:39:00</td><td>2013-09-30 23:31:00</td><td>  8</td><td>EV</td><td>5311</td><td>N722EV</td><td>LGA</td><td>BGR</td><td> 61</td><td> 378</td><td>22</td><td> 5</td><td>2013-09-30 22:00:00</td></tr>\n",
       "\t<tr><td>2013</td><td>9</td><td>30</td><td>2013-09-30 22:07:00</td><td>2013-09-30 21:40:00</td><td> 27</td><td>2013-09-30 22:57:00</td><td>2013-09-30 22:50:00</td><td>  7</td><td>MQ</td><td>3660</td><td>N532MQ</td><td>LGA</td><td>BNA</td><td> 97</td><td> 764</td><td>21</td><td>40</td><td>2013-09-30 21:00:00</td></tr>\n",
       "\t<tr><td>2013</td><td>9</td><td>30</td><td>2013-09-30 22:11:00</td><td>2013-09-30 20:59:00</td><td> 72</td><td>2013-09-30 23:39:00</td><td>2013-09-30 22:42:00</td><td> 57</td><td>EV</td><td>4672</td><td>N12145</td><td>EWR</td><td>STL</td><td>120</td><td> 872</td><td>20</td><td>59</td><td>2013-09-30 20:00:00</td></tr>\n",
       "\t<tr><td>2013</td><td>9</td><td>30</td><td>2013-09-30 22:31:00</td><td>2013-09-30 22:45:00</td><td>-14</td><td>2013-09-30 23:35:00</td><td>2013-09-30 23:56:00</td><td>-21</td><td>B6</td><td> 108</td><td>N193JB</td><td>JFK</td><td>PWM</td><td> 48</td><td> 273</td><td>22</td><td>45</td><td>2013-09-30 22:00:00</td></tr>\n",
       "\t<tr><td>2013</td><td>9</td><td>30</td><td>2013-09-30 22:33:00</td><td>2013-09-30 21:13:00</td><td> 80</td><td>2013-09-30 01:12:00</td><td>2013-09-30 00:30:00</td><td> 42</td><td>UA</td><td> 471</td><td>N578UA</td><td>EWR</td><td>SFO</td><td>318</td><td>2565</td><td>21</td><td>13</td><td>2013-09-30 21:00:00</td></tr>\n",
       "\t<tr><td>2013</td><td>9</td><td>30</td><td>2013-09-30 22:35:00</td><td>2013-09-30 20:01:00</td><td>154</td><td>2013-09-30 00:59:00</td><td>2013-09-30 22:49:00</td><td>130</td><td>B6</td><td>1083</td><td>N804JB</td><td>JFK</td><td>MCO</td><td>123</td><td> 944</td><td>20</td><td> 1</td><td>2013-09-30 20:00:00</td></tr>\n",
       "\t<tr><td>2013</td><td>9</td><td>30</td><td>2013-09-30 22:37:00</td><td>2013-09-30 22:45:00</td><td> -8</td><td>2013-09-30 23:45:00</td><td>2013-09-30 23:53:00</td><td> -8</td><td>B6</td><td> 234</td><td>N318JB</td><td>JFK</td><td>BTV</td><td> 43</td><td> 266</td><td>22</td><td>45</td><td>2013-09-30 22:00:00</td></tr>\n",
       "\t<tr><td>2013</td><td>9</td><td>30</td><td>2013-09-30 22:40:00</td><td>2013-09-30 22:45:00</td><td> -5</td><td>2013-09-30 23:34:00</td><td>2013-09-30 23:51:00</td><td>-17</td><td>B6</td><td>1816</td><td>N354JB</td><td>JFK</td><td>SYR</td><td> 41</td><td> 209</td><td>22</td><td>45</td><td>2013-09-30 22:00:00</td></tr>\n",
       "\t<tr><td>2013</td><td>9</td><td>30</td><td>2013-09-30 22:40:00</td><td>2013-09-30 22:50:00</td><td>-10</td><td>2013-09-30 23:47:00</td><td>2013-09-30 00:07:00</td><td>-20</td><td>B6</td><td>2002</td><td>N281JB</td><td>JFK</td><td>BUF</td><td> 52</td><td> 301</td><td>22</td><td>50</td><td>2013-09-30 22:00:00</td></tr>\n",
       "\t<tr><td>2013</td><td>9</td><td>30</td><td>2013-09-30 22:41:00</td><td>2013-09-30 22:46:00</td><td> -5</td><td>2013-09-30 23:45:00</td><td>2013-09-30 00:01:00</td><td>-16</td><td>B6</td><td> 486</td><td>N346JB</td><td>JFK</td><td>ROC</td><td> 47</td><td> 264</td><td>22</td><td>46</td><td>2013-09-30 22:00:00</td></tr>\n",
       "\t<tr><td>2013</td><td>9</td><td>30</td><td>2013-09-30 23:07:00</td><td>2013-09-30 22:55:00</td><td> 12</td><td>2013-09-30 23:59:00</td><td>2013-09-30 23:58:00</td><td>  1</td><td>B6</td><td> 718</td><td>N565JB</td><td>JFK</td><td>BOS</td><td> 33</td><td> 187</td><td>22</td><td>55</td><td>2013-09-30 22:00:00</td></tr>\n",
       "\t<tr><td>2013</td><td>9</td><td>30</td><td>2013-09-30 23:49:00</td><td>2013-09-30 23:59:00</td><td>-10</td><td>2013-09-30 03:25:00</td><td>2013-09-30 03:50:00</td><td>-25</td><td>B6</td><td> 745</td><td>N516JB</td><td>JFK</td><td>PSE</td><td>196</td><td>1617</td><td>23</td><td>59</td><td>2013-09-30 23:00:00</td></tr>\n",
       "</tbody>\n",
       "</table>\n"
      ],
      "text/latex": [
       "A tibble: 328063 × 19\n",
       "\\begin{tabular}{lllllllllllllllllll}\n",
       " year & month & day & dep\\_time & sched\\_dep\\_time & dep\\_delay & arr\\_time & sched\\_arr\\_time & arr\\_delay & carrier & flight & tailnum & origin & dest & air\\_time & distance & hour & minute & time\\_hour\\\\\n",
       " <int> & <int> & <int> & <dttm> & <dttm> & <dbl> & <dttm> & <dttm> & <dbl> & <chr> & <int> & <chr> & <chr> & <chr> & <dbl> & <dbl> & <dbl> & <dbl> & <dttm>\\\\\n",
       "\\hline\n",
       "\t 2013 & 1 & 1 & 2013-01-01 05:17:00 & 2013-01-01 05:15:00 &  2 & 2013-01-01 08:30:00 & 2013-01-01 08:19:00 &  11 & UA & 1545 & N14228 & EWR & IAH & 227 & 1400 & 5 & 15 & 2013-01-01 05:00:00\\\\\n",
       "\t 2013 & 1 & 1 & 2013-01-01 05:33:00 & 2013-01-01 05:29:00 &  4 & 2013-01-01 08:50:00 & 2013-01-01 08:30:00 &  20 & UA & 1714 & N24211 & LGA & IAH & 227 & 1416 & 5 & 29 & 2013-01-01 05:00:00\\\\\n",
       "\t 2013 & 1 & 1 & 2013-01-01 05:42:00 & 2013-01-01 05:40:00 &  2 & 2013-01-01 09:23:00 & 2013-01-01 08:50:00 &  33 & AA & 1141 & N619AA & JFK & MIA & 160 & 1089 & 5 & 40 & 2013-01-01 05:00:00\\\\\n",
       "\t 2013 & 1 & 1 & 2013-01-01 05:44:00 & 2013-01-01 05:45:00 & -1 & 2013-01-01 10:04:00 & 2013-01-01 10:22:00 & -18 & B6 &  725 & N804JB & JFK & BQN & 183 & 1576 & 5 & 45 & 2013-01-01 05:00:00\\\\\n",
       "\t 2013 & 1 & 1 & 2013-01-01 05:54:00 & 2013-01-01 06:00:00 & -6 & 2013-01-01 08:12:00 & 2013-01-01 08:37:00 & -25 & DL &  461 & N668DN & LGA & ATL & 116 &  762 & 6 &  0 & 2013-01-01 06:00:00\\\\\n",
       "\t 2013 & 1 & 1 & 2013-01-01 05:54:00 & 2013-01-01 05:58:00 & -4 & 2013-01-01 07:40:00 & 2013-01-01 07:28:00 &  12 & UA & 1696 & N39463 & EWR & ORD & 150 &  719 & 5 & 58 & 2013-01-01 05:00:00\\\\\n",
       "\t 2013 & 1 & 1 & 2013-01-01 05:55:00 & 2013-01-01 06:00:00 & -5 & 2013-01-01 09:13:00 & 2013-01-01 08:54:00 &  19 & B6 &  507 & N516JB & EWR & FLL & 158 & 1065 & 6 &  0 & 2013-01-01 06:00:00\\\\\n",
       "\t 2013 & 1 & 1 & 2013-01-01 05:57:00 & 2013-01-01 06:00:00 & -3 & 2013-01-01 07:09:00 & 2013-01-01 07:23:00 & -14 & EV & 5708 & N829AS & LGA & IAD &  53 &  229 & 6 &  0 & 2013-01-01 06:00:00\\\\\n",
       "\t 2013 & 1 & 1 & 2013-01-01 05:57:00 & 2013-01-01 06:00:00 & -3 & 2013-01-01 08:38:00 & 2013-01-01 08:46:00 &  -8 & B6 &   79 & N593JB & JFK & MCO & 140 &  944 & 6 &  0 & 2013-01-01 06:00:00\\\\\n",
       "\t 2013 & 1 & 1 & 2013-01-01 05:58:00 & 2013-01-01 06:00:00 & -2 & 2013-01-01 07:53:00 & 2013-01-01 07:45:00 &   8 & AA &  301 & N3ALAA & LGA & ORD & 138 &  733 & 6 &  0 & 2013-01-01 06:00:00\\\\\n",
       "\t 2013 & 1 & 1 & 2013-01-01 05:58:00 & 2013-01-01 06:00:00 & -2 & 2013-01-01 08:49:00 & 2013-01-01 08:51:00 &  -2 & B6 &   49 & N793JB & JFK & PBI & 149 & 1028 & 6 &  0 & 2013-01-01 06:00:00\\\\\n",
       "\t 2013 & 1 & 1 & 2013-01-01 05:58:00 & 2013-01-01 06:00:00 & -2 & 2013-01-01 08:53:00 & 2013-01-01 08:56:00 &  -3 & B6 &   71 & N657JB & JFK & TPA & 158 & 1005 & 6 &  0 & 2013-01-01 06:00:00\\\\\n",
       "\t 2013 & 1 & 1 & 2013-01-01 05:58:00 & 2013-01-01 06:00:00 & -2 & 2013-01-01 09:24:00 & 2013-01-01 09:17:00 &   7 & UA &  194 & N29129 & JFK & LAX & 345 & 2475 & 6 &  0 & 2013-01-01 06:00:00\\\\\n",
       "\t 2013 & 1 & 1 & 2013-01-01 05:58:00 & 2013-01-01 06:00:00 & -2 & 2013-01-01 09:23:00 & 2013-01-01 09:37:00 & -14 & UA & 1124 & N53441 & EWR & SFO & 361 & 2565 & 6 &  0 & 2013-01-01 06:00:00\\\\\n",
       "\t 2013 & 1 & 1 & 2013-01-01 05:59:00 & 2013-01-01 06:00:00 & -1 & 2013-01-01 09:41:00 & 2013-01-01 09:10:00 &  31 & AA &  707 & N3DUAA & LGA & DFW & 257 & 1389 & 6 &  0 & 2013-01-01 06:00:00\\\\\n",
       "\t 2013 & 1 & 1 & 2013-01-01 05:59:00 & 2013-01-01 05:59:00 &  0 & 2013-01-01 07:02:00 & 2013-01-01 07:06:00 &  -4 & B6 & 1806 & N708JB & JFK & BOS &  44 &  187 & 5 & 59 & 2013-01-01 05:00:00\\\\\n",
       "\t 2013 & 1 & 1 & 2013-01-01 05:59:00 & 2013-01-01 06:00:00 & -1 & 2013-01-01 08:54:00 & 2013-01-01 09:02:00 &  -8 & UA & 1187 & N76515 & EWR & LAS & 337 & 2227 & 6 &  0 & 2013-01-01 06:00:00\\\\\n",
       "\t 2013 & 1 & 1 & 2013-01-01 06:00:00 & 2013-01-01 06:00:00 &  0 & 2013-01-01 08:51:00 & 2013-01-01 08:58:00 &  -7 & B6 &  371 & N595JB & LGA & FLL & 152 & 1076 & 6 &  0 & 2013-01-01 06:00:00\\\\\n",
       "\t 2013 & 1 & 1 & 2013-01-01 06:00:00 & 2013-01-01 06:00:00 &  0 & 2013-01-01 08:37:00 & 2013-01-01 08:25:00 &  12 & MQ & 4650 & N542MQ & LGA & ATL & 134 &  762 & 6 &  0 & 2013-01-01 06:00:00\\\\\n",
       "\t 2013 & 1 & 1 & 2013-01-01 06:01:00 & 2013-01-01 06:00:00 &  1 & 2013-01-01 08:44:00 & 2013-01-01 08:50:00 &  -6 & B6 &  343 & N644JB & EWR & PBI & 147 & 1023 & 6 &  0 & 2013-01-01 06:00:00\\\\\n",
       "\t 2013 & 1 & 1 & 2013-01-01 06:02:00 & 2013-01-01 06:10:00 & -8 & 2013-01-01 08:12:00 & 2013-01-01 08:20:00 &  -8 & DL & 1919 & N971DL & LGA & MSP & 170 & 1020 & 6 & 10 & 2013-01-01 06:00:00\\\\\n",
       "\t 2013 & 1 & 1 & 2013-01-01 06:02:00 & 2013-01-01 06:05:00 & -3 & 2013-01-01 08:21:00 & 2013-01-01 08:05:00 &  16 & MQ & 4401 & N730MQ & LGA & DTW & 105 &  502 & 6 &  5 & 2013-01-01 06:00:00\\\\\n",
       "\t 2013 & 1 & 1 & 2013-01-01 06:06:00 & 2013-01-01 06:10:00 & -4 & 2013-01-01 08:58:00 & 2013-01-01 09:10:00 & -12 & AA & 1895 & N633AA & EWR & MIA & 152 & 1085 & 6 & 10 & 2013-01-01 06:00:00\\\\\n",
       "\t 2013 & 1 & 1 & 2013-01-01 06:06:00 & 2013-01-01 06:10:00 & -4 & 2013-01-01 08:37:00 & 2013-01-01 08:45:00 &  -8 & DL & 1743 & N3739P & JFK & ATL & 128 &  760 & 6 & 10 & 2013-01-01 06:00:00\\\\\n",
       "\t 2013 & 1 & 1 & 2013-01-01 06:07:00 & 2013-01-01 06:07:00 &  0 & 2013-01-01 08:58:00 & 2013-01-01 09:15:00 & -17 & UA & 1077 & N53442 & EWR & MIA & 157 & 1085 & 6 &  7 & 2013-01-01 06:00:00\\\\\n",
       "\t 2013 & 1 & 1 & 2013-01-01 06:08:00 & 2013-01-01 06:00:00 &  8 & 2013-01-01 08:07:00 & 2013-01-01 07:35:00 &  32 & MQ & 3768 & N9EAMQ & EWR & ORD & 139 &  719 & 6 &  0 & 2013-01-01 06:00:00\\\\\n",
       "\t 2013 & 1 & 1 & 2013-01-01 06:11:00 & 2013-01-01 06:00:00 & 11 & 2013-01-01 09:45:00 & 2013-01-01 09:31:00 &  14 & UA &  303 & N532UA & JFK & SFO & 366 & 2586 & 6 &  0 & 2013-01-01 06:00:00\\\\\n",
       "\t 2013 & 1 & 1 & 2013-01-01 06:13:00 & 2013-01-01 06:10:00 &  3 & 2013-01-01 09:25:00 & 2013-01-01 09:21:00 &   4 & B6 &  135 & N635JB & JFK & RSW & 175 & 1074 & 6 & 10 & 2013-01-01 06:00:00\\\\\n",
       "\t 2013 & 1 & 1 & 2013-01-01 06:15:00 & 2013-01-01 06:15:00 &  0 & 2013-01-01 10:39:00 & 2013-01-01 11:00:00 & -21 & B6 &  709 & N794JB & JFK & SJU & 182 & 1598 & 6 & 15 & 2013-01-01 06:00:00\\\\\n",
       "\t 2013 & 1 & 1 & 2013-01-01 06:15:00 & 2013-01-01 06:15:00 &  0 & 2013-01-01 08:33:00 & 2013-01-01 08:42:00 &  -9 & DL &  575 & N326NB & EWR & ATL & 120 &  746 & 6 & 15 & 2013-01-01 06:00:00\\\\\n",
       "\t ⋮ & ⋮ & ⋮ & ⋮ & ⋮ & ⋮ & ⋮ & ⋮ & ⋮ & ⋮ & ⋮ & ⋮ & ⋮ & ⋮ & ⋮ & ⋮ & ⋮ & ⋮ & ⋮\\\\\n",
       "\t 2013 & 9 & 30 & 2013-09-30 21:15:00 & 2013-09-30 21:10:00 &   5 & 2013-09-30 22:46:00 & 2013-09-30 22:55:00 &  -9 & MQ & 3603 & N519MQ & LGA & DTW &  72 &  502 & 21 & 10 & 2013-09-30 21:00:00\\\\\n",
       "\t 2013 & 9 & 30 & 2013-09-30 21:16:00 & 2013-09-30 21:24:00 &  -8 & 2013-09-30 23:17:00 & 2013-09-30 23:37:00 & -20 & EV & 4682 & N14542 & EWR & SDF &  94 &  642 & 21 & 24 & 2013-09-30 21:00:00\\\\\n",
       "\t 2013 & 9 & 30 & 2013-09-30 21:19:00 & 2013-09-30 20:05:00 &  74 & 2013-09-30 23:10:00 & 2013-09-30 22:12:00 &  58 & EV & 4321 & N17984 & EWR & MCI & 147 & 1092 & 20 &  5 & 2013-09-30 20:00:00\\\\\n",
       "\t 2013 & 9 & 30 & 2013-09-30 21:19:00 & 2013-09-30 21:20:00 &  -1 & 2013-09-30 23:30:00 & 2013-09-30 23:54:00 & -24 & B6 & 1677 & N358JB & JFK & JAX & 113 &  828 & 21 & 20 & 2013-09-30 21:00:00\\\\\n",
       "\t 2013 & 9 & 30 & 2013-09-30 21:21:00 & 2013-09-30 21:00:00 &  21 & 2013-09-30 23:49:00 & 2013-09-30 00:14:00 & -25 & DL & 2363 & N193DN & JFK & LAX & 296 & 2475 & 21 &  0 & 2013-09-30 21:00:00\\\\\n",
       "\t 2013 & 9 & 30 & 2013-09-30 21:22:00 & 2013-09-30 21:27:00 &  -5 & 2013-09-30 22:26:00 & 2013-09-30 22:37:00 & -11 & EV & 4372 & N14902 & EWR & DCA &  35 &  199 & 21 & 27 & 2013-09-30 21:00:00\\\\\n",
       "\t 2013 & 9 & 30 & 2013-09-30 21:23:00 & 2013-09-30 21:25:00 &  -2 & 2013-09-30 22:23:00 & 2013-09-30 22:47:00 & -24 & EV & 5489 & N712EV & LGA & CHO &  45 &  305 & 21 & 25 & 2013-09-30 21:00:00\\\\\n",
       "\t 2013 & 9 & 30 & 2013-09-30 21:27:00 & 2013-09-30 21:29:00 &  -2 & 2013-09-30 23:14:00 & 2013-09-30 23:23:00 &  -9 & EV & 3833 & N16546 & EWR & CLT &  72 &  529 & 21 & 29 & 2013-09-30 21:00:00\\\\\n",
       "\t 2013 & 9 & 30 & 2013-09-30 21:28:00 & 2013-09-30 21:30:00 &  -2 & 2013-09-30 23:28:00 & 2013-09-30 23:59:00 & -31 & B6 &   97 & N807JB & JFK & DEN & 213 & 1626 & 21 & 30 & 2013-09-30 21:00:00\\\\\n",
       "\t 2013 & 9 & 30 & 2013-09-30 21:29:00 & 2013-09-30 20:59:00 &  30 & 2013-09-30 22:30:00 & 2013-09-30 22:32:00 &  -2 & EV & 5048 & N751EV & LGA & RIC &  45 &  292 & 20 & 59 & 2013-09-30 20:00:00\\\\\n",
       "\t 2013 & 9 & 30 & 2013-09-30 21:31:00 & 2013-09-30 21:40:00 &  -9 & 2013-09-30 22:25:00 & 2013-09-30 22:55:00 & -30 & MQ & 3621 & N807MQ & JFK & DCA &  36 &  213 & 21 & 40 & 2013-09-30 21:00:00\\\\\n",
       "\t 2013 & 9 & 30 & 2013-09-30 21:40:00 & 2013-09-30 21:40:00 &   0 & 2013-09-30 00:10:00 & 2013-09-30 00:40:00 & -30 & AA &  185 & N335AA & JFK & LAX & 298 & 2475 & 21 & 40 & 2013-09-30 21:00:00\\\\\n",
       "\t 2013 & 9 & 30 & 2013-09-30 21:42:00 & 2013-09-30 21:29:00 &  13 & 2013-09-30 22:50:00 & 2013-09-30 22:39:00 &  11 & EV & 4509 & N12957 & EWR & PWM &  47 &  284 & 21 & 29 & 2013-09-30 21:00:00\\\\\n",
       "\t 2013 & 9 & 30 & 2013-09-30 21:45:00 & 2013-09-30 21:45:00 &   0 & 2013-09-30 01:15:00 & 2013-09-30 01:40:00 & -25 & B6 & 1103 & N633JB & JFK & SJU & 192 & 1598 & 21 & 45 & 2013-09-30 21:00:00\\\\\n",
       "\t 2013 & 9 & 30 & 2013-09-30 21:47:00 & 2013-09-30 21:37:00 &  10 & 2013-09-30 00:30:00 & 2013-09-30 00:27:00 &   3 & B6 & 1371 & N627JB & LGA & FLL & 139 & 1076 & 21 & 37 & 2013-09-30 21:00:00\\\\\n",
       "\t 2013 & 9 & 30 & 2013-09-30 21:49:00 & 2013-09-30 21:56:00 &  -7 & 2013-09-30 22:45:00 & 2013-09-30 23:08:00 & -23 & UA &  523 & N813UA & EWR & BOS &  37 &  200 & 21 & 56 & 2013-09-30 21:00:00\\\\\n",
       "\t 2013 & 9 & 30 & 2013-09-30 21:50:00 & 2013-09-30 21:59:00 &  -9 & 2013-09-30 22:50:00 & 2013-09-30 23:06:00 & -16 & EV & 3842 & N10575 & EWR & MHT &  39 &  209 & 21 & 59 & 2013-09-30 21:00:00\\\\\n",
       "\t 2013 & 9 & 30 & 2013-09-30 21:59:00 & 2013-09-30 18:45:00 & 194 & 2013-09-30 23:44:00 & 2013-09-30 20:30:00 & 194 & 9E & 3320 & N906XJ & JFK & BUF &  50 &  301 & 18 & 45 & 2013-09-30 18:00:00\\\\\n",
       "\t 2013 & 9 & 30 & 2013-09-30 22:03:00 & 2013-09-30 22:05:00 &  -2 & 2013-09-30 23:39:00 & 2013-09-30 23:31:00 &   8 & EV & 5311 & N722EV & LGA & BGR &  61 &  378 & 22 &  5 & 2013-09-30 22:00:00\\\\\n",
       "\t 2013 & 9 & 30 & 2013-09-30 22:07:00 & 2013-09-30 21:40:00 &  27 & 2013-09-30 22:57:00 & 2013-09-30 22:50:00 &   7 & MQ & 3660 & N532MQ & LGA & BNA &  97 &  764 & 21 & 40 & 2013-09-30 21:00:00\\\\\n",
       "\t 2013 & 9 & 30 & 2013-09-30 22:11:00 & 2013-09-30 20:59:00 &  72 & 2013-09-30 23:39:00 & 2013-09-30 22:42:00 &  57 & EV & 4672 & N12145 & EWR & STL & 120 &  872 & 20 & 59 & 2013-09-30 20:00:00\\\\\n",
       "\t 2013 & 9 & 30 & 2013-09-30 22:31:00 & 2013-09-30 22:45:00 & -14 & 2013-09-30 23:35:00 & 2013-09-30 23:56:00 & -21 & B6 &  108 & N193JB & JFK & PWM &  48 &  273 & 22 & 45 & 2013-09-30 22:00:00\\\\\n",
       "\t 2013 & 9 & 30 & 2013-09-30 22:33:00 & 2013-09-30 21:13:00 &  80 & 2013-09-30 01:12:00 & 2013-09-30 00:30:00 &  42 & UA &  471 & N578UA & EWR & SFO & 318 & 2565 & 21 & 13 & 2013-09-30 21:00:00\\\\\n",
       "\t 2013 & 9 & 30 & 2013-09-30 22:35:00 & 2013-09-30 20:01:00 & 154 & 2013-09-30 00:59:00 & 2013-09-30 22:49:00 & 130 & B6 & 1083 & N804JB & JFK & MCO & 123 &  944 & 20 &  1 & 2013-09-30 20:00:00\\\\\n",
       "\t 2013 & 9 & 30 & 2013-09-30 22:37:00 & 2013-09-30 22:45:00 &  -8 & 2013-09-30 23:45:00 & 2013-09-30 23:53:00 &  -8 & B6 &  234 & N318JB & JFK & BTV &  43 &  266 & 22 & 45 & 2013-09-30 22:00:00\\\\\n",
       "\t 2013 & 9 & 30 & 2013-09-30 22:40:00 & 2013-09-30 22:45:00 &  -5 & 2013-09-30 23:34:00 & 2013-09-30 23:51:00 & -17 & B6 & 1816 & N354JB & JFK & SYR &  41 &  209 & 22 & 45 & 2013-09-30 22:00:00\\\\\n",
       "\t 2013 & 9 & 30 & 2013-09-30 22:40:00 & 2013-09-30 22:50:00 & -10 & 2013-09-30 23:47:00 & 2013-09-30 00:07:00 & -20 & B6 & 2002 & N281JB & JFK & BUF &  52 &  301 & 22 & 50 & 2013-09-30 22:00:00\\\\\n",
       "\t 2013 & 9 & 30 & 2013-09-30 22:41:00 & 2013-09-30 22:46:00 &  -5 & 2013-09-30 23:45:00 & 2013-09-30 00:01:00 & -16 & B6 &  486 & N346JB & JFK & ROC &  47 &  264 & 22 & 46 & 2013-09-30 22:00:00\\\\\n",
       "\t 2013 & 9 & 30 & 2013-09-30 23:07:00 & 2013-09-30 22:55:00 &  12 & 2013-09-30 23:59:00 & 2013-09-30 23:58:00 &   1 & B6 &  718 & N565JB & JFK & BOS &  33 &  187 & 22 & 55 & 2013-09-30 22:00:00\\\\\n",
       "\t 2013 & 9 & 30 & 2013-09-30 23:49:00 & 2013-09-30 23:59:00 & -10 & 2013-09-30 03:25:00 & 2013-09-30 03:50:00 & -25 & B6 &  745 & N516JB & JFK & PSE & 196 & 1617 & 23 & 59 & 2013-09-30 23:00:00\\\\\n",
       "\\end{tabular}\n"
      ],
      "text/markdown": [
       "\n",
       "A tibble: 328063 × 19\n",
       "\n",
       "| year &lt;int&gt; | month &lt;int&gt; | day &lt;int&gt; | dep_time &lt;dttm&gt; | sched_dep_time &lt;dttm&gt; | dep_delay &lt;dbl&gt; | arr_time &lt;dttm&gt; | sched_arr_time &lt;dttm&gt; | arr_delay &lt;dbl&gt; | carrier &lt;chr&gt; | flight &lt;int&gt; | tailnum &lt;chr&gt; | origin &lt;chr&gt; | dest &lt;chr&gt; | air_time &lt;dbl&gt; | distance &lt;dbl&gt; | hour &lt;dbl&gt; | minute &lt;dbl&gt; | time_hour &lt;dttm&gt; |\n",
       "|---|---|---|---|---|---|---|---|---|---|---|---|---|---|---|---|---|---|---|\n",
       "| 2013 | 1 | 1 | 2013-01-01 05:17:00 | 2013-01-01 05:15:00 |  2 | 2013-01-01 08:30:00 | 2013-01-01 08:19:00 |  11 | UA | 1545 | N14228 | EWR | IAH | 227 | 1400 | 5 | 15 | 2013-01-01 05:00:00 |\n",
       "| 2013 | 1 | 1 | 2013-01-01 05:33:00 | 2013-01-01 05:29:00 |  4 | 2013-01-01 08:50:00 | 2013-01-01 08:30:00 |  20 | UA | 1714 | N24211 | LGA | IAH | 227 | 1416 | 5 | 29 | 2013-01-01 05:00:00 |\n",
       "| 2013 | 1 | 1 | 2013-01-01 05:42:00 | 2013-01-01 05:40:00 |  2 | 2013-01-01 09:23:00 | 2013-01-01 08:50:00 |  33 | AA | 1141 | N619AA | JFK | MIA | 160 | 1089 | 5 | 40 | 2013-01-01 05:00:00 |\n",
       "| 2013 | 1 | 1 | 2013-01-01 05:44:00 | 2013-01-01 05:45:00 | -1 | 2013-01-01 10:04:00 | 2013-01-01 10:22:00 | -18 | B6 |  725 | N804JB | JFK | BQN | 183 | 1576 | 5 | 45 | 2013-01-01 05:00:00 |\n",
       "| 2013 | 1 | 1 | 2013-01-01 05:54:00 | 2013-01-01 06:00:00 | -6 | 2013-01-01 08:12:00 | 2013-01-01 08:37:00 | -25 | DL |  461 | N668DN | LGA | ATL | 116 |  762 | 6 |  0 | 2013-01-01 06:00:00 |\n",
       "| 2013 | 1 | 1 | 2013-01-01 05:54:00 | 2013-01-01 05:58:00 | -4 | 2013-01-01 07:40:00 | 2013-01-01 07:28:00 |  12 | UA | 1696 | N39463 | EWR | ORD | 150 |  719 | 5 | 58 | 2013-01-01 05:00:00 |\n",
       "| 2013 | 1 | 1 | 2013-01-01 05:55:00 | 2013-01-01 06:00:00 | -5 | 2013-01-01 09:13:00 | 2013-01-01 08:54:00 |  19 | B6 |  507 | N516JB | EWR | FLL | 158 | 1065 | 6 |  0 | 2013-01-01 06:00:00 |\n",
       "| 2013 | 1 | 1 | 2013-01-01 05:57:00 | 2013-01-01 06:00:00 | -3 | 2013-01-01 07:09:00 | 2013-01-01 07:23:00 | -14 | EV | 5708 | N829AS | LGA | IAD |  53 |  229 | 6 |  0 | 2013-01-01 06:00:00 |\n",
       "| 2013 | 1 | 1 | 2013-01-01 05:57:00 | 2013-01-01 06:00:00 | -3 | 2013-01-01 08:38:00 | 2013-01-01 08:46:00 |  -8 | B6 |   79 | N593JB | JFK | MCO | 140 |  944 | 6 |  0 | 2013-01-01 06:00:00 |\n",
       "| 2013 | 1 | 1 | 2013-01-01 05:58:00 | 2013-01-01 06:00:00 | -2 | 2013-01-01 07:53:00 | 2013-01-01 07:45:00 |   8 | AA |  301 | N3ALAA | LGA | ORD | 138 |  733 | 6 |  0 | 2013-01-01 06:00:00 |\n",
       "| 2013 | 1 | 1 | 2013-01-01 05:58:00 | 2013-01-01 06:00:00 | -2 | 2013-01-01 08:49:00 | 2013-01-01 08:51:00 |  -2 | B6 |   49 | N793JB | JFK | PBI | 149 | 1028 | 6 |  0 | 2013-01-01 06:00:00 |\n",
       "| 2013 | 1 | 1 | 2013-01-01 05:58:00 | 2013-01-01 06:00:00 | -2 | 2013-01-01 08:53:00 | 2013-01-01 08:56:00 |  -3 | B6 |   71 | N657JB | JFK | TPA | 158 | 1005 | 6 |  0 | 2013-01-01 06:00:00 |\n",
       "| 2013 | 1 | 1 | 2013-01-01 05:58:00 | 2013-01-01 06:00:00 | -2 | 2013-01-01 09:24:00 | 2013-01-01 09:17:00 |   7 | UA |  194 | N29129 | JFK | LAX | 345 | 2475 | 6 |  0 | 2013-01-01 06:00:00 |\n",
       "| 2013 | 1 | 1 | 2013-01-01 05:58:00 | 2013-01-01 06:00:00 | -2 | 2013-01-01 09:23:00 | 2013-01-01 09:37:00 | -14 | UA | 1124 | N53441 | EWR | SFO | 361 | 2565 | 6 |  0 | 2013-01-01 06:00:00 |\n",
       "| 2013 | 1 | 1 | 2013-01-01 05:59:00 | 2013-01-01 06:00:00 | -1 | 2013-01-01 09:41:00 | 2013-01-01 09:10:00 |  31 | AA |  707 | N3DUAA | LGA | DFW | 257 | 1389 | 6 |  0 | 2013-01-01 06:00:00 |\n",
       "| 2013 | 1 | 1 | 2013-01-01 05:59:00 | 2013-01-01 05:59:00 |  0 | 2013-01-01 07:02:00 | 2013-01-01 07:06:00 |  -4 | B6 | 1806 | N708JB | JFK | BOS |  44 |  187 | 5 | 59 | 2013-01-01 05:00:00 |\n",
       "| 2013 | 1 | 1 | 2013-01-01 05:59:00 | 2013-01-01 06:00:00 | -1 | 2013-01-01 08:54:00 | 2013-01-01 09:02:00 |  -8 | UA | 1187 | N76515 | EWR | LAS | 337 | 2227 | 6 |  0 | 2013-01-01 06:00:00 |\n",
       "| 2013 | 1 | 1 | 2013-01-01 06:00:00 | 2013-01-01 06:00:00 |  0 | 2013-01-01 08:51:00 | 2013-01-01 08:58:00 |  -7 | B6 |  371 | N595JB | LGA | FLL | 152 | 1076 | 6 |  0 | 2013-01-01 06:00:00 |\n",
       "| 2013 | 1 | 1 | 2013-01-01 06:00:00 | 2013-01-01 06:00:00 |  0 | 2013-01-01 08:37:00 | 2013-01-01 08:25:00 |  12 | MQ | 4650 | N542MQ | LGA | ATL | 134 |  762 | 6 |  0 | 2013-01-01 06:00:00 |\n",
       "| 2013 | 1 | 1 | 2013-01-01 06:01:00 | 2013-01-01 06:00:00 |  1 | 2013-01-01 08:44:00 | 2013-01-01 08:50:00 |  -6 | B6 |  343 | N644JB | EWR | PBI | 147 | 1023 | 6 |  0 | 2013-01-01 06:00:00 |\n",
       "| 2013 | 1 | 1 | 2013-01-01 06:02:00 | 2013-01-01 06:10:00 | -8 | 2013-01-01 08:12:00 | 2013-01-01 08:20:00 |  -8 | DL | 1919 | N971DL | LGA | MSP | 170 | 1020 | 6 | 10 | 2013-01-01 06:00:00 |\n",
       "| 2013 | 1 | 1 | 2013-01-01 06:02:00 | 2013-01-01 06:05:00 | -3 | 2013-01-01 08:21:00 | 2013-01-01 08:05:00 |  16 | MQ | 4401 | N730MQ | LGA | DTW | 105 |  502 | 6 |  5 | 2013-01-01 06:00:00 |\n",
       "| 2013 | 1 | 1 | 2013-01-01 06:06:00 | 2013-01-01 06:10:00 | -4 | 2013-01-01 08:58:00 | 2013-01-01 09:10:00 | -12 | AA | 1895 | N633AA | EWR | MIA | 152 | 1085 | 6 | 10 | 2013-01-01 06:00:00 |\n",
       "| 2013 | 1 | 1 | 2013-01-01 06:06:00 | 2013-01-01 06:10:00 | -4 | 2013-01-01 08:37:00 | 2013-01-01 08:45:00 |  -8 | DL | 1743 | N3739P | JFK | ATL | 128 |  760 | 6 | 10 | 2013-01-01 06:00:00 |\n",
       "| 2013 | 1 | 1 | 2013-01-01 06:07:00 | 2013-01-01 06:07:00 |  0 | 2013-01-01 08:58:00 | 2013-01-01 09:15:00 | -17 | UA | 1077 | N53442 | EWR | MIA | 157 | 1085 | 6 |  7 | 2013-01-01 06:00:00 |\n",
       "| 2013 | 1 | 1 | 2013-01-01 06:08:00 | 2013-01-01 06:00:00 |  8 | 2013-01-01 08:07:00 | 2013-01-01 07:35:00 |  32 | MQ | 3768 | N9EAMQ | EWR | ORD | 139 |  719 | 6 |  0 | 2013-01-01 06:00:00 |\n",
       "| 2013 | 1 | 1 | 2013-01-01 06:11:00 | 2013-01-01 06:00:00 | 11 | 2013-01-01 09:45:00 | 2013-01-01 09:31:00 |  14 | UA |  303 | N532UA | JFK | SFO | 366 | 2586 | 6 |  0 | 2013-01-01 06:00:00 |\n",
       "| 2013 | 1 | 1 | 2013-01-01 06:13:00 | 2013-01-01 06:10:00 |  3 | 2013-01-01 09:25:00 | 2013-01-01 09:21:00 |   4 | B6 |  135 | N635JB | JFK | RSW | 175 | 1074 | 6 | 10 | 2013-01-01 06:00:00 |\n",
       "| 2013 | 1 | 1 | 2013-01-01 06:15:00 | 2013-01-01 06:15:00 |  0 | 2013-01-01 10:39:00 | 2013-01-01 11:00:00 | -21 | B6 |  709 | N794JB | JFK | SJU | 182 | 1598 | 6 | 15 | 2013-01-01 06:00:00 |\n",
       "| 2013 | 1 | 1 | 2013-01-01 06:15:00 | 2013-01-01 06:15:00 |  0 | 2013-01-01 08:33:00 | 2013-01-01 08:42:00 |  -9 | DL |  575 | N326NB | EWR | ATL | 120 |  746 | 6 | 15 | 2013-01-01 06:00:00 |\n",
       "| ⋮ | ⋮ | ⋮ | ⋮ | ⋮ | ⋮ | ⋮ | ⋮ | ⋮ | ⋮ | ⋮ | ⋮ | ⋮ | ⋮ | ⋮ | ⋮ | ⋮ | ⋮ | ⋮ |\n",
       "| 2013 | 9 | 30 | 2013-09-30 21:15:00 | 2013-09-30 21:10:00 |   5 | 2013-09-30 22:46:00 | 2013-09-30 22:55:00 |  -9 | MQ | 3603 | N519MQ | LGA | DTW |  72 |  502 | 21 | 10 | 2013-09-30 21:00:00 |\n",
       "| 2013 | 9 | 30 | 2013-09-30 21:16:00 | 2013-09-30 21:24:00 |  -8 | 2013-09-30 23:17:00 | 2013-09-30 23:37:00 | -20 | EV | 4682 | N14542 | EWR | SDF |  94 |  642 | 21 | 24 | 2013-09-30 21:00:00 |\n",
       "| 2013 | 9 | 30 | 2013-09-30 21:19:00 | 2013-09-30 20:05:00 |  74 | 2013-09-30 23:10:00 | 2013-09-30 22:12:00 |  58 | EV | 4321 | N17984 | EWR | MCI | 147 | 1092 | 20 |  5 | 2013-09-30 20:00:00 |\n",
       "| 2013 | 9 | 30 | 2013-09-30 21:19:00 | 2013-09-30 21:20:00 |  -1 | 2013-09-30 23:30:00 | 2013-09-30 23:54:00 | -24 | B6 | 1677 | N358JB | JFK | JAX | 113 |  828 | 21 | 20 | 2013-09-30 21:00:00 |\n",
       "| 2013 | 9 | 30 | 2013-09-30 21:21:00 | 2013-09-30 21:00:00 |  21 | 2013-09-30 23:49:00 | 2013-09-30 00:14:00 | -25 | DL | 2363 | N193DN | JFK | LAX | 296 | 2475 | 21 |  0 | 2013-09-30 21:00:00 |\n",
       "| 2013 | 9 | 30 | 2013-09-30 21:22:00 | 2013-09-30 21:27:00 |  -5 | 2013-09-30 22:26:00 | 2013-09-30 22:37:00 | -11 | EV | 4372 | N14902 | EWR | DCA |  35 |  199 | 21 | 27 | 2013-09-30 21:00:00 |\n",
       "| 2013 | 9 | 30 | 2013-09-30 21:23:00 | 2013-09-30 21:25:00 |  -2 | 2013-09-30 22:23:00 | 2013-09-30 22:47:00 | -24 | EV | 5489 | N712EV | LGA | CHO |  45 |  305 | 21 | 25 | 2013-09-30 21:00:00 |\n",
       "| 2013 | 9 | 30 | 2013-09-30 21:27:00 | 2013-09-30 21:29:00 |  -2 | 2013-09-30 23:14:00 | 2013-09-30 23:23:00 |  -9 | EV | 3833 | N16546 | EWR | CLT |  72 |  529 | 21 | 29 | 2013-09-30 21:00:00 |\n",
       "| 2013 | 9 | 30 | 2013-09-30 21:28:00 | 2013-09-30 21:30:00 |  -2 | 2013-09-30 23:28:00 | 2013-09-30 23:59:00 | -31 | B6 |   97 | N807JB | JFK | DEN | 213 | 1626 | 21 | 30 | 2013-09-30 21:00:00 |\n",
       "| 2013 | 9 | 30 | 2013-09-30 21:29:00 | 2013-09-30 20:59:00 |  30 | 2013-09-30 22:30:00 | 2013-09-30 22:32:00 |  -2 | EV | 5048 | N751EV | LGA | RIC |  45 |  292 | 20 | 59 | 2013-09-30 20:00:00 |\n",
       "| 2013 | 9 | 30 | 2013-09-30 21:31:00 | 2013-09-30 21:40:00 |  -9 | 2013-09-30 22:25:00 | 2013-09-30 22:55:00 | -30 | MQ | 3621 | N807MQ | JFK | DCA |  36 |  213 | 21 | 40 | 2013-09-30 21:00:00 |\n",
       "| 2013 | 9 | 30 | 2013-09-30 21:40:00 | 2013-09-30 21:40:00 |   0 | 2013-09-30 00:10:00 | 2013-09-30 00:40:00 | -30 | AA |  185 | N335AA | JFK | LAX | 298 | 2475 | 21 | 40 | 2013-09-30 21:00:00 |\n",
       "| 2013 | 9 | 30 | 2013-09-30 21:42:00 | 2013-09-30 21:29:00 |  13 | 2013-09-30 22:50:00 | 2013-09-30 22:39:00 |  11 | EV | 4509 | N12957 | EWR | PWM |  47 |  284 | 21 | 29 | 2013-09-30 21:00:00 |\n",
       "| 2013 | 9 | 30 | 2013-09-30 21:45:00 | 2013-09-30 21:45:00 |   0 | 2013-09-30 01:15:00 | 2013-09-30 01:40:00 | -25 | B6 | 1103 | N633JB | JFK | SJU | 192 | 1598 | 21 | 45 | 2013-09-30 21:00:00 |\n",
       "| 2013 | 9 | 30 | 2013-09-30 21:47:00 | 2013-09-30 21:37:00 |  10 | 2013-09-30 00:30:00 | 2013-09-30 00:27:00 |   3 | B6 | 1371 | N627JB | LGA | FLL | 139 | 1076 | 21 | 37 | 2013-09-30 21:00:00 |\n",
       "| 2013 | 9 | 30 | 2013-09-30 21:49:00 | 2013-09-30 21:56:00 |  -7 | 2013-09-30 22:45:00 | 2013-09-30 23:08:00 | -23 | UA |  523 | N813UA | EWR | BOS |  37 |  200 | 21 | 56 | 2013-09-30 21:00:00 |\n",
       "| 2013 | 9 | 30 | 2013-09-30 21:50:00 | 2013-09-30 21:59:00 |  -9 | 2013-09-30 22:50:00 | 2013-09-30 23:06:00 | -16 | EV | 3842 | N10575 | EWR | MHT |  39 |  209 | 21 | 59 | 2013-09-30 21:00:00 |\n",
       "| 2013 | 9 | 30 | 2013-09-30 21:59:00 | 2013-09-30 18:45:00 | 194 | 2013-09-30 23:44:00 | 2013-09-30 20:30:00 | 194 | 9E | 3320 | N906XJ | JFK | BUF |  50 |  301 | 18 | 45 | 2013-09-30 18:00:00 |\n",
       "| 2013 | 9 | 30 | 2013-09-30 22:03:00 | 2013-09-30 22:05:00 |  -2 | 2013-09-30 23:39:00 | 2013-09-30 23:31:00 |   8 | EV | 5311 | N722EV | LGA | BGR |  61 |  378 | 22 |  5 | 2013-09-30 22:00:00 |\n",
       "| 2013 | 9 | 30 | 2013-09-30 22:07:00 | 2013-09-30 21:40:00 |  27 | 2013-09-30 22:57:00 | 2013-09-30 22:50:00 |   7 | MQ | 3660 | N532MQ | LGA | BNA |  97 |  764 | 21 | 40 | 2013-09-30 21:00:00 |\n",
       "| 2013 | 9 | 30 | 2013-09-30 22:11:00 | 2013-09-30 20:59:00 |  72 | 2013-09-30 23:39:00 | 2013-09-30 22:42:00 |  57 | EV | 4672 | N12145 | EWR | STL | 120 |  872 | 20 | 59 | 2013-09-30 20:00:00 |\n",
       "| 2013 | 9 | 30 | 2013-09-30 22:31:00 | 2013-09-30 22:45:00 | -14 | 2013-09-30 23:35:00 | 2013-09-30 23:56:00 | -21 | B6 |  108 | N193JB | JFK | PWM |  48 |  273 | 22 | 45 | 2013-09-30 22:00:00 |\n",
       "| 2013 | 9 | 30 | 2013-09-30 22:33:00 | 2013-09-30 21:13:00 |  80 | 2013-09-30 01:12:00 | 2013-09-30 00:30:00 |  42 | UA |  471 | N578UA | EWR | SFO | 318 | 2565 | 21 | 13 | 2013-09-30 21:00:00 |\n",
       "| 2013 | 9 | 30 | 2013-09-30 22:35:00 | 2013-09-30 20:01:00 | 154 | 2013-09-30 00:59:00 | 2013-09-30 22:49:00 | 130 | B6 | 1083 | N804JB | JFK | MCO | 123 |  944 | 20 |  1 | 2013-09-30 20:00:00 |\n",
       "| 2013 | 9 | 30 | 2013-09-30 22:37:00 | 2013-09-30 22:45:00 |  -8 | 2013-09-30 23:45:00 | 2013-09-30 23:53:00 |  -8 | B6 |  234 | N318JB | JFK | BTV |  43 |  266 | 22 | 45 | 2013-09-30 22:00:00 |\n",
       "| 2013 | 9 | 30 | 2013-09-30 22:40:00 | 2013-09-30 22:45:00 |  -5 | 2013-09-30 23:34:00 | 2013-09-30 23:51:00 | -17 | B6 | 1816 | N354JB | JFK | SYR |  41 |  209 | 22 | 45 | 2013-09-30 22:00:00 |\n",
       "| 2013 | 9 | 30 | 2013-09-30 22:40:00 | 2013-09-30 22:50:00 | -10 | 2013-09-30 23:47:00 | 2013-09-30 00:07:00 | -20 | B6 | 2002 | N281JB | JFK | BUF |  52 |  301 | 22 | 50 | 2013-09-30 22:00:00 |\n",
       "| 2013 | 9 | 30 | 2013-09-30 22:41:00 | 2013-09-30 22:46:00 |  -5 | 2013-09-30 23:45:00 | 2013-09-30 00:01:00 | -16 | B6 |  486 | N346JB | JFK | ROC |  47 |  264 | 22 | 46 | 2013-09-30 22:00:00 |\n",
       "| 2013 | 9 | 30 | 2013-09-30 23:07:00 | 2013-09-30 22:55:00 |  12 | 2013-09-30 23:59:00 | 2013-09-30 23:58:00 |   1 | B6 |  718 | N565JB | JFK | BOS |  33 |  187 | 22 | 55 | 2013-09-30 22:00:00 |\n",
       "| 2013 | 9 | 30 | 2013-09-30 23:49:00 | 2013-09-30 23:59:00 | -10 | 2013-09-30 03:25:00 | 2013-09-30 03:50:00 | -25 | B6 |  745 | N516JB | JFK | PSE | 196 | 1617 | 23 | 59 | 2013-09-30 23:00:00 |\n",
       "\n"
      ],
      "text/plain": [
       "       year month day dep_time            sched_dep_time      dep_delay\n",
       "1      2013 1     1   2013-01-01 05:17:00 2013-01-01 05:15:00  2       \n",
       "2      2013 1     1   2013-01-01 05:33:00 2013-01-01 05:29:00  4       \n",
       "3      2013 1     1   2013-01-01 05:42:00 2013-01-01 05:40:00  2       \n",
       "4      2013 1     1   2013-01-01 05:44:00 2013-01-01 05:45:00 -1       \n",
       "5      2013 1     1   2013-01-01 05:54:00 2013-01-01 06:00:00 -6       \n",
       "6      2013 1     1   2013-01-01 05:54:00 2013-01-01 05:58:00 -4       \n",
       "7      2013 1     1   2013-01-01 05:55:00 2013-01-01 06:00:00 -5       \n",
       "8      2013 1     1   2013-01-01 05:57:00 2013-01-01 06:00:00 -3       \n",
       "9      2013 1     1   2013-01-01 05:57:00 2013-01-01 06:00:00 -3       \n",
       "10     2013 1     1   2013-01-01 05:58:00 2013-01-01 06:00:00 -2       \n",
       "11     2013 1     1   2013-01-01 05:58:00 2013-01-01 06:00:00 -2       \n",
       "12     2013 1     1   2013-01-01 05:58:00 2013-01-01 06:00:00 -2       \n",
       "13     2013 1     1   2013-01-01 05:58:00 2013-01-01 06:00:00 -2       \n",
       "14     2013 1     1   2013-01-01 05:58:00 2013-01-01 06:00:00 -2       \n",
       "15     2013 1     1   2013-01-01 05:59:00 2013-01-01 06:00:00 -1       \n",
       "16     2013 1     1   2013-01-01 05:59:00 2013-01-01 05:59:00  0       \n",
       "17     2013 1     1   2013-01-01 05:59:00 2013-01-01 06:00:00 -1       \n",
       "18     2013 1     1   2013-01-01 06:00:00 2013-01-01 06:00:00  0       \n",
       "19     2013 1     1   2013-01-01 06:00:00 2013-01-01 06:00:00  0       \n",
       "20     2013 1     1   2013-01-01 06:01:00 2013-01-01 06:00:00  1       \n",
       "21     2013 1     1   2013-01-01 06:02:00 2013-01-01 06:10:00 -8       \n",
       "22     2013 1     1   2013-01-01 06:02:00 2013-01-01 06:05:00 -3       \n",
       "23     2013 1     1   2013-01-01 06:06:00 2013-01-01 06:10:00 -4       \n",
       "24     2013 1     1   2013-01-01 06:06:00 2013-01-01 06:10:00 -4       \n",
       "25     2013 1     1   2013-01-01 06:07:00 2013-01-01 06:07:00  0       \n",
       "26     2013 1     1   2013-01-01 06:08:00 2013-01-01 06:00:00  8       \n",
       "27     2013 1     1   2013-01-01 06:11:00 2013-01-01 06:00:00 11       \n",
       "28     2013 1     1   2013-01-01 06:13:00 2013-01-01 06:10:00  3       \n",
       "29     2013 1     1   2013-01-01 06:15:00 2013-01-01 06:15:00  0       \n",
       "30     2013 1     1   2013-01-01 06:15:00 2013-01-01 06:15:00  0       \n",
       "⋮      ⋮    ⋮     ⋮   ⋮                   ⋮                   ⋮        \n",
       "328034 2013 9     30  2013-09-30 21:15:00 2013-09-30 21:10:00   5      \n",
       "328035 2013 9     30  2013-09-30 21:16:00 2013-09-30 21:24:00  -8      \n",
       "328036 2013 9     30  2013-09-30 21:19:00 2013-09-30 20:05:00  74      \n",
       "328037 2013 9     30  2013-09-30 21:19:00 2013-09-30 21:20:00  -1      \n",
       "328038 2013 9     30  2013-09-30 21:21:00 2013-09-30 21:00:00  21      \n",
       "328039 2013 9     30  2013-09-30 21:22:00 2013-09-30 21:27:00  -5      \n",
       "328040 2013 9     30  2013-09-30 21:23:00 2013-09-30 21:25:00  -2      \n",
       "328041 2013 9     30  2013-09-30 21:27:00 2013-09-30 21:29:00  -2      \n",
       "328042 2013 9     30  2013-09-30 21:28:00 2013-09-30 21:30:00  -2      \n",
       "328043 2013 9     30  2013-09-30 21:29:00 2013-09-30 20:59:00  30      \n",
       "328044 2013 9     30  2013-09-30 21:31:00 2013-09-30 21:40:00  -9      \n",
       "328045 2013 9     30  2013-09-30 21:40:00 2013-09-30 21:40:00   0      \n",
       "328046 2013 9     30  2013-09-30 21:42:00 2013-09-30 21:29:00  13      \n",
       "328047 2013 9     30  2013-09-30 21:45:00 2013-09-30 21:45:00   0      \n",
       "328048 2013 9     30  2013-09-30 21:47:00 2013-09-30 21:37:00  10      \n",
       "328049 2013 9     30  2013-09-30 21:49:00 2013-09-30 21:56:00  -7      \n",
       "328050 2013 9     30  2013-09-30 21:50:00 2013-09-30 21:59:00  -9      \n",
       "328051 2013 9     30  2013-09-30 21:59:00 2013-09-30 18:45:00 194      \n",
       "328052 2013 9     30  2013-09-30 22:03:00 2013-09-30 22:05:00  -2      \n",
       "328053 2013 9     30  2013-09-30 22:07:00 2013-09-30 21:40:00  27      \n",
       "328054 2013 9     30  2013-09-30 22:11:00 2013-09-30 20:59:00  72      \n",
       "328055 2013 9     30  2013-09-30 22:31:00 2013-09-30 22:45:00 -14      \n",
       "328056 2013 9     30  2013-09-30 22:33:00 2013-09-30 21:13:00  80      \n",
       "328057 2013 9     30  2013-09-30 22:35:00 2013-09-30 20:01:00 154      \n",
       "328058 2013 9     30  2013-09-30 22:37:00 2013-09-30 22:45:00  -8      \n",
       "328059 2013 9     30  2013-09-30 22:40:00 2013-09-30 22:45:00  -5      \n",
       "328060 2013 9     30  2013-09-30 22:40:00 2013-09-30 22:50:00 -10      \n",
       "328061 2013 9     30  2013-09-30 22:41:00 2013-09-30 22:46:00  -5      \n",
       "328062 2013 9     30  2013-09-30 23:07:00 2013-09-30 22:55:00  12      \n",
       "328063 2013 9     30  2013-09-30 23:49:00 2013-09-30 23:59:00 -10      \n",
       "       arr_time            sched_arr_time      arr_delay carrier flight tailnum\n",
       "1      2013-01-01 08:30:00 2013-01-01 08:19:00  11       UA      1545   N14228 \n",
       "2      2013-01-01 08:50:00 2013-01-01 08:30:00  20       UA      1714   N24211 \n",
       "3      2013-01-01 09:23:00 2013-01-01 08:50:00  33       AA      1141   N619AA \n",
       "4      2013-01-01 10:04:00 2013-01-01 10:22:00 -18       B6       725   N804JB \n",
       "5      2013-01-01 08:12:00 2013-01-01 08:37:00 -25       DL       461   N668DN \n",
       "6      2013-01-01 07:40:00 2013-01-01 07:28:00  12       UA      1696   N39463 \n",
       "7      2013-01-01 09:13:00 2013-01-01 08:54:00  19       B6       507   N516JB \n",
       "8      2013-01-01 07:09:00 2013-01-01 07:23:00 -14       EV      5708   N829AS \n",
       "9      2013-01-01 08:38:00 2013-01-01 08:46:00  -8       B6        79   N593JB \n",
       "10     2013-01-01 07:53:00 2013-01-01 07:45:00   8       AA       301   N3ALAA \n",
       "11     2013-01-01 08:49:00 2013-01-01 08:51:00  -2       B6        49   N793JB \n",
       "12     2013-01-01 08:53:00 2013-01-01 08:56:00  -3       B6        71   N657JB \n",
       "13     2013-01-01 09:24:00 2013-01-01 09:17:00   7       UA       194   N29129 \n",
       "14     2013-01-01 09:23:00 2013-01-01 09:37:00 -14       UA      1124   N53441 \n",
       "15     2013-01-01 09:41:00 2013-01-01 09:10:00  31       AA       707   N3DUAA \n",
       "16     2013-01-01 07:02:00 2013-01-01 07:06:00  -4       B6      1806   N708JB \n",
       "17     2013-01-01 08:54:00 2013-01-01 09:02:00  -8       UA      1187   N76515 \n",
       "18     2013-01-01 08:51:00 2013-01-01 08:58:00  -7       B6       371   N595JB \n",
       "19     2013-01-01 08:37:00 2013-01-01 08:25:00  12       MQ      4650   N542MQ \n",
       "20     2013-01-01 08:44:00 2013-01-01 08:50:00  -6       B6       343   N644JB \n",
       "21     2013-01-01 08:12:00 2013-01-01 08:20:00  -8       DL      1919   N971DL \n",
       "22     2013-01-01 08:21:00 2013-01-01 08:05:00  16       MQ      4401   N730MQ \n",
       "23     2013-01-01 08:58:00 2013-01-01 09:10:00 -12       AA      1895   N633AA \n",
       "24     2013-01-01 08:37:00 2013-01-01 08:45:00  -8       DL      1743   N3739P \n",
       "25     2013-01-01 08:58:00 2013-01-01 09:15:00 -17       UA      1077   N53442 \n",
       "26     2013-01-01 08:07:00 2013-01-01 07:35:00  32       MQ      3768   N9EAMQ \n",
       "27     2013-01-01 09:45:00 2013-01-01 09:31:00  14       UA       303   N532UA \n",
       "28     2013-01-01 09:25:00 2013-01-01 09:21:00   4       B6       135   N635JB \n",
       "29     2013-01-01 10:39:00 2013-01-01 11:00:00 -21       B6       709   N794JB \n",
       "30     2013-01-01 08:33:00 2013-01-01 08:42:00  -9       DL       575   N326NB \n",
       "⋮      ⋮                   ⋮                   ⋮         ⋮       ⋮      ⋮      \n",
       "328034 2013-09-30 22:46:00 2013-09-30 22:55:00  -9       MQ      3603   N519MQ \n",
       "328035 2013-09-30 23:17:00 2013-09-30 23:37:00 -20       EV      4682   N14542 \n",
       "328036 2013-09-30 23:10:00 2013-09-30 22:12:00  58       EV      4321   N17984 \n",
       "328037 2013-09-30 23:30:00 2013-09-30 23:54:00 -24       B6      1677   N358JB \n",
       "328038 2013-09-30 23:49:00 2013-09-30 00:14:00 -25       DL      2363   N193DN \n",
       "328039 2013-09-30 22:26:00 2013-09-30 22:37:00 -11       EV      4372   N14902 \n",
       "328040 2013-09-30 22:23:00 2013-09-30 22:47:00 -24       EV      5489   N712EV \n",
       "328041 2013-09-30 23:14:00 2013-09-30 23:23:00  -9       EV      3833   N16546 \n",
       "328042 2013-09-30 23:28:00 2013-09-30 23:59:00 -31       B6        97   N807JB \n",
       "328043 2013-09-30 22:30:00 2013-09-30 22:32:00  -2       EV      5048   N751EV \n",
       "328044 2013-09-30 22:25:00 2013-09-30 22:55:00 -30       MQ      3621   N807MQ \n",
       "328045 2013-09-30 00:10:00 2013-09-30 00:40:00 -30       AA       185   N335AA \n",
       "328046 2013-09-30 22:50:00 2013-09-30 22:39:00  11       EV      4509   N12957 \n",
       "328047 2013-09-30 01:15:00 2013-09-30 01:40:00 -25       B6      1103   N633JB \n",
       "328048 2013-09-30 00:30:00 2013-09-30 00:27:00   3       B6      1371   N627JB \n",
       "328049 2013-09-30 22:45:00 2013-09-30 23:08:00 -23       UA       523   N813UA \n",
       "328050 2013-09-30 22:50:00 2013-09-30 23:06:00 -16       EV      3842   N10575 \n",
       "328051 2013-09-30 23:44:00 2013-09-30 20:30:00 194       9E      3320   N906XJ \n",
       "328052 2013-09-30 23:39:00 2013-09-30 23:31:00   8       EV      5311   N722EV \n",
       "328053 2013-09-30 22:57:00 2013-09-30 22:50:00   7       MQ      3660   N532MQ \n",
       "328054 2013-09-30 23:39:00 2013-09-30 22:42:00  57       EV      4672   N12145 \n",
       "328055 2013-09-30 23:35:00 2013-09-30 23:56:00 -21       B6       108   N193JB \n",
       "328056 2013-09-30 01:12:00 2013-09-30 00:30:00  42       UA       471   N578UA \n",
       "328057 2013-09-30 00:59:00 2013-09-30 22:49:00 130       B6      1083   N804JB \n",
       "328058 2013-09-30 23:45:00 2013-09-30 23:53:00  -8       B6       234   N318JB \n",
       "328059 2013-09-30 23:34:00 2013-09-30 23:51:00 -17       B6      1816   N354JB \n",
       "328060 2013-09-30 23:47:00 2013-09-30 00:07:00 -20       B6      2002   N281JB \n",
       "328061 2013-09-30 23:45:00 2013-09-30 00:01:00 -16       B6       486   N346JB \n",
       "328062 2013-09-30 23:59:00 2013-09-30 23:58:00   1       B6       718   N565JB \n",
       "328063 2013-09-30 03:25:00 2013-09-30 03:50:00 -25       B6       745   N516JB \n",
       "       origin dest air_time distance hour minute time_hour          \n",
       "1      EWR    IAH  227      1400     5    15     2013-01-01 05:00:00\n",
       "2      LGA    IAH  227      1416     5    29     2013-01-01 05:00:00\n",
       "3      JFK    MIA  160      1089     5    40     2013-01-01 05:00:00\n",
       "4      JFK    BQN  183      1576     5    45     2013-01-01 05:00:00\n",
       "5      LGA    ATL  116       762     6     0     2013-01-01 06:00:00\n",
       "6      EWR    ORD  150       719     5    58     2013-01-01 05:00:00\n",
       "7      EWR    FLL  158      1065     6     0     2013-01-01 06:00:00\n",
       "8      LGA    IAD   53       229     6     0     2013-01-01 06:00:00\n",
       "9      JFK    MCO  140       944     6     0     2013-01-01 06:00:00\n",
       "10     LGA    ORD  138       733     6     0     2013-01-01 06:00:00\n",
       "11     JFK    PBI  149      1028     6     0     2013-01-01 06:00:00\n",
       "12     JFK    TPA  158      1005     6     0     2013-01-01 06:00:00\n",
       "13     JFK    LAX  345      2475     6     0     2013-01-01 06:00:00\n",
       "14     EWR    SFO  361      2565     6     0     2013-01-01 06:00:00\n",
       "15     LGA    DFW  257      1389     6     0     2013-01-01 06:00:00\n",
       "16     JFK    BOS   44       187     5    59     2013-01-01 05:00:00\n",
       "17     EWR    LAS  337      2227     6     0     2013-01-01 06:00:00\n",
       "18     LGA    FLL  152      1076     6     0     2013-01-01 06:00:00\n",
       "19     LGA    ATL  134       762     6     0     2013-01-01 06:00:00\n",
       "20     EWR    PBI  147      1023     6     0     2013-01-01 06:00:00\n",
       "21     LGA    MSP  170      1020     6    10     2013-01-01 06:00:00\n",
       "22     LGA    DTW  105       502     6     5     2013-01-01 06:00:00\n",
       "23     EWR    MIA  152      1085     6    10     2013-01-01 06:00:00\n",
       "24     JFK    ATL  128       760     6    10     2013-01-01 06:00:00\n",
       "25     EWR    MIA  157      1085     6     7     2013-01-01 06:00:00\n",
       "26     EWR    ORD  139       719     6     0     2013-01-01 06:00:00\n",
       "27     JFK    SFO  366      2586     6     0     2013-01-01 06:00:00\n",
       "28     JFK    RSW  175      1074     6    10     2013-01-01 06:00:00\n",
       "29     JFK    SJU  182      1598     6    15     2013-01-01 06:00:00\n",
       "30     EWR    ATL  120       746     6    15     2013-01-01 06:00:00\n",
       "⋮      ⋮      ⋮    ⋮        ⋮        ⋮    ⋮      ⋮                  \n",
       "328034 LGA    DTW   72       502     21   10     2013-09-30 21:00:00\n",
       "328035 EWR    SDF   94       642     21   24     2013-09-30 21:00:00\n",
       "328036 EWR    MCI  147      1092     20    5     2013-09-30 20:00:00\n",
       "328037 JFK    JAX  113       828     21   20     2013-09-30 21:00:00\n",
       "328038 JFK    LAX  296      2475     21    0     2013-09-30 21:00:00\n",
       "328039 EWR    DCA   35       199     21   27     2013-09-30 21:00:00\n",
       "328040 LGA    CHO   45       305     21   25     2013-09-30 21:00:00\n",
       "328041 EWR    CLT   72       529     21   29     2013-09-30 21:00:00\n",
       "328042 JFK    DEN  213      1626     21   30     2013-09-30 21:00:00\n",
       "328043 LGA    RIC   45       292     20   59     2013-09-30 20:00:00\n",
       "328044 JFK    DCA   36       213     21   40     2013-09-30 21:00:00\n",
       "328045 JFK    LAX  298      2475     21   40     2013-09-30 21:00:00\n",
       "328046 EWR    PWM   47       284     21   29     2013-09-30 21:00:00\n",
       "328047 JFK    SJU  192      1598     21   45     2013-09-30 21:00:00\n",
       "328048 LGA    FLL  139      1076     21   37     2013-09-30 21:00:00\n",
       "328049 EWR    BOS   37       200     21   56     2013-09-30 21:00:00\n",
       "328050 EWR    MHT   39       209     21   59     2013-09-30 21:00:00\n",
       "328051 JFK    BUF   50       301     18   45     2013-09-30 18:00:00\n",
       "328052 LGA    BGR   61       378     22    5     2013-09-30 22:00:00\n",
       "328053 LGA    BNA   97       764     21   40     2013-09-30 21:00:00\n",
       "328054 EWR    STL  120       872     20   59     2013-09-30 20:00:00\n",
       "328055 JFK    PWM   48       273     22   45     2013-09-30 22:00:00\n",
       "328056 EWR    SFO  318      2565     21   13     2013-09-30 21:00:00\n",
       "328057 JFK    MCO  123       944     20    1     2013-09-30 20:00:00\n",
       "328058 JFK    BTV   43       266     22   45     2013-09-30 22:00:00\n",
       "328059 JFK    SYR   41       209     22   45     2013-09-30 22:00:00\n",
       "328060 JFK    BUF   52       301     22   50     2013-09-30 22:00:00\n",
       "328061 JFK    ROC   47       264     22   46     2013-09-30 22:00:00\n",
       "328062 JFK    BOS   33       187     22   55     2013-09-30 22:00:00\n",
       "328063 JFK    PSE  196      1617     23   59     2013-09-30 23:00:00"
      ]
     },
     "metadata": {},
     "output_type": "display_data"
    }
   ],
   "source": [
    "flights_dt"
   ]
  },
  {
   "cell_type": "markdown",
   "metadata": {},
   "source": [
    "### Extracting Date Time Values"
   ]
  },
  {
   "cell_type": "code",
   "execution_count": 39,
   "metadata": {},
   "outputs": [],
   "source": [
    "#birthday\n",
    "datetime <- ymd_hms(\"1973-12-17 12:34:56\")"
   ]
  },
  {
   "cell_type": "code",
   "execution_count": 40,
   "metadata": {},
   "outputs": [
    {
     "data": {
      "text/plain": [
       "[1] \"1973-12-17 12:34:56 UTC\""
      ]
     },
     "metadata": {},
     "output_type": "display_data"
    }
   ],
   "source": [
    "datetime"
   ]
  },
  {
   "cell_type": "code",
   "execution_count": 41,
   "metadata": {},
   "outputs": [
    {
     "data": {
      "text/html": [
       "12"
      ],
      "text/latex": [
       "12"
      ],
      "text/markdown": [
       "12"
      ],
      "text/plain": [
       "[1] 12"
      ]
     },
     "metadata": {},
     "output_type": "display_data"
    }
   ],
   "source": [
    "month(datetime)"
   ]
  },
  {
   "cell_type": "code",
   "execution_count": 42,
   "metadata": {},
   "outputs": [
    {
     "data": {
      "text/html": [
       "Mon\n",
       "<details>\n",
       "\t<summary style=display:list-item;cursor:pointer>\n",
       "\t\t<strong>Levels</strong>:\n",
       "\t</summary>\n",
       "\t<style>\n",
       "\t.list-inline {list-style: none; margin:0; padding: 0}\n",
       "\t.list-inline>li {display: inline-block}\n",
       "\t.list-inline>li:not(:last-child)::after {content: \"\\00b7\"; padding: 0 .5ex}\n",
       "\t</style>\n",
       "\t<ol class=list-inline><li>'Sun'</li><li>'Mon'</li><li>'Tue'</li><li>'Wed'</li><li>'Thu'</li><li>'Fri'</li><li>'Sat'</li></ol>\n",
       "</details>"
      ],
      "text/latex": [
       "Mon\n",
       "\\emph{Levels}: \\begin{enumerate*}\n",
       "\\item 'Sun'\n",
       "\\item 'Mon'\n",
       "\\item 'Tue'\n",
       "\\item 'Wed'\n",
       "\\item 'Thu'\n",
       "\\item 'Fri'\n",
       "\\item 'Sat'\n",
       "\\end{enumerate*}\n"
      ],
      "text/markdown": [
       "Mon\n",
       "**Levels**: 1. 'Sun'\n",
       "2. 'Mon'\n",
       "3. 'Tue'\n",
       "4. 'Wed'\n",
       "5. 'Thu'\n",
       "6. 'Fri'\n",
       "7. 'Sat'\n",
       "\n",
       "\n"
      ],
      "text/plain": [
       "[1] Mon\n",
       "Levels: Sun < Mon < Tue < Wed < Thu < Fri < Sat"
      ]
     },
     "metadata": {},
     "output_type": "display_data"
    }
   ],
   "source": [
    "wday(datetime, label = TRUE)"
   ]
  },
  {
   "cell_type": "markdown",
   "metadata": {},
   "source": [
    "### Rounding Dates"
   ]
  },
  {
   "cell_type": "code",
   "execution_count": 12,
   "metadata": {},
   "outputs": [],
   "source": [
    "datetime.1 <- ymd_hms(\"1974-08-26 12:34:56\") #brenda\n",
    "datetime.2 <- ymd_hms(\"1996-06-06 18:56:02\") #gabriela\n",
    "datetime.3 <- ymd_hms(\"1998-05-10 13:20:11\") #cristian"
   ]
  },
  {
   "cell_type": "code",
   "execution_count": 13,
   "metadata": {},
   "outputs": [
    {
     "data": {
      "text/plain": [
       "[1] \"1974-08-25 UTC\""
      ]
     },
     "metadata": {},
     "output_type": "display_data"
    }
   ],
   "source": [
    "floor_date(datetime.1, unit=\"week\")"
   ]
  },
  {
   "cell_type": "code",
   "execution_count": 14,
   "metadata": {},
   "outputs": [
    {
     "data": {
      "text/plain": [
       "[1] \"1996-06-02 UTC\""
      ]
     },
     "metadata": {},
     "output_type": "display_data"
    }
   ],
   "source": [
    "floor_date(datetime.2, unit=\"week\")"
   ]
  },
  {
   "cell_type": "code",
   "execution_count": 15,
   "metadata": {},
   "outputs": [
    {
     "data": {
      "text/plain": [
       "[1] \"1998-05-10 UTC\""
      ]
     },
     "metadata": {},
     "output_type": "display_data"
    }
   ],
   "source": [
    "floor_date(datetime.3, unit=\"week\")"
   ]
  },
  {
   "cell_type": "code",
   "execution_count": 16,
   "metadata": {},
   "outputs": [
    {
     "data": {
      "text/plain": [
       "[1] \"1974-08-26 UTC\""
      ]
     },
     "metadata": {},
     "output_type": "display_data"
    }
   ],
   "source": [
    "floor_date(datetime.1, unit=\"day\")"
   ]
  },
  {
   "cell_type": "code",
   "execution_count": 17,
   "metadata": {},
   "outputs": [
    {
     "data": {
      "text/plain": [
       "[1] \"1996-06-06 UTC\""
      ]
     },
     "metadata": {},
     "output_type": "display_data"
    }
   ],
   "source": [
    "floor_date(datetime.2, unit=\"day\")"
   ]
  },
  {
   "cell_type": "code",
   "execution_count": 53,
   "metadata": {},
   "outputs": [
    {
     "data": {
      "text/plain": [
       "[1] \"1998-05-10 UTC\""
      ]
     },
     "metadata": {},
     "output_type": "display_data"
    }
   ],
   "source": [
    "floor_date(datetime.3, unit=\"day\")"
   ]
  },
  {
   "cell_type": "markdown",
   "metadata": {},
   "source": [
    "### Time Periods"
   ]
  },
  {
   "cell_type": "code",
   "execution_count": 9,
   "metadata": {},
   "outputs": [
    {
     "data": {
      "text/plain": [
       "Time difference of -13362 days"
      ]
     },
     "metadata": {},
     "output_type": "display_data"
    }
   ],
   "source": [
    "( gary_age <- today() - ymd(\"2057-12-17\") )"
   ]
  },
  {
   "cell_type": "code",
   "execution_count": 55,
   "metadata": {},
   "outputs": [
    {
     "data": {
      "text/html": [
       "16985d 0H 0M 0S"
      ],
      "text/latex": [
       "16985d 0H 0M 0S"
      ],
      "text/markdown": [
       "16985d 0H 0M 0S"
      ],
      "text/plain": [
       "[1] \"16985d 0H 0M 0S\""
      ]
     },
     "metadata": {},
     "output_type": "display_data"
    }
   ],
   "source": [
    "as.period(gary_age)"
   ]
  },
  {
   "cell_type": "code",
   "execution_count": 56,
   "metadata": {},
   "outputs": [
    {
     "data": {
      "text/html": [
       "2d 0H 0M 0S"
      ],
      "text/latex": [
       "2d 0H 0M 0S"
      ],
      "text/markdown": [
       "2d 0H 0M 0S"
      ],
      "text/plain": [
       "[1] \"2d 0H 0M 0S\""
      ]
     },
     "metadata": {},
     "output_type": "display_data"
    }
   ],
   "source": [
    "days(2)"
   ]
  },
  {
   "cell_type": "code",
   "execution_count": 57,
   "metadata": {},
   "outputs": [
    {
     "data": {
      "text/html": [
       "21d 0H 0M 0S"
      ],
      "text/latex": [
       "21d 0H 0M 0S"
      ],
      "text/markdown": [
       "21d 0H 0M 0S"
      ],
      "text/plain": [
       "[1] \"21d 0H 0M 0S\""
      ]
     },
     "metadata": {},
     "output_type": "display_data"
    }
   ],
   "source": [
    "weeks(3)"
   ]
  },
  {
   "cell_type": "code",
   "execution_count": 58,
   "metadata": {},
   "outputs": [
    {
     "data": {
      "text/html": [
       "<style>\n",
       ".list-inline {list-style: none; margin:0; padding: 0}\n",
       ".list-inline>li {display: inline-block}\n",
       ".list-inline>li:not(:last-child)::after {content: \"\\00b7\"; padding: 0 .5ex}\n",
       "</style>\n",
       "<ol class=list-inline><li>0S</li><li>1S</li><li>2S</li><li>3S</li><li>4S</li></ol>\n"
      ],
      "text/latex": [
       "\\begin{enumerate*}\n",
       "\\item 0S\n",
       "\\item 1S\n",
       "\\item 2S\n",
       "\\item 3S\n",
       "\\item 4S\n",
       "\\end{enumerate*}\n"
      ],
      "text/markdown": [
       "1. 0S\n",
       "2. 1S\n",
       "3. 2S\n",
       "4. 3S\n",
       "5. 4S\n",
       "\n",
       "\n"
      ],
      "text/plain": [
       "[1] \"0S\" \"1S\" \"2S\" \"3S\" \"4S\""
      ]
     },
     "metadata": {},
     "output_type": "display_data"
    }
   ],
   "source": [
    "seconds(0:4)"
   ]
  },
  {
   "cell_type": "code",
   "execution_count": 59,
   "metadata": {},
   "outputs": [
    {
     "data": {
      "text/html": [
       "1y 0m 0d 0H 0M 0S"
      ],
      "text/latex": [
       "1y 0m 0d 0H 0M 0S"
      ],
      "text/markdown": [
       "1y 0m 0d 0H 0M 0S"
      ],
      "text/plain": [
       "[1] \"1y 0m 0d 0H 0M 0S\""
      ]
     },
     "metadata": {},
     "output_type": "display_data"
    }
   ],
   "source": [
    "years(1)"
   ]
  },
  {
   "cell_type": "code",
   "execution_count": null,
   "metadata": {},
   "outputs": [],
   "source": []
  }
 ],
 "metadata": {
  "kernelspec": {
   "display_name": "R",
   "language": "R",
   "name": "ir"
  },
  "language_info": {
   "codemirror_mode": "r",
   "file_extension": ".r",
   "mimetype": "text/x-r-source",
   "name": "R",
   "pygments_lexer": "r",
   "version": "4.1.0"
  }
 },
 "nbformat": 4,
 "nbformat_minor": 4
}
