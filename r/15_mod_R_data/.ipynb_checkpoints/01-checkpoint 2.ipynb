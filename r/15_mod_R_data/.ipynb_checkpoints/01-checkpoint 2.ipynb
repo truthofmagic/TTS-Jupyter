{
 "cells": [
  {
   "cell_type": "markdown",
   "metadata": {},
   "source": [
    "Data Science Fundamentals: R |\n",
    "[Table of Contents](../index.ipynb)\n",
    "- - - \n",
    "<!--NAVIGATION-->\n",
    "Module 15. [Date Time Values](./00.ipynb) | [readr](./01.ipynb) | [dplyr](./02.ipynb) | [Exercises](./03.ipynb)"
   ]
  },
  {
   "cell_type": "markdown",
   "metadata": {},
   "source": [
    "# Data Transformation with R"
   ]
  },
  {
   "cell_type": "code",
   "execution_count": 1,
   "metadata": {},
   "outputs": [
    {
     "data": {
      "text/html": [
       "<iframe width='560' height='315' src='https://www.youtube.com/embed/-xzaSEJgd8M?rel=0&amp;controls=0&amp;showinfo=0'</iframe>"
      ]
     },
     "metadata": {},
     "output_type": "display_data"
    }
   ],
   "source": [
    "library(IRdisplay)\n",
    "\n",
    "  display_html(\"<iframe width='560' height='315' src='https://www.youtube.com/embed/-xzaSEJgd8M?rel=0&amp;controls=0&amp;showinfo=0'</iframe>\")"
   ]
  },
  {
   "cell_type": "markdown",
   "metadata": {},
   "source": [
    "## [readr](https://readr.tidyverse.org/)\n",
    "\n",
    "#### Read Rectangular Text Data"
   ]
  },
  {
   "cell_type": "markdown",
   "metadata": {},
   "source": [
    "The goal of readr is to provide a fast and friendly way to read rectangular data (like csv, tsv, and fwf). It is designed to flexibly parse many types of data found in the wild, while still cleanly failing when data unexpectedly changes. If you are new to readr, the best place to start is the data import chapter in R for data science."
   ]
  },
  {
   "cell_type": "raw",
   "metadata": {},
   "source": [
    "# The easiest way to get readr is to install the whole tidyverse:\n",
    "install.packages(\"tidyverse\")"
   ]
  },
  {
   "cell_type": "raw",
   "metadata": {},
   "source": [
    "# Alternatively, install just readr:\n",
    "install.packages(\"readr\")"
   ]
  },
  {
   "cell_type": "markdown",
   "metadata": {},
   "source": [
    "### [See readr Cheatsheet](https://rawgit.com/rstudio/cheatsheets/master/data-import.pdf)\n",
    "\n",
    "- - -"
   ]
  },
  {
   "cell_type": "markdown",
   "metadata": {},
   "source": [
    "![images](images/slides3.png)"
   ]
  },
  {
   "cell_type": "code",
   "execution_count": 1,
   "metadata": {},
   "outputs": [
    {
     "name": "stderr",
     "output_type": "stream",
     "text": [
      "── \u001b[1mAttaching packages\u001b[22m ─────────────────────────────────────── tidyverse 1.3.0 ──\n",
      "\n",
      "\u001b[32m✔\u001b[39m \u001b[34mggplot2\u001b[39m 3.3.1     \u001b[32m✔\u001b[39m \u001b[34mpurrr  \u001b[39m 0.3.4\n",
      "\u001b[32m✔\u001b[39m \u001b[34mtibble \u001b[39m 3.0.1     \u001b[32m✔\u001b[39m \u001b[34mdplyr  \u001b[39m 1.0.0\n",
      "\u001b[32m✔\u001b[39m \u001b[34mtidyr  \u001b[39m 1.1.0     \u001b[32m✔\u001b[39m \u001b[34mstringr\u001b[39m 1.4.0\n",
      "\u001b[32m✔\u001b[39m \u001b[34mreadr  \u001b[39m 1.3.1     \u001b[32m✔\u001b[39m \u001b[34mforcats\u001b[39m 0.5.0\n",
      "\n",
      "── \u001b[1mConflicts\u001b[22m ────────────────────────────────────────── tidyverse_conflicts() ──\n",
      "\u001b[31m✖\u001b[39m \u001b[34mdplyr\u001b[39m::\u001b[32mfilter()\u001b[39m masks \u001b[34mstats\u001b[39m::filter()\n",
      "\u001b[31m✖\u001b[39m \u001b[34mdplyr\u001b[39m::\u001b[32mlag()\u001b[39m    masks \u001b[34mstats\u001b[39m::lag()\n",
      "\n"
     ]
    }
   ],
   "source": [
    "library(tidyverse)"
   ]
  },
  {
   "cell_type": "markdown",
   "metadata": {},
   "source": [
    "![images](images/slides4.png)"
   ]
  },
  {
   "cell_type": "markdown",
   "metadata": {},
   "source": [
    "## Reading Comma-Separated Files"
   ]
  },
  {
   "cell_type": "code",
   "execution_count": 6,
   "metadata": {},
   "outputs": [
    {
     "data": {
      "text/html": [
       "'/Library/Frameworks/R.framework/Versions/3.6/Resources/library/readr/extdata/mtcars.csv'"
      ],
      "text/latex": [
       "'/Library/Frameworks/R.framework/Versions/3.6/Resources/library/readr/extdata/mtcars.csv'"
      ],
      "text/markdown": [
       "'/Library/Frameworks/R.framework/Versions/3.6/Resources/library/readr/extdata/mtcars.csv'"
      ],
      "text/plain": [
       "[1] \"/Library/Frameworks/R.framework/Versions/3.6/Resources/library/readr/extdata/mtcars.csv\""
      ]
     },
     "metadata": {},
     "output_type": "display_data"
    }
   ],
   "source": [
    "readr_example(\"mtcars.csv\")"
   ]
  },
  {
   "cell_type": "code",
   "execution_count": 4,
   "metadata": {},
   "outputs": [],
   "source": [
    "?mtcars"
   ]
  },
  {
   "cell_type": "code",
   "execution_count": 5,
   "metadata": {},
   "outputs": [
    {
     "name": "stderr",
     "output_type": "stream",
     "text": [
      "Parsed with column specification:\n",
      "cols(\n",
      "  mpg = \u001b[32mcol_double()\u001b[39m,\n",
      "  cyl = \u001b[32mcol_double()\u001b[39m,\n",
      "  disp = \u001b[32mcol_double()\u001b[39m,\n",
      "  hp = \u001b[32mcol_double()\u001b[39m,\n",
      "  drat = \u001b[32mcol_double()\u001b[39m,\n",
      "  wt = \u001b[32mcol_double()\u001b[39m,\n",
      "  qsec = \u001b[32mcol_double()\u001b[39m,\n",
      "  vs = \u001b[32mcol_double()\u001b[39m,\n",
      "  am = \u001b[32mcol_double()\u001b[39m,\n",
      "  gear = \u001b[32mcol_double()\u001b[39m,\n",
      "  carb = \u001b[32mcol_double()\u001b[39m\n",
      ")\n",
      "\n"
     ]
    }
   ],
   "source": [
    "mtcars <- read_csv(readr_example(\"mtcars.csv\"))"
   ]
  },
  {
   "cell_type": "markdown",
   "metadata": {},
   "source": [
    "Note: Fuel consumption, 10 aspects of design and performance"
   ]
  },
  {
   "cell_type": "code",
   "execution_count": 7,
   "metadata": {},
   "outputs": [
    {
     "data": {
      "text/html": [
       "<table>\n",
       "<caption>A spec_tbl_df: 2 × 3</caption>\n",
       "<thead>\n",
       "\t<tr><th scope=col>a</th><th scope=col>b</th><th scope=col>c</th></tr>\n",
       "\t<tr><th scope=col>&lt;dbl&gt;</th><th scope=col>&lt;dbl&gt;</th><th scope=col>&lt;dbl&gt;</th></tr>\n",
       "</thead>\n",
       "<tbody>\n",
       "\t<tr><td>1</td><td>2</td><td>3</td></tr>\n",
       "\t<tr><td>4</td><td>5</td><td>6</td></tr>\n",
       "</tbody>\n",
       "</table>\n"
      ],
      "text/latex": [
       "A spec\\_tbl\\_df: 2 × 3\n",
       "\\begin{tabular}{lll}\n",
       " a & b & c\\\\\n",
       " <dbl> & <dbl> & <dbl>\\\\\n",
       "\\hline\n",
       "\t 1 & 2 & 3\\\\\n",
       "\t 4 & 5 & 6\\\\\n",
       "\\end{tabular}\n"
      ],
      "text/markdown": [
       "\n",
       "A spec_tbl_df: 2 × 3\n",
       "\n",
       "| a &lt;dbl&gt; | b &lt;dbl&gt; | c &lt;dbl&gt; |\n",
       "|---|---|---|\n",
       "| 1 | 2 | 3 |\n",
       "| 4 | 5 | 6 |\n",
       "\n"
      ],
      "text/plain": [
       "  a b c\n",
       "1 1 2 3\n",
       "2 4 5 6"
      ]
     },
     "metadata": {},
     "output_type": "display_data"
    }
   ],
   "source": [
    "#create a tibble\n",
    "read_csv(\"a,b,c\n",
    "1,2,3\n",
    "4,5,6\")"
   ]
  },
  {
   "cell_type": "markdown",
   "metadata": {},
   "source": [
    "First line used as column names but this can be changed."
   ]
  },
  {
   "cell_type": "code",
   "execution_count": 8,
   "metadata": {},
   "outputs": [
    {
     "data": {
      "text/html": [
       "<table>\n",
       "<caption>A spec_tbl_df: 3 × 3</caption>\n",
       "<thead>\n",
       "\t<tr><th scope=col>X1</th><th scope=col>X2</th><th scope=col>X3</th></tr>\n",
       "\t<tr><th scope=col>&lt;chr&gt;</th><th scope=col>&lt;chr&gt;</th><th scope=col>&lt;chr&gt;</th></tr>\n",
       "</thead>\n",
       "<tbody>\n",
       "\t<tr><td>a</td><td>b</td><td>c</td></tr>\n",
       "\t<tr><td>1</td><td>2</td><td>3</td></tr>\n",
       "\t<tr><td>4</td><td>5</td><td>6</td></tr>\n",
       "</tbody>\n",
       "</table>\n"
      ],
      "text/latex": [
       "A spec\\_tbl\\_df: 3 × 3\n",
       "\\begin{tabular}{lll}\n",
       " X1 & X2 & X3\\\\\n",
       " <chr> & <chr> & <chr>\\\\\n",
       "\\hline\n",
       "\t a & b & c\\\\\n",
       "\t 1 & 2 & 3\\\\\n",
       "\t 4 & 5 & 6\\\\\n",
       "\\end{tabular}\n"
      ],
      "text/markdown": [
       "\n",
       "A spec_tbl_df: 3 × 3\n",
       "\n",
       "| X1 &lt;chr&gt; | X2 &lt;chr&gt; | X3 &lt;chr&gt; |\n",
       "|---|---|---|\n",
       "| a | b | c |\n",
       "| 1 | 2 | 3 |\n",
       "| 4 | 5 | 6 |\n",
       "\n"
      ],
      "text/plain": [
       "  X1 X2 X3\n",
       "1 a  b  c \n",
       "2 1  2  3 \n",
       "3 4  5  6 "
      ]
     },
     "metadata": {},
     "output_type": "display_data"
    }
   ],
   "source": [
    "read_csv(\"a,b,c\n",
    "1,2,3\n",
    "4,5,6\", col_names=FALSE)"
   ]
  },
  {
   "cell_type": "markdown",
   "metadata": {},
   "source": [
    "## Parsing Vetors with readr"
   ]
  },
  {
   "cell_type": "markdown",
   "metadata": {},
   "source": [
    "Functions ```parse_*()``` take a char vector and return a specialized vector."
   ]
  },
  {
   "cell_type": "code",
   "execution_count": 10,
   "metadata": {},
   "outputs": [
    {
     "data": {
      "text/html": [
       "<style>\n",
       ".list-inline {list-style: none; margin:0; padding: 0}\n",
       ".list-inline>li {display: inline-block}\n",
       ".list-inline>li:not(:last-child)::after {content: \"\\00b7\"; padding: 0 .5ex}\n",
       "</style>\n",
       "<ol class=list-inline><li>TRUE</li><li>FALSE</li></ol>\n"
      ],
      "text/latex": [
       "\\begin{enumerate*}\n",
       "\\item TRUE\n",
       "\\item FALSE\n",
       "\\end{enumerate*}\n"
      ],
      "text/markdown": [
       "1. TRUE\n",
       "2. FALSE\n",
       "\n",
       "\n"
      ],
      "text/plain": [
       "[1]  TRUE FALSE"
      ]
     },
     "metadata": {},
     "output_type": "display_data"
    }
   ],
   "source": [
    "parse_logical(c(\"TRUE\",\"FALSE\"))"
   ]
  },
  {
   "cell_type": "markdown",
   "metadata": {},
   "source": [
    "![images](images/slides5.png)"
   ]
  },
  {
   "cell_type": "code",
   "execution_count": 12,
   "metadata": {},
   "outputs": [
    {
     "data": {
      "text/html": [
       "<style>\n",
       ".list-inline {list-style: none; margin:0; padding: 0}\n",
       ".list-inline>li {display: inline-block}\n",
       ".list-inline>li:not(:last-child)::after {content: \"\\00b7\"; padding: 0 .5ex}\n",
       "</style>\n",
       "<ol class=list-inline><li>1</li><li>2</li><li>3</li><li>&lt;NA&gt;</li></ol>\n"
      ],
      "text/latex": [
       "\\begin{enumerate*}\n",
       "\\item 1\n",
       "\\item 2\n",
       "\\item 3\n",
       "\\item <NA>\n",
       "\\end{enumerate*}\n"
      ],
      "text/markdown": [
       "1. 1\n",
       "2. 2\n",
       "3. 3\n",
       "4. &lt;NA&gt;\n",
       "\n",
       "\n"
      ],
      "text/plain": [
       "[1]  1  2  3 NA"
      ]
     },
     "metadata": {},
     "output_type": "display_data"
    }
   ],
   "source": [
    "parse_integer(c(\"1\",\"2\",\"3\",\"NA\"))"
   ]
  },
  {
   "cell_type": "markdown",
   "metadata": {},
   "source": [
    "![images](images/slides6.png)"
   ]
  },
  {
   "cell_type": "markdown",
   "metadata": {},
   "source": [
    "## Locales"
   ]
  },
  {
   "cell_type": "markdown",
   "metadata": {},
   "source": [
    "A locale specifies common options varying between languages and places.  "
   ]
  },
  {
   "cell_type": "code",
   "execution_count": 13,
   "metadata": {},
   "outputs": [
    {
     "data": {
      "text/plain": [
       "<locale>\n",
       "Numbers:  123,456.78\n",
       "Formats:  %AD / %AT\n",
       "Timezone: UTC\n",
       "Encoding: UTF-8\n",
       "<date_names>\n",
       "Days:   Sunday (Sun), Monday (Mon), Tuesday (Tue), Wednesday (Wed), Thursday\n",
       "        (Thu), Friday (Fri), Saturday (Sat)\n",
       "Months: January (Jan), February (Feb), March (Mar), April (Apr), May (May),\n",
       "        June (Jun), July (Jul), August (Aug), September (Sep), October\n",
       "        (Oct), November (Nov), December (Dec)\n",
       "AM/PM:  AM/PM"
      ]
     },
     "metadata": {},
     "output_type": "display_data"
    }
   ],
   "source": [
    "locale(date_names = \"en\", date_format = \"%AD\", time_format = \"%AT\",\n",
    "      decimal_mark = \".\", grouping_mark = \",\", tz = \"UTC\", \n",
    "      encoding = \"UTF-8\", asciify = FALSE)"
   ]
  },
  {
   "cell_type": "code",
   "execution_count": 14,
   "metadata": {},
   "outputs": [
    {
     "name": "stderr",
     "output_type": "stream",
     "text": [
      "starting httpd help server ...\n",
      " done\n",
      "\n"
     ]
    }
   ],
   "source": [
    "# to learn more:\n",
    "vignette(\"locales\")"
   ]
  },
  {
   "cell_type": "markdown",
   "metadata": {},
   "source": [
    "### Parsing French Format dates"
   ]
  },
  {
   "cell_type": "code",
   "execution_count": 16,
   "metadata": {},
   "outputs": [
    {
     "data": {
      "text/html": [
       "<time datetime=\"2010-10-01\">2010-10-01</time>"
      ],
      "text/latex": [
       "2010-10-01"
      ],
      "text/markdown": [
       "2010-10-01"
      ],
      "text/plain": [
       "[1] \"2010-10-01\""
      ]
     },
     "metadata": {},
     "output_type": "display_data"
    }
   ],
   "source": [
    "parse_date(\"2010-10-01\")"
   ]
  },
  {
   "cell_type": "code",
   "execution_count": 15,
   "metadata": {},
   "outputs": [
    {
     "name": "stderr",
     "output_type": "stream",
     "text": [
      "Warning message:\n",
      "“1 parsing failure.\n",
      "row col   expected         actual\n",
      "  1  -- date like  1 janvier 2010\n",
      "”\n"
     ]
    },
    {
     "data": {
      "text/html": [
       "<time datetime=\"&lt;NA&gt;\">&lt;NA&gt;</time>"
      ],
      "text/latex": [
       "<NA>"
      ],
      "text/markdown": [
       "&lt;NA&gt;"
      ],
      "text/plain": [
       "[1] NA"
      ]
     },
     "metadata": {},
     "output_type": "display_data"
    }
   ],
   "source": [
    "parse_date(\"1 janvier 2010\")"
   ]
  },
  {
   "cell_type": "code",
   "execution_count": 17,
   "metadata": {},
   "outputs": [
    {
     "data": {
      "text/html": [
       "<time datetime=\"2010-01-01\">2010-01-01</time>"
      ],
      "text/latex": [
       "2010-01-01"
      ],
      "text/markdown": [
       "2010-01-01"
      ],
      "text/plain": [
       "[1] \"2010-01-01\""
      ]
     },
     "metadata": {},
     "output_type": "display_data"
    }
   ],
   "source": [
    "parse_date(\"1 janvier 2010\", format=\"%d %B %Y\", locale=locale(\"fr\"))"
   ]
  },
  {
   "cell_type": "code",
   "execution_count": 18,
   "metadata": {},
   "outputs": [],
   "source": [
    "?parse_date"
   ]
  },
  {
   "cell_type": "markdown",
   "metadata": {},
   "source": [
    "### Parsing Time Periods"
   ]
  },
  {
   "cell_type": "code",
   "execution_count": 20,
   "metadata": {},
   "outputs": [
    {
     "data": {
      "text/plain": [
       "19:10:00"
      ]
     },
     "metadata": {},
     "output_type": "display_data"
    }
   ],
   "source": [
    "#military time\n",
    "parse_time(\"19:10 am\")"
   ]
  },
  {
   "cell_type": "code",
   "execution_count": 23,
   "metadata": {},
   "outputs": [
    {
     "name": "stderr",
     "output_type": "stream",
     "text": [
      "\n",
      "Attaching package: ‘lubridate’\n",
      "\n",
      "\n",
      "The following objects are masked from ‘package:base’:\n",
      "\n",
      "    date, intersect, setdiff, union\n",
      "\n",
      "\n"
     ]
    },
    {
     "data": {
      "text/html": [
       "<style>\n",
       ".list-inline {list-style: none; margin:0; padding: 0}\n",
       ".list-inline>li {display: inline-block}\n",
       ".list-inline>li:not(:last-child)::after {content: \"\\00b7\"; padding: 0 .5ex}\n",
       "</style>\n",
       "<ol class=list-inline><li>14H 4M 0S</li><li>3H 22M 0S</li><li>19H 45M 0S</li><li>10H 5M 0S</li><li>9H 45M 0S</li></ol>\n"
      ],
      "text/latex": [
       "\\begin{enumerate*}\n",
       "\\item 14H 4M 0S\n",
       "\\item 3H 22M 0S\n",
       "\\item 19H 45M 0S\n",
       "\\item 10H 5M 0S\n",
       "\\item 9H 45M 0S\n",
       "\\end{enumerate*}\n"
      ],
      "text/markdown": [
       "1. 14H 4M 0S\n",
       "2. 3H 22M 0S\n",
       "3. 19H 45M 0S\n",
       "4. 10H 5M 0S\n",
       "5. 9H 45M 0S\n",
       "\n",
       "\n"
      ],
      "text/plain": [
       "[1] \"14H 4M 0S\"  \"3H 22M 0S\"  \"19H 45M 0S\" \"10H 5M 0S\"  \"9H 45M 0S\" "
      ]
     },
     "metadata": {},
     "output_type": "display_data"
    }
   ],
   "source": [
    "library(lubridate)\n",
    "time_24hr <- c(1404, 322, 1945, 1005, 945)\n",
    "hm(time_24hr / 100)"
   ]
  },
  {
   "cell_type": "code",
   "execution_count": 24,
   "metadata": {},
   "outputs": [],
   "source": [
    "?strptime"
   ]
  },
  {
   "cell_type": "code",
   "execution_count": 25,
   "metadata": {},
   "outputs": [
    {
     "data": {
      "text/plain": [
       "[1] \"1992-02-27 23:03:20 EST\" \"1992-02-27 22:29:56 EST\"\n",
       "[3] \"1992-01-14 01:03:30 EST\" \"1992-02-28 18:21:03 EST\"\n",
       "[5] \"1992-02-01 16:56:26 EST\""
      ]
     },
     "metadata": {},
     "output_type": "display_data"
    }
   ],
   "source": [
    "dates <- c(\"02/27/92\", \"02/27/92\", \"01/14/92\", \"02/28/92\", \"02/01/92\")\n",
    "times <- c(\"23:03:20\", \"22:29:56\", \"01:03:30\", \"18:21:03\", \"16:56:26\")\n",
    "x <- paste(dates, times)\n",
    "strptime(x, \"%m/%d/%y %H:%M:%S\")"
   ]
  },
  {
   "cell_type": "code",
   "execution_count": 26,
   "metadata": {},
   "outputs": [
    {
     "data": {
      "text/plain": [
       "[1] \"2001-10-10 20:10:00 EDT\""
      ]
     },
     "metadata": {},
     "output_type": "display_data"
    }
   ],
   "source": [
    "parse_datetime(\"2001-10-10 20:10\", locale = locale(tz= \"US/Eastern\"))"
   ]
  },
  {
   "cell_type": "markdown",
   "metadata": {},
   "source": [
    "### Parsing Real Numbers"
   ]
  },
  {
   "cell_type": "markdown",
   "metadata": {},
   "source": [
    "parse_double(\"1,23\")"
   ]
  },
  {
   "cell_type": "code",
   "execution_count": 28,
   "metadata": {},
   "outputs": [
    {
     "data": {
      "text/html": [
       "1.23"
      ],
      "text/latex": [
       "1.23"
      ],
      "text/markdown": [
       "1.23"
      ],
      "text/plain": [
       "[1] 1.23"
      ]
     },
     "metadata": {},
     "output_type": "display_data"
    }
   ],
   "source": [
    "parse_double(\"1,23\", locale = locale(decimal_mark = \",\"))"
   ]
  },
  {
   "cell_type": "markdown",
   "metadata": {},
   "source": [
    "### Parsing Numbers"
   ]
  },
  {
   "cell_type": "code",
   "execution_count": 29,
   "metadata": {},
   "outputs": [
    {
     "data": {
      "text/html": [
       "100"
      ],
      "text/latex": [
       "100"
      ],
      "text/markdown": [
       "100"
      ],
      "text/plain": [
       "[1] 100"
      ]
     },
     "metadata": {},
     "output_type": "display_data"
    }
   ],
   "source": [
    "parse_number(\"$100\")"
   ]
  },
  {
   "cell_type": "code",
   "execution_count": 30,
   "metadata": {},
   "outputs": [
    {
     "data": {
      "text/html": [
       "20"
      ],
      "text/latex": [
       "20"
      ],
      "text/markdown": [
       "20"
      ],
      "text/plain": [
       "[1] 20"
      ]
     },
     "metadata": {},
     "output_type": "display_data"
    }
   ],
   "source": [
    "parse_number(\"20%\")"
   ]
  },
  {
   "cell_type": "code",
   "execution_count": 32,
   "metadata": {},
   "outputs": [
    {
     "data": {
      "text/html": [
       "123456789"
      ],
      "text/latex": [
       "123456789"
      ],
      "text/markdown": [
       "123456789"
      ],
      "text/plain": [
       "[1] 123456789"
      ]
     },
     "metadata": {},
     "output_type": "display_data"
    }
   ],
   "source": [
    "parse_number(\"$123,456,789\")"
   ]
  },
  {
   "cell_type": "code",
   "execution_count": 33,
   "metadata": {},
   "outputs": [
    {
     "data": {
      "text/html": [
       "123.45"
      ],
      "text/latex": [
       "123.45"
      ],
      "text/markdown": [
       "123.45"
      ],
      "text/plain": [
       "[1] 123.45"
      ]
     },
     "metadata": {},
     "output_type": "display_data"
    }
   ],
   "source": [
    "parse_number(\"cost: $123.45\")"
   ]
  },
  {
   "cell_type": "code",
   "execution_count": 34,
   "metadata": {},
   "outputs": [
    {
     "data": {
      "text/html": [
       "123456789"
      ],
      "text/latex": [
       "123456789"
      ],
      "text/markdown": [
       "123456789"
      ],
      "text/plain": [
       "[1] 123456789"
      ]
     },
     "metadata": {},
     "output_type": "display_data"
    }
   ],
   "source": [
    "#separation used in Switzerland\n",
    "parse_number(\"123'456'789\", locale = locale(grouping_mark = \"''\"))"
   ]
  },
  {
   "cell_type": "markdown",
   "metadata": {},
   "source": [
    "### Parsing Factors"
   ]
  },
  {
   "cell_type": "markdown",
   "metadata": {},
   "source": [
    "Factors are categorical variables with a known set of possible values."
   ]
  },
  {
   "cell_type": "code",
   "execution_count": 36,
   "metadata": {},
   "outputs": [
    {
     "name": "stderr",
     "output_type": "stream",
     "text": [
      "Warning message:\n",
      "“3 parsing failures.\n",
      "row col           expected   actual\n",
      "  1  -- value in level set apple   \n",
      "  2  -- value in level set banana  \n",
      "  3  -- value in level set bananana\n",
      "”\n"
     ]
    },
    {
     "data": {
      "text/html": [
       "<style>\n",
       ".list-inline {list-style: none; margin:0; padding: 0}\n",
       ".list-inline>li {display: inline-block}\n",
       ".list-inline>li:not(:last-child)::after {content: \"\\00b7\"; padding: 0 .5ex}\n",
       "</style>\n",
       "<ol class=list-inline><li>&lt;NA&gt;</li><li>&lt;NA&gt;</li><li>&lt;NA&gt;</li></ol>\n",
       "\n",
       "<details>\n",
       "\t<summary style=display:list-item;cursor:pointer>\n",
       "\t\t<strong>Levels</strong>:\n",
       "\t</summary>\n",
       "\t'apple, banana'\n",
       "</details>"
      ],
      "text/latex": [
       "\\begin{enumerate*}\n",
       "\\item <NA>\n",
       "\\item <NA>\n",
       "\\item <NA>\n",
       "\\end{enumerate*}\n",
       "\n",
       "\\emph{Levels}: 'apple, banana'"
      ],
      "text/markdown": [
       "1. &lt;NA&gt;\n",
       "2. &lt;NA&gt;\n",
       "3. &lt;NA&gt;\n",
       "\n",
       "\n",
       "\n",
       "**Levels**: 'apple, banana'"
      ],
      "text/plain": [
       "[1] <NA> <NA> <NA>\n",
       "attr(,\"problems\")\n",
       "\u001b[38;5;246m# A tibble: 3 x 4\u001b[39m\n",
       "    row   col expected           actual  \n",
       "  \u001b[3m\u001b[38;5;246m<int>\u001b[39m\u001b[23m \u001b[3m\u001b[38;5;246m<int>\u001b[39m\u001b[23m \u001b[3m\u001b[38;5;246m<chr>\u001b[39m\u001b[23m              \u001b[3m\u001b[38;5;246m<chr>\u001b[39m\u001b[23m   \n",
       "\u001b[38;5;250m1\u001b[39m     1    \u001b[31mNA\u001b[39m value in level set apple   \n",
       "\u001b[38;5;250m2\u001b[39m     2    \u001b[31mNA\u001b[39m value in level set banana  \n",
       "\u001b[38;5;250m3\u001b[39m     3    \u001b[31mNA\u001b[39m value in level set bananana\n",
       "Levels: apple, banana"
      ]
     },
     "metadata": {},
     "output_type": "display_data"
    }
   ],
   "source": [
    "fruits <- c(\"apple, banana\")\n",
    "parse_factor(c(\"apple\", \"banana\", \"bananana\"), levels = fruits)"
   ]
  },
  {
   "cell_type": "markdown",
   "metadata": {},
   "source": [
    "If the levels are not known in advance do this:"
   ]
  },
  {
   "cell_type": "code",
   "execution_count": 38,
   "metadata": {},
   "outputs": [
    {
     "data": {
      "text/html": [
       "<style>\n",
       ".list-inline {list-style: none; margin:0; padding: 0}\n",
       ".list-inline>li {display: inline-block}\n",
       ".list-inline>li:not(:last-child)::after {content: \"\\00b7\"; padding: 0 .5ex}\n",
       "</style>\n",
       "<ol class=list-inline><li>apple</li><li>banana</li><li>apple</li></ol>\n",
       "\n",
       "<details>\n",
       "\t<summary style=display:list-item;cursor:pointer>\n",
       "\t\t<strong>Levels</strong>:\n",
       "\t</summary>\n",
       "\t<style>\n",
       "\t.list-inline {list-style: none; margin:0; padding: 0}\n",
       "\t.list-inline>li {display: inline-block}\n",
       "\t.list-inline>li:not(:last-child)::after {content: \"\\00b7\"; padding: 0 .5ex}\n",
       "\t</style>\n",
       "\t<ol class=list-inline><li>'apple'</li><li>'banana'</li></ol>\n",
       "</details>"
      ],
      "text/latex": [
       "\\begin{enumerate*}\n",
       "\\item apple\n",
       "\\item banana\n",
       "\\item apple\n",
       "\\end{enumerate*}\n",
       "\n",
       "\\emph{Levels}: \\begin{enumerate*}\n",
       "\\item 'apple'\n",
       "\\item 'banana'\n",
       "\\end{enumerate*}\n"
      ],
      "text/markdown": [
       "1. apple\n",
       "2. banana\n",
       "3. apple\n",
       "\n",
       "\n",
       "\n",
       "**Levels**: 1. 'apple'\n",
       "2. 'banana'\n",
       "\n",
       "\n"
      ],
      "text/plain": [
       "[1] apple  banana apple \n",
       "Levels: apple banana"
      ]
     },
     "metadata": {},
     "output_type": "display_data"
    }
   ],
   "source": [
    "parse_factor(c(\"apple\", \"banana\", \"apple\"), NULL)"
   ]
  },
  {
   "cell_type": "markdown",
   "metadata": {},
   "source": [
    "## readr's Strategy"
   ]
  },
  {
   "cell_type": "markdown",
   "metadata": {},
   "source": [
    "```readr``` uses a heuristic to determine column type, using the first 1000 rows.  you can emulate this process with two functions: \n",
    "- ```guess_parser()``` returns readr's best guess\n",
    "- ```parse_guess()``` uses that guess to parse the column"
   ]
  },
  {
   "cell_type": "code",
   "execution_count": 39,
   "metadata": {},
   "outputs": [
    {
     "data": {
      "text/html": [
       "'time'"
      ],
      "text/latex": [
       "'time'"
      ],
      "text/markdown": [
       "'time'"
      ],
      "text/plain": [
       "[1] \"time\""
      ]
     },
     "metadata": {},
     "output_type": "display_data"
    }
   ],
   "source": [
    "guess_parser(\"15:01\")"
   ]
  },
  {
   "cell_type": "code",
   "execution_count": 40,
   "metadata": {},
   "outputs": [
    {
     "data": {
      "text/html": [
       "12352561"
      ],
      "text/latex": [
       "12352561"
      ],
      "text/markdown": [
       "12352561"
      ],
      "text/plain": [
       "[1] 12352561"
      ]
     },
     "metadata": {},
     "output_type": "display_data"
    }
   ],
   "source": [
    "parse_guess(\"12,352,561\")"
   ]
  },
  {
   "cell_type": "code",
   "execution_count": 41,
   "metadata": {},
   "outputs": [
    {
     "data": {
      "text/html": [
       "'character'"
      ],
      "text/latex": [
       "'character'"
      ],
      "text/markdown": [
       "'character'"
      ],
      "text/plain": [
       "[1] \"character\""
      ]
     },
     "metadata": {},
     "output_type": "display_data"
    }
   ],
   "source": [
    "guess_parser(\"Oct 10, 2010; 15:01\")"
   ]
  },
  {
   "cell_type": "code",
   "execution_count": 42,
   "metadata": {},
   "outputs": [
    {
     "data": {
      "text/html": [
       "<style>\n",
       ".list-inline {list-style: none; margin:0; padding: 0}\n",
       ".list-inline>li {display: inline-block}\n",
       ".list-inline>li:not(:last-child)::after {content: \"\\00b7\"; padding: 0 .5ex}\n",
       "</style>\n",
       "<ol class=list-inline><li>TRUE</li><li>FALSE</li></ol>\n"
      ],
      "text/latex": [
       "\\begin{enumerate*}\n",
       "\\item TRUE\n",
       "\\item FALSE\n",
       "\\end{enumerate*}\n"
      ],
      "text/markdown": [
       "1. TRUE\n",
       "2. FALSE\n",
       "\n",
       "\n"
      ],
      "text/plain": [
       "[1]  TRUE FALSE"
      ]
     },
     "metadata": {},
     "output_type": "display_data"
    }
   ],
   "source": [
    "parse_guess(c(\"TRUE\",\"FALSE\"))"
   ]
  },
  {
   "cell_type": "markdown",
   "metadata": {},
   "source": [
    "If none of the types it tries fails to find a match, then the column will stay as a vector of strings."
   ]
  },
  {
   "cell_type": "markdown",
   "metadata": {},
   "source": [
    "If the **strategy** fails because -\n",
    "- the first 1000 rows might be a special case\n",
    "- the column might contain a lot of missing values"
   ]
  },
  {
   "cell_type": "code",
   "execution_count": 43,
   "metadata": {},
   "outputs": [
    {
     "name": "stderr",
     "output_type": "stream",
     "text": [
      "Parsed with column specification:\n",
      "cols(\n",
      "  x = \u001b[32mcol_double()\u001b[39m,\n",
      "  y = \u001b[33mcol_logical()\u001b[39m\n",
      ")\n",
      "\n",
      "Warning message:\n",
      "“1000 parsing failures.\n",
      " row col           expected     actual                                                                                         file\n",
      "1001   y 1/0/T/F/TRUE/FALSE 2015-01-16 '/Library/Frameworks/R.framework/Versions/3.6/Resources/library/readr/extdata/challenge.csv'\n",
      "1002   y 1/0/T/F/TRUE/FALSE 2018-05-18 '/Library/Frameworks/R.framework/Versions/3.6/Resources/library/readr/extdata/challenge.csv'\n",
      "1003   y 1/0/T/F/TRUE/FALSE 2015-09-05 '/Library/Frameworks/R.framework/Versions/3.6/Resources/library/readr/extdata/challenge.csv'\n",
      "1004   y 1/0/T/F/TRUE/FALSE 2012-11-28 '/Library/Frameworks/R.framework/Versions/3.6/Resources/library/readr/extdata/challenge.csv'\n",
      "1005   y 1/0/T/F/TRUE/FALSE 2020-01-13 '/Library/Frameworks/R.framework/Versions/3.6/Resources/library/readr/extdata/challenge.csv'\n",
      ".... ... .................. .......... ............................................................................................\n",
      "See problems(...) for more details.\n",
      "”\n"
     ]
    }
   ],
   "source": [
    "challenge <- read_csv(readr_example(\"challenge.csv\"))"
   ]
  },
  {
   "cell_type": "code",
   "execution_count": 44,
   "metadata": {},
   "outputs": [
    {
     "data": {
      "text/html": [
       "<table>\n",
       "<caption>A tibble: 1000 × 5</caption>\n",
       "<thead>\n",
       "\t<tr><th scope=col>row</th><th scope=col>col</th><th scope=col>expected</th><th scope=col>actual</th><th scope=col>file</th></tr>\n",
       "\t<tr><th scope=col>&lt;int&gt;</th><th scope=col>&lt;chr&gt;</th><th scope=col>&lt;chr&gt;</th><th scope=col>&lt;chr&gt;</th><th scope=col>&lt;chr&gt;</th></tr>\n",
       "</thead>\n",
       "<tbody>\n",
       "\t<tr><td>1001</td><td>y</td><td>1/0/T/F/TRUE/FALSE</td><td>2015-01-16</td><td>'/Library/Frameworks/R.framework/Versions/3.6/Resources/library/readr/extdata/challenge.csv'</td></tr>\n",
       "\t<tr><td>1002</td><td>y</td><td>1/0/T/F/TRUE/FALSE</td><td>2018-05-18</td><td>'/Library/Frameworks/R.framework/Versions/3.6/Resources/library/readr/extdata/challenge.csv'</td></tr>\n",
       "\t<tr><td>1003</td><td>y</td><td>1/0/T/F/TRUE/FALSE</td><td>2015-09-05</td><td>'/Library/Frameworks/R.framework/Versions/3.6/Resources/library/readr/extdata/challenge.csv'</td></tr>\n",
       "\t<tr><td>1004</td><td>y</td><td>1/0/T/F/TRUE/FALSE</td><td>2012-11-28</td><td>'/Library/Frameworks/R.framework/Versions/3.6/Resources/library/readr/extdata/challenge.csv'</td></tr>\n",
       "\t<tr><td>1005</td><td>y</td><td>1/0/T/F/TRUE/FALSE</td><td>2020-01-13</td><td>'/Library/Frameworks/R.framework/Versions/3.6/Resources/library/readr/extdata/challenge.csv'</td></tr>\n",
       "\t<tr><td>1006</td><td>y</td><td>1/0/T/F/TRUE/FALSE</td><td>2016-04-17</td><td>'/Library/Frameworks/R.framework/Versions/3.6/Resources/library/readr/extdata/challenge.csv'</td></tr>\n",
       "\t<tr><td>1007</td><td>y</td><td>1/0/T/F/TRUE/FALSE</td><td>2011-05-14</td><td>'/Library/Frameworks/R.framework/Versions/3.6/Resources/library/readr/extdata/challenge.csv'</td></tr>\n",
       "\t<tr><td>1008</td><td>y</td><td>1/0/T/F/TRUE/FALSE</td><td>2020-07-18</td><td>'/Library/Frameworks/R.framework/Versions/3.6/Resources/library/readr/extdata/challenge.csv'</td></tr>\n",
       "\t<tr><td>1009</td><td>y</td><td>1/0/T/F/TRUE/FALSE</td><td>2011-04-30</td><td>'/Library/Frameworks/R.framework/Versions/3.6/Resources/library/readr/extdata/challenge.csv'</td></tr>\n",
       "\t<tr><td>1010</td><td>y</td><td>1/0/T/F/TRUE/FALSE</td><td>2010-05-11</td><td>'/Library/Frameworks/R.framework/Versions/3.6/Resources/library/readr/extdata/challenge.csv'</td></tr>\n",
       "\t<tr><td>1011</td><td>y</td><td>1/0/T/F/TRUE/FALSE</td><td>2014-11-02</td><td>'/Library/Frameworks/R.framework/Versions/3.6/Resources/library/readr/extdata/challenge.csv'</td></tr>\n",
       "\t<tr><td>1012</td><td>y</td><td>1/0/T/F/TRUE/FALSE</td><td>2014-06-23</td><td>'/Library/Frameworks/R.framework/Versions/3.6/Resources/library/readr/extdata/challenge.csv'</td></tr>\n",
       "\t<tr><td>1013</td><td>y</td><td>1/0/T/F/TRUE/FALSE</td><td>2017-05-31</td><td>'/Library/Frameworks/R.framework/Versions/3.6/Resources/library/readr/extdata/challenge.csv'</td></tr>\n",
       "\t<tr><td>1014</td><td>y</td><td>1/0/T/F/TRUE/FALSE</td><td>2017-11-18</td><td>'/Library/Frameworks/R.framework/Versions/3.6/Resources/library/readr/extdata/challenge.csv'</td></tr>\n",
       "\t<tr><td>1015</td><td>y</td><td>1/0/T/F/TRUE/FALSE</td><td>2013-04-20</td><td>'/Library/Frameworks/R.framework/Versions/3.6/Resources/library/readr/extdata/challenge.csv'</td></tr>\n",
       "\t<tr><td>1016</td><td>y</td><td>1/0/T/F/TRUE/FALSE</td><td>2010-12-11</td><td>'/Library/Frameworks/R.framework/Versions/3.6/Resources/library/readr/extdata/challenge.csv'</td></tr>\n",
       "\t<tr><td>1017</td><td>y</td><td>1/0/T/F/TRUE/FALSE</td><td>2022-10-10</td><td>'/Library/Frameworks/R.framework/Versions/3.6/Resources/library/readr/extdata/challenge.csv'</td></tr>\n",
       "\t<tr><td>1018</td><td>y</td><td>1/0/T/F/TRUE/FALSE</td><td>2010-11-11</td><td>'/Library/Frameworks/R.framework/Versions/3.6/Resources/library/readr/extdata/challenge.csv'</td></tr>\n",
       "\t<tr><td>1019</td><td>y</td><td>1/0/T/F/TRUE/FALSE</td><td>2015-03-22</td><td>'/Library/Frameworks/R.framework/Versions/3.6/Resources/library/readr/extdata/challenge.csv'</td></tr>\n",
       "\t<tr><td>1020</td><td>y</td><td>1/0/T/F/TRUE/FALSE</td><td>2013-12-25</td><td>'/Library/Frameworks/R.framework/Versions/3.6/Resources/library/readr/extdata/challenge.csv'</td></tr>\n",
       "\t<tr><td>1021</td><td>y</td><td>1/0/T/F/TRUE/FALSE</td><td>2011-02-27</td><td>'/Library/Frameworks/R.framework/Versions/3.6/Resources/library/readr/extdata/challenge.csv'</td></tr>\n",
       "\t<tr><td>1022</td><td>y</td><td>1/0/T/F/TRUE/FALSE</td><td>2015-12-14</td><td>'/Library/Frameworks/R.framework/Versions/3.6/Resources/library/readr/extdata/challenge.csv'</td></tr>\n",
       "\t<tr><td>1023</td><td>y</td><td>1/0/T/F/TRUE/FALSE</td><td>2021-02-10</td><td>'/Library/Frameworks/R.framework/Versions/3.6/Resources/library/readr/extdata/challenge.csv'</td></tr>\n",
       "\t<tr><td>1024</td><td>y</td><td>1/0/T/F/TRUE/FALSE</td><td>2012-11-28</td><td>'/Library/Frameworks/R.framework/Versions/3.6/Resources/library/readr/extdata/challenge.csv'</td></tr>\n",
       "\t<tr><td>1025</td><td>y</td><td>1/0/T/F/TRUE/FALSE</td><td>2020-04-04</td><td>'/Library/Frameworks/R.framework/Versions/3.6/Resources/library/readr/extdata/challenge.csv'</td></tr>\n",
       "\t<tr><td>1026</td><td>y</td><td>1/0/T/F/TRUE/FALSE</td><td>2021-04-08</td><td>'/Library/Frameworks/R.framework/Versions/3.6/Resources/library/readr/extdata/challenge.csv'</td></tr>\n",
       "\t<tr><td>1027</td><td>y</td><td>1/0/T/F/TRUE/FALSE</td><td>2022-03-13</td><td>'/Library/Frameworks/R.framework/Versions/3.6/Resources/library/readr/extdata/challenge.csv'</td></tr>\n",
       "\t<tr><td>1028</td><td>y</td><td>1/0/T/F/TRUE/FALSE</td><td>2010-03-28</td><td>'/Library/Frameworks/R.framework/Versions/3.6/Resources/library/readr/extdata/challenge.csv'</td></tr>\n",
       "\t<tr><td>1029</td><td>y</td><td>1/0/T/F/TRUE/FALSE</td><td>2023-01-04</td><td>'/Library/Frameworks/R.framework/Versions/3.6/Resources/library/readr/extdata/challenge.csv'</td></tr>\n",
       "\t<tr><td>1030</td><td>y</td><td>1/0/T/F/TRUE/FALSE</td><td>2012-04-02</td><td>'/Library/Frameworks/R.framework/Versions/3.6/Resources/library/readr/extdata/challenge.csv'</td></tr>\n",
       "\t<tr><td>⋮</td><td>⋮</td><td>⋮</td><td>⋮</td><td>⋮</td></tr>\n",
       "\t<tr><td>1971</td><td>y</td><td>1/0/T/F/TRUE/FALSE</td><td>2020-06-10</td><td>'/Library/Frameworks/R.framework/Versions/3.6/Resources/library/readr/extdata/challenge.csv'</td></tr>\n",
       "\t<tr><td>1972</td><td>y</td><td>1/0/T/F/TRUE/FALSE</td><td>2013-11-08</td><td>'/Library/Frameworks/R.framework/Versions/3.6/Resources/library/readr/extdata/challenge.csv'</td></tr>\n",
       "\t<tr><td>1973</td><td>y</td><td>1/0/T/F/TRUE/FALSE</td><td>2017-07-12</td><td>'/Library/Frameworks/R.framework/Versions/3.6/Resources/library/readr/extdata/challenge.csv'</td></tr>\n",
       "\t<tr><td>1974</td><td>y</td><td>1/0/T/F/TRUE/FALSE</td><td>2016-08-12</td><td>'/Library/Frameworks/R.framework/Versions/3.6/Resources/library/readr/extdata/challenge.csv'</td></tr>\n",
       "\t<tr><td>1975</td><td>y</td><td>1/0/T/F/TRUE/FALSE</td><td>2022-05-12</td><td>'/Library/Frameworks/R.framework/Versions/3.6/Resources/library/readr/extdata/challenge.csv'</td></tr>\n",
       "\t<tr><td>1976</td><td>y</td><td>1/0/T/F/TRUE/FALSE</td><td>2020-08-11</td><td>'/Library/Frameworks/R.framework/Versions/3.6/Resources/library/readr/extdata/challenge.csv'</td></tr>\n",
       "\t<tr><td>1977</td><td>y</td><td>1/0/T/F/TRUE/FALSE</td><td>2011-10-26</td><td>'/Library/Frameworks/R.framework/Versions/3.6/Resources/library/readr/extdata/challenge.csv'</td></tr>\n",
       "\t<tr><td>1978</td><td>y</td><td>1/0/T/F/TRUE/FALSE</td><td>2015-12-09</td><td>'/Library/Frameworks/R.framework/Versions/3.6/Resources/library/readr/extdata/challenge.csv'</td></tr>\n",
       "\t<tr><td>1979</td><td>y</td><td>1/0/T/F/TRUE/FALSE</td><td>2012-09-27</td><td>'/Library/Frameworks/R.framework/Versions/3.6/Resources/library/readr/extdata/challenge.csv'</td></tr>\n",
       "\t<tr><td>1980</td><td>y</td><td>1/0/T/F/TRUE/FALSE</td><td>2013-02-04</td><td>'/Library/Frameworks/R.framework/Versions/3.6/Resources/library/readr/extdata/challenge.csv'</td></tr>\n",
       "\t<tr><td>1981</td><td>y</td><td>1/0/T/F/TRUE/FALSE</td><td>2010-11-29</td><td>'/Library/Frameworks/R.framework/Versions/3.6/Resources/library/readr/extdata/challenge.csv'</td></tr>\n",
       "\t<tr><td>1982</td><td>y</td><td>1/0/T/F/TRUE/FALSE</td><td>2013-10-16</td><td>'/Library/Frameworks/R.framework/Versions/3.6/Resources/library/readr/extdata/challenge.csv'</td></tr>\n",
       "\t<tr><td>1983</td><td>y</td><td>1/0/T/F/TRUE/FALSE</td><td>2015-04-26</td><td>'/Library/Frameworks/R.framework/Versions/3.6/Resources/library/readr/extdata/challenge.csv'</td></tr>\n",
       "\t<tr><td>1984</td><td>y</td><td>1/0/T/F/TRUE/FALSE</td><td>2011-04-12</td><td>'/Library/Frameworks/R.framework/Versions/3.6/Resources/library/readr/extdata/challenge.csv'</td></tr>\n",
       "\t<tr><td>1985</td><td>y</td><td>1/0/T/F/TRUE/FALSE</td><td>2017-01-30</td><td>'/Library/Frameworks/R.framework/Versions/3.6/Resources/library/readr/extdata/challenge.csv'</td></tr>\n",
       "\t<tr><td>1986</td><td>y</td><td>1/0/T/F/TRUE/FALSE</td><td>2014-06-08</td><td>'/Library/Frameworks/R.framework/Versions/3.6/Resources/library/readr/extdata/challenge.csv'</td></tr>\n",
       "\t<tr><td>1987</td><td>y</td><td>1/0/T/F/TRUE/FALSE</td><td>2016-10-19</td><td>'/Library/Frameworks/R.framework/Versions/3.6/Resources/library/readr/extdata/challenge.csv'</td></tr>\n",
       "\t<tr><td>1988</td><td>y</td><td>1/0/T/F/TRUE/FALSE</td><td>2023-09-01</td><td>'/Library/Frameworks/R.framework/Versions/3.6/Resources/library/readr/extdata/challenge.csv'</td></tr>\n",
       "\t<tr><td>1989</td><td>y</td><td>1/0/T/F/TRUE/FALSE</td><td>2010-01-09</td><td>'/Library/Frameworks/R.framework/Versions/3.6/Resources/library/readr/extdata/challenge.csv'</td></tr>\n",
       "\t<tr><td>1990</td><td>y</td><td>1/0/T/F/TRUE/FALSE</td><td>2020-01-11</td><td>'/Library/Frameworks/R.framework/Versions/3.6/Resources/library/readr/extdata/challenge.csv'</td></tr>\n",
       "\t<tr><td>1991</td><td>y</td><td>1/0/T/F/TRUE/FALSE</td><td>2016-12-16</td><td>'/Library/Frameworks/R.framework/Versions/3.6/Resources/library/readr/extdata/challenge.csv'</td></tr>\n",
       "\t<tr><td>1992</td><td>y</td><td>1/0/T/F/TRUE/FALSE</td><td>2010-01-03</td><td>'/Library/Frameworks/R.framework/Versions/3.6/Resources/library/readr/extdata/challenge.csv'</td></tr>\n",
       "\t<tr><td>1993</td><td>y</td><td>1/0/T/F/TRUE/FALSE</td><td>2016-04-23</td><td>'/Library/Frameworks/R.framework/Versions/3.6/Resources/library/readr/extdata/challenge.csv'</td></tr>\n",
       "\t<tr><td>1994</td><td>y</td><td>1/0/T/F/TRUE/FALSE</td><td>2016-08-10</td><td>'/Library/Frameworks/R.framework/Versions/3.6/Resources/library/readr/extdata/challenge.csv'</td></tr>\n",
       "\t<tr><td>1995</td><td>y</td><td>1/0/T/F/TRUE/FALSE</td><td>2019-11-21</td><td>'/Library/Frameworks/R.framework/Versions/3.6/Resources/library/readr/extdata/challenge.csv'</td></tr>\n",
       "\t<tr><td>1996</td><td>y</td><td>1/0/T/F/TRUE/FALSE</td><td>2018-03-29</td><td>'/Library/Frameworks/R.framework/Versions/3.6/Resources/library/readr/extdata/challenge.csv'</td></tr>\n",
       "\t<tr><td>1997</td><td>y</td><td>1/0/T/F/TRUE/FALSE</td><td>2014-08-04</td><td>'/Library/Frameworks/R.framework/Versions/3.6/Resources/library/readr/extdata/challenge.csv'</td></tr>\n",
       "\t<tr><td>1998</td><td>y</td><td>1/0/T/F/TRUE/FALSE</td><td>2015-08-16</td><td>'/Library/Frameworks/R.framework/Versions/3.6/Resources/library/readr/extdata/challenge.csv'</td></tr>\n",
       "\t<tr><td>1999</td><td>y</td><td>1/0/T/F/TRUE/FALSE</td><td>2020-02-04</td><td>'/Library/Frameworks/R.framework/Versions/3.6/Resources/library/readr/extdata/challenge.csv'</td></tr>\n",
       "\t<tr><td>2000</td><td>y</td><td>1/0/T/F/TRUE/FALSE</td><td>2019-01-06</td><td>'/Library/Frameworks/R.framework/Versions/3.6/Resources/library/readr/extdata/challenge.csv'</td></tr>\n",
       "</tbody>\n",
       "</table>\n"
      ],
      "text/latex": [
       "A tibble: 1000 × 5\n",
       "\\begin{tabular}{lllll}\n",
       " row & col & expected & actual & file\\\\\n",
       " <int> & <chr> & <chr> & <chr> & <chr>\\\\\n",
       "\\hline\n",
       "\t 1001 & y & 1/0/T/F/TRUE/FALSE & 2015-01-16 & '/Library/Frameworks/R.framework/Versions/3.6/Resources/library/readr/extdata/challenge.csv'\\\\\n",
       "\t 1002 & y & 1/0/T/F/TRUE/FALSE & 2018-05-18 & '/Library/Frameworks/R.framework/Versions/3.6/Resources/library/readr/extdata/challenge.csv'\\\\\n",
       "\t 1003 & y & 1/0/T/F/TRUE/FALSE & 2015-09-05 & '/Library/Frameworks/R.framework/Versions/3.6/Resources/library/readr/extdata/challenge.csv'\\\\\n",
       "\t 1004 & y & 1/0/T/F/TRUE/FALSE & 2012-11-28 & '/Library/Frameworks/R.framework/Versions/3.6/Resources/library/readr/extdata/challenge.csv'\\\\\n",
       "\t 1005 & y & 1/0/T/F/TRUE/FALSE & 2020-01-13 & '/Library/Frameworks/R.framework/Versions/3.6/Resources/library/readr/extdata/challenge.csv'\\\\\n",
       "\t 1006 & y & 1/0/T/F/TRUE/FALSE & 2016-04-17 & '/Library/Frameworks/R.framework/Versions/3.6/Resources/library/readr/extdata/challenge.csv'\\\\\n",
       "\t 1007 & y & 1/0/T/F/TRUE/FALSE & 2011-05-14 & '/Library/Frameworks/R.framework/Versions/3.6/Resources/library/readr/extdata/challenge.csv'\\\\\n",
       "\t 1008 & y & 1/0/T/F/TRUE/FALSE & 2020-07-18 & '/Library/Frameworks/R.framework/Versions/3.6/Resources/library/readr/extdata/challenge.csv'\\\\\n",
       "\t 1009 & y & 1/0/T/F/TRUE/FALSE & 2011-04-30 & '/Library/Frameworks/R.framework/Versions/3.6/Resources/library/readr/extdata/challenge.csv'\\\\\n",
       "\t 1010 & y & 1/0/T/F/TRUE/FALSE & 2010-05-11 & '/Library/Frameworks/R.framework/Versions/3.6/Resources/library/readr/extdata/challenge.csv'\\\\\n",
       "\t 1011 & y & 1/0/T/F/TRUE/FALSE & 2014-11-02 & '/Library/Frameworks/R.framework/Versions/3.6/Resources/library/readr/extdata/challenge.csv'\\\\\n",
       "\t 1012 & y & 1/0/T/F/TRUE/FALSE & 2014-06-23 & '/Library/Frameworks/R.framework/Versions/3.6/Resources/library/readr/extdata/challenge.csv'\\\\\n",
       "\t 1013 & y & 1/0/T/F/TRUE/FALSE & 2017-05-31 & '/Library/Frameworks/R.framework/Versions/3.6/Resources/library/readr/extdata/challenge.csv'\\\\\n",
       "\t 1014 & y & 1/0/T/F/TRUE/FALSE & 2017-11-18 & '/Library/Frameworks/R.framework/Versions/3.6/Resources/library/readr/extdata/challenge.csv'\\\\\n",
       "\t 1015 & y & 1/0/T/F/TRUE/FALSE & 2013-04-20 & '/Library/Frameworks/R.framework/Versions/3.6/Resources/library/readr/extdata/challenge.csv'\\\\\n",
       "\t 1016 & y & 1/0/T/F/TRUE/FALSE & 2010-12-11 & '/Library/Frameworks/R.framework/Versions/3.6/Resources/library/readr/extdata/challenge.csv'\\\\\n",
       "\t 1017 & y & 1/0/T/F/TRUE/FALSE & 2022-10-10 & '/Library/Frameworks/R.framework/Versions/3.6/Resources/library/readr/extdata/challenge.csv'\\\\\n",
       "\t 1018 & y & 1/0/T/F/TRUE/FALSE & 2010-11-11 & '/Library/Frameworks/R.framework/Versions/3.6/Resources/library/readr/extdata/challenge.csv'\\\\\n",
       "\t 1019 & y & 1/0/T/F/TRUE/FALSE & 2015-03-22 & '/Library/Frameworks/R.framework/Versions/3.6/Resources/library/readr/extdata/challenge.csv'\\\\\n",
       "\t 1020 & y & 1/0/T/F/TRUE/FALSE & 2013-12-25 & '/Library/Frameworks/R.framework/Versions/3.6/Resources/library/readr/extdata/challenge.csv'\\\\\n",
       "\t 1021 & y & 1/0/T/F/TRUE/FALSE & 2011-02-27 & '/Library/Frameworks/R.framework/Versions/3.6/Resources/library/readr/extdata/challenge.csv'\\\\\n",
       "\t 1022 & y & 1/0/T/F/TRUE/FALSE & 2015-12-14 & '/Library/Frameworks/R.framework/Versions/3.6/Resources/library/readr/extdata/challenge.csv'\\\\\n",
       "\t 1023 & y & 1/0/T/F/TRUE/FALSE & 2021-02-10 & '/Library/Frameworks/R.framework/Versions/3.6/Resources/library/readr/extdata/challenge.csv'\\\\\n",
       "\t 1024 & y & 1/0/T/F/TRUE/FALSE & 2012-11-28 & '/Library/Frameworks/R.framework/Versions/3.6/Resources/library/readr/extdata/challenge.csv'\\\\\n",
       "\t 1025 & y & 1/0/T/F/TRUE/FALSE & 2020-04-04 & '/Library/Frameworks/R.framework/Versions/3.6/Resources/library/readr/extdata/challenge.csv'\\\\\n",
       "\t 1026 & y & 1/0/T/F/TRUE/FALSE & 2021-04-08 & '/Library/Frameworks/R.framework/Versions/3.6/Resources/library/readr/extdata/challenge.csv'\\\\\n",
       "\t 1027 & y & 1/0/T/F/TRUE/FALSE & 2022-03-13 & '/Library/Frameworks/R.framework/Versions/3.6/Resources/library/readr/extdata/challenge.csv'\\\\\n",
       "\t 1028 & y & 1/0/T/F/TRUE/FALSE & 2010-03-28 & '/Library/Frameworks/R.framework/Versions/3.6/Resources/library/readr/extdata/challenge.csv'\\\\\n",
       "\t 1029 & y & 1/0/T/F/TRUE/FALSE & 2023-01-04 & '/Library/Frameworks/R.framework/Versions/3.6/Resources/library/readr/extdata/challenge.csv'\\\\\n",
       "\t 1030 & y & 1/0/T/F/TRUE/FALSE & 2012-04-02 & '/Library/Frameworks/R.framework/Versions/3.6/Resources/library/readr/extdata/challenge.csv'\\\\\n",
       "\t ⋮ & ⋮ & ⋮ & ⋮ & ⋮\\\\\n",
       "\t 1971 & y & 1/0/T/F/TRUE/FALSE & 2020-06-10 & '/Library/Frameworks/R.framework/Versions/3.6/Resources/library/readr/extdata/challenge.csv'\\\\\n",
       "\t 1972 & y & 1/0/T/F/TRUE/FALSE & 2013-11-08 & '/Library/Frameworks/R.framework/Versions/3.6/Resources/library/readr/extdata/challenge.csv'\\\\\n",
       "\t 1973 & y & 1/0/T/F/TRUE/FALSE & 2017-07-12 & '/Library/Frameworks/R.framework/Versions/3.6/Resources/library/readr/extdata/challenge.csv'\\\\\n",
       "\t 1974 & y & 1/0/T/F/TRUE/FALSE & 2016-08-12 & '/Library/Frameworks/R.framework/Versions/3.6/Resources/library/readr/extdata/challenge.csv'\\\\\n",
       "\t 1975 & y & 1/0/T/F/TRUE/FALSE & 2022-05-12 & '/Library/Frameworks/R.framework/Versions/3.6/Resources/library/readr/extdata/challenge.csv'\\\\\n",
       "\t 1976 & y & 1/0/T/F/TRUE/FALSE & 2020-08-11 & '/Library/Frameworks/R.framework/Versions/3.6/Resources/library/readr/extdata/challenge.csv'\\\\\n",
       "\t 1977 & y & 1/0/T/F/TRUE/FALSE & 2011-10-26 & '/Library/Frameworks/R.framework/Versions/3.6/Resources/library/readr/extdata/challenge.csv'\\\\\n",
       "\t 1978 & y & 1/0/T/F/TRUE/FALSE & 2015-12-09 & '/Library/Frameworks/R.framework/Versions/3.6/Resources/library/readr/extdata/challenge.csv'\\\\\n",
       "\t 1979 & y & 1/0/T/F/TRUE/FALSE & 2012-09-27 & '/Library/Frameworks/R.framework/Versions/3.6/Resources/library/readr/extdata/challenge.csv'\\\\\n",
       "\t 1980 & y & 1/0/T/F/TRUE/FALSE & 2013-02-04 & '/Library/Frameworks/R.framework/Versions/3.6/Resources/library/readr/extdata/challenge.csv'\\\\\n",
       "\t 1981 & y & 1/0/T/F/TRUE/FALSE & 2010-11-29 & '/Library/Frameworks/R.framework/Versions/3.6/Resources/library/readr/extdata/challenge.csv'\\\\\n",
       "\t 1982 & y & 1/0/T/F/TRUE/FALSE & 2013-10-16 & '/Library/Frameworks/R.framework/Versions/3.6/Resources/library/readr/extdata/challenge.csv'\\\\\n",
       "\t 1983 & y & 1/0/T/F/TRUE/FALSE & 2015-04-26 & '/Library/Frameworks/R.framework/Versions/3.6/Resources/library/readr/extdata/challenge.csv'\\\\\n",
       "\t 1984 & y & 1/0/T/F/TRUE/FALSE & 2011-04-12 & '/Library/Frameworks/R.framework/Versions/3.6/Resources/library/readr/extdata/challenge.csv'\\\\\n",
       "\t 1985 & y & 1/0/T/F/TRUE/FALSE & 2017-01-30 & '/Library/Frameworks/R.framework/Versions/3.6/Resources/library/readr/extdata/challenge.csv'\\\\\n",
       "\t 1986 & y & 1/0/T/F/TRUE/FALSE & 2014-06-08 & '/Library/Frameworks/R.framework/Versions/3.6/Resources/library/readr/extdata/challenge.csv'\\\\\n",
       "\t 1987 & y & 1/0/T/F/TRUE/FALSE & 2016-10-19 & '/Library/Frameworks/R.framework/Versions/3.6/Resources/library/readr/extdata/challenge.csv'\\\\\n",
       "\t 1988 & y & 1/0/T/F/TRUE/FALSE & 2023-09-01 & '/Library/Frameworks/R.framework/Versions/3.6/Resources/library/readr/extdata/challenge.csv'\\\\\n",
       "\t 1989 & y & 1/0/T/F/TRUE/FALSE & 2010-01-09 & '/Library/Frameworks/R.framework/Versions/3.6/Resources/library/readr/extdata/challenge.csv'\\\\\n",
       "\t 1990 & y & 1/0/T/F/TRUE/FALSE & 2020-01-11 & '/Library/Frameworks/R.framework/Versions/3.6/Resources/library/readr/extdata/challenge.csv'\\\\\n",
       "\t 1991 & y & 1/0/T/F/TRUE/FALSE & 2016-12-16 & '/Library/Frameworks/R.framework/Versions/3.6/Resources/library/readr/extdata/challenge.csv'\\\\\n",
       "\t 1992 & y & 1/0/T/F/TRUE/FALSE & 2010-01-03 & '/Library/Frameworks/R.framework/Versions/3.6/Resources/library/readr/extdata/challenge.csv'\\\\\n",
       "\t 1993 & y & 1/0/T/F/TRUE/FALSE & 2016-04-23 & '/Library/Frameworks/R.framework/Versions/3.6/Resources/library/readr/extdata/challenge.csv'\\\\\n",
       "\t 1994 & y & 1/0/T/F/TRUE/FALSE & 2016-08-10 & '/Library/Frameworks/R.framework/Versions/3.6/Resources/library/readr/extdata/challenge.csv'\\\\\n",
       "\t 1995 & y & 1/0/T/F/TRUE/FALSE & 2019-11-21 & '/Library/Frameworks/R.framework/Versions/3.6/Resources/library/readr/extdata/challenge.csv'\\\\\n",
       "\t 1996 & y & 1/0/T/F/TRUE/FALSE & 2018-03-29 & '/Library/Frameworks/R.framework/Versions/3.6/Resources/library/readr/extdata/challenge.csv'\\\\\n",
       "\t 1997 & y & 1/0/T/F/TRUE/FALSE & 2014-08-04 & '/Library/Frameworks/R.framework/Versions/3.6/Resources/library/readr/extdata/challenge.csv'\\\\\n",
       "\t 1998 & y & 1/0/T/F/TRUE/FALSE & 2015-08-16 & '/Library/Frameworks/R.framework/Versions/3.6/Resources/library/readr/extdata/challenge.csv'\\\\\n",
       "\t 1999 & y & 1/0/T/F/TRUE/FALSE & 2020-02-04 & '/Library/Frameworks/R.framework/Versions/3.6/Resources/library/readr/extdata/challenge.csv'\\\\\n",
       "\t 2000 & y & 1/0/T/F/TRUE/FALSE & 2019-01-06 & '/Library/Frameworks/R.framework/Versions/3.6/Resources/library/readr/extdata/challenge.csv'\\\\\n",
       "\\end{tabular}\n"
      ],
      "text/markdown": [
       "\n",
       "A tibble: 1000 × 5\n",
       "\n",
       "| row &lt;int&gt; | col &lt;chr&gt; | expected &lt;chr&gt; | actual &lt;chr&gt; | file &lt;chr&gt; |\n",
       "|---|---|---|---|---|\n",
       "| 1001 | y | 1/0/T/F/TRUE/FALSE | 2015-01-16 | '/Library/Frameworks/R.framework/Versions/3.6/Resources/library/readr/extdata/challenge.csv' |\n",
       "| 1002 | y | 1/0/T/F/TRUE/FALSE | 2018-05-18 | '/Library/Frameworks/R.framework/Versions/3.6/Resources/library/readr/extdata/challenge.csv' |\n",
       "| 1003 | y | 1/0/T/F/TRUE/FALSE | 2015-09-05 | '/Library/Frameworks/R.framework/Versions/3.6/Resources/library/readr/extdata/challenge.csv' |\n",
       "| 1004 | y | 1/0/T/F/TRUE/FALSE | 2012-11-28 | '/Library/Frameworks/R.framework/Versions/3.6/Resources/library/readr/extdata/challenge.csv' |\n",
       "| 1005 | y | 1/0/T/F/TRUE/FALSE | 2020-01-13 | '/Library/Frameworks/R.framework/Versions/3.6/Resources/library/readr/extdata/challenge.csv' |\n",
       "| 1006 | y | 1/0/T/F/TRUE/FALSE | 2016-04-17 | '/Library/Frameworks/R.framework/Versions/3.6/Resources/library/readr/extdata/challenge.csv' |\n",
       "| 1007 | y | 1/0/T/F/TRUE/FALSE | 2011-05-14 | '/Library/Frameworks/R.framework/Versions/3.6/Resources/library/readr/extdata/challenge.csv' |\n",
       "| 1008 | y | 1/0/T/F/TRUE/FALSE | 2020-07-18 | '/Library/Frameworks/R.framework/Versions/3.6/Resources/library/readr/extdata/challenge.csv' |\n",
       "| 1009 | y | 1/0/T/F/TRUE/FALSE | 2011-04-30 | '/Library/Frameworks/R.framework/Versions/3.6/Resources/library/readr/extdata/challenge.csv' |\n",
       "| 1010 | y | 1/0/T/F/TRUE/FALSE | 2010-05-11 | '/Library/Frameworks/R.framework/Versions/3.6/Resources/library/readr/extdata/challenge.csv' |\n",
       "| 1011 | y | 1/0/T/F/TRUE/FALSE | 2014-11-02 | '/Library/Frameworks/R.framework/Versions/3.6/Resources/library/readr/extdata/challenge.csv' |\n",
       "| 1012 | y | 1/0/T/F/TRUE/FALSE | 2014-06-23 | '/Library/Frameworks/R.framework/Versions/3.6/Resources/library/readr/extdata/challenge.csv' |\n",
       "| 1013 | y | 1/0/T/F/TRUE/FALSE | 2017-05-31 | '/Library/Frameworks/R.framework/Versions/3.6/Resources/library/readr/extdata/challenge.csv' |\n",
       "| 1014 | y | 1/0/T/F/TRUE/FALSE | 2017-11-18 | '/Library/Frameworks/R.framework/Versions/3.6/Resources/library/readr/extdata/challenge.csv' |\n",
       "| 1015 | y | 1/0/T/F/TRUE/FALSE | 2013-04-20 | '/Library/Frameworks/R.framework/Versions/3.6/Resources/library/readr/extdata/challenge.csv' |\n",
       "| 1016 | y | 1/0/T/F/TRUE/FALSE | 2010-12-11 | '/Library/Frameworks/R.framework/Versions/3.6/Resources/library/readr/extdata/challenge.csv' |\n",
       "| 1017 | y | 1/0/T/F/TRUE/FALSE | 2022-10-10 | '/Library/Frameworks/R.framework/Versions/3.6/Resources/library/readr/extdata/challenge.csv' |\n",
       "| 1018 | y | 1/0/T/F/TRUE/FALSE | 2010-11-11 | '/Library/Frameworks/R.framework/Versions/3.6/Resources/library/readr/extdata/challenge.csv' |\n",
       "| 1019 | y | 1/0/T/F/TRUE/FALSE | 2015-03-22 | '/Library/Frameworks/R.framework/Versions/3.6/Resources/library/readr/extdata/challenge.csv' |\n",
       "| 1020 | y | 1/0/T/F/TRUE/FALSE | 2013-12-25 | '/Library/Frameworks/R.framework/Versions/3.6/Resources/library/readr/extdata/challenge.csv' |\n",
       "| 1021 | y | 1/0/T/F/TRUE/FALSE | 2011-02-27 | '/Library/Frameworks/R.framework/Versions/3.6/Resources/library/readr/extdata/challenge.csv' |\n",
       "| 1022 | y | 1/0/T/F/TRUE/FALSE | 2015-12-14 | '/Library/Frameworks/R.framework/Versions/3.6/Resources/library/readr/extdata/challenge.csv' |\n",
       "| 1023 | y | 1/0/T/F/TRUE/FALSE | 2021-02-10 | '/Library/Frameworks/R.framework/Versions/3.6/Resources/library/readr/extdata/challenge.csv' |\n",
       "| 1024 | y | 1/0/T/F/TRUE/FALSE | 2012-11-28 | '/Library/Frameworks/R.framework/Versions/3.6/Resources/library/readr/extdata/challenge.csv' |\n",
       "| 1025 | y | 1/0/T/F/TRUE/FALSE | 2020-04-04 | '/Library/Frameworks/R.framework/Versions/3.6/Resources/library/readr/extdata/challenge.csv' |\n",
       "| 1026 | y | 1/0/T/F/TRUE/FALSE | 2021-04-08 | '/Library/Frameworks/R.framework/Versions/3.6/Resources/library/readr/extdata/challenge.csv' |\n",
       "| 1027 | y | 1/0/T/F/TRUE/FALSE | 2022-03-13 | '/Library/Frameworks/R.framework/Versions/3.6/Resources/library/readr/extdata/challenge.csv' |\n",
       "| 1028 | y | 1/0/T/F/TRUE/FALSE | 2010-03-28 | '/Library/Frameworks/R.framework/Versions/3.6/Resources/library/readr/extdata/challenge.csv' |\n",
       "| 1029 | y | 1/0/T/F/TRUE/FALSE | 2023-01-04 | '/Library/Frameworks/R.framework/Versions/3.6/Resources/library/readr/extdata/challenge.csv' |\n",
       "| 1030 | y | 1/0/T/F/TRUE/FALSE | 2012-04-02 | '/Library/Frameworks/R.framework/Versions/3.6/Resources/library/readr/extdata/challenge.csv' |\n",
       "| ⋮ | ⋮ | ⋮ | ⋮ | ⋮ |\n",
       "| 1971 | y | 1/0/T/F/TRUE/FALSE | 2020-06-10 | '/Library/Frameworks/R.framework/Versions/3.6/Resources/library/readr/extdata/challenge.csv' |\n",
       "| 1972 | y | 1/0/T/F/TRUE/FALSE | 2013-11-08 | '/Library/Frameworks/R.framework/Versions/3.6/Resources/library/readr/extdata/challenge.csv' |\n",
       "| 1973 | y | 1/0/T/F/TRUE/FALSE | 2017-07-12 | '/Library/Frameworks/R.framework/Versions/3.6/Resources/library/readr/extdata/challenge.csv' |\n",
       "| 1974 | y | 1/0/T/F/TRUE/FALSE | 2016-08-12 | '/Library/Frameworks/R.framework/Versions/3.6/Resources/library/readr/extdata/challenge.csv' |\n",
       "| 1975 | y | 1/0/T/F/TRUE/FALSE | 2022-05-12 | '/Library/Frameworks/R.framework/Versions/3.6/Resources/library/readr/extdata/challenge.csv' |\n",
       "| 1976 | y | 1/0/T/F/TRUE/FALSE | 2020-08-11 | '/Library/Frameworks/R.framework/Versions/3.6/Resources/library/readr/extdata/challenge.csv' |\n",
       "| 1977 | y | 1/0/T/F/TRUE/FALSE | 2011-10-26 | '/Library/Frameworks/R.framework/Versions/3.6/Resources/library/readr/extdata/challenge.csv' |\n",
       "| 1978 | y | 1/0/T/F/TRUE/FALSE | 2015-12-09 | '/Library/Frameworks/R.framework/Versions/3.6/Resources/library/readr/extdata/challenge.csv' |\n",
       "| 1979 | y | 1/0/T/F/TRUE/FALSE | 2012-09-27 | '/Library/Frameworks/R.framework/Versions/3.6/Resources/library/readr/extdata/challenge.csv' |\n",
       "| 1980 | y | 1/0/T/F/TRUE/FALSE | 2013-02-04 | '/Library/Frameworks/R.framework/Versions/3.6/Resources/library/readr/extdata/challenge.csv' |\n",
       "| 1981 | y | 1/0/T/F/TRUE/FALSE | 2010-11-29 | '/Library/Frameworks/R.framework/Versions/3.6/Resources/library/readr/extdata/challenge.csv' |\n",
       "| 1982 | y | 1/0/T/F/TRUE/FALSE | 2013-10-16 | '/Library/Frameworks/R.framework/Versions/3.6/Resources/library/readr/extdata/challenge.csv' |\n",
       "| 1983 | y | 1/0/T/F/TRUE/FALSE | 2015-04-26 | '/Library/Frameworks/R.framework/Versions/3.6/Resources/library/readr/extdata/challenge.csv' |\n",
       "| 1984 | y | 1/0/T/F/TRUE/FALSE | 2011-04-12 | '/Library/Frameworks/R.framework/Versions/3.6/Resources/library/readr/extdata/challenge.csv' |\n",
       "| 1985 | y | 1/0/T/F/TRUE/FALSE | 2017-01-30 | '/Library/Frameworks/R.framework/Versions/3.6/Resources/library/readr/extdata/challenge.csv' |\n",
       "| 1986 | y | 1/0/T/F/TRUE/FALSE | 2014-06-08 | '/Library/Frameworks/R.framework/Versions/3.6/Resources/library/readr/extdata/challenge.csv' |\n",
       "| 1987 | y | 1/0/T/F/TRUE/FALSE | 2016-10-19 | '/Library/Frameworks/R.framework/Versions/3.6/Resources/library/readr/extdata/challenge.csv' |\n",
       "| 1988 | y | 1/0/T/F/TRUE/FALSE | 2023-09-01 | '/Library/Frameworks/R.framework/Versions/3.6/Resources/library/readr/extdata/challenge.csv' |\n",
       "| 1989 | y | 1/0/T/F/TRUE/FALSE | 2010-01-09 | '/Library/Frameworks/R.framework/Versions/3.6/Resources/library/readr/extdata/challenge.csv' |\n",
       "| 1990 | y | 1/0/T/F/TRUE/FALSE | 2020-01-11 | '/Library/Frameworks/R.framework/Versions/3.6/Resources/library/readr/extdata/challenge.csv' |\n",
       "| 1991 | y | 1/0/T/F/TRUE/FALSE | 2016-12-16 | '/Library/Frameworks/R.framework/Versions/3.6/Resources/library/readr/extdata/challenge.csv' |\n",
       "| 1992 | y | 1/0/T/F/TRUE/FALSE | 2010-01-03 | '/Library/Frameworks/R.framework/Versions/3.6/Resources/library/readr/extdata/challenge.csv' |\n",
       "| 1993 | y | 1/0/T/F/TRUE/FALSE | 2016-04-23 | '/Library/Frameworks/R.framework/Versions/3.6/Resources/library/readr/extdata/challenge.csv' |\n",
       "| 1994 | y | 1/0/T/F/TRUE/FALSE | 2016-08-10 | '/Library/Frameworks/R.framework/Versions/3.6/Resources/library/readr/extdata/challenge.csv' |\n",
       "| 1995 | y | 1/0/T/F/TRUE/FALSE | 2019-11-21 | '/Library/Frameworks/R.framework/Versions/3.6/Resources/library/readr/extdata/challenge.csv' |\n",
       "| 1996 | y | 1/0/T/F/TRUE/FALSE | 2018-03-29 | '/Library/Frameworks/R.framework/Versions/3.6/Resources/library/readr/extdata/challenge.csv' |\n",
       "| 1997 | y | 1/0/T/F/TRUE/FALSE | 2014-08-04 | '/Library/Frameworks/R.framework/Versions/3.6/Resources/library/readr/extdata/challenge.csv' |\n",
       "| 1998 | y | 1/0/T/F/TRUE/FALSE | 2015-08-16 | '/Library/Frameworks/R.framework/Versions/3.6/Resources/library/readr/extdata/challenge.csv' |\n",
       "| 1999 | y | 1/0/T/F/TRUE/FALSE | 2020-02-04 | '/Library/Frameworks/R.framework/Versions/3.6/Resources/library/readr/extdata/challenge.csv' |\n",
       "| 2000 | y | 1/0/T/F/TRUE/FALSE | 2019-01-06 | '/Library/Frameworks/R.framework/Versions/3.6/Resources/library/readr/extdata/challenge.csv' |\n",
       "\n"
      ],
      "text/plain": [
       "     row  col expected           actual    \n",
       "1    1001 y   1/0/T/F/TRUE/FALSE 2015-01-16\n",
       "2    1002 y   1/0/T/F/TRUE/FALSE 2018-05-18\n",
       "3    1003 y   1/0/T/F/TRUE/FALSE 2015-09-05\n",
       "4    1004 y   1/0/T/F/TRUE/FALSE 2012-11-28\n",
       "5    1005 y   1/0/T/F/TRUE/FALSE 2020-01-13\n",
       "6    1006 y   1/0/T/F/TRUE/FALSE 2016-04-17\n",
       "7    1007 y   1/0/T/F/TRUE/FALSE 2011-05-14\n",
       "8    1008 y   1/0/T/F/TRUE/FALSE 2020-07-18\n",
       "9    1009 y   1/0/T/F/TRUE/FALSE 2011-04-30\n",
       "10   1010 y   1/0/T/F/TRUE/FALSE 2010-05-11\n",
       "11   1011 y   1/0/T/F/TRUE/FALSE 2014-11-02\n",
       "12   1012 y   1/0/T/F/TRUE/FALSE 2014-06-23\n",
       "13   1013 y   1/0/T/F/TRUE/FALSE 2017-05-31\n",
       "14   1014 y   1/0/T/F/TRUE/FALSE 2017-11-18\n",
       "15   1015 y   1/0/T/F/TRUE/FALSE 2013-04-20\n",
       "16   1016 y   1/0/T/F/TRUE/FALSE 2010-12-11\n",
       "17   1017 y   1/0/T/F/TRUE/FALSE 2022-10-10\n",
       "18   1018 y   1/0/T/F/TRUE/FALSE 2010-11-11\n",
       "19   1019 y   1/0/T/F/TRUE/FALSE 2015-03-22\n",
       "20   1020 y   1/0/T/F/TRUE/FALSE 2013-12-25\n",
       "21   1021 y   1/0/T/F/TRUE/FALSE 2011-02-27\n",
       "22   1022 y   1/0/T/F/TRUE/FALSE 2015-12-14\n",
       "23   1023 y   1/0/T/F/TRUE/FALSE 2021-02-10\n",
       "24   1024 y   1/0/T/F/TRUE/FALSE 2012-11-28\n",
       "25   1025 y   1/0/T/F/TRUE/FALSE 2020-04-04\n",
       "26   1026 y   1/0/T/F/TRUE/FALSE 2021-04-08\n",
       "27   1027 y   1/0/T/F/TRUE/FALSE 2022-03-13\n",
       "28   1028 y   1/0/T/F/TRUE/FALSE 2010-03-28\n",
       "29   1029 y   1/0/T/F/TRUE/FALSE 2023-01-04\n",
       "30   1030 y   1/0/T/F/TRUE/FALSE 2012-04-02\n",
       "⋮    ⋮    ⋮   ⋮                  ⋮         \n",
       "971  1971 y   1/0/T/F/TRUE/FALSE 2020-06-10\n",
       "972  1972 y   1/0/T/F/TRUE/FALSE 2013-11-08\n",
       "973  1973 y   1/0/T/F/TRUE/FALSE 2017-07-12\n",
       "974  1974 y   1/0/T/F/TRUE/FALSE 2016-08-12\n",
       "975  1975 y   1/0/T/F/TRUE/FALSE 2022-05-12\n",
       "976  1976 y   1/0/T/F/TRUE/FALSE 2020-08-11\n",
       "977  1977 y   1/0/T/F/TRUE/FALSE 2011-10-26\n",
       "978  1978 y   1/0/T/F/TRUE/FALSE 2015-12-09\n",
       "979  1979 y   1/0/T/F/TRUE/FALSE 2012-09-27\n",
       "980  1980 y   1/0/T/F/TRUE/FALSE 2013-02-04\n",
       "981  1981 y   1/0/T/F/TRUE/FALSE 2010-11-29\n",
       "982  1982 y   1/0/T/F/TRUE/FALSE 2013-10-16\n",
       "983  1983 y   1/0/T/F/TRUE/FALSE 2015-04-26\n",
       "984  1984 y   1/0/T/F/TRUE/FALSE 2011-04-12\n",
       "985  1985 y   1/0/T/F/TRUE/FALSE 2017-01-30\n",
       "986  1986 y   1/0/T/F/TRUE/FALSE 2014-06-08\n",
       "987  1987 y   1/0/T/F/TRUE/FALSE 2016-10-19\n",
       "988  1988 y   1/0/T/F/TRUE/FALSE 2023-09-01\n",
       "989  1989 y   1/0/T/F/TRUE/FALSE 2010-01-09\n",
       "990  1990 y   1/0/T/F/TRUE/FALSE 2020-01-11\n",
       "991  1991 y   1/0/T/F/TRUE/FALSE 2016-12-16\n",
       "992  1992 y   1/0/T/F/TRUE/FALSE 2010-01-03\n",
       "993  1993 y   1/0/T/F/TRUE/FALSE 2016-04-23\n",
       "994  1994 y   1/0/T/F/TRUE/FALSE 2016-08-10\n",
       "995  1995 y   1/0/T/F/TRUE/FALSE 2019-11-21\n",
       "996  1996 y   1/0/T/F/TRUE/FALSE 2018-03-29\n",
       "997  1997 y   1/0/T/F/TRUE/FALSE 2014-08-04\n",
       "998  1998 y   1/0/T/F/TRUE/FALSE 2015-08-16\n",
       "999  1999 y   1/0/T/F/TRUE/FALSE 2020-02-04\n",
       "1000 2000 y   1/0/T/F/TRUE/FALSE 2019-01-06\n",
       "     file                                                                                        \n",
       "1    '/Library/Frameworks/R.framework/Versions/3.6/Resources/library/readr/extdata/challenge.csv'\n",
       "2    '/Library/Frameworks/R.framework/Versions/3.6/Resources/library/readr/extdata/challenge.csv'\n",
       "3    '/Library/Frameworks/R.framework/Versions/3.6/Resources/library/readr/extdata/challenge.csv'\n",
       "4    '/Library/Frameworks/R.framework/Versions/3.6/Resources/library/readr/extdata/challenge.csv'\n",
       "5    '/Library/Frameworks/R.framework/Versions/3.6/Resources/library/readr/extdata/challenge.csv'\n",
       "6    '/Library/Frameworks/R.framework/Versions/3.6/Resources/library/readr/extdata/challenge.csv'\n",
       "7    '/Library/Frameworks/R.framework/Versions/3.6/Resources/library/readr/extdata/challenge.csv'\n",
       "8    '/Library/Frameworks/R.framework/Versions/3.6/Resources/library/readr/extdata/challenge.csv'\n",
       "9    '/Library/Frameworks/R.framework/Versions/3.6/Resources/library/readr/extdata/challenge.csv'\n",
       "10   '/Library/Frameworks/R.framework/Versions/3.6/Resources/library/readr/extdata/challenge.csv'\n",
       "11   '/Library/Frameworks/R.framework/Versions/3.6/Resources/library/readr/extdata/challenge.csv'\n",
       "12   '/Library/Frameworks/R.framework/Versions/3.6/Resources/library/readr/extdata/challenge.csv'\n",
       "13   '/Library/Frameworks/R.framework/Versions/3.6/Resources/library/readr/extdata/challenge.csv'\n",
       "14   '/Library/Frameworks/R.framework/Versions/3.6/Resources/library/readr/extdata/challenge.csv'\n",
       "15   '/Library/Frameworks/R.framework/Versions/3.6/Resources/library/readr/extdata/challenge.csv'\n",
       "16   '/Library/Frameworks/R.framework/Versions/3.6/Resources/library/readr/extdata/challenge.csv'\n",
       "17   '/Library/Frameworks/R.framework/Versions/3.6/Resources/library/readr/extdata/challenge.csv'\n",
       "18   '/Library/Frameworks/R.framework/Versions/3.6/Resources/library/readr/extdata/challenge.csv'\n",
       "19   '/Library/Frameworks/R.framework/Versions/3.6/Resources/library/readr/extdata/challenge.csv'\n",
       "20   '/Library/Frameworks/R.framework/Versions/3.6/Resources/library/readr/extdata/challenge.csv'\n",
       "21   '/Library/Frameworks/R.framework/Versions/3.6/Resources/library/readr/extdata/challenge.csv'\n",
       "22   '/Library/Frameworks/R.framework/Versions/3.6/Resources/library/readr/extdata/challenge.csv'\n",
       "23   '/Library/Frameworks/R.framework/Versions/3.6/Resources/library/readr/extdata/challenge.csv'\n",
       "24   '/Library/Frameworks/R.framework/Versions/3.6/Resources/library/readr/extdata/challenge.csv'\n",
       "25   '/Library/Frameworks/R.framework/Versions/3.6/Resources/library/readr/extdata/challenge.csv'\n",
       "26   '/Library/Frameworks/R.framework/Versions/3.6/Resources/library/readr/extdata/challenge.csv'\n",
       "27   '/Library/Frameworks/R.framework/Versions/3.6/Resources/library/readr/extdata/challenge.csv'\n",
       "28   '/Library/Frameworks/R.framework/Versions/3.6/Resources/library/readr/extdata/challenge.csv'\n",
       "29   '/Library/Frameworks/R.framework/Versions/3.6/Resources/library/readr/extdata/challenge.csv'\n",
       "30   '/Library/Frameworks/R.framework/Versions/3.6/Resources/library/readr/extdata/challenge.csv'\n",
       "⋮    ⋮                                                                                           \n",
       "971  '/Library/Frameworks/R.framework/Versions/3.6/Resources/library/readr/extdata/challenge.csv'\n",
       "972  '/Library/Frameworks/R.framework/Versions/3.6/Resources/library/readr/extdata/challenge.csv'\n",
       "973  '/Library/Frameworks/R.framework/Versions/3.6/Resources/library/readr/extdata/challenge.csv'\n",
       "974  '/Library/Frameworks/R.framework/Versions/3.6/Resources/library/readr/extdata/challenge.csv'\n",
       "975  '/Library/Frameworks/R.framework/Versions/3.6/Resources/library/readr/extdata/challenge.csv'\n",
       "976  '/Library/Frameworks/R.framework/Versions/3.6/Resources/library/readr/extdata/challenge.csv'\n",
       "977  '/Library/Frameworks/R.framework/Versions/3.6/Resources/library/readr/extdata/challenge.csv'\n",
       "978  '/Library/Frameworks/R.framework/Versions/3.6/Resources/library/readr/extdata/challenge.csv'\n",
       "979  '/Library/Frameworks/R.framework/Versions/3.6/Resources/library/readr/extdata/challenge.csv'\n",
       "980  '/Library/Frameworks/R.framework/Versions/3.6/Resources/library/readr/extdata/challenge.csv'\n",
       "981  '/Library/Frameworks/R.framework/Versions/3.6/Resources/library/readr/extdata/challenge.csv'\n",
       "982  '/Library/Frameworks/R.framework/Versions/3.6/Resources/library/readr/extdata/challenge.csv'\n",
       "983  '/Library/Frameworks/R.framework/Versions/3.6/Resources/library/readr/extdata/challenge.csv'\n",
       "984  '/Library/Frameworks/R.framework/Versions/3.6/Resources/library/readr/extdata/challenge.csv'\n",
       "985  '/Library/Frameworks/R.framework/Versions/3.6/Resources/library/readr/extdata/challenge.csv'\n",
       "986  '/Library/Frameworks/R.framework/Versions/3.6/Resources/library/readr/extdata/challenge.csv'\n",
       "987  '/Library/Frameworks/R.framework/Versions/3.6/Resources/library/readr/extdata/challenge.csv'\n",
       "988  '/Library/Frameworks/R.framework/Versions/3.6/Resources/library/readr/extdata/challenge.csv'\n",
       "989  '/Library/Frameworks/R.framework/Versions/3.6/Resources/library/readr/extdata/challenge.csv'\n",
       "990  '/Library/Frameworks/R.framework/Versions/3.6/Resources/library/readr/extdata/challenge.csv'\n",
       "991  '/Library/Frameworks/R.framework/Versions/3.6/Resources/library/readr/extdata/challenge.csv'\n",
       "992  '/Library/Frameworks/R.framework/Versions/3.6/Resources/library/readr/extdata/challenge.csv'\n",
       "993  '/Library/Frameworks/R.framework/Versions/3.6/Resources/library/readr/extdata/challenge.csv'\n",
       "994  '/Library/Frameworks/R.framework/Versions/3.6/Resources/library/readr/extdata/challenge.csv'\n",
       "995  '/Library/Frameworks/R.framework/Versions/3.6/Resources/library/readr/extdata/challenge.csv'\n",
       "996  '/Library/Frameworks/R.framework/Versions/3.6/Resources/library/readr/extdata/challenge.csv'\n",
       "997  '/Library/Frameworks/R.framework/Versions/3.6/Resources/library/readr/extdata/challenge.csv'\n",
       "998  '/Library/Frameworks/R.framework/Versions/3.6/Resources/library/readr/extdata/challenge.csv'\n",
       "999  '/Library/Frameworks/R.framework/Versions/3.6/Resources/library/readr/extdata/challenge.csv'\n",
       "1000 '/Library/Frameworks/R.framework/Versions/3.6/Resources/library/readr/extdata/challenge.csv'"
      ]
     },
     "metadata": {},
     "output_type": "display_data"
    }
   ],
   "source": [
    "problems(challenge)"
   ]
  },
  {
   "cell_type": "markdown",
   "metadata": {},
   "source": [
    "The first column shoud be double."
   ]
  },
  {
   "cell_type": "code",
   "execution_count": 45,
   "metadata": {},
   "outputs": [
    {
     "name": "stderr",
     "output_type": "stream",
     "text": [
      "Warning message:\n",
      "“1000 parsing failures.\n",
      " row col               expected             actual                                                                                         file\n",
      "1001   x no trailing characters .23837975086644292 '/Library/Frameworks/R.framework/Versions/3.6/Resources/library/readr/extdata/challenge.csv'\n",
      "1002   x no trailing characters .41167997173033655 '/Library/Frameworks/R.framework/Versions/3.6/Resources/library/readr/extdata/challenge.csv'\n",
      "1003   x no trailing characters .7460716762579978  '/Library/Frameworks/R.framework/Versions/3.6/Resources/library/readr/extdata/challenge.csv'\n",
      "1004   x no trailing characters .723450553836301   '/Library/Frameworks/R.framework/Versions/3.6/Resources/library/readr/extdata/challenge.csv'\n",
      "1005   x no trailing characters .614524137461558   '/Library/Frameworks/R.framework/Versions/3.6/Resources/library/readr/extdata/challenge.csv'\n",
      ".... ... ...................... .................. ............................................................................................\n",
      "See problems(...) for more details.\n",
      "”\n"
     ]
    }
   ],
   "source": [
    "# problem above\n",
    "challenge <- read_csv(readr_example(\"challenge.csv\"),\n",
    "                     col_types = cols(x = col_integer(), y = col_character()))"
   ]
  },
  {
   "cell_type": "code",
   "execution_count": 46,
   "metadata": {},
   "outputs": [],
   "source": [
    "# problem solved\n",
    "challenge <- read_csv(readr_example(\"challenge.csv\"),\n",
    "                     col_types = cols(x = col_double(), y = col_character()))"
   ]
  },
  {
   "cell_type": "code",
   "execution_count": 47,
   "metadata": {},
   "outputs": [
    {
     "data": {
      "text/html": [
       "<table>\n",
       "<caption>A spec_tbl_df: 2000 × 2</caption>\n",
       "<thead>\n",
       "\t<tr><th scope=col>x</th><th scope=col>y</th></tr>\n",
       "\t<tr><th scope=col>&lt;dbl&gt;</th><th scope=col>&lt;chr&gt;</th></tr>\n",
       "</thead>\n",
       "<tbody>\n",
       "\t<tr><td> 404</td><td>NA</td></tr>\n",
       "\t<tr><td>4172</td><td>NA</td></tr>\n",
       "\t<tr><td>3004</td><td>NA</td></tr>\n",
       "\t<tr><td> 787</td><td>NA</td></tr>\n",
       "\t<tr><td>  37</td><td>NA</td></tr>\n",
       "\t<tr><td>2332</td><td>NA</td></tr>\n",
       "\t<tr><td>2489</td><td>NA</td></tr>\n",
       "\t<tr><td>1449</td><td>NA</td></tr>\n",
       "\t<tr><td>3665</td><td>NA</td></tr>\n",
       "\t<tr><td>3863</td><td>NA</td></tr>\n",
       "\t<tr><td>4374</td><td>NA</td></tr>\n",
       "\t<tr><td> 875</td><td>NA</td></tr>\n",
       "\t<tr><td> 172</td><td>NA</td></tr>\n",
       "\t<tr><td>1602</td><td>NA</td></tr>\n",
       "\t<tr><td>2012</td><td>NA</td></tr>\n",
       "\t<tr><td> 979</td><td>NA</td></tr>\n",
       "\t<tr><td>2018</td><td>NA</td></tr>\n",
       "\t<tr><td> 319</td><td>NA</td></tr>\n",
       "\t<tr><td>1944</td><td>NA</td></tr>\n",
       "\t<tr><td>4878</td><td>NA</td></tr>\n",
       "\t<tr><td>1450</td><td>NA</td></tr>\n",
       "\t<tr><td>3392</td><td>NA</td></tr>\n",
       "\t<tr><td>3677</td><td>NA</td></tr>\n",
       "\t<tr><td> 980</td><td>NA</td></tr>\n",
       "\t<tr><td>4903</td><td>NA</td></tr>\n",
       "\t<tr><td>3708</td><td>NA</td></tr>\n",
       "\t<tr><td> 258</td><td>NA</td></tr>\n",
       "\t<tr><td>2652</td><td>NA</td></tr>\n",
       "\t<tr><td>3480</td><td>NA</td></tr>\n",
       "\t<tr><td>3443</td><td>NA</td></tr>\n",
       "\t<tr><td>⋮</td><td>⋮</td></tr>\n",
       "\t<tr><td>0.14324546</td><td>2020-06-10</td></tr>\n",
       "\t<tr><td>0.42678032</td><td>2013-11-08</td></tr>\n",
       "\t<tr><td>0.56445359</td><td>2017-07-12</td></tr>\n",
       "\t<tr><td>0.18729942</td><td>2016-08-12</td></tr>\n",
       "\t<tr><td>0.60274952</td><td>2022-05-12</td></tr>\n",
       "\t<tr><td>0.73487829</td><td>2020-08-11</td></tr>\n",
       "\t<tr><td>0.06834881</td><td>2011-10-26</td></tr>\n",
       "\t<tr><td>0.78291796</td><td>2015-12-09</td></tr>\n",
       "\t<tr><td>0.92149271</td><td>2012-09-27</td></tr>\n",
       "\t<tr><td>0.04428217</td><td>2013-02-04</td></tr>\n",
       "\t<tr><td>0.71311485</td><td>2010-11-29</td></tr>\n",
       "\t<tr><td>0.90388602</td><td>2013-10-16</td></tr>\n",
       "\t<tr><td>0.73958150</td><td>2015-04-26</td></tr>\n",
       "\t<tr><td>0.17217563</td><td>2011-04-12</td></tr>\n",
       "\t<tr><td>0.18658998</td><td>2017-01-30</td></tr>\n",
       "\t<tr><td>0.38248836</td><td>2014-06-08</td></tr>\n",
       "\t<tr><td>0.45361328</td><td>2016-10-19</td></tr>\n",
       "\t<tr><td>0.45513148</td><td>2023-09-01</td></tr>\n",
       "\t<tr><td>0.17310278</td><td>2010-01-09</td></tr>\n",
       "\t<tr><td>0.30541726</td><td>2020-01-11</td></tr>\n",
       "\t<tr><td>0.86775210</td><td>2016-12-16</td></tr>\n",
       "\t<tr><td>0.26023225</td><td>2010-01-03</td></tr>\n",
       "\t<tr><td>0.68087076</td><td>2016-04-23</td></tr>\n",
       "\t<tr><td>0.85357656</td><td>2016-08-10</td></tr>\n",
       "\t<tr><td>0.80527431</td><td>2019-11-21</td></tr>\n",
       "\t<tr><td>0.16351634</td><td>2018-03-29</td></tr>\n",
       "\t<tr><td>0.47193898</td><td>2014-08-04</td></tr>\n",
       "\t<tr><td>0.71831865</td><td>2015-08-16</td></tr>\n",
       "\t<tr><td>0.26987859</td><td>2020-02-04</td></tr>\n",
       "\t<tr><td>0.60823719</td><td>2019-01-06</td></tr>\n",
       "</tbody>\n",
       "</table>\n"
      ],
      "text/latex": [
       "A spec\\_tbl\\_df: 2000 × 2\n",
       "\\begin{tabular}{ll}\n",
       " x & y\\\\\n",
       " <dbl> & <chr>\\\\\n",
       "\\hline\n",
       "\t  404 & NA\\\\\n",
       "\t 4172 & NA\\\\\n",
       "\t 3004 & NA\\\\\n",
       "\t  787 & NA\\\\\n",
       "\t   37 & NA\\\\\n",
       "\t 2332 & NA\\\\\n",
       "\t 2489 & NA\\\\\n",
       "\t 1449 & NA\\\\\n",
       "\t 3665 & NA\\\\\n",
       "\t 3863 & NA\\\\\n",
       "\t 4374 & NA\\\\\n",
       "\t  875 & NA\\\\\n",
       "\t  172 & NA\\\\\n",
       "\t 1602 & NA\\\\\n",
       "\t 2012 & NA\\\\\n",
       "\t  979 & NA\\\\\n",
       "\t 2018 & NA\\\\\n",
       "\t  319 & NA\\\\\n",
       "\t 1944 & NA\\\\\n",
       "\t 4878 & NA\\\\\n",
       "\t 1450 & NA\\\\\n",
       "\t 3392 & NA\\\\\n",
       "\t 3677 & NA\\\\\n",
       "\t  980 & NA\\\\\n",
       "\t 4903 & NA\\\\\n",
       "\t 3708 & NA\\\\\n",
       "\t  258 & NA\\\\\n",
       "\t 2652 & NA\\\\\n",
       "\t 3480 & NA\\\\\n",
       "\t 3443 & NA\\\\\n",
       "\t ⋮ & ⋮\\\\\n",
       "\t 0.14324546 & 2020-06-10\\\\\n",
       "\t 0.42678032 & 2013-11-08\\\\\n",
       "\t 0.56445359 & 2017-07-12\\\\\n",
       "\t 0.18729942 & 2016-08-12\\\\\n",
       "\t 0.60274952 & 2022-05-12\\\\\n",
       "\t 0.73487829 & 2020-08-11\\\\\n",
       "\t 0.06834881 & 2011-10-26\\\\\n",
       "\t 0.78291796 & 2015-12-09\\\\\n",
       "\t 0.92149271 & 2012-09-27\\\\\n",
       "\t 0.04428217 & 2013-02-04\\\\\n",
       "\t 0.71311485 & 2010-11-29\\\\\n",
       "\t 0.90388602 & 2013-10-16\\\\\n",
       "\t 0.73958150 & 2015-04-26\\\\\n",
       "\t 0.17217563 & 2011-04-12\\\\\n",
       "\t 0.18658998 & 2017-01-30\\\\\n",
       "\t 0.38248836 & 2014-06-08\\\\\n",
       "\t 0.45361328 & 2016-10-19\\\\\n",
       "\t 0.45513148 & 2023-09-01\\\\\n",
       "\t 0.17310278 & 2010-01-09\\\\\n",
       "\t 0.30541726 & 2020-01-11\\\\\n",
       "\t 0.86775210 & 2016-12-16\\\\\n",
       "\t 0.26023225 & 2010-01-03\\\\\n",
       "\t 0.68087076 & 2016-04-23\\\\\n",
       "\t 0.85357656 & 2016-08-10\\\\\n",
       "\t 0.80527431 & 2019-11-21\\\\\n",
       "\t 0.16351634 & 2018-03-29\\\\\n",
       "\t 0.47193898 & 2014-08-04\\\\\n",
       "\t 0.71831865 & 2015-08-16\\\\\n",
       "\t 0.26987859 & 2020-02-04\\\\\n",
       "\t 0.60823719 & 2019-01-06\\\\\n",
       "\\end{tabular}\n"
      ],
      "text/markdown": [
       "\n",
       "A spec_tbl_df: 2000 × 2\n",
       "\n",
       "| x &lt;dbl&gt; | y &lt;chr&gt; |\n",
       "|---|---|\n",
       "|  404 | NA |\n",
       "| 4172 | NA |\n",
       "| 3004 | NA |\n",
       "|  787 | NA |\n",
       "|   37 | NA |\n",
       "| 2332 | NA |\n",
       "| 2489 | NA |\n",
       "| 1449 | NA |\n",
       "| 3665 | NA |\n",
       "| 3863 | NA |\n",
       "| 4374 | NA |\n",
       "|  875 | NA |\n",
       "|  172 | NA |\n",
       "| 1602 | NA |\n",
       "| 2012 | NA |\n",
       "|  979 | NA |\n",
       "| 2018 | NA |\n",
       "|  319 | NA |\n",
       "| 1944 | NA |\n",
       "| 4878 | NA |\n",
       "| 1450 | NA |\n",
       "| 3392 | NA |\n",
       "| 3677 | NA |\n",
       "|  980 | NA |\n",
       "| 4903 | NA |\n",
       "| 3708 | NA |\n",
       "|  258 | NA |\n",
       "| 2652 | NA |\n",
       "| 3480 | NA |\n",
       "| 3443 | NA |\n",
       "| ⋮ | ⋮ |\n",
       "| 0.14324546 | 2020-06-10 |\n",
       "| 0.42678032 | 2013-11-08 |\n",
       "| 0.56445359 | 2017-07-12 |\n",
       "| 0.18729942 | 2016-08-12 |\n",
       "| 0.60274952 | 2022-05-12 |\n",
       "| 0.73487829 | 2020-08-11 |\n",
       "| 0.06834881 | 2011-10-26 |\n",
       "| 0.78291796 | 2015-12-09 |\n",
       "| 0.92149271 | 2012-09-27 |\n",
       "| 0.04428217 | 2013-02-04 |\n",
       "| 0.71311485 | 2010-11-29 |\n",
       "| 0.90388602 | 2013-10-16 |\n",
       "| 0.73958150 | 2015-04-26 |\n",
       "| 0.17217563 | 2011-04-12 |\n",
       "| 0.18658998 | 2017-01-30 |\n",
       "| 0.38248836 | 2014-06-08 |\n",
       "| 0.45361328 | 2016-10-19 |\n",
       "| 0.45513148 | 2023-09-01 |\n",
       "| 0.17310278 | 2010-01-09 |\n",
       "| 0.30541726 | 2020-01-11 |\n",
       "| 0.86775210 | 2016-12-16 |\n",
       "| 0.26023225 | 2010-01-03 |\n",
       "| 0.68087076 | 2016-04-23 |\n",
       "| 0.85357656 | 2016-08-10 |\n",
       "| 0.80527431 | 2019-11-21 |\n",
       "| 0.16351634 | 2018-03-29 |\n",
       "| 0.47193898 | 2014-08-04 |\n",
       "| 0.71831865 | 2015-08-16 |\n",
       "| 0.26987859 | 2020-02-04 |\n",
       "| 0.60823719 | 2019-01-06 |\n",
       "\n"
      ],
      "text/plain": [
       "     x          y         \n",
       "1     404       NA        \n",
       "2    4172       NA        \n",
       "3    3004       NA        \n",
       "4     787       NA        \n",
       "5      37       NA        \n",
       "6    2332       NA        \n",
       "7    2489       NA        \n",
       "8    1449       NA        \n",
       "9    3665       NA        \n",
       "10   3863       NA        \n",
       "11   4374       NA        \n",
       "12    875       NA        \n",
       "13    172       NA        \n",
       "14   1602       NA        \n",
       "15   2012       NA        \n",
       "16    979       NA        \n",
       "17   2018       NA        \n",
       "18    319       NA        \n",
       "19   1944       NA        \n",
       "20   4878       NA        \n",
       "21   1450       NA        \n",
       "22   3392       NA        \n",
       "23   3677       NA        \n",
       "24    980       NA        \n",
       "25   4903       NA        \n",
       "26   3708       NA        \n",
       "27    258       NA        \n",
       "28   2652       NA        \n",
       "29   3480       NA        \n",
       "30   3443       NA        \n",
       "⋮    ⋮          ⋮         \n",
       "1971 0.14324546 2020-06-10\n",
       "1972 0.42678032 2013-11-08\n",
       "1973 0.56445359 2017-07-12\n",
       "1974 0.18729942 2016-08-12\n",
       "1975 0.60274952 2022-05-12\n",
       "1976 0.73487829 2020-08-11\n",
       "1977 0.06834881 2011-10-26\n",
       "1978 0.78291796 2015-12-09\n",
       "1979 0.92149271 2012-09-27\n",
       "1980 0.04428217 2013-02-04\n",
       "1981 0.71311485 2010-11-29\n",
       "1982 0.90388602 2013-10-16\n",
       "1983 0.73958150 2015-04-26\n",
       "1984 0.17217563 2011-04-12\n",
       "1985 0.18658998 2017-01-30\n",
       "1986 0.38248836 2014-06-08\n",
       "1987 0.45361328 2016-10-19\n",
       "1988 0.45513148 2023-09-01\n",
       "1989 0.17310278 2010-01-09\n",
       "1990 0.30541726 2020-01-11\n",
       "1991 0.86775210 2016-12-16\n",
       "1992 0.26023225 2010-01-03\n",
       "1993 0.68087076 2016-04-23\n",
       "1994 0.85357656 2016-08-10\n",
       "1995 0.80527431 2019-11-21\n",
       "1996 0.16351634 2018-03-29\n",
       "1997 0.47193898 2014-08-04\n",
       "1998 0.71831865 2015-08-16\n",
       "1999 0.26987859 2020-02-04\n",
       "2000 0.60823719 2019-01-06"
      ]
     },
     "metadata": {},
     "output_type": "display_data"
    }
   ],
   "source": [
    "challenge"
   ]
  },
  {
   "cell_type": "code",
   "execution_count": 48,
   "metadata": {},
   "outputs": [
    {
     "data": {
      "text/html": [
       "<table>\n",
       "<caption>A tibble: 6 × 2</caption>\n",
       "<thead>\n",
       "\t<tr><th scope=col>x</th><th scope=col>y</th></tr>\n",
       "\t<tr><th scope=col>&lt;dbl&gt;</th><th scope=col>&lt;chr&gt;</th></tr>\n",
       "</thead>\n",
       "<tbody>\n",
       "\t<tr><td>0.8052743</td><td>2019-11-21</td></tr>\n",
       "\t<tr><td>0.1635163</td><td>2018-03-29</td></tr>\n",
       "\t<tr><td>0.4719390</td><td>2014-08-04</td></tr>\n",
       "\t<tr><td>0.7183186</td><td>2015-08-16</td></tr>\n",
       "\t<tr><td>0.2698786</td><td>2020-02-04</td></tr>\n",
       "\t<tr><td>0.6082372</td><td>2019-01-06</td></tr>\n",
       "</tbody>\n",
       "</table>\n"
      ],
      "text/latex": [
       "A tibble: 6 × 2\n",
       "\\begin{tabular}{ll}\n",
       " x & y\\\\\n",
       " <dbl> & <chr>\\\\\n",
       "\\hline\n",
       "\t 0.8052743 & 2019-11-21\\\\\n",
       "\t 0.1635163 & 2018-03-29\\\\\n",
       "\t 0.4719390 & 2014-08-04\\\\\n",
       "\t 0.7183186 & 2015-08-16\\\\\n",
       "\t 0.2698786 & 2020-02-04\\\\\n",
       "\t 0.6082372 & 2019-01-06\\\\\n",
       "\\end{tabular}\n"
      ],
      "text/markdown": [
       "\n",
       "A tibble: 6 × 2\n",
       "\n",
       "| x &lt;dbl&gt; | y &lt;chr&gt; |\n",
       "|---|---|\n",
       "| 0.8052743 | 2019-11-21 |\n",
       "| 0.1635163 | 2018-03-29 |\n",
       "| 0.4719390 | 2014-08-04 |\n",
       "| 0.7183186 | 2015-08-16 |\n",
       "| 0.2698786 | 2020-02-04 |\n",
       "| 0.6082372 | 2019-01-06 |\n",
       "\n"
      ],
      "text/plain": [
       "  x         y         \n",
       "1 0.8052743 2019-11-21\n",
       "2 0.1635163 2018-03-29\n",
       "3 0.4719390 2014-08-04\n",
       "4 0.7183186 2015-08-16\n",
       "5 0.2698786 2020-02-04\n",
       "6 0.6082372 2019-01-06"
      ]
     },
     "metadata": {},
     "output_type": "display_data"
    }
   ],
   "source": [
    "tail(challenge)"
   ]
  },
  {
   "cell_type": "markdown",
   "metadata": {},
   "source": [
    "Dates are stored as strings so more to do. "
   ]
  },
  {
   "cell_type": "code",
   "execution_count": 49,
   "metadata": {},
   "outputs": [],
   "source": [
    "challenge <- read_csv(readr_example(\"challenge.csv\"),\n",
    "                     col_types = cols(x = col_double(), y = col_date()))"
   ]
  },
  {
   "cell_type": "code",
   "execution_count": 50,
   "metadata": {},
   "outputs": [
    {
     "data": {
      "text/html": [
       "<table>\n",
       "<caption>A spec_tbl_df: 2000 × 2</caption>\n",
       "<thead>\n",
       "\t<tr><th scope=col>x</th><th scope=col>y</th></tr>\n",
       "\t<tr><th scope=col>&lt;dbl&gt;</th><th scope=col>&lt;date&gt;</th></tr>\n",
       "</thead>\n",
       "<tbody>\n",
       "\t<tr><td> 404</td><td>NA</td></tr>\n",
       "\t<tr><td>4172</td><td>NA</td></tr>\n",
       "\t<tr><td>3004</td><td>NA</td></tr>\n",
       "\t<tr><td> 787</td><td>NA</td></tr>\n",
       "\t<tr><td>  37</td><td>NA</td></tr>\n",
       "\t<tr><td>2332</td><td>NA</td></tr>\n",
       "\t<tr><td>2489</td><td>NA</td></tr>\n",
       "\t<tr><td>1449</td><td>NA</td></tr>\n",
       "\t<tr><td>3665</td><td>NA</td></tr>\n",
       "\t<tr><td>3863</td><td>NA</td></tr>\n",
       "\t<tr><td>4374</td><td>NA</td></tr>\n",
       "\t<tr><td> 875</td><td>NA</td></tr>\n",
       "\t<tr><td> 172</td><td>NA</td></tr>\n",
       "\t<tr><td>1602</td><td>NA</td></tr>\n",
       "\t<tr><td>2012</td><td>NA</td></tr>\n",
       "\t<tr><td> 979</td><td>NA</td></tr>\n",
       "\t<tr><td>2018</td><td>NA</td></tr>\n",
       "\t<tr><td> 319</td><td>NA</td></tr>\n",
       "\t<tr><td>1944</td><td>NA</td></tr>\n",
       "\t<tr><td>4878</td><td>NA</td></tr>\n",
       "\t<tr><td>1450</td><td>NA</td></tr>\n",
       "\t<tr><td>3392</td><td>NA</td></tr>\n",
       "\t<tr><td>3677</td><td>NA</td></tr>\n",
       "\t<tr><td> 980</td><td>NA</td></tr>\n",
       "\t<tr><td>4903</td><td>NA</td></tr>\n",
       "\t<tr><td>3708</td><td>NA</td></tr>\n",
       "\t<tr><td> 258</td><td>NA</td></tr>\n",
       "\t<tr><td>2652</td><td>NA</td></tr>\n",
       "\t<tr><td>3480</td><td>NA</td></tr>\n",
       "\t<tr><td>3443</td><td>NA</td></tr>\n",
       "\t<tr><td>⋮</td><td>⋮</td></tr>\n",
       "\t<tr><td>0.14324546</td><td>2020-06-10</td></tr>\n",
       "\t<tr><td>0.42678032</td><td>2013-11-08</td></tr>\n",
       "\t<tr><td>0.56445359</td><td>2017-07-12</td></tr>\n",
       "\t<tr><td>0.18729942</td><td>2016-08-12</td></tr>\n",
       "\t<tr><td>0.60274952</td><td>2022-05-12</td></tr>\n",
       "\t<tr><td>0.73487829</td><td>2020-08-11</td></tr>\n",
       "\t<tr><td>0.06834881</td><td>2011-10-26</td></tr>\n",
       "\t<tr><td>0.78291796</td><td>2015-12-09</td></tr>\n",
       "\t<tr><td>0.92149271</td><td>2012-09-27</td></tr>\n",
       "\t<tr><td>0.04428217</td><td>2013-02-04</td></tr>\n",
       "\t<tr><td>0.71311485</td><td>2010-11-29</td></tr>\n",
       "\t<tr><td>0.90388602</td><td>2013-10-16</td></tr>\n",
       "\t<tr><td>0.73958150</td><td>2015-04-26</td></tr>\n",
       "\t<tr><td>0.17217563</td><td>2011-04-12</td></tr>\n",
       "\t<tr><td>0.18658998</td><td>2017-01-30</td></tr>\n",
       "\t<tr><td>0.38248836</td><td>2014-06-08</td></tr>\n",
       "\t<tr><td>0.45361328</td><td>2016-10-19</td></tr>\n",
       "\t<tr><td>0.45513148</td><td>2023-09-01</td></tr>\n",
       "\t<tr><td>0.17310278</td><td>2010-01-09</td></tr>\n",
       "\t<tr><td>0.30541726</td><td>2020-01-11</td></tr>\n",
       "\t<tr><td>0.86775210</td><td>2016-12-16</td></tr>\n",
       "\t<tr><td>0.26023225</td><td>2010-01-03</td></tr>\n",
       "\t<tr><td>0.68087076</td><td>2016-04-23</td></tr>\n",
       "\t<tr><td>0.85357656</td><td>2016-08-10</td></tr>\n",
       "\t<tr><td>0.80527431</td><td>2019-11-21</td></tr>\n",
       "\t<tr><td>0.16351634</td><td>2018-03-29</td></tr>\n",
       "\t<tr><td>0.47193898</td><td>2014-08-04</td></tr>\n",
       "\t<tr><td>0.71831865</td><td>2015-08-16</td></tr>\n",
       "\t<tr><td>0.26987859</td><td>2020-02-04</td></tr>\n",
       "\t<tr><td>0.60823719</td><td>2019-01-06</td></tr>\n",
       "</tbody>\n",
       "</table>\n"
      ],
      "text/latex": [
       "A spec\\_tbl\\_df: 2000 × 2\n",
       "\\begin{tabular}{ll}\n",
       " x & y\\\\\n",
       " <dbl> & <date>\\\\\n",
       "\\hline\n",
       "\t  404 & NA\\\\\n",
       "\t 4172 & NA\\\\\n",
       "\t 3004 & NA\\\\\n",
       "\t  787 & NA\\\\\n",
       "\t   37 & NA\\\\\n",
       "\t 2332 & NA\\\\\n",
       "\t 2489 & NA\\\\\n",
       "\t 1449 & NA\\\\\n",
       "\t 3665 & NA\\\\\n",
       "\t 3863 & NA\\\\\n",
       "\t 4374 & NA\\\\\n",
       "\t  875 & NA\\\\\n",
       "\t  172 & NA\\\\\n",
       "\t 1602 & NA\\\\\n",
       "\t 2012 & NA\\\\\n",
       "\t  979 & NA\\\\\n",
       "\t 2018 & NA\\\\\n",
       "\t  319 & NA\\\\\n",
       "\t 1944 & NA\\\\\n",
       "\t 4878 & NA\\\\\n",
       "\t 1450 & NA\\\\\n",
       "\t 3392 & NA\\\\\n",
       "\t 3677 & NA\\\\\n",
       "\t  980 & NA\\\\\n",
       "\t 4903 & NA\\\\\n",
       "\t 3708 & NA\\\\\n",
       "\t  258 & NA\\\\\n",
       "\t 2652 & NA\\\\\n",
       "\t 3480 & NA\\\\\n",
       "\t 3443 & NA\\\\\n",
       "\t ⋮ & ⋮\\\\\n",
       "\t 0.14324546 & 2020-06-10\\\\\n",
       "\t 0.42678032 & 2013-11-08\\\\\n",
       "\t 0.56445359 & 2017-07-12\\\\\n",
       "\t 0.18729942 & 2016-08-12\\\\\n",
       "\t 0.60274952 & 2022-05-12\\\\\n",
       "\t 0.73487829 & 2020-08-11\\\\\n",
       "\t 0.06834881 & 2011-10-26\\\\\n",
       "\t 0.78291796 & 2015-12-09\\\\\n",
       "\t 0.92149271 & 2012-09-27\\\\\n",
       "\t 0.04428217 & 2013-02-04\\\\\n",
       "\t 0.71311485 & 2010-11-29\\\\\n",
       "\t 0.90388602 & 2013-10-16\\\\\n",
       "\t 0.73958150 & 2015-04-26\\\\\n",
       "\t 0.17217563 & 2011-04-12\\\\\n",
       "\t 0.18658998 & 2017-01-30\\\\\n",
       "\t 0.38248836 & 2014-06-08\\\\\n",
       "\t 0.45361328 & 2016-10-19\\\\\n",
       "\t 0.45513148 & 2023-09-01\\\\\n",
       "\t 0.17310278 & 2010-01-09\\\\\n",
       "\t 0.30541726 & 2020-01-11\\\\\n",
       "\t 0.86775210 & 2016-12-16\\\\\n",
       "\t 0.26023225 & 2010-01-03\\\\\n",
       "\t 0.68087076 & 2016-04-23\\\\\n",
       "\t 0.85357656 & 2016-08-10\\\\\n",
       "\t 0.80527431 & 2019-11-21\\\\\n",
       "\t 0.16351634 & 2018-03-29\\\\\n",
       "\t 0.47193898 & 2014-08-04\\\\\n",
       "\t 0.71831865 & 2015-08-16\\\\\n",
       "\t 0.26987859 & 2020-02-04\\\\\n",
       "\t 0.60823719 & 2019-01-06\\\\\n",
       "\\end{tabular}\n"
      ],
      "text/markdown": [
       "\n",
       "A spec_tbl_df: 2000 × 2\n",
       "\n",
       "| x &lt;dbl&gt; | y &lt;date&gt; |\n",
       "|---|---|\n",
       "|  404 | NA |\n",
       "| 4172 | NA |\n",
       "| 3004 | NA |\n",
       "|  787 | NA |\n",
       "|   37 | NA |\n",
       "| 2332 | NA |\n",
       "| 2489 | NA |\n",
       "| 1449 | NA |\n",
       "| 3665 | NA |\n",
       "| 3863 | NA |\n",
       "| 4374 | NA |\n",
       "|  875 | NA |\n",
       "|  172 | NA |\n",
       "| 1602 | NA |\n",
       "| 2012 | NA |\n",
       "|  979 | NA |\n",
       "| 2018 | NA |\n",
       "|  319 | NA |\n",
       "| 1944 | NA |\n",
       "| 4878 | NA |\n",
       "| 1450 | NA |\n",
       "| 3392 | NA |\n",
       "| 3677 | NA |\n",
       "|  980 | NA |\n",
       "| 4903 | NA |\n",
       "| 3708 | NA |\n",
       "|  258 | NA |\n",
       "| 2652 | NA |\n",
       "| 3480 | NA |\n",
       "| 3443 | NA |\n",
       "| ⋮ | ⋮ |\n",
       "| 0.14324546 | 2020-06-10 |\n",
       "| 0.42678032 | 2013-11-08 |\n",
       "| 0.56445359 | 2017-07-12 |\n",
       "| 0.18729942 | 2016-08-12 |\n",
       "| 0.60274952 | 2022-05-12 |\n",
       "| 0.73487829 | 2020-08-11 |\n",
       "| 0.06834881 | 2011-10-26 |\n",
       "| 0.78291796 | 2015-12-09 |\n",
       "| 0.92149271 | 2012-09-27 |\n",
       "| 0.04428217 | 2013-02-04 |\n",
       "| 0.71311485 | 2010-11-29 |\n",
       "| 0.90388602 | 2013-10-16 |\n",
       "| 0.73958150 | 2015-04-26 |\n",
       "| 0.17217563 | 2011-04-12 |\n",
       "| 0.18658998 | 2017-01-30 |\n",
       "| 0.38248836 | 2014-06-08 |\n",
       "| 0.45361328 | 2016-10-19 |\n",
       "| 0.45513148 | 2023-09-01 |\n",
       "| 0.17310278 | 2010-01-09 |\n",
       "| 0.30541726 | 2020-01-11 |\n",
       "| 0.86775210 | 2016-12-16 |\n",
       "| 0.26023225 | 2010-01-03 |\n",
       "| 0.68087076 | 2016-04-23 |\n",
       "| 0.85357656 | 2016-08-10 |\n",
       "| 0.80527431 | 2019-11-21 |\n",
       "| 0.16351634 | 2018-03-29 |\n",
       "| 0.47193898 | 2014-08-04 |\n",
       "| 0.71831865 | 2015-08-16 |\n",
       "| 0.26987859 | 2020-02-04 |\n",
       "| 0.60823719 | 2019-01-06 |\n",
       "\n"
      ],
      "text/plain": [
       "     x          y         \n",
       "1     404       <NA>      \n",
       "2    4172       <NA>      \n",
       "3    3004       <NA>      \n",
       "4     787       <NA>      \n",
       "5      37       <NA>      \n",
       "6    2332       <NA>      \n",
       "7    2489       <NA>      \n",
       "8    1449       <NA>      \n",
       "9    3665       <NA>      \n",
       "10   3863       <NA>      \n",
       "11   4374       <NA>      \n",
       "12    875       <NA>      \n",
       "13    172       <NA>      \n",
       "14   1602       <NA>      \n",
       "15   2012       <NA>      \n",
       "16    979       <NA>      \n",
       "17   2018       <NA>      \n",
       "18    319       <NA>      \n",
       "19   1944       <NA>      \n",
       "20   4878       <NA>      \n",
       "21   1450       <NA>      \n",
       "22   3392       <NA>      \n",
       "23   3677       <NA>      \n",
       "24    980       <NA>      \n",
       "25   4903       <NA>      \n",
       "26   3708       <NA>      \n",
       "27    258       <NA>      \n",
       "28   2652       <NA>      \n",
       "29   3480       <NA>      \n",
       "30   3443       <NA>      \n",
       "⋮    ⋮          ⋮         \n",
       "1971 0.14324546 2020-06-10\n",
       "1972 0.42678032 2013-11-08\n",
       "1973 0.56445359 2017-07-12\n",
       "1974 0.18729942 2016-08-12\n",
       "1975 0.60274952 2022-05-12\n",
       "1976 0.73487829 2020-08-11\n",
       "1977 0.06834881 2011-10-26\n",
       "1978 0.78291796 2015-12-09\n",
       "1979 0.92149271 2012-09-27\n",
       "1980 0.04428217 2013-02-04\n",
       "1981 0.71311485 2010-11-29\n",
       "1982 0.90388602 2013-10-16\n",
       "1983 0.73958150 2015-04-26\n",
       "1984 0.17217563 2011-04-12\n",
       "1985 0.18658998 2017-01-30\n",
       "1986 0.38248836 2014-06-08\n",
       "1987 0.45361328 2016-10-19\n",
       "1988 0.45513148 2023-09-01\n",
       "1989 0.17310278 2010-01-09\n",
       "1990 0.30541726 2020-01-11\n",
       "1991 0.86775210 2016-12-16\n",
       "1992 0.26023225 2010-01-03\n",
       "1993 0.68087076 2016-04-23\n",
       "1994 0.85357656 2016-08-10\n",
       "1995 0.80527431 2019-11-21\n",
       "1996 0.16351634 2018-03-29\n",
       "1997 0.47193898 2014-08-04\n",
       "1998 0.71831865 2015-08-16\n",
       "1999 0.26987859 2020-02-04\n",
       "2000 0.60823719 2019-01-06"
      ]
     },
     "metadata": {},
     "output_type": "display_data"
    }
   ],
   "source": [
    "challenge"
   ]
  },
  {
   "cell_type": "markdown",
   "metadata": {},
   "source": [
    "Every ```parse_xyz()``` function has a corresponding ```col_xyz()``` function.  Remember ```col_xyz()``` tells readr how to load the data."
   ]
  },
  {
   "cell_type": "markdown",
   "metadata": {},
   "source": [
    "Diagnose problems easier if convert everything to characters:"
   ]
  },
  {
   "cell_type": "code",
   "execution_count": 53,
   "metadata": {},
   "outputs": [],
   "source": [
    "challenge2 <- read_csv(readr_example(\"challenge.csv\"),\n",
    "                     col_types = cols(.default = col_character()) )"
   ]
  },
  {
   "cell_type": "code",
   "execution_count": 52,
   "metadata": {},
   "outputs": [
    {
     "name": "stderr",
     "output_type": "stream",
     "text": [
      "Parsed with column specification:\n",
      "cols(\n",
      "  x = \u001b[32mcol_double()\u001b[39m,\n",
      "  y = \u001b[34mcol_date(format = \"\")\u001b[39m\n",
      ")\n",
      "\n"
     ]
    },
    {
     "data": {
      "text/html": [
       "<table>\n",
       "<caption>A spec_tbl_df: 2000 × 2</caption>\n",
       "<thead>\n",
       "\t<tr><th scope=col>x</th><th scope=col>y</th></tr>\n",
       "\t<tr><th scope=col>&lt;dbl&gt;</th><th scope=col>&lt;date&gt;</th></tr>\n",
       "</thead>\n",
       "<tbody>\n",
       "\t<tr><td> 404</td><td>NA</td></tr>\n",
       "\t<tr><td>4172</td><td>NA</td></tr>\n",
       "\t<tr><td>3004</td><td>NA</td></tr>\n",
       "\t<tr><td> 787</td><td>NA</td></tr>\n",
       "\t<tr><td>  37</td><td>NA</td></tr>\n",
       "\t<tr><td>2332</td><td>NA</td></tr>\n",
       "\t<tr><td>2489</td><td>NA</td></tr>\n",
       "\t<tr><td>1449</td><td>NA</td></tr>\n",
       "\t<tr><td>3665</td><td>NA</td></tr>\n",
       "\t<tr><td>3863</td><td>NA</td></tr>\n",
       "\t<tr><td>4374</td><td>NA</td></tr>\n",
       "\t<tr><td> 875</td><td>NA</td></tr>\n",
       "\t<tr><td> 172</td><td>NA</td></tr>\n",
       "\t<tr><td>1602</td><td>NA</td></tr>\n",
       "\t<tr><td>2012</td><td>NA</td></tr>\n",
       "\t<tr><td> 979</td><td>NA</td></tr>\n",
       "\t<tr><td>2018</td><td>NA</td></tr>\n",
       "\t<tr><td> 319</td><td>NA</td></tr>\n",
       "\t<tr><td>1944</td><td>NA</td></tr>\n",
       "\t<tr><td>4878</td><td>NA</td></tr>\n",
       "\t<tr><td>1450</td><td>NA</td></tr>\n",
       "\t<tr><td>3392</td><td>NA</td></tr>\n",
       "\t<tr><td>3677</td><td>NA</td></tr>\n",
       "\t<tr><td> 980</td><td>NA</td></tr>\n",
       "\t<tr><td>4903</td><td>NA</td></tr>\n",
       "\t<tr><td>3708</td><td>NA</td></tr>\n",
       "\t<tr><td> 258</td><td>NA</td></tr>\n",
       "\t<tr><td>2652</td><td>NA</td></tr>\n",
       "\t<tr><td>3480</td><td>NA</td></tr>\n",
       "\t<tr><td>3443</td><td>NA</td></tr>\n",
       "\t<tr><td>⋮</td><td>⋮</td></tr>\n",
       "\t<tr><td>0.14324546</td><td>2020-06-10</td></tr>\n",
       "\t<tr><td>0.42678032</td><td>2013-11-08</td></tr>\n",
       "\t<tr><td>0.56445359</td><td>2017-07-12</td></tr>\n",
       "\t<tr><td>0.18729942</td><td>2016-08-12</td></tr>\n",
       "\t<tr><td>0.60274952</td><td>2022-05-12</td></tr>\n",
       "\t<tr><td>0.73487829</td><td>2020-08-11</td></tr>\n",
       "\t<tr><td>0.06834881</td><td>2011-10-26</td></tr>\n",
       "\t<tr><td>0.78291796</td><td>2015-12-09</td></tr>\n",
       "\t<tr><td>0.92149271</td><td>2012-09-27</td></tr>\n",
       "\t<tr><td>0.04428217</td><td>2013-02-04</td></tr>\n",
       "\t<tr><td>0.71311485</td><td>2010-11-29</td></tr>\n",
       "\t<tr><td>0.90388602</td><td>2013-10-16</td></tr>\n",
       "\t<tr><td>0.73958150</td><td>2015-04-26</td></tr>\n",
       "\t<tr><td>0.17217563</td><td>2011-04-12</td></tr>\n",
       "\t<tr><td>0.18658998</td><td>2017-01-30</td></tr>\n",
       "\t<tr><td>0.38248836</td><td>2014-06-08</td></tr>\n",
       "\t<tr><td>0.45361328</td><td>2016-10-19</td></tr>\n",
       "\t<tr><td>0.45513148</td><td>2023-09-01</td></tr>\n",
       "\t<tr><td>0.17310278</td><td>2010-01-09</td></tr>\n",
       "\t<tr><td>0.30541726</td><td>2020-01-11</td></tr>\n",
       "\t<tr><td>0.86775210</td><td>2016-12-16</td></tr>\n",
       "\t<tr><td>0.26023225</td><td>2010-01-03</td></tr>\n",
       "\t<tr><td>0.68087076</td><td>2016-04-23</td></tr>\n",
       "\t<tr><td>0.85357656</td><td>2016-08-10</td></tr>\n",
       "\t<tr><td>0.80527431</td><td>2019-11-21</td></tr>\n",
       "\t<tr><td>0.16351634</td><td>2018-03-29</td></tr>\n",
       "\t<tr><td>0.47193898</td><td>2014-08-04</td></tr>\n",
       "\t<tr><td>0.71831865</td><td>2015-08-16</td></tr>\n",
       "\t<tr><td>0.26987859</td><td>2020-02-04</td></tr>\n",
       "\t<tr><td>0.60823719</td><td>2019-01-06</td></tr>\n",
       "</tbody>\n",
       "</table>\n"
      ],
      "text/latex": [
       "A spec\\_tbl\\_df: 2000 × 2\n",
       "\\begin{tabular}{ll}\n",
       " x & y\\\\\n",
       " <dbl> & <date>\\\\\n",
       "\\hline\n",
       "\t  404 & NA\\\\\n",
       "\t 4172 & NA\\\\\n",
       "\t 3004 & NA\\\\\n",
       "\t  787 & NA\\\\\n",
       "\t   37 & NA\\\\\n",
       "\t 2332 & NA\\\\\n",
       "\t 2489 & NA\\\\\n",
       "\t 1449 & NA\\\\\n",
       "\t 3665 & NA\\\\\n",
       "\t 3863 & NA\\\\\n",
       "\t 4374 & NA\\\\\n",
       "\t  875 & NA\\\\\n",
       "\t  172 & NA\\\\\n",
       "\t 1602 & NA\\\\\n",
       "\t 2012 & NA\\\\\n",
       "\t  979 & NA\\\\\n",
       "\t 2018 & NA\\\\\n",
       "\t  319 & NA\\\\\n",
       "\t 1944 & NA\\\\\n",
       "\t 4878 & NA\\\\\n",
       "\t 1450 & NA\\\\\n",
       "\t 3392 & NA\\\\\n",
       "\t 3677 & NA\\\\\n",
       "\t  980 & NA\\\\\n",
       "\t 4903 & NA\\\\\n",
       "\t 3708 & NA\\\\\n",
       "\t  258 & NA\\\\\n",
       "\t 2652 & NA\\\\\n",
       "\t 3480 & NA\\\\\n",
       "\t 3443 & NA\\\\\n",
       "\t ⋮ & ⋮\\\\\n",
       "\t 0.14324546 & 2020-06-10\\\\\n",
       "\t 0.42678032 & 2013-11-08\\\\\n",
       "\t 0.56445359 & 2017-07-12\\\\\n",
       "\t 0.18729942 & 2016-08-12\\\\\n",
       "\t 0.60274952 & 2022-05-12\\\\\n",
       "\t 0.73487829 & 2020-08-11\\\\\n",
       "\t 0.06834881 & 2011-10-26\\\\\n",
       "\t 0.78291796 & 2015-12-09\\\\\n",
       "\t 0.92149271 & 2012-09-27\\\\\n",
       "\t 0.04428217 & 2013-02-04\\\\\n",
       "\t 0.71311485 & 2010-11-29\\\\\n",
       "\t 0.90388602 & 2013-10-16\\\\\n",
       "\t 0.73958150 & 2015-04-26\\\\\n",
       "\t 0.17217563 & 2011-04-12\\\\\n",
       "\t 0.18658998 & 2017-01-30\\\\\n",
       "\t 0.38248836 & 2014-06-08\\\\\n",
       "\t 0.45361328 & 2016-10-19\\\\\n",
       "\t 0.45513148 & 2023-09-01\\\\\n",
       "\t 0.17310278 & 2010-01-09\\\\\n",
       "\t 0.30541726 & 2020-01-11\\\\\n",
       "\t 0.86775210 & 2016-12-16\\\\\n",
       "\t 0.26023225 & 2010-01-03\\\\\n",
       "\t 0.68087076 & 2016-04-23\\\\\n",
       "\t 0.85357656 & 2016-08-10\\\\\n",
       "\t 0.80527431 & 2019-11-21\\\\\n",
       "\t 0.16351634 & 2018-03-29\\\\\n",
       "\t 0.47193898 & 2014-08-04\\\\\n",
       "\t 0.71831865 & 2015-08-16\\\\\n",
       "\t 0.26987859 & 2020-02-04\\\\\n",
       "\t 0.60823719 & 2019-01-06\\\\\n",
       "\\end{tabular}\n"
      ],
      "text/markdown": [
       "\n",
       "A spec_tbl_df: 2000 × 2\n",
       "\n",
       "| x &lt;dbl&gt; | y &lt;date&gt; |\n",
       "|---|---|\n",
       "|  404 | NA |\n",
       "| 4172 | NA |\n",
       "| 3004 | NA |\n",
       "|  787 | NA |\n",
       "|   37 | NA |\n",
       "| 2332 | NA |\n",
       "| 2489 | NA |\n",
       "| 1449 | NA |\n",
       "| 3665 | NA |\n",
       "| 3863 | NA |\n",
       "| 4374 | NA |\n",
       "|  875 | NA |\n",
       "|  172 | NA |\n",
       "| 1602 | NA |\n",
       "| 2012 | NA |\n",
       "|  979 | NA |\n",
       "| 2018 | NA |\n",
       "|  319 | NA |\n",
       "| 1944 | NA |\n",
       "| 4878 | NA |\n",
       "| 1450 | NA |\n",
       "| 3392 | NA |\n",
       "| 3677 | NA |\n",
       "|  980 | NA |\n",
       "| 4903 | NA |\n",
       "| 3708 | NA |\n",
       "|  258 | NA |\n",
       "| 2652 | NA |\n",
       "| 3480 | NA |\n",
       "| 3443 | NA |\n",
       "| ⋮ | ⋮ |\n",
       "| 0.14324546 | 2020-06-10 |\n",
       "| 0.42678032 | 2013-11-08 |\n",
       "| 0.56445359 | 2017-07-12 |\n",
       "| 0.18729942 | 2016-08-12 |\n",
       "| 0.60274952 | 2022-05-12 |\n",
       "| 0.73487829 | 2020-08-11 |\n",
       "| 0.06834881 | 2011-10-26 |\n",
       "| 0.78291796 | 2015-12-09 |\n",
       "| 0.92149271 | 2012-09-27 |\n",
       "| 0.04428217 | 2013-02-04 |\n",
       "| 0.71311485 | 2010-11-29 |\n",
       "| 0.90388602 | 2013-10-16 |\n",
       "| 0.73958150 | 2015-04-26 |\n",
       "| 0.17217563 | 2011-04-12 |\n",
       "| 0.18658998 | 2017-01-30 |\n",
       "| 0.38248836 | 2014-06-08 |\n",
       "| 0.45361328 | 2016-10-19 |\n",
       "| 0.45513148 | 2023-09-01 |\n",
       "| 0.17310278 | 2010-01-09 |\n",
       "| 0.30541726 | 2020-01-11 |\n",
       "| 0.86775210 | 2016-12-16 |\n",
       "| 0.26023225 | 2010-01-03 |\n",
       "| 0.68087076 | 2016-04-23 |\n",
       "| 0.85357656 | 2016-08-10 |\n",
       "| 0.80527431 | 2019-11-21 |\n",
       "| 0.16351634 | 2018-03-29 |\n",
       "| 0.47193898 | 2014-08-04 |\n",
       "| 0.71831865 | 2015-08-16 |\n",
       "| 0.26987859 | 2020-02-04 |\n",
       "| 0.60823719 | 2019-01-06 |\n",
       "\n"
      ],
      "text/plain": [
       "     x          y         \n",
       "1     404       <NA>      \n",
       "2    4172       <NA>      \n",
       "3    3004       <NA>      \n",
       "4     787       <NA>      \n",
       "5      37       <NA>      \n",
       "6    2332       <NA>      \n",
       "7    2489       <NA>      \n",
       "8    1449       <NA>      \n",
       "9    3665       <NA>      \n",
       "10   3863       <NA>      \n",
       "11   4374       <NA>      \n",
       "12    875       <NA>      \n",
       "13    172       <NA>      \n",
       "14   1602       <NA>      \n",
       "15   2012       <NA>      \n",
       "16    979       <NA>      \n",
       "17   2018       <NA>      \n",
       "18    319       <NA>      \n",
       "19   1944       <NA>      \n",
       "20   4878       <NA>      \n",
       "21   1450       <NA>      \n",
       "22   3392       <NA>      \n",
       "23   3677       <NA>      \n",
       "24    980       <NA>      \n",
       "25   4903       <NA>      \n",
       "26   3708       <NA>      \n",
       "27    258       <NA>      \n",
       "28   2652       <NA>      \n",
       "29   3480       <NA>      \n",
       "30   3443       <NA>      \n",
       "⋮    ⋮          ⋮         \n",
       "1971 0.14324546 2020-06-10\n",
       "1972 0.42678032 2013-11-08\n",
       "1973 0.56445359 2017-07-12\n",
       "1974 0.18729942 2016-08-12\n",
       "1975 0.60274952 2022-05-12\n",
       "1976 0.73487829 2020-08-11\n",
       "1977 0.06834881 2011-10-26\n",
       "1978 0.78291796 2015-12-09\n",
       "1979 0.92149271 2012-09-27\n",
       "1980 0.04428217 2013-02-04\n",
       "1981 0.71311485 2010-11-29\n",
       "1982 0.90388602 2013-10-16\n",
       "1983 0.73958150 2015-04-26\n",
       "1984 0.17217563 2011-04-12\n",
       "1985 0.18658998 2017-01-30\n",
       "1986 0.38248836 2014-06-08\n",
       "1987 0.45361328 2016-10-19\n",
       "1988 0.45513148 2023-09-01\n",
       "1989 0.17310278 2010-01-09\n",
       "1990 0.30541726 2020-01-11\n",
       "1991 0.86775210 2016-12-16\n",
       "1992 0.26023225 2010-01-03\n",
       "1993 0.68087076 2016-04-23\n",
       "1994 0.85357656 2016-08-10\n",
       "1995 0.80527431 2019-11-21\n",
       "1996 0.16351634 2018-03-29\n",
       "1997 0.47193898 2014-08-04\n",
       "1998 0.71831865 2015-08-16\n",
       "1999 0.26987859 2020-02-04\n",
       "2000 0.60823719 2019-01-06"
      ]
     },
     "metadata": {},
     "output_type": "display_data"
    }
   ],
   "source": [
    "type_convert(challenge2)"
   ]
  },
  {
   "cell_type": "markdown",
   "metadata": {},
   "source": [
    "## Importing Other Types Of Data"
   ]
  },
  {
   "cell_type": "markdown",
   "metadata": {},
   "source": [
    "![images](images/slides7.png)"
   ]
  },
  {
   "cell_type": "markdown",
   "metadata": {},
   "source": [
    "## Hands On Exercises"
   ]
  },
  {
   "cell_type": "markdown",
   "metadata": {},
   "source": [
    "### Hands On Exercise 1.\n",
    "![images](images/handson1.png)"
   ]
  },
  {
   "cell_type": "code",
   "execution_count": 2,
   "metadata": {},
   "outputs": [],
   "source": [
    "# hands on exercise 1"
   ]
  },
  {
   "cell_type": "markdown",
   "metadata": {},
   "source": [
    "### Hands On Exercise 2.\n",
    "![images](images/handson2.png)"
   ]
  },
  {
   "cell_type": "code",
   "execution_count": 3,
   "metadata": {},
   "outputs": [],
   "source": [
    "# hands on exercise 2"
   ]
  },
  {
   "cell_type": "markdown",
   "metadata": {},
   "source": [
    "### Hands On Exercise 3.\n",
    "![images](images/handson3.png)"
   ]
  },
  {
   "cell_type": "code",
   "execution_count": 4,
   "metadata": {},
   "outputs": [],
   "source": [
    "# hands on exercise 3"
   ]
  },
  {
   "cell_type": "markdown",
   "metadata": {},
   "source": [
    "### Hands On Exercise 4.\n",
    "![images](images/handson4.png)"
   ]
  },
  {
   "cell_type": "code",
   "execution_count": 5,
   "metadata": {},
   "outputs": [],
   "source": [
    "# hands on exercise 4"
   ]
  },
  {
   "cell_type": "code",
   "execution_count": null,
   "metadata": {},
   "outputs": [],
   "source": []
  }
 ],
 "metadata": {
  "kernelspec": {
   "display_name": "R",
   "language": "R",
   "name": "ir"
  },
  "language_info": {
   "codemirror_mode": "r",
   "file_extension": ".r",
   "mimetype": "text/x-r-source",
   "name": "R",
   "pygments_lexer": "r",
   "version": "3.6.2"
  }
 },
 "nbformat": 4,
 "nbformat_minor": 4
}
