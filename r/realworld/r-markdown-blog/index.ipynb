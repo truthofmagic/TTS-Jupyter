{
 "cells": [
  {
   "cell_type": "markdown",
   "metadata": {},
   "source": [
    "Data Science Fundamentals: R |\n",
    "[Table of Contents](../../index.ipynb)\n",
    "- - - \n",
    "<!--NAVIGATION-->\n",
    "Real World Examples: **[R Markdown Blog](../r-markdown-blog/index.ipynb)** | [R Package: gganimate](../r-gganimate/index.ipynb)"
   ]
  },
  {
   "cell_type": "markdown",
   "metadata": {},
   "source": [
    "## Real World - R Markdown Blog"
   ]
  },
  {
   "cell_type": "markdown",
   "metadata": {},
   "source": [
    "Create your blog with R Markdown in minutes.\n",
    "\n",
    "### Implementation\n",
    "\n",
    "This template is mostly based on [Jekyll Now](https://github.com/barryclark/jekyll-now). It adds some adjustments to properly render your posts based on R Markdown files."
   ]
  },
  {
   "cell_type": "code",
   "execution_count": 1,
   "metadata": {},
   "outputs": [
    {
     "name": "stdout",
     "output_type": "stream",
     "text": [
      "\n",
      "The downloaded binary packages are in\n",
      "\t/var/folders/39/rw094bh97s1fm7lfmg_nwcxm0000gn/T//RtmpbB6wm1/downloaded_packages\n"
     ]
    }
   ],
   "source": [
    "install.packages(\"devtools\")"
   ]
  },
  {
   "cell_type": "markdown",
   "metadata": {},
   "source": [
    "### Step By Step\n",
    "\n",
    "#### Prerequisites\n",
    "\n",
    "- Make sure that you have the latest versions of R and RStudio.\n",
    "- Install package prettyjekyll with `devtools::install_github(\"privefl/prettyjekyll\")`.\n",
    "- Make sure that you have enabled Git in RStudio. More information can be found [there](https://support.rstudio.com/hc/en-us/articles/200532077-Version-Control-with-Git-and-SVN).\n",
    "- You need a GitHub account. \n",
    "- You need your own GitHub page. You can find a template (and tutorial) for creating it in minutes from [here](https://github.com/privefl/rmarkdown-website-template).\n",
    "\n",
    "#### Create A Blog Website\n",
    "\n",
    "- Fork this repo (top-right) from [here](https://github.com/privefl/rmarkdown-website-template)."
   ]
  },
  {
   "cell_type": "code",
   "execution_count": 3,
   "metadata": {},
   "outputs": [
    {
     "data": {
      "text/html": [
       "'/Library/Frameworks/R.framework/Resources'"
      ],
      "text/latex": [
       "'/Library/Frameworks/R.framework/Resources'"
      ],
      "text/markdown": [
       "'/Library/Frameworks/R.framework/Resources'"
      ],
      "text/plain": [
       "[1] \"/Library/Frameworks/R.framework/Resources\""
      ]
     },
     "metadata": {},
     "output_type": "display_data"
    }
   ],
   "source": [
    "R.home()"
   ]
  },
  {
   "cell_type": "markdown",
   "metadata": {},
   "source": [
    "- In the settings of your brand new repo, rename it to be \"blog\" and make sure that the \"GitHub Pages\" are activated.\n",
    "- Get the link from cloning the repo. Then, go to RStudio, create a New Project > Version Control > Git and copy the URL to your Github Repository. You have cloned your new repo as an R project.\n",
    "- Modify `_config.yml`.\n",
    "- Go knit the R Markdown file in directory `_knitr` if you want to see its HTML preview in RStudio. Then use `prettyjekyll::FormatPost(\"_knitr/knitr-minimal.Rmd\")` in the console.\n",
    "- Commit and push everything from RStudio.\n",
    "- Go see this post at https://YOURGITHUB.github.io/blog.\n",
    "\n",
    "#### Create A New Blog Post\n",
    "\n",
    "- Create an Rmd document with the template from package prettyjekyll.\n",
    "- Fill it, previewing the result with the Knit button. The main content should be the same in your future post.\n",
    "- When you have finished, use `prettyjekyll::FormatPost` on your R Markdown file and commit/push the changes from RStudio.\n",
    "- Go verify that it renders well on your blog. \n",
    "\n",
    "#### Requirements and Features of FormatPost\n",
    "\n",
    "More information can be found [here](https://github.com/privefl/prettyjekyll#requirements-and-features-of-formatpost).\n",
    "\n",
    "### Example\n",
    "\n",
    "You can see for example the blog part of [this website](https://privefl.github.io/).\n",
    "\n",
    "For example, \n",
    "\n",
    "- see [this post](https://privefl.github.io/blog/R-package-primefactr/) and what was [its html preview in RStudio](https://htmlpreview.github.io/?https://github.com/privefl/blog/blob/gh-pages/_knitr/post-primefactr.html). \n",
    "\n",
    "\n",
    "### Conclusion\n",
    "\n",
    "As a reminder, most credit goes to the contributors of [Jekyll Now](https://github.com/barryclark/jekyll-now) and its author Barry Clark. I also used parts of the css files and templates in [package prettydoc](https://github.com/yixuan/prettydoc).\n",
    "\n",
    "- If it is an issue only related with `FormatPost`, please open an [issue](https://github.com/privefl/prettyjekyll/issues).\n",
    "- If it is an issue only related with Jekyll, you'll find a better answer [here](https://github.com/barryclark/jekyll-now).\n"
   ]
  },
  {
   "cell_type": "code",
   "execution_count": null,
   "metadata": {},
   "outputs": [],
   "source": []
  }
 ],
 "metadata": {
  "kernelspec": {
   "display_name": "R",
   "language": "R",
   "name": "ir"
  },
  "language_info": {
   "codemirror_mode": "r",
   "file_extension": ".r",
   "mimetype": "text/x-r-source",
   "name": "R",
   "pygments_lexer": "r",
   "version": "4.1.2"
  }
 },
 "nbformat": 4,
 "nbformat_minor": 4
}
