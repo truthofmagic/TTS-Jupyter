{
 "cells": [
  {
   "cell_type": "markdown",
   "metadata": {},
   "source": [
    "Data Science Fundamentals: R |\n",
    "[Table of Contents](../index.ipynb)\n",
    "- - - \n",
    "<!--NAVIGATION-->\n",
    "Module 15. [tidyverse](./00.ipynb) | [R Markdown](./01.ipynb) | [R + Shiny App](./02.ipynb) | [Basic Visualization](./03.ipynb) | [Tibbles](./04.ipynb)  | [ggplot2](./05.ipynb) | [Statistical Transformations](./06.ipynb) | [Exercises](./07.ipynb)"
   ]
  },
  {
   "cell_type": "markdown",
   "metadata": {},
   "source": [
    "# [R Markdown](https://rmarkdown.rstudio.com/lesson-1.html)"
   ]
  },
  {
   "cell_type": "markdown",
   "metadata": {},
   "source": [
    "R Markdown is available to [R Studio](https://rstudio.com/) users. It provides an authoring framework for data science. You can use a single R Markdown file to both\n",
    "\n",
    "- save and execute code\n",
    "- generate high quality reports that can be shared with an audience\n",
    "R Markdown documents are fully reproducible and support dozens of static and dynamic output formats. "
   ]
  },
  {
   "cell_type": "markdown",
   "metadata": {},
   "source": [
    "## Installation of R Studio\n",
    "\n",
    "Install **R Studio** from Anaconda Navigator (if R is already installed):\n",
    "![image](./images/anaconda.png)"
   ]
  },
  {
   "cell_type": "markdown",
   "metadata": {},
   "source": [
    "### Installation of R and R Studio using Brew (for Mac OS)"
   ]
  },
  {
   "cell_type": "raw",
   "metadata": {},
   "source": [
    "brew install r            # runs installer of r\n",
    "brew cask install rstudio # installation of r studio"
   ]
  },
  {
   "cell_type": "markdown",
   "metadata": {},
   "source": [
    "To use R Studio from the command line (for Mac OS):"
   ]
  },
  {
   "cell_type": "raw",
   "metadata": {},
   "source": [
    "echo \"alias rstudio='open -a RStudio'\" >> ~/.bash_profile\n",
    "source ~/.bash_profile"
   ]
  },
  {
   "cell_type": "markdown",
   "metadata": {},
   "source": [
    "Start it up from the command line:"
   ]
  },
  {
   "cell_type": "raw",
   "metadata": {},
   "source": [
    "rstudio"
   ]
  },
  {
   "cell_type": "markdown",
   "metadata": {},
   "source": [
    "### Installation of R Studio from Website"
   ]
  },
  {
   "cell_type": "markdown",
   "metadata": {},
   "source": [
    "Download and install R Studio from [Website](https://rstudio.com/products/rstudio/download/)."
   ]
  },
  {
   "cell_type": "code",
   "execution_count": 3,
   "metadata": {},
   "outputs": [
    {
     "data": {
      "text/html": [
       "<iframe src='https://player.vimeo.com/video/178485416?color=428bca' width='640' height='400' frameborder='0'</iframe>"
      ]
     },
     "metadata": {},
     "output_type": "display_data"
    }
   ],
   "source": [
    "library(IRdisplay)\n",
    "\n",
    "  display_html(\"<iframe src='https://player.vimeo.com/video/178485416?color=428bca' width='640' height='400' frameborder='0'</iframe>\")"
   ]
  },
  {
   "cell_type": "markdown",
   "metadata": {},
   "source": [
    "## Startup of R Studio and Configuration of R Markdown"
   ]
  },
  {
   "cell_type": "raw",
   "metadata": {},
   "source": [
    "open -na Rstudio"
   ]
  },
  {
   "cell_type": "markdown",
   "metadata": {},
   "source": [
    "Like the rest of R, R Markdown is free and open source. \n",
    "\n",
    "This is a similar idea to a Jupyter notebook, but is integrated within R Studio.\n",
    "\n",
    "You can install the R Markdown package from CRAN with:"
   ]
  },
  {
   "cell_type": "code",
   "execution_count": 1,
   "metadata": {},
   "outputs": [
    {
     "name": "stderr",
     "output_type": "stream",
     "text": [
      "Installing package into ‘/usr/local/lib/R/4.0/site-library’\n",
      "(as ‘lib’ is unspecified)\n",
      "\n"
     ]
    }
   ],
   "source": [
    "install.packages(\"rmarkdown\")"
   ]
  },
  {
   "cell_type": "markdown",
   "metadata": {},
   "source": [
    "Let’s get started by making a new notebook. Startup **R Studio** and from the File menu, choose New file and then Rnotebook. A new window will open containing an example notebook:"
   ]
  },
  {
   "cell_type": "markdown",
   "metadata": {},
   "source": [
    "![image](images/99-notebook.png)"
   ]
  },
  {
   "cell_type": "markdown",
   "metadata": {},
   "source": [
    "[See R Markdown Cheatsheet](http://qlx.services/institute/files/rmarkdown-cheatsheet-2.0.pdf)"
   ]
  },
  {
   "cell_type": "markdown",
   "metadata": {},
   "source": [
    "## How It Works"
   ]
  },
  {
   "cell_type": "markdown",
   "metadata": {},
   "source": [
    "This is an R Markdown file, a plain text file that has the extension .Rmd. You can open a copy [here ⧉](https://rstudio.cloud/project/181856?_ga=2.106701507.1587483777.1592328753-773140698.1591896388) on RStudio Cloud."
   ]
  },
  {
   "cell_type": "markdown",
   "metadata": {},
   "source": [
    "![images](images/how-1-file.png)"
   ]
  },
  {
   "cell_type": "markdown",
   "metadata": {},
   "source": [
    "Notice that the file contains three types of content:\n",
    "\n",
    "- An (optional) YAML header surrounded by ---s\n",
    "- R code chunks surrounded by ```s\n",
    "- text mixed with simple text formatting"
   ]
  },
  {
   "cell_type": "markdown",
   "metadata": {},
   "source": [
    "## A Notebook Interface"
   ]
  },
  {
   "cell_type": "markdown",
   "metadata": {},
   "source": [
    "When you open the file in the RStudio IDE, it becomes a [notebook interface for R ⧉](https://bookdown.org/yihui/rmarkdown/notebook.html). You can run each code chunk by clicking the  icon. RStudio executes the code and display the results inline with your file."
   ]
  },
  {
   "cell_type": "markdown",
   "metadata": {},
   "source": [
    "![image](images/how-2-chunk.png)"
   ]
  },
  {
   "cell_type": "markdown",
   "metadata": {},
   "source": [
    "## [Pandoc](https://pandoc.org/installing.html)"
   ]
  },
  {
   "cell_type": "markdown",
   "metadata": {},
   "source": [
    "A universal document converter to be able to use Rendering output.  First you must install ```pandoc```.  "
   ]
  },
  {
   "cell_type": "markdown",
   "metadata": {},
   "source": [
    "For MacOS - "
   ]
  },
  {
   "cell_type": "raw",
   "metadata": {},
   "source": [
    "brew install pandoc"
   ]
  },
  {
   "cell_type": "markdown",
   "metadata": {},
   "source": [
    "To include pandoc’s citation parser:"
   ]
  },
  {
   "cell_type": "raw",
   "metadata": {},
   "source": [
    "brew install pandoc-citeproc"
   ]
  },
  {
   "cell_type": "markdown",
   "metadata": {},
   "source": [
    "For Windows - "
   ]
  },
  {
   "cell_type": "raw",
   "metadata": {},
   "source": [
    "choco install pandoc"
   ]
  },
  {
   "cell_type": "markdown",
   "metadata": {},
   "source": [
    "## Rendering output\n",
    "\n",
    "To generate a report from the file, run the render command:"
   ]
  },
  {
   "cell_type": "code",
   "execution_count": 1,
   "metadata": {},
   "outputs": [
    {
     "ename": "ERROR",
     "evalue": "Error in library(rmarkdown): there is no package called 'rmarkdown'\n",
     "output_type": "error",
     "traceback": [
      "Error in library(rmarkdown): there is no package called 'rmarkdown'\nTraceback:\n",
      "1. library(rmarkdown)"
     ]
    }
   ],
   "source": [
    "library(rmarkdown)\n",
    "render(\"test.Rmd\")"
   ]
  },
  {
   "cell_type": "markdown",
   "metadata": {},
   "source": [
    "Better still, use the “Knit” button in the RStudio IDE to render the file and preview the output with a single click or keyboard shortcut (⇧⌘K)."
   ]
  },
  {
   "cell_type": "markdown",
   "metadata": {},
   "source": [
    "![images](images/how-3-output.png)"
   ]
  },
  {
   "cell_type": "markdown",
   "metadata": {},
   "source": [
    "R Markdown generates a new file that contains selected text, code, and results from the .Rmd file. The new file can be a finished [web page ⧉](https://bookdown.org/yihui/rmarkdown/html-document.html), [PDF ⧉](https://bookdown.org/yihui/rmarkdown/pdf-document.html), [MS Word ⧉ document](https://bookdown.org/yihui/rmarkdown/word-document.html), [slide show ⧉](https://bookdown.org/yihui/rmarkdown/ioslides-presentation.html), [notebook ⧉](https://bookdown.org/yihui/rmarkdown/notebook.html), [handout ⧉](https://bookdown.org/yihui/rmarkdown/tufte-handouts.html), [book ⧉](https://bookdown.org/), [dashboard](https://rmarkdown.rstudio.com/flexdashboard/index.html), [package vignette ⧉](https://bookdown.org/yihui/rmarkdown/r-package-vignette.html) or [other format](https://rmarkdown.rstudio.com/formats.html)."
   ]
  },
  {
   "cell_type": "markdown",
   "metadata": {},
   "source": [
    "![images](images/rmarkdownflow.png)"
   ]
  },
  {
   "cell_type": "markdown",
   "metadata": {},
   "source": [
    "When you run render, R Markdown feeds the .Rmd file to [knitr ⧉](https://yihui.org/knitr/), which executes all of the code chunks and creates a new markdown (.md) document which includes the code and its output.\n",
    "\n",
    "The markdown file generated by knitr is then processed by [pandoc ⧉](https://pandoc.org/) which is responsible for creating the finished format.\n",
    "\n",
    "This may sound complicated, but R Markdown makes it extremely simple by encapsulating all of the above processing into a single render function."
   ]
  },
  {
   "cell_type": "markdown",
   "metadata": {},
   "source": [
    "## Code Chunks\n",
    "\n",
    "The R Markdown file below contains three code chunks. You can open it [here ⧉](https://rstudio.cloud/project/181911?_ga=2.93480669.1587483777.1592328753-773140698.1591896388) in RStudio Cloud."
   ]
  },
  {
   "cell_type": "markdown",
   "metadata": {},
   "source": [
    "![images](images/code-1-options.png)"
   ]
  },
  {
   "cell_type": "markdown",
   "metadata": {},
   "source": [
    "You can quickly insert chunks like these into your file with\n",
    "\n",
    "- the keyboard shortcut Ctrl + Alt + I (OS X: Cmd + Option + I)\n",
    "- the Add Chunk  command in the editor toolbar\n",
    "- or by typing the chunk delimiters ```{r} and ```.\n",
    "\n",
    "When you render your .Rmd file, R Markdown will run each code chunk and embed the results beneath the code chunk in your final report."
   ]
  },
  {
   "cell_type": "markdown",
   "metadata": {},
   "source": [
    "### Chunk Options\n",
    "\n",
    "Chunk output can be customized with [knitr options ⧉](https://yihui.org/knitr/options/), arguments set in the {} of a chunk header. Above, we use five arguments:\n",
    "\n",
    "- ```include = FALSE``` prevents code and results from appearing in the finished file. R Markdown still runs the code in the chunk, and the results can be used by other chunks.\n",
    "- ```echo = FALSE``` prevents code, but not the results from appearing in the finished file. This is a useful way to embed figures.\n",
    "- ```message = FALSE``` prevents messages that are generated by code from appearing in the finished file.\n",
    "- ```warning = FALSE``` prevents warnings that are generated by code from appearing in the finished.\n",
    "- ```fig.cap = \"...\"``` adds a caption to graphical results."
   ]
  },
  {
   "cell_type": "markdown",
   "metadata": {},
   "source": [
    "### Global Options \n",
    "\n",
    "To set global options that apply to every chunk in your file, call knitr::opts_chunk$set in a code chunk. Knitr will treat each option that you pass to ```knitr::opts_chunk$set``` as a global default that can be overwritten in individual chunk headers."
   ]
  },
  {
   "cell_type": "markdown",
   "metadata": {},
   "source": [
    "## Inline Code\n",
    "\n",
    "Code results can be inserted directly into the text of a .Rmd file by enclosing the code with `r `. The file below uses `r ` twice to call colorFunc, which returns “heat.colors.” You can open the file [here ⧉](https://rstudio.cloud/project/181921?_ga=2.106176835.1587483777.1592328753-773140698.1591896388) in RStudio Cloud."
   ]
  },
  {
   "cell_type": "markdown",
   "metadata": {},
   "source": [
    "![images](images/inline-1-heat.png)"
   ]
  },
  {
   "cell_type": "markdown",
   "metadata": {},
   "source": [
    "Using ` r ` makes it easy to update the report to refer to another function."
   ]
  },
  {
   "cell_type": "markdown",
   "metadata": {},
   "source": [
    "![images](images/inline-2-terrain.png)"
   ]
  },
  {
   "cell_type": "markdown",
   "metadata": {},
   "source": [
    "R Markdown will always\n",
    "\n",
    "- display the results of inline code, but not the code\n",
    "- apply relevant text formatting to the results\n",
    "\n",
    "As a result, inline output is indistinguishable from the surrounding text. Inline expressions do not take knitr options."
   ]
  },
  {
   "cell_type": "markdown",
   "metadata": {},
   "source": [
    "## Code Languages\n",
    "\n",
    "Notice how this .Rmd file executes code in bash and python. You can open the file [here ⧉](https://rstudio.cloud/project/181938?_ga=2.3214448.1587483777.1592328753-773140698.1591896388) in RStudio Cloud."
   ]
  },
  {
   "cell_type": "markdown",
   "metadata": {},
   "source": [
    "![images](images/languages-1-demos.png)"
   ]
  },
  {
   "cell_type": "markdown",
   "metadata": {},
   "source": [
    "[knitr ⧉](http://yihui.name/knitr/) can execute code in many languages besides R. Some of the available language engines include:\n",
    "\n",
    "- Python\n",
    "- SQL\n",
    "- Bash\n",
    "- Rcpp\n",
    "- Stan\n",
    "- JavaScript\n",
    "- CSS\n",
    "\n",
    "To process a code chunk using an alternate language engine, replace the r at the start of your chunk declaration with the name of the language:"
   ]
  },
  {
   "cell_type": "raw",
   "metadata": {},
   "source": [
    "` ``{bash}\n",
    "` ``"
   ]
  },
  {
   "cell_type": "markdown",
   "metadata": {},
   "source": [
    "Note that chunk options like ```echo``` and ```results``` are all valid when using a language engine like python."
   ]
  },
  {
   "cell_type": "markdown",
   "metadata": {},
   "source": [
    "Learn more about using other languages with R Markdown in [knitr Language Engines ⧉](https://bookdown.org/yihui/rmarkdown/language-engines.html)."
   ]
  },
  {
   "cell_type": "markdown",
   "metadata": {},
   "source": [
    "## What To Use: [R Markdown, R Notebooks](https://stackoverflow.com/questions/43820483/difference-between-r-markdown-and-r-notebook) or Jupyter Notebooks? "
   ]
  },
  {
   "cell_type": "code",
   "execution_count": 2,
   "metadata": {},
   "outputs": [
    {
     "name": "stdout",
     "output_type": "stream",
     "text": [
      "\n",
      "The downloaded binary packages are in\n",
      "\t/var/folders/39/rw094bh97s1fm7lfmg_nwcxm0000gn/T//RtmpE3Pj0A/downloaded_packages\n"
     ]
    }
   ],
   "source": [
    "install.packages(\"DiagrammeR\")"
   ]
  },
  {
   "cell_type": "code",
   "execution_count": 3,
   "metadata": {},
   "outputs": [
    {
     "name": "stdout",
     "output_type": "stream",
     "text": [
      "\n",
      "The downloaded binary packages are in\n",
      "\t/var/folders/39/rw094bh97s1fm7lfmg_nwcxm0000gn/T//RtmpE3Pj0A/downloaded_packages\n"
     ]
    }
   ],
   "source": [
    "install.packages(\"magrittr\")"
   ]
  },
  {
   "cell_type": "code",
   "execution_count": 7,
   "metadata": {},
   "outputs": [
    {
     "name": "stdout",
     "output_type": "stream",
     "text": [
      "package 'DiagrammeR' successfully unpacked and MD5 sums checked\n",
      "\n",
      "The downloaded binary packages are in\n",
      "\tC:\\Users\\aguan\\AppData\\Local\\Temp\\Rtmp4KJJrD\\downloaded_packages\n"
     ]
    }
   ],
   "source": [
    "install.packages('DiagrammeR')"
   ]
  },
  {
   "cell_type": "code",
   "execution_count": null,
   "metadata": {},
   "outputs": [],
   "source": [
    "library(Diagrammer)\n",
    "library(magrittr)\n",
    "\n",
    "ndf <- DiagrammeR::create_node_df(\n",
    "  n = 6,\n",
    "  nodes = 1:6,\n",
    "  type = c(\"BEGIN_END\", \"BEGIN_END\", \"DECISION\", \"DECISION\", \"CONCLUSION\", \"CONCLUSION\"),\n",
    "  label = c(\n",
    "    \"START\",\n",
    "    \"END\",\n",
    "    \"Are you an R\\nuser already?\",\n",
    "    \"Are you a Python\\nuser already?\",\n",
    "    \"Use Jupyter\",\n",
    "    \"Use RNotebook\"),\n",
    "  shape = c(\n",
    "    \"ellipse\",\n",
    "    \"ellipse\",\n",
    "    \"diamond\",\n",
    "    \"diamond\",\n",
    "    \"box\",\n",
    "    \"box\"\n",
    "  ),\n",
    "  width = c(2, 2, 3, 3, 2, 2),\n",
    "  height = c(0.4, 0.4, 0.9, 0.9, 0.55, 0.55)\n",
    ")\n",
    "\n",
    "edf <- DiagrammeR::create_edge_df(\n",
    "  from = c(1, 3, 3, 6, 4, 5, 4),\n",
    "  to =   c(3, 4, 6, 2, 5, 2, 6),\n",
    "  color = \"black\",\n",
    "  label = c(\n",
    "    \"\",\n",
    "    \"NO\",\n",
    "    \"YES\",\n",
    "    \"\",\n",
    "    \"YES\",\n",
    "    \"\",\n",
    "    \"NO\")\n",
    ")\n",
    "\n",
    "g1 <- DiagrammeR::create_graph(\n",
    "  nodes_df = ndf,\n",
    "  edges_df = edf\n",
    ")\n",
    "\n",
    "g2 <- g1 %>% DiagrammeR::add_global_graph_attrs(\n",
    "  attr_type = \"graph\",\n",
    "  attr = \"layout\",\n",
    "  value = \"dot\"\n",
    ")\n",
    "\n",
    "DiagrammeR::render_graph(g2)"
   ]
  },
  {
   "cell_type": "markdown",
   "metadata": {},
   "source": [
    "## Optional: Using [R Markdown to Create A Word Document](https://rmarkdown.rstudio.com/articles_docx.html)"
   ]
  },
  {
   "cell_type": "markdown",
   "metadata": {},
   "source": [
    "In RStudio, open a new R Markdown file.\n",
    "\n",
    "![image](./images/new-file-screenshot.png)"
   ]
  },
  {
   "cell_type": "markdown",
   "metadata": {},
   "source": [
    "In the dialog box that appears, set the output format to Word. Title and Author are unimportant at this point.\n",
    "\n",
    "![image](./images/new-r-markdown-box.png)"
   ]
  },
  {
   "cell_type": "markdown",
   "metadata": {},
   "source": [
    "An ```Rmd``` file appears with front matter and some sample text."
   ]
  },
  {
   "cell_type": "markdown",
   "metadata": {},
   "source": [
    "```\n",
    "\n",
    "---\n",
    "title: \"Untitled\"\n",
    "author: \"Your Name\"\n",
    "date: \"July 3, 2015\"\n",
    "output: word_document\n",
    "---\n",
    "This is an R Markdown document. Markdown is a simple \n",
    "formatting syntax for authoring HTML, PDF, and MS Word \n",
    "documents. For more details ...\n",
    "\n",
    "```"
   ]
  },
  {
   "cell_type": "markdown",
   "metadata": {},
   "source": [
    "Save this Rmd file to a convenient directory using a descriptive name. I called mine draft-styles.Rmd.\n",
    "\n",
    "In RStudio, click the Knit Word button.\n",
    "\n",
    "![image](./images/knit-word-strip.png)"
   ]
  },
  {
   "cell_type": "markdown",
   "metadata": {},
   "source": [
    "A Word document should appear.\n",
    "\n",
    "![image](./images/first-word-view-02.png)"
   ]
  },
  {
   "cell_type": "markdown",
   "metadata": {},
   "source": [
    "Save this Word file under a new name (for example, word-styles-reference-01.docx) in the same directory as the R Markdown file.\n",
    "\n",
    "![image](./images/word-save-as.png)"
   ]
  },
  {
   "cell_type": "markdown",
   "metadata": {},
   "source": [
    "This Word document is the first draft of your styles reference docx file. Its textual content is irrelevant—its Style settings are what you will be using."
   ]
  },
  {
   "cell_type": "markdown",
   "metadata": {},
   "source": [
    "In the Word document, I reformat the title in Palatino Linotype, italic, not bold, and change the color to black (though you may assign any settings you like). In the Styles window, click on the Title style drop-down menu and select Update Title to match selection.\n",
    "\n",
    "![image](./images/edit-title-format-02.png)"
   ]
  },
  {
   "cell_type": "markdown",
   "metadata": {},
   "source": [
    "Save word-styles-reference-01.docx."
   ]
  },
  {
   "cell_type": "markdown",
   "metadata": {},
   "source": [
    "### Format an Rmd report using the styles reference docx file\n",
    "\n",
    "Close the word-styles-reference-01.docx file.\n",
    "\n",
    "Return to RStudio. Close the draft-styles.Rmd file. We won’t use it again.\n",
    "\n",
    "Create a new Rmd report file called test-report.Rmd with title Test Report and output format Word.\n",
    "\n",
    "Delete all the text after the header and add a new sentence, “My report starts here.”\n",
    "\n",
    "Save and Knit Word."
   ]
  },
  {
   "cell_type": "markdown",
   "metadata": {},
   "source": [
    "![images](./images/test-report-01.png)"
   ]
  },
  {
   "cell_type": "markdown",
   "metadata": {},
   "source": [
    "In the ```Rmd``` front matter, add new output arguments to format the report using the styles reference document."
   ]
  },
  {
   "cell_type": "markdown",
   "metadata": {},
   "source": [
    "```\n",
    "\n",
    "---\n",
    "title: \"Test Report\"\n",
    "author: \"Your Name\"\n",
    "date: \"July 3, 2015\"\n",
    "output:\n",
    "  word_document:\n",
    "    reference_docx: word-styles-reference-01.docx\n",
    "---\n",
    "\n",
    "My report starts here.\n",
    "\n",
    "```"
   ]
  },
  {
   "cell_type": "markdown",
   "metadata": {},
   "source": [
    "A new Word document should appear, with the title correctly formatted.\n",
    "\n",
    "![images](./images/test-report-02.png)"
   ]
  },
  {
   "cell_type": "code",
   "execution_count": null,
   "metadata": {},
   "outputs": [],
   "source": []
  }
 ],
 "metadata": {
  "kernelspec": {
   "display_name": "R",
   "language": "R",
   "name": "ir"
  },
  "language_info": {
   "codemirror_mode": "r",
   "file_extension": ".r",
   "mimetype": "text/x-r-source",
   "name": "R",
   "pygments_lexer": "r",
   "version": "3.6.1"
  }
 },
 "nbformat": 4,
 "nbformat_minor": 4
}
