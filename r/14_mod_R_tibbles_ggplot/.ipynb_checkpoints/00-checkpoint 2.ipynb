{
 "cells": [
  {
   "cell_type": "markdown",
   "metadata": {},
   "source": [
    "Data Science Fundamentals: R |\n",
    "[Table of Contents](../index.ipynb)\n",
    "- - - \n",
    "<!--NAVIGATION-->\n",
    "Module 14. [tidyverse](./00.ipynb) | [R Markdown](./01.ipynb) | [R + Shiny App](./02.ipynb) | [Basic Visualization](./03.ipynb) | [Tibbles](./04.ipynb)  | [ggplot2](./05.ipynb) | [Statistical Transformations](./06.ipynb) | [Exercises](./07.ipynb)"
   ]
  },
  {
   "cell_type": "markdown",
   "metadata": {},
   "source": [
    "# [tidyverse](https://www.tidyverse.org/)"
   ]
  },
  {
   "cell_type": "markdown",
   "metadata": {},
   "source": [
    "![tidyverse](images/slides1.png)"
   ]
  },
  {
   "cell_type": "code",
   "execution_count": 1,
   "metadata": {},
   "outputs": [
    {
     "name": "stdout",
     "output_type": "stream",
     "text": [
      "\n",
      "The downloaded binary packages are in\n",
      "\t/var/folders/39/rw094bh97s1fm7lfmg_nwcxm0000gn/T//RtmpPkWYlX/downloaded_packages\n"
     ]
    }
   ],
   "source": [
    "install.packages(\"tidyverse\")"
   ]
  },
  {
   "cell_type": "code",
   "execution_count": 2,
   "metadata": {},
   "outputs": [
    {
     "name": "stderr",
     "output_type": "stream",
     "text": [
      "── \u001b[1mAttaching packages\u001b[22m ─────────────────────────────────────── tidyverse 1.3.0 ──\n",
      "\n",
      "\u001b[32m✔\u001b[39m \u001b[34mggplot2\u001b[39m 3.3.1     \u001b[32m✔\u001b[39m \u001b[34mpurrr  \u001b[39m 0.3.4\n",
      "\u001b[32m✔\u001b[39m \u001b[34mtibble \u001b[39m 3.0.1     \u001b[32m✔\u001b[39m \u001b[34mdplyr  \u001b[39m 1.0.0\n",
      "\u001b[32m✔\u001b[39m \u001b[34mtidyr  \u001b[39m 1.1.0     \u001b[32m✔\u001b[39m \u001b[34mstringr\u001b[39m 1.4.0\n",
      "\u001b[32m✔\u001b[39m \u001b[34mreadr  \u001b[39m 1.3.1     \u001b[32m✔\u001b[39m \u001b[34mforcats\u001b[39m 0.5.0\n",
      "\n",
      "── \u001b[1mConflicts\u001b[22m ────────────────────────────────────────── tidyverse_conflicts() ──\n",
      "\u001b[31m✖\u001b[39m \u001b[34mdplyr\u001b[39m::\u001b[32mfilter()\u001b[39m masks \u001b[34mstats\u001b[39m::filter()\n",
      "\u001b[31m✖\u001b[39m \u001b[34mdplyr\u001b[39m::\u001b[32mlag()\u001b[39m    masks \u001b[34mstats\u001b[39m::lag()\n",
      "\n"
     ]
    }
   ],
   "source": [
    "library(tidyverse)"
   ]
  },
  {
   "cell_type": "markdown",
   "metadata": {},
   "source": [
    "![tidyverse](images/slides2.png)"
   ]
  },
  {
   "cell_type": "markdown",
   "metadata": {},
   "source": [
    "## Loading JSON Files"
   ]
  },
  {
   "cell_type": "code",
   "execution_count": 4,
   "metadata": {},
   "outputs": [
    {
     "name": "stdout",
     "output_type": "stream",
     "text": [
      "\n",
      "The downloaded binary packages are in\n",
      "\t/var/folders/39/rw094bh97s1fm7lfmg_nwcxm0000gn/T//RtmpPkWYlX/downloaded_packages\n"
     ]
    }
   ],
   "source": [
    "install.packages(\"rjson\")"
   ]
  },
  {
   "cell_type": "code",
   "execution_count": 8,
   "metadata": {},
   "outputs": [
    {
     "name": "stdout",
     "output_type": "stream",
     "text": [
      "$ID\n",
      "[1] \"1\" \"2\" \"3\" \"4\" \"5\" \"6\" \"7\" \"8\"\n",
      "\n",
      "$Name\n",
      "[1] \"Rick\"     \"Dan\"      \"Michelle\" \"Ryan\"     \"Gary\"     \"Nina\"     \"Simon\"   \n",
      "[8] \"Guru\"    \n",
      "\n",
      "$Salary\n",
      "[1] \"623.3\"  \"515.2\"  \"611\"    \"729\"    \"843.25\" \"578\"    \"632.8\"  \"722.5\" \n",
      "\n",
      "$StartDate\n",
      "[1] \"1/1/2012\"   \"9/23/2013\"  \"11/15/2014\" \"5/11/2014\"  \"3/27/2015\" \n",
      "[6] \"5/21/2013\"  \"7/30/2013\"  \"6/17/2014\" \n",
      "\n",
      "$Dept\n",
      "[1] \"IT\"         \"Operations\" \"IT\"         \"HR\"         \"Finance\"   \n",
      "[6] \"IT\"         \"Operations\" \"Finance\"   \n",
      "\n"
     ]
    }
   ],
   "source": [
    "# Load the package required to read JSON files.\n",
    "library(\"rjson\")\n",
    "\n",
    "# Give the input file name to the function.\n",
    "result <- fromJSON(file = \"dataSets/input.json\")\n",
    "\n",
    "# Print the result.\n",
    "print(result)"
   ]
  },
  {
   "cell_type": "code",
   "execution_count": 6,
   "metadata": {},
   "outputs": [],
   "source": [
    "library(\"rjson\")\n",
    "\n",
    "result <- fromJSON(file = \"dataSets/input.json\")\n",
    "\n",
    "json_data_frame <- as.data.frame(result)"
   ]
  },
  {
   "cell_type": "code",
   "execution_count": 7,
   "metadata": {},
   "outputs": [
    {
     "data": {
      "text/html": [
       "<table>\n",
       "<caption>A data.frame: 8 × 5</caption>\n",
       "<thead>\n",
       "\t<tr><th scope=col>ID</th><th scope=col>Name</th><th scope=col>Salary</th><th scope=col>StartDate</th><th scope=col>Dept</th></tr>\n",
       "\t<tr><th scope=col>&lt;fct&gt;</th><th scope=col>&lt;fct&gt;</th><th scope=col>&lt;fct&gt;</th><th scope=col>&lt;fct&gt;</th><th scope=col>&lt;fct&gt;</th></tr>\n",
       "</thead>\n",
       "<tbody>\n",
       "\t<tr><td>1</td><td>Rick    </td><td>623.3 </td><td>1/1/2012  </td><td>IT        </td></tr>\n",
       "\t<tr><td>2</td><td>Dan     </td><td>515.2 </td><td>9/23/2013 </td><td>Operations</td></tr>\n",
       "\t<tr><td>3</td><td>Michelle</td><td>611   </td><td>11/15/2014</td><td>IT        </td></tr>\n",
       "\t<tr><td>4</td><td>Ryan    </td><td>729   </td><td>5/11/2014 </td><td>HR        </td></tr>\n",
       "\t<tr><td>5</td><td>Gary    </td><td>843.25</td><td>3/27/2015 </td><td>Finance   </td></tr>\n",
       "\t<tr><td>6</td><td>Nina    </td><td>578   </td><td>5/21/2013 </td><td>IT        </td></tr>\n",
       "\t<tr><td>7</td><td>Simon   </td><td>632.8 </td><td>7/30/2013 </td><td>Operations</td></tr>\n",
       "\t<tr><td>8</td><td>Guru    </td><td>722.5 </td><td>6/17/2014 </td><td>Finance   </td></tr>\n",
       "</tbody>\n",
       "</table>\n"
      ],
      "text/latex": [
       "A data.frame: 8 × 5\n",
       "\\begin{tabular}{lllll}\n",
       " ID & Name & Salary & StartDate & Dept\\\\\n",
       " <fct> & <fct> & <fct> & <fct> & <fct>\\\\\n",
       "\\hline\n",
       "\t 1 & Rick     & 623.3  & 1/1/2012   & IT        \\\\\n",
       "\t 2 & Dan      & 515.2  & 9/23/2013  & Operations\\\\\n",
       "\t 3 & Michelle & 611    & 11/15/2014 & IT        \\\\\n",
       "\t 4 & Ryan     & 729    & 5/11/2014  & HR        \\\\\n",
       "\t 5 & Gary     & 843.25 & 3/27/2015  & Finance   \\\\\n",
       "\t 6 & Nina     & 578    & 5/21/2013  & IT        \\\\\n",
       "\t 7 & Simon    & 632.8  & 7/30/2013  & Operations\\\\\n",
       "\t 8 & Guru     & 722.5  & 6/17/2014  & Finance   \\\\\n",
       "\\end{tabular}\n"
      ],
      "text/markdown": [
       "\n",
       "A data.frame: 8 × 5\n",
       "\n",
       "| ID &lt;fct&gt; | Name &lt;fct&gt; | Salary &lt;fct&gt; | StartDate &lt;fct&gt; | Dept &lt;fct&gt; |\n",
       "|---|---|---|---|---|\n",
       "| 1 | Rick     | 623.3  | 1/1/2012   | IT         |\n",
       "| 2 | Dan      | 515.2  | 9/23/2013  | Operations |\n",
       "| 3 | Michelle | 611    | 11/15/2014 | IT         |\n",
       "| 4 | Ryan     | 729    | 5/11/2014  | HR         |\n",
       "| 5 | Gary     | 843.25 | 3/27/2015  | Finance    |\n",
       "| 6 | Nina     | 578    | 5/21/2013  | IT         |\n",
       "| 7 | Simon    | 632.8  | 7/30/2013  | Operations |\n",
       "| 8 | Guru     | 722.5  | 6/17/2014  | Finance    |\n",
       "\n"
      ],
      "text/plain": [
       "  ID Name     Salary StartDate  Dept      \n",
       "1 1  Rick     623.3  1/1/2012   IT        \n",
       "2 2  Dan      515.2  9/23/2013  Operations\n",
       "3 3  Michelle 611    11/15/2014 IT        \n",
       "4 4  Ryan     729    5/11/2014  HR        \n",
       "5 5  Gary     843.25 3/27/2015  Finance   \n",
       "6 6  Nina     578    5/21/2013  IT        \n",
       "7 7  Simon    632.8  7/30/2013  Operations\n",
       "8 8  Guru     722.5  6/17/2014  Finance   "
      ]
     },
     "metadata": {},
     "output_type": "display_data"
    }
   ],
   "source": [
    "json_data_frame"
   ]
  },
  {
   "cell_type": "code",
   "execution_count": null,
   "metadata": {},
   "outputs": [],
   "source": []
  }
 ],
 "metadata": {
  "kernelspec": {
   "display_name": "R",
   "language": "R",
   "name": "ir"
  },
  "language_info": {
   "codemirror_mode": "r",
   "file_extension": ".r",
   "mimetype": "text/x-r-source",
   "name": "R",
   "pygments_lexer": "r",
   "version": "3.6.2"
  }
 },
 "nbformat": 4,
 "nbformat_minor": 4
}
